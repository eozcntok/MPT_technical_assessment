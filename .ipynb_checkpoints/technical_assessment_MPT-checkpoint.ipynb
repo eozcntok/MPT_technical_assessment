{
 "cells": [
  {
   "cell_type": "markdown",
   "id": "84d804e0-b92b-43b4-874a-cea8401dc8b7",
   "metadata": {},
   "source": [
    "# Task"
   ]
  },
  {
   "cell_type": "markdown",
   "id": "bc84a278-5b46-42f8-b50f-206406c054ef",
   "metadata": {},
   "source": [
    "Import required libraries (for the requirements please navigate to requirements.txt in the folder)"
   ]
  },
  {
   "cell_type": "code",
   "execution_count": 1,
   "id": "da5938fd-becf-4728-9ee8-da7af84c4ca2",
   "metadata": {},
   "outputs": [],
   "source": [
    "import os\n",
    "import requests\n",
    "import re\n",
    "import io\n",
    "import pandas as pd\n",
    "import numpy as np\n",
    "from bs4 import BeautifulSoup\n",
    "from datetime import datetime\n",
    "import fastparquet\n",
    "import plotly.graph_objects as go\n",
    "import matplotlib.pyplot as plt\n",
    "import matplotlib.dates as mdates\n",
    "from statsmodels.tsa.arima.model import ARIMA\n",
    "from statsmodels.tsa.stattools import adfuller\n",
    "import warnings\n",
    "warnings.filterwarnings(\"ignore\")"
   ]
  },
  {
   "cell_type": "code",
   "execution_count": 3,
   "id": "3613a559-cc0b-49a9-8aae-1469d1ec5f99",
   "metadata": {},
   "outputs": [],
   "source": [
    "# Define the data path, chart path and number of files to be downloaded\n",
    "data_path = \"data\"\n",
    "chart_path = \"charts\"\n",
    "# Create folders if they don't exist\n",
    "os.makedirs(data_path, exist_ok=True)\n",
    "os.makedirs(chart_path, exist_ok=True)\n",
    "# The link to the data\n",
    "url = \"https://www.ons.gov.uk/employmentandlabourmarket/peopleinwork/employmentandemployeetypes/timeseries/ap2y/lms/previous/\"\n",
    "base_url = \"https://www.ons.gov.uk\"\n",
    "number_of_files = 2"
   ]
  },
  {
   "cell_type": "markdown",
   "id": "2540fe7a-a186-420f-a878-c3a522ec9445",
   "metadata": {},
   "source": [
    "## 1. Data Ingestion & Automation"
   ]
  },
  {
   "cell_type": "markdown",
   "id": "80700671-d25b-456f-b01f-026dec646892",
   "metadata": {},
   "source": [
    "This section parses HTML to identify and collect all relevant csv data files. For each vintage, it generates a corresponding \n",
    "vacancy_data_{releasedate}.csv file containing the extracted data. The csv files are saved under \"/data\" folder. While csv is a widely used format and sufficient for these relatively small datasets, it becomes less efficient as data volume grows. For larger datasets, Parquet is a better choice due to its better read/write performance, file size compression and compatibility with big data tools like Spark. I added the relevant codes to also save the data as Parquet files named as vacancy_data_{releasedate}.parquet."
   ]
  },
  {
   "cell_type": "markdown",
   "id": "42741ae8-e784-4c65-be8f-d1c5252c312b",
   "metadata": {},
   "source": [
    "### 1.1 Read Target Page Content"
   ]
  },
  {
   "cell_type": "code",
   "execution_count": 4,
   "id": "142f36f3-9364-4ec6-a755-2d3b910ec425",
   "metadata": {},
   "outputs": [],
   "source": [
    "# Send request with headers to mimic a browser\n",
    "headers = {\n",
    "    \"User-Agent\": \"Mozilla/5.0\"\n",
    "}\n",
    "response = requests.get(url, headers=headers, verify=False)"
   ]
  },
  {
   "cell_type": "markdown",
   "id": "f32853c5-fd9d-4272-98d7-09b21c0507cf",
   "metadata": {},
   "source": [
    "### 1.2 Identify CSV Files in the Page Content "
   ]
  },
  {
   "cell_type": "code",
   "execution_count": 5,
   "id": "86f68dc0-4485-4a98-992a-b4c670ae6ab8",
   "metadata": {},
   "outputs": [],
   "source": [
    "# Parse HTML\n",
    "soup = BeautifulSoup(response.content, \"html.parser\")\n",
    "\n",
    "# Find all <a> tags with the csv download class\n",
    "links = soup.find_all(\"a\", attrs={\"data-gtm-type\": \"download-version-csv\"})"
   ]
  },
  {
   "cell_type": "code",
   "execution_count": 6,
   "id": "9ac2036d-93da-49ae-ac67-f7138f599974",
   "metadata": {},
   "outputs": [],
   "source": [
    "def download_csv_file(file_link, base_url, data_path):\n",
    "    \"\"\"\n",
    "    Downloads a CSV file from a constructed URL and saves it locally with a filename \n",
    "    based on the release date extracted from the file content.\n",
    "\n",
    "    Args:\n",
    "        \n",
    "        file_link (bs4.element.Tag): A BeautifulSoup tag object representing an <a> element, \n",
    "                                     expected to contain 'href' and 'data-gtm-date' attributes.\n",
    "        base_url (str): The base URL to prepend to the 'href' to form the full download URL.\n",
    "        data_path (str): The local directory path where the CSV file will be saved.\n",
    "\n",
    "    Behavior:\n",
    "        - Constructs the full URL using `base_url` and the 'href' from `file_link`.\n",
    "        - Sends a GET request to download the CSV file.\n",
    "        - Extracts the release date from the file content using a regular expression.\n",
    "        - Formats the release date as 'YYYYMMDD' and uses it in the filename to make the files chronogically ordered.\n",
    "        - Saves the file to `data_path` with the name 'vacancy_data_<release_date>.csv' and 'vacancy_data_<release_date>.parquet'.\n",
    "        - If the release date is not found, defaults to 'vacancy_data_000.csv' and 'vacancy_data_000.parquet'.\n",
    "        - Prints status messages indicating success or failure.\n",
    "\n",
    "    Note:\n",
    "        SSL verification is disabled in the request (`verify=False`), which may pose a security risk.\n",
    "    \"\"\"\n",
    "\n",
    "    \n",
    "    href = file_link.get(\"href\")\n",
    "    date_superseded = file_link.get(\"data-gtm-date\")\n",
    "    full_url = base_url + href\n",
    "    \n",
    "    print(f\"{date_superseded}: {full_url}\")\n",
    "\n",
    "    response = requests.get(full_url, verify=False)\n",
    "\n",
    "    if response.status_code == 200:\n",
    "        # Decode content to string\n",
    "        content = response.content.decode(\"utf-8\")\n",
    "\n",
    "        # Extract release date using regex\n",
    "        match = re.search(r'\"Release date\",\"([\\d\\-]+)\"', content)\n",
    "        if match:\n",
    "            release_date = match[1].replace(\"-\", \"\")  # e.g., \"12082025\"\n",
    "            parsed_date = datetime.strptime(release_date, \"%d%m%Y\")\n",
    "            release_date = parsed_date.strftime(\"%Y%m%d\") # Format the release date to YYYYMMDD so that downloaded files are named in chronological order\n",
    "            filename_csv = os.path.join(data_path, f\"vacancy_data_{release_date}.csv\")\n",
    "            filename_parquet = os.path.join(data_path, f\"vacancy_data_{release_date}.parquet\")\n",
    "        else:\n",
    "            filename_csv = os.path.join(data_path, f\"vacancy_data_000.csv\")\n",
    "            filename_parquet = os.path.join(data_path, f\"vacancy_data_000.parquet\")\n",
    "\n",
    "        # Save file\n",
    "        with open(filename_csv, \"w\", encoding=\"utf-8\") as f:\n",
    "            f.write(content)\n",
    "\n",
    "        # Save as Parquet\n",
    "        df = pd.read_csv(io.StringIO(content))\n",
    "        df.to_parquet(filename_parquet, engine=\"fastparquet\", index=False)\n",
    "\n",
    "        print(f\"Downloaded and saved as '{filename_csv}'\")\n",
    "    else:\n",
    "        print(f\"Failed to download {release_date}. Status code: {response.status_code}\")\n"
   ]
  },
  {
   "cell_type": "code",
   "execution_count": 7,
   "id": "389b0ac3-a34f-4369-8d5a-5f89aeab89d4",
   "metadata": {
    "scrolled": true
   },
   "outputs": [
    {
     "name": "stdout",
     "output_type": "stream",
     "text": [
      "Latest: https://www.ons.gov.uk/generator?format=csv&uri=/employmentandlabourmarket/peopleinwork/employmentandemployeetypes/timeseries/ap2y/lms\n",
      "Downloaded and saved as 'data\\vacancy_data_20250916.csv'\n",
      "16 September 2025: https://www.ons.gov.uk/generator?format=csv&uri=/employmentandlabourmarket/peopleinwork/employmentandemployeetypes/timeseries/ap2y/lms/previous/v117\n",
      "Downloaded and saved as 'data\\vacancy_data_20250812.csv'\n"
     ]
    }
   ],
   "source": [
    "# Download the first 24 files \n",
    "for link in links[:number_of_files]:\n",
    "    download_csv_file(link, base_url, data_path)"
   ]
  },
  {
   "cell_type": "markdown",
   "id": "576b47a2-1b40-4c2c-9e69-f6d3b7952c16",
   "metadata": {},
   "source": [
    "## 2. Data Cleaning & Structuring"
   ]
  },
  {
   "cell_type": "markdown",
   "id": "3ca9254e-2d8a-4a8a-9965-46da225e280d",
   "metadata": {},
   "source": [
    "This section brings together multiple files containing job vacancy data and combines them into one organized dataset. It starts by identifying the point (MAY 2001) in each file where consistent monthly data begins, then aligns all the data by month. Each file represents a different vintage. Once everything is aligned and sorted by date, the consolidated data is saved into the files \"whole_vacancy_data.csv\" and \"whole_vacancy_data.parquet\"."
   ]
  },
  {
   "cell_type": "code",
   "execution_count": 8,
   "id": "00de993c-23aa-4e15-a384-07e970750c95",
   "metadata": {},
   "outputs": [],
   "source": [
    "def process_vacancy_csv(file):\n",
    "    \"\"\"\n",
    "    Processes a vacancy csv file by cleaning and transforming its contents into a time series format.\n",
    "\n",
    "    Args:\n",
    "        file (str): The csv file that will be processed.\n",
    "\n",
    "    Returns:\n",
    "        pd.DataFrame: A cleaned DataFrame with:\n",
    "            - 'Date' as the index in 'YYYY-MM' format.\n",
    "            - One column named after the vintage date extracted from the filename.\n",
    "\n",
    "    Processing steps:\n",
    "        - Read the csv file.\n",
    "        - Cleans the 'Title' column by collapsing multiple spaces into one.\n",
    "        - Converts the 'Title' column to title case and parses it as a date in 'YYYY MMM' format.\n",
    "        - Drops rows where the 'Title' column could not be parsed as a date.\n",
    "        - Formats the parsed dates to 'YYYY-MM'.\n",
    "        - Infers a vintage identifier from the filename and renames the column accordingly.\n",
    "        - Sets the 'Date' column as the index.\n",
    "    \"\"\"\n",
    "    # Read the csv file\n",
    "    df = pd.read_csv(os.path.join(data_path,file)) ##\n",
    "    # Read the parquet file\n",
    "    #df = pd.read_parquet(os.path.join(data_path,file))\n",
    "    \n",
    "    # Replace multiple spaces with one space in Title column\n",
    "    df['Title'] = df['Title'].apply(lambda x: re.sub(r'\\s+', ' ', x))\n",
    "    # Convert Title column into date having YYYY MMM format\n",
    "    df[\"Title\"] = df[\"Title\"].str.title()\n",
    "    df[\"Title\"] = pd.to_datetime(df[\"Title\"], format='%Y %b', errors='coerce')\n",
    "    # Drop non-date columns\n",
    "    df = df.dropna(subset=\"Title\")\n",
    "    # Convert Date column into YY-MM format\n",
    "    df[\"Title\"] = df[\"Title\"].dt.strftime(\"%Y-%m\")\n",
    "    \n",
    "    # Infer the vintage date from the file name\n",
    "    vintage_date = file.replace(\"vacancy_data_\",\"v_\").replace(\".csv\", \"\") ##\n",
    "    #vintage_date = file.replace(\"vacancy_data_\",\"v_\").replace(\".parquet\", \"\") ##\n",
    "    # Rename columns as Date and vintage date identifier\n",
    "    df.columns = [\"Date\", vintage_date]\n",
    "    # Set Date as index\n",
    "    df = df.set_index(\"Date\")\n",
    "\n",
    "    return df"
   ]
  },
  {
   "cell_type": "code",
   "execution_count": 9,
   "id": "e7881c3f-9fd3-4fe7-bcf7-0eb367ae3f4d",
   "metadata": {},
   "outputs": [],
   "source": [
    "# List all csv/parquet files in the current directory that start with \"vacancy_data\"\n",
    "data_files = [f for f in os.listdir(data_path) if f.startswith(\"vacancy_data\") and f.endswith(\".csv\")]\n",
    "#data_files = [f for f in os.listdir(data_path) if f.startswith(\"vacancy_data\") and f.endswith(\".parquet\")]"
   ]
  },
  {
   "cell_type": "code",
   "execution_count": 10,
   "id": "a4c47fcd-4dfe-4fbe-a68c-eb23bdcb8409",
   "metadata": {},
   "outputs": [],
   "source": [
    "combined_df = []\n",
    "for file in data_files:\n",
    "    df = process_vacancy_csv(file)\n",
    "    combined_df.append(df)"
   ]
  },
  {
   "cell_type": "code",
   "execution_count": 11,
   "id": "3a0f28df-abfc-49dc-87c2-506dd04eef48",
   "metadata": {},
   "outputs": [
    {
     "data": {
      "text/html": [
       "<div>\n",
       "<style scoped>\n",
       "    .dataframe tbody tr th:only-of-type {\n",
       "        vertical-align: middle;\n",
       "    }\n",
       "\n",
       "    .dataframe tbody tr th {\n",
       "        vertical-align: top;\n",
       "    }\n",
       "\n",
       "    .dataframe thead th {\n",
       "        text-align: right;\n",
       "    }\n",
       "</style>\n",
       "<table border=\"1\" class=\"dataframe\">\n",
       "  <thead>\n",
       "    <tr style=\"text-align: right;\">\n",
       "      <th></th>\n",
       "      <th>Date</th>\n",
       "      <th>v_20230912</th>\n",
       "      <th>v_20231114</th>\n",
       "      <th>v_20231212</th>\n",
       "      <th>v_20240116</th>\n",
       "      <th>v_20240213</th>\n",
       "      <th>v_20240312</th>\n",
       "      <th>v_20240416</th>\n",
       "      <th>v_20240514</th>\n",
       "      <th>v_20240611</th>\n",
       "      <th>...</th>\n",
       "      <th>v_20241217</th>\n",
       "      <th>v_20250121</th>\n",
       "      <th>v_20250218</th>\n",
       "      <th>v_20250320</th>\n",
       "      <th>v_20250415</th>\n",
       "      <th>v_20250513</th>\n",
       "      <th>v_20250610</th>\n",
       "      <th>v_20250717</th>\n",
       "      <th>v_20250812</th>\n",
       "      <th>v_20250916</th>\n",
       "    </tr>\n",
       "  </thead>\n",
       "  <tbody>\n",
       "    <tr>\n",
       "      <th>0</th>\n",
       "      <td>2001-05</td>\n",
       "      <td>680</td>\n",
       "      <td>680</td>\n",
       "      <td>680</td>\n",
       "      <td>680</td>\n",
       "      <td>680</td>\n",
       "      <td>680</td>\n",
       "      <td>680</td>\n",
       "      <td>680</td>\n",
       "      <td>680</td>\n",
       "      <td>...</td>\n",
       "      <td>680</td>\n",
       "      <td>680</td>\n",
       "      <td>680</td>\n",
       "      <td>680</td>\n",
       "      <td>680</td>\n",
       "      <td>680</td>\n",
       "      <td>680</td>\n",
       "      <td>680</td>\n",
       "      <td>680</td>\n",
       "      <td>680</td>\n",
       "    </tr>\n",
       "    <tr>\n",
       "      <th>1</th>\n",
       "      <td>2001-06</td>\n",
       "      <td>674</td>\n",
       "      <td>674</td>\n",
       "      <td>674</td>\n",
       "      <td>674</td>\n",
       "      <td>674</td>\n",
       "      <td>674</td>\n",
       "      <td>674</td>\n",
       "      <td>674</td>\n",
       "      <td>674</td>\n",
       "      <td>...</td>\n",
       "      <td>674</td>\n",
       "      <td>674</td>\n",
       "      <td>674</td>\n",
       "      <td>674</td>\n",
       "      <td>674</td>\n",
       "      <td>674</td>\n",
       "      <td>674</td>\n",
       "      <td>674</td>\n",
       "      <td>674</td>\n",
       "      <td>674</td>\n",
       "    </tr>\n",
       "    <tr>\n",
       "      <th>2</th>\n",
       "      <td>2001-07</td>\n",
       "      <td>663</td>\n",
       "      <td>663</td>\n",
       "      <td>663</td>\n",
       "      <td>663</td>\n",
       "      <td>663</td>\n",
       "      <td>663</td>\n",
       "      <td>663</td>\n",
       "      <td>663</td>\n",
       "      <td>663</td>\n",
       "      <td>...</td>\n",
       "      <td>663</td>\n",
       "      <td>663</td>\n",
       "      <td>663</td>\n",
       "      <td>663</td>\n",
       "      <td>663</td>\n",
       "      <td>663</td>\n",
       "      <td>663</td>\n",
       "      <td>663</td>\n",
       "      <td>663</td>\n",
       "      <td>663</td>\n",
       "    </tr>\n",
       "    <tr>\n",
       "      <th>3</th>\n",
       "      <td>2001-08</td>\n",
       "      <td>663</td>\n",
       "      <td>663</td>\n",
       "      <td>663</td>\n",
       "      <td>663</td>\n",
       "      <td>663</td>\n",
       "      <td>663</td>\n",
       "      <td>663</td>\n",
       "      <td>663</td>\n",
       "      <td>663</td>\n",
       "      <td>...</td>\n",
       "      <td>663</td>\n",
       "      <td>663</td>\n",
       "      <td>663</td>\n",
       "      <td>663</td>\n",
       "      <td>663</td>\n",
       "      <td>663</td>\n",
       "      <td>663</td>\n",
       "      <td>663</td>\n",
       "      <td>663</td>\n",
       "      <td>663</td>\n",
       "    </tr>\n",
       "    <tr>\n",
       "      <th>4</th>\n",
       "      <td>2001-09</td>\n",
       "      <td>639</td>\n",
       "      <td>639</td>\n",
       "      <td>639</td>\n",
       "      <td>639</td>\n",
       "      <td>639</td>\n",
       "      <td>639</td>\n",
       "      <td>639</td>\n",
       "      <td>639</td>\n",
       "      <td>639</td>\n",
       "      <td>...</td>\n",
       "      <td>639</td>\n",
       "      <td>639</td>\n",
       "      <td>639</td>\n",
       "      <td>639</td>\n",
       "      <td>639</td>\n",
       "      <td>639</td>\n",
       "      <td>639</td>\n",
       "      <td>639</td>\n",
       "      <td>639</td>\n",
       "      <td>639</td>\n",
       "    </tr>\n",
       "  </tbody>\n",
       "</table>\n",
       "<p>5 rows × 25 columns</p>\n",
       "</div>"
      ],
      "text/plain": [
       "      Date v_20230912 v_20231114 v_20231212 v_20240116 v_20240213 v_20240312  \\\n",
       "0  2001-05        680        680        680        680        680        680   \n",
       "1  2001-06        674        674        674        674        674        674   \n",
       "2  2001-07        663        663        663        663        663        663   \n",
       "3  2001-08        663        663        663        663        663        663   \n",
       "4  2001-09        639        639        639        639        639        639   \n",
       "\n",
       "  v_20240416 v_20240514 v_20240611  ... v_20241217 v_20250121 v_20250218  \\\n",
       "0        680        680        680  ...        680        680        680   \n",
       "1        674        674        674  ...        674        674        674   \n",
       "2        663        663        663  ...        663        663        663   \n",
       "3        663        663        663  ...        663        663        663   \n",
       "4        639        639        639  ...        639        639        639   \n",
       "\n",
       "  v_20250320 v_20250415 v_20250513 v_20250610 v_20250717 v_20250812 v_20250916  \n",
       "0        680        680        680        680        680        680        680  \n",
       "1        674        674        674        674        674        674        674  \n",
       "2        663        663        663        663        663        663        663  \n",
       "3        663        663        663        663        663        663        663  \n",
       "4        639        639        639        639        639        639        639  \n",
       "\n",
       "[5 rows x 25 columns]"
      ]
     },
     "execution_count": 11,
     "metadata": {},
     "output_type": "execute_result"
    }
   ],
   "source": [
    "# Merge dataframes in combined df list into a dataframe\n",
    "combined_df = pd.concat(combined_df, axis=1)\n",
    "combined_df = combined_df.sort_index().reset_index()\n",
    "combined_df.head()"
   ]
  },
  {
   "cell_type": "code",
   "execution_count": 12,
   "id": "7f051285-f093-4d3a-8d8b-98026d1cc0bf",
   "metadata": {},
   "outputs": [],
   "source": [
    "# Save the consolidated data as a csv/parquet file\n",
    "combined_df.to_csv(os.path.join(data_path, \"whole_vacancy_data.csv\"), index=False)\n",
    "#combined_df.to_parquet(os.path.join(data_path, \"whole_vacancy_data.parquet\"), index=False)"
   ]
  },
  {
   "cell_type": "markdown",
   "id": "da043f07-f163-482d-a67e-3eeee4cc9ac1",
   "metadata": {},
   "source": [
    "## 3. Visualisation"
   ]
  },
  {
   "cell_type": "markdown",
   "id": "85b34288-e40a-4eb9-8f6f-c2fc45e21298",
   "metadata": {},
   "source": [
    "The code creates two types of visual tools to explore job vacancy data over time.\n",
    "\n",
    "a. Interactive Dashboard: It builds a dynamic chart that lets you select a specific month and see how vacancy estimates for that month have changed across different vintages. You can switch between months using a dropdown menu, making it easy to compare revisions.\n",
    "\n",
    "b.Static Timeseries Chart: It also creates a static chart showing how vacancy estimates have evolved over time for each data release. This version includes a slider so you can zoom in on specific periods and explore changes more closely.\n",
    "\n",
    "Both visualizations are saved as interactive HTML files, allowing you to open them in a web browser."
   ]
  },
  {
   "cell_type": "markdown",
   "id": "c90ce5f6-9d43-47ba-a377-ece450d0200c",
   "metadata": {},
   "source": [
    "## a. Interactive Chart"
   ]
  },
  {
   "cell_type": "code",
   "execution_count": 13,
   "id": "6ae6f04e-96dd-40af-8cbf-bb88b20fb499",
   "metadata": {},
   "outputs": [],
   "source": [
    "# Load the consolidated csv file. !!!Notice: If you run the code from the start, no need to run this cell.\n",
    "combined_df = pd.read_csv(os.path.join(data_path, \"whole_vacancy_data.csv\"))"
   ]
  },
  {
   "cell_type": "code",
   "execution_count": 14,
   "id": "5bb20fad-a321-4b02-860f-9111aebe64e2",
   "metadata": {},
   "outputs": [],
   "source": [
    "# Load the consolidated parquet file. !!!Notice: If you run the code from the start, no need to run this cell.\n",
    "#combined_df = pd.read_parquet(os.path.join(data_path, \"whole_vacancy_data.parquet\"))"
   ]
  },
  {
   "cell_type": "code",
   "execution_count": 15,
   "id": "0619a2d6-7b40-47ec-9af1-6ec201b4d0d7",
   "metadata": {},
   "outputs": [],
   "source": [
    "# Melt the data to long format for easier filtering\n",
    "melted_df = combined_df.melt(id_vars=\"Date\", var_name=\"Vintage\", value_name=\"Vacancy\").dropna()"
   ]
  },
  {
   "cell_type": "code",
   "execution_count": 16,
   "id": "317c875e-77e9-4dd6-8645-da51adea12dd",
   "metadata": {},
   "outputs": [],
   "source": [
    "# Create a list of available months for dropdown menu\n",
    "available_months = sorted(combined_df[\"Date\"].dropna().unique())\n",
    "\n",
    "# Create dropdown buttons for each month\n",
    "dropdown_buttons = []\n",
    "for month in available_months:\n",
    "    visible = melted_df[\"Date\"] == month\n",
    "    filtered_df = melted_df[visible]\n",
    "    trace = go.Scatter(x=filtered_df[\"Vintage\"], y=filtered_df[\"Vacancy\"], name=month)\n",
    "    dropdown_buttons.append(dict(\n",
    "        label=month,\n",
    "        method=\"update\",\n",
    "        args=[\n",
    "            {\"x\": [filtered_df[\"Vintage\"]],\n",
    "             \"y\": [filtered_df[\"Vacancy\"]],\n",
    "             \"type\": \"line\"},\n",
    "            {\"title\": {\"text\": \"Vacancy Estimates Across Vintages\", \"x\": 0.5, \"xanchor\": \"center\"}}\n",
    "        ]\n",
    "    ))"
   ]
  },
  {
   "cell_type": "code",
   "execution_count": 17,
   "id": "e30f95f8-2734-43e2-9194-17db1115e2f7",
   "metadata": {},
   "outputs": [
    {
     "data": {
      "application/vnd.plotly.v1+json": {
       "config": {
        "plotlyServerURL": "https://plot.ly"
       },
       "data": [
        {
         "name": "2001-05",
         "type": "scatter",
         "x": [
          "v_20230912",
          "v_20231114",
          "v_20231212",
          "v_20240116",
          "v_20240213",
          "v_20240312",
          "v_20240416",
          "v_20240514",
          "v_20240611",
          "v_20240718",
          "v_20240813",
          "v_20240910",
          "v_20241015",
          "v_20241112",
          "v_20241217",
          "v_20250121",
          "v_20250218",
          "v_20250320",
          "v_20250415",
          "v_20250513",
          "v_20250610",
          "v_20250717",
          "v_20250812",
          "v_20250916"
         ],
         "y": {
          "bdata": "AAAAAABAhUAAAAAAAECFQAAAAAAAQIVAAAAAAABAhUAAAAAAAECFQAAAAAAAQIVAAAAAAABAhUAAAAAAAECFQAAAAAAAQIVAAAAAAABAhUAAAAAAAECFQAAAAAAAQIVAAAAAAABAhUAAAAAAAECFQAAAAAAAQIVAAAAAAABAhUAAAAAAAECFQAAAAAAAQIVAAAAAAABAhUAAAAAAAECFQAAAAAAAQIVAAAAAAABAhUAAAAAAAECFQAAAAAAAQIVA",
          "dtype": "f8"
         }
        }
       ],
       "layout": {
        "showlegend": false,
        "template": {
         "data": {
          "bar": [
           {
            "error_x": {
             "color": "#2a3f5f"
            },
            "error_y": {
             "color": "#2a3f5f"
            },
            "marker": {
             "line": {
              "color": "#E5ECF6",
              "width": 0.5
             },
             "pattern": {
              "fillmode": "overlay",
              "size": 10,
              "solidity": 0.2
             }
            },
            "type": "bar"
           }
          ],
          "barpolar": [
           {
            "marker": {
             "line": {
              "color": "#E5ECF6",
              "width": 0.5
             },
             "pattern": {
              "fillmode": "overlay",
              "size": 10,
              "solidity": 0.2
             }
            },
            "type": "barpolar"
           }
          ],
          "carpet": [
           {
            "aaxis": {
             "endlinecolor": "#2a3f5f",
             "gridcolor": "white",
             "linecolor": "white",
             "minorgridcolor": "white",
             "startlinecolor": "#2a3f5f"
            },
            "baxis": {
             "endlinecolor": "#2a3f5f",
             "gridcolor": "white",
             "linecolor": "white",
             "minorgridcolor": "white",
             "startlinecolor": "#2a3f5f"
            },
            "type": "carpet"
           }
          ],
          "choropleth": [
           {
            "colorbar": {
             "outlinewidth": 0,
             "ticks": ""
            },
            "type": "choropleth"
           }
          ],
          "contour": [
           {
            "colorbar": {
             "outlinewidth": 0,
             "ticks": ""
            },
            "colorscale": [
             [
              0,
              "#0d0887"
             ],
             [
              0.1111111111111111,
              "#46039f"
             ],
             [
              0.2222222222222222,
              "#7201a8"
             ],
             [
              0.3333333333333333,
              "#9c179e"
             ],
             [
              0.4444444444444444,
              "#bd3786"
             ],
             [
              0.5555555555555556,
              "#d8576b"
             ],
             [
              0.6666666666666666,
              "#ed7953"
             ],
             [
              0.7777777777777778,
              "#fb9f3a"
             ],
             [
              0.8888888888888888,
              "#fdca26"
             ],
             [
              1,
              "#f0f921"
             ]
            ],
            "type": "contour"
           }
          ],
          "contourcarpet": [
           {
            "colorbar": {
             "outlinewidth": 0,
             "ticks": ""
            },
            "type": "contourcarpet"
           }
          ],
          "heatmap": [
           {
            "colorbar": {
             "outlinewidth": 0,
             "ticks": ""
            },
            "colorscale": [
             [
              0,
              "#0d0887"
             ],
             [
              0.1111111111111111,
              "#46039f"
             ],
             [
              0.2222222222222222,
              "#7201a8"
             ],
             [
              0.3333333333333333,
              "#9c179e"
             ],
             [
              0.4444444444444444,
              "#bd3786"
             ],
             [
              0.5555555555555556,
              "#d8576b"
             ],
             [
              0.6666666666666666,
              "#ed7953"
             ],
             [
              0.7777777777777778,
              "#fb9f3a"
             ],
             [
              0.8888888888888888,
              "#fdca26"
             ],
             [
              1,
              "#f0f921"
             ]
            ],
            "type": "heatmap"
           }
          ],
          "histogram": [
           {
            "marker": {
             "pattern": {
              "fillmode": "overlay",
              "size": 10,
              "solidity": 0.2
             }
            },
            "type": "histogram"
           }
          ],
          "histogram2d": [
           {
            "colorbar": {
             "outlinewidth": 0,
             "ticks": ""
            },
            "colorscale": [
             [
              0,
              "#0d0887"
             ],
             [
              0.1111111111111111,
              "#46039f"
             ],
             [
              0.2222222222222222,
              "#7201a8"
             ],
             [
              0.3333333333333333,
              "#9c179e"
             ],
             [
              0.4444444444444444,
              "#bd3786"
             ],
             [
              0.5555555555555556,
              "#d8576b"
             ],
             [
              0.6666666666666666,
              "#ed7953"
             ],
             [
              0.7777777777777778,
              "#fb9f3a"
             ],
             [
              0.8888888888888888,
              "#fdca26"
             ],
             [
              1,
              "#f0f921"
             ]
            ],
            "type": "histogram2d"
           }
          ],
          "histogram2dcontour": [
           {
            "colorbar": {
             "outlinewidth": 0,
             "ticks": ""
            },
            "colorscale": [
             [
              0,
              "#0d0887"
             ],
             [
              0.1111111111111111,
              "#46039f"
             ],
             [
              0.2222222222222222,
              "#7201a8"
             ],
             [
              0.3333333333333333,
              "#9c179e"
             ],
             [
              0.4444444444444444,
              "#bd3786"
             ],
             [
              0.5555555555555556,
              "#d8576b"
             ],
             [
              0.6666666666666666,
              "#ed7953"
             ],
             [
              0.7777777777777778,
              "#fb9f3a"
             ],
             [
              0.8888888888888888,
              "#fdca26"
             ],
             [
              1,
              "#f0f921"
             ]
            ],
            "type": "histogram2dcontour"
           }
          ],
          "mesh3d": [
           {
            "colorbar": {
             "outlinewidth": 0,
             "ticks": ""
            },
            "type": "mesh3d"
           }
          ],
          "parcoords": [
           {
            "line": {
             "colorbar": {
              "outlinewidth": 0,
              "ticks": ""
             }
            },
            "type": "parcoords"
           }
          ],
          "pie": [
           {
            "automargin": true,
            "type": "pie"
           }
          ],
          "scatter": [
           {
            "fillpattern": {
             "fillmode": "overlay",
             "size": 10,
             "solidity": 0.2
            },
            "type": "scatter"
           }
          ],
          "scatter3d": [
           {
            "line": {
             "colorbar": {
              "outlinewidth": 0,
              "ticks": ""
             }
            },
            "marker": {
             "colorbar": {
              "outlinewidth": 0,
              "ticks": ""
             }
            },
            "type": "scatter3d"
           }
          ],
          "scattercarpet": [
           {
            "marker": {
             "colorbar": {
              "outlinewidth": 0,
              "ticks": ""
             }
            },
            "type": "scattercarpet"
           }
          ],
          "scattergeo": [
           {
            "marker": {
             "colorbar": {
              "outlinewidth": 0,
              "ticks": ""
             }
            },
            "type": "scattergeo"
           }
          ],
          "scattergl": [
           {
            "marker": {
             "colorbar": {
              "outlinewidth": 0,
              "ticks": ""
             }
            },
            "type": "scattergl"
           }
          ],
          "scattermap": [
           {
            "marker": {
             "colorbar": {
              "outlinewidth": 0,
              "ticks": ""
             }
            },
            "type": "scattermap"
           }
          ],
          "scattermapbox": [
           {
            "marker": {
             "colorbar": {
              "outlinewidth": 0,
              "ticks": ""
             }
            },
            "type": "scattermapbox"
           }
          ],
          "scatterpolar": [
           {
            "marker": {
             "colorbar": {
              "outlinewidth": 0,
              "ticks": ""
             }
            },
            "type": "scatterpolar"
           }
          ],
          "scatterpolargl": [
           {
            "marker": {
             "colorbar": {
              "outlinewidth": 0,
              "ticks": ""
             }
            },
            "type": "scatterpolargl"
           }
          ],
          "scatterternary": [
           {
            "marker": {
             "colorbar": {
              "outlinewidth": 0,
              "ticks": ""
             }
            },
            "type": "scatterternary"
           }
          ],
          "surface": [
           {
            "colorbar": {
             "outlinewidth": 0,
             "ticks": ""
            },
            "colorscale": [
             [
              0,
              "#0d0887"
             ],
             [
              0.1111111111111111,
              "#46039f"
             ],
             [
              0.2222222222222222,
              "#7201a8"
             ],
             [
              0.3333333333333333,
              "#9c179e"
             ],
             [
              0.4444444444444444,
              "#bd3786"
             ],
             [
              0.5555555555555556,
              "#d8576b"
             ],
             [
              0.6666666666666666,
              "#ed7953"
             ],
             [
              0.7777777777777778,
              "#fb9f3a"
             ],
             [
              0.8888888888888888,
              "#fdca26"
             ],
             [
              1,
              "#f0f921"
             ]
            ],
            "type": "surface"
           }
          ],
          "table": [
           {
            "cells": {
             "fill": {
              "color": "#EBF0F8"
             },
             "line": {
              "color": "white"
             }
            },
            "header": {
             "fill": {
              "color": "#C8D4E3"
             },
             "line": {
              "color": "white"
             }
            },
            "type": "table"
           }
          ]
         },
         "layout": {
          "annotationdefaults": {
           "arrowcolor": "#2a3f5f",
           "arrowhead": 0,
           "arrowwidth": 1
          },
          "autotypenumbers": "strict",
          "coloraxis": {
           "colorbar": {
            "outlinewidth": 0,
            "ticks": ""
           }
          },
          "colorscale": {
           "diverging": [
            [
             0,
             "#8e0152"
            ],
            [
             0.1,
             "#c51b7d"
            ],
            [
             0.2,
             "#de77ae"
            ],
            [
             0.3,
             "#f1b6da"
            ],
            [
             0.4,
             "#fde0ef"
            ],
            [
             0.5,
             "#f7f7f7"
            ],
            [
             0.6,
             "#e6f5d0"
            ],
            [
             0.7,
             "#b8e186"
            ],
            [
             0.8,
             "#7fbc41"
            ],
            [
             0.9,
             "#4d9221"
            ],
            [
             1,
             "#276419"
            ]
           ],
           "sequential": [
            [
             0,
             "#0d0887"
            ],
            [
             0.1111111111111111,
             "#46039f"
            ],
            [
             0.2222222222222222,
             "#7201a8"
            ],
            [
             0.3333333333333333,
             "#9c179e"
            ],
            [
             0.4444444444444444,
             "#bd3786"
            ],
            [
             0.5555555555555556,
             "#d8576b"
            ],
            [
             0.6666666666666666,
             "#ed7953"
            ],
            [
             0.7777777777777778,
             "#fb9f3a"
            ],
            [
             0.8888888888888888,
             "#fdca26"
            ],
            [
             1,
             "#f0f921"
            ]
           ],
           "sequentialminus": [
            [
             0,
             "#0d0887"
            ],
            [
             0.1111111111111111,
             "#46039f"
            ],
            [
             0.2222222222222222,
             "#7201a8"
            ],
            [
             0.3333333333333333,
             "#9c179e"
            ],
            [
             0.4444444444444444,
             "#bd3786"
            ],
            [
             0.5555555555555556,
             "#d8576b"
            ],
            [
             0.6666666666666666,
             "#ed7953"
            ],
            [
             0.7777777777777778,
             "#fb9f3a"
            ],
            [
             0.8888888888888888,
             "#fdca26"
            ],
            [
             1,
             "#f0f921"
            ]
           ]
          },
          "colorway": [
           "#636efa",
           "#EF553B",
           "#00cc96",
           "#ab63fa",
           "#FFA15A",
           "#19d3f3",
           "#FF6692",
           "#B6E880",
           "#FF97FF",
           "#FECB52"
          ],
          "font": {
           "color": "#2a3f5f"
          },
          "geo": {
           "bgcolor": "white",
           "lakecolor": "white",
           "landcolor": "#E5ECF6",
           "showlakes": true,
           "showland": true,
           "subunitcolor": "white"
          },
          "hoverlabel": {
           "align": "left"
          },
          "hovermode": "closest",
          "mapbox": {
           "style": "light"
          },
          "paper_bgcolor": "white",
          "plot_bgcolor": "#E5ECF6",
          "polar": {
           "angularaxis": {
            "gridcolor": "white",
            "linecolor": "white",
            "ticks": ""
           },
           "bgcolor": "#E5ECF6",
           "radialaxis": {
            "gridcolor": "white",
            "linecolor": "white",
            "ticks": ""
           }
          },
          "scene": {
           "xaxis": {
            "backgroundcolor": "#E5ECF6",
            "gridcolor": "white",
            "gridwidth": 2,
            "linecolor": "white",
            "showbackground": true,
            "ticks": "",
            "zerolinecolor": "white"
           },
           "yaxis": {
            "backgroundcolor": "#E5ECF6",
            "gridcolor": "white",
            "gridwidth": 2,
            "linecolor": "white",
            "showbackground": true,
            "ticks": "",
            "zerolinecolor": "white"
           },
           "zaxis": {
            "backgroundcolor": "#E5ECF6",
            "gridcolor": "white",
            "gridwidth": 2,
            "linecolor": "white",
            "showbackground": true,
            "ticks": "",
            "zerolinecolor": "white"
           }
          },
          "shapedefaults": {
           "line": {
            "color": "#2a3f5f"
           }
          },
          "ternary": {
           "aaxis": {
            "gridcolor": "white",
            "linecolor": "white",
            "ticks": ""
           },
           "baxis": {
            "gridcolor": "white",
            "linecolor": "white",
            "ticks": ""
           },
           "bgcolor": "#E5ECF6",
           "caxis": {
            "gridcolor": "white",
            "linecolor": "white",
            "ticks": ""
           }
          },
          "title": {
           "x": 0.05
          },
          "xaxis": {
           "automargin": true,
           "gridcolor": "white",
           "linecolor": "white",
           "ticks": "",
           "title": {
            "standoff": 15
           },
           "zerolinecolor": "white",
           "zerolinewidth": 2
          },
          "yaxis": {
           "automargin": true,
           "gridcolor": "white",
           "linecolor": "white",
           "ticks": "",
           "title": {
            "standoff": 15
           },
           "zerolinecolor": "white",
           "zerolinewidth": 2
          }
         }
        },
        "title": {
         "text": "Vacancy Estimates Across Vintages",
         "x": 0.5,
         "xanchor": "center"
        },
        "updatemenus": [
         {
          "active": 0,
          "buttons": [
           {
            "args": [
             {
              "type": "line",
              "x": [
               [
                "v_20230912",
                "v_20231114",
                "v_20231212",
                "v_20240116",
                "v_20240213",
                "v_20240312",
                "v_20240416",
                "v_20240514",
                "v_20240611",
                "v_20240718",
                "v_20240813",
                "v_20240910",
                "v_20241015",
                "v_20241112",
                "v_20241217",
                "v_20250121",
                "v_20250218",
                "v_20250320",
                "v_20250415",
                "v_20250513",
                "v_20250610",
                "v_20250717",
                "v_20250812",
                "v_20250916"
               ]
              ],
              "y": [
               [
                680,
                680,
                680,
                680,
                680,
                680,
                680,
                680,
                680,
                680,
                680,
                680,
                680,
                680,
                680,
                680,
                680,
                680,
                680,
                680,
                680,
                680,
                680,
                680
               ]
              ]
             },
             {
              "title": {
               "text": "Vacancy Estimates Across Vintages",
               "x": 0.5,
               "xanchor": "center"
              }
             }
            ],
            "label": "2001-05",
            "method": "update"
           },
           {
            "args": [
             {
              "type": "line",
              "x": [
               [
                "v_20230912",
                "v_20231114",
                "v_20231212",
                "v_20240116",
                "v_20240213",
                "v_20240312",
                "v_20240416",
                "v_20240514",
                "v_20240611",
                "v_20240718",
                "v_20240813",
                "v_20240910",
                "v_20241015",
                "v_20241112",
                "v_20241217",
                "v_20250121",
                "v_20250218",
                "v_20250320",
                "v_20250415",
                "v_20250513",
                "v_20250610",
                "v_20250717",
                "v_20250812",
                "v_20250916"
               ]
              ],
              "y": [
               [
                674,
                674,
                674,
                674,
                674,
                674,
                674,
                674,
                674,
                674,
                674,
                674,
                674,
                674,
                674,
                674,
                674,
                674,
                674,
                674,
                674,
                674,
                674,
                674
               ]
              ]
             },
             {
              "title": {
               "text": "Vacancy Estimates Across Vintages",
               "x": 0.5,
               "xanchor": "center"
              }
             }
            ],
            "label": "2001-06",
            "method": "update"
           },
           {
            "args": [
             {
              "type": "line",
              "x": [
               [
                "v_20230912",
                "v_20231114",
                "v_20231212",
                "v_20240116",
                "v_20240213",
                "v_20240312",
                "v_20240416",
                "v_20240514",
                "v_20240611",
                "v_20240718",
                "v_20240813",
                "v_20240910",
                "v_20241015",
                "v_20241112",
                "v_20241217",
                "v_20250121",
                "v_20250218",
                "v_20250320",
                "v_20250415",
                "v_20250513",
                "v_20250610",
                "v_20250717",
                "v_20250812",
                "v_20250916"
               ]
              ],
              "y": [
               [
                663,
                663,
                663,
                663,
                663,
                663,
                663,
                663,
                663,
                663,
                663,
                663,
                663,
                663,
                663,
                663,
                663,
                663,
                663,
                663,
                663,
                663,
                663,
                663
               ]
              ]
             },
             {
              "title": {
               "text": "Vacancy Estimates Across Vintages",
               "x": 0.5,
               "xanchor": "center"
              }
             }
            ],
            "label": "2001-07",
            "method": "update"
           },
           {
            "args": [
             {
              "type": "line",
              "x": [
               [
                "v_20230912",
                "v_20231114",
                "v_20231212",
                "v_20240116",
                "v_20240213",
                "v_20240312",
                "v_20240416",
                "v_20240514",
                "v_20240611",
                "v_20240718",
                "v_20240813",
                "v_20240910",
                "v_20241015",
                "v_20241112",
                "v_20241217",
                "v_20250121",
                "v_20250218",
                "v_20250320",
                "v_20250415",
                "v_20250513",
                "v_20250610",
                "v_20250717",
                "v_20250812",
                "v_20250916"
               ]
              ],
              "y": [
               [
                663,
                663,
                663,
                663,
                663,
                663,
                663,
                663,
                663,
                663,
                663,
                663,
                663,
                663,
                663,
                663,
                663,
                663,
                663,
                663,
                663,
                663,
                663,
                663
               ]
              ]
             },
             {
              "title": {
               "text": "Vacancy Estimates Across Vintages",
               "x": 0.5,
               "xanchor": "center"
              }
             }
            ],
            "label": "2001-08",
            "method": "update"
           },
           {
            "args": [
             {
              "type": "line",
              "x": [
               [
                "v_20230912",
                "v_20231114",
                "v_20231212",
                "v_20240116",
                "v_20240213",
                "v_20240312",
                "v_20240416",
                "v_20240514",
                "v_20240611",
                "v_20240718",
                "v_20240813",
                "v_20240910",
                "v_20241015",
                "v_20241112",
                "v_20241217",
                "v_20250121",
                "v_20250218",
                "v_20250320",
                "v_20250415",
                "v_20250513",
                "v_20250610",
                "v_20250717",
                "v_20250812",
                "v_20250916"
               ]
              ],
              "y": [
               [
                639,
                639,
                639,
                639,
                639,
                639,
                639,
                639,
                639,
                639,
                639,
                639,
                639,
                639,
                639,
                639,
                639,
                639,
                639,
                639,
                639,
                639,
                639,
                639
               ]
              ]
             },
             {
              "title": {
               "text": "Vacancy Estimates Across Vintages",
               "x": 0.5,
               "xanchor": "center"
              }
             }
            ],
            "label": "2001-09",
            "method": "update"
           },
           {
            "args": [
             {
              "type": "line",
              "x": [
               [
                "v_20230912",
                "v_20231114",
                "v_20231212",
                "v_20240116",
                "v_20240213",
                "v_20240312",
                "v_20240416",
                "v_20240514",
                "v_20240611",
                "v_20240718",
                "v_20240813",
                "v_20240910",
                "v_20241015",
                "v_20241112",
                "v_20241217",
                "v_20250121",
                "v_20250218",
                "v_20250320",
                "v_20250415",
                "v_20250513",
                "v_20250610",
                "v_20250717",
                "v_20250812",
                "v_20250916"
               ]
              ],
              "y": [
               [
                626,
                626,
                626,
                626,
                626,
                626,
                626,
                626,
                626,
                626,
                626,
                626,
                626,
                626,
                626,
                626,
                626,
                626,
                626,
                626,
                626,
                626,
                626,
                626
               ]
              ]
             },
             {
              "title": {
               "text": "Vacancy Estimates Across Vintages",
               "x": 0.5,
               "xanchor": "center"
              }
             }
            ],
            "label": "2001-10",
            "method": "update"
           },
           {
            "args": [
             {
              "type": "line",
              "x": [
               [
                "v_20230912",
                "v_20231114",
                "v_20231212",
                "v_20240116",
                "v_20240213",
                "v_20240312",
                "v_20240416",
                "v_20240514",
                "v_20240611",
                "v_20240718",
                "v_20240813",
                "v_20240910",
                "v_20241015",
                "v_20241112",
                "v_20241217",
                "v_20250121",
                "v_20250218",
                "v_20250320",
                "v_20250415",
                "v_20250513",
                "v_20250610",
                "v_20250717",
                "v_20250812",
                "v_20250916"
               ]
              ],
              "y": [
               [
                602,
                602,
                602,
                602,
                602,
                602,
                602,
                602,
                602,
                602,
                602,
                602,
                602,
                602,
                602,
                602,
                602,
                602,
                601,
                601,
                601,
                601,
                601,
                601
               ]
              ]
             },
             {
              "title": {
               "text": "Vacancy Estimates Across Vintages",
               "x": 0.5,
               "xanchor": "center"
              }
             }
            ],
            "label": "2001-11",
            "method": "update"
           },
           {
            "args": [
             {
              "type": "line",
              "x": [
               [
                "v_20230912",
                "v_20231114",
                "v_20231212",
                "v_20240116",
                "v_20240213",
                "v_20240312",
                "v_20240416",
                "v_20240514",
                "v_20240611",
                "v_20240718",
                "v_20240813",
                "v_20240910",
                "v_20241015",
                "v_20241112",
                "v_20241217",
                "v_20250121",
                "v_20250218",
                "v_20250320",
                "v_20250415",
                "v_20250513",
                "v_20250610",
                "v_20250717",
                "v_20250812",
                "v_20250916"
               ]
              ],
              "y": [
               [
                605,
                605,
                605,
                605,
                605,
                605,
                605,
                605,
                605,
                605,
                605,
                605,
                605,
                605,
                605,
                605,
                605,
                605,
                606,
                606,
                606,
                606,
                606,
                606
               ]
              ]
             },
             {
              "title": {
               "text": "Vacancy Estimates Across Vintages",
               "x": 0.5,
               "xanchor": "center"
              }
             }
            ],
            "label": "2001-12",
            "method": "update"
           },
           {
            "args": [
             {
              "type": "line",
              "x": [
               [
                "v_20230912",
                "v_20231114",
                "v_20231212",
                "v_20240116",
                "v_20240213",
                "v_20240312",
                "v_20240416",
                "v_20240514",
                "v_20240611",
                "v_20240718",
                "v_20240813",
                "v_20240910",
                "v_20241015",
                "v_20241112",
                "v_20241217",
                "v_20250121",
                "v_20250218",
                "v_20250320",
                "v_20250415",
                "v_20250513",
                "v_20250610",
                "v_20250717",
                "v_20250812",
                "v_20250916"
               ]
              ],
              "y": [
               [
                616,
                616,
                616,
                616,
                616,
                616,
                616,
                616,
                616,
                616,
                616,
                616,
                616,
                616,
                616,
                616,
                616,
                616,
                616,
                616,
                616,
                616,
                616,
                616
               ]
              ]
             },
             {
              "title": {
               "text": "Vacancy Estimates Across Vintages",
               "x": 0.5,
               "xanchor": "center"
              }
             }
            ],
            "label": "2002-01",
            "method": "update"
           },
           {
            "args": [
             {
              "type": "line",
              "x": [
               [
                "v_20230912",
                "v_20231114",
                "v_20231212",
                "v_20240116",
                "v_20240213",
                "v_20240312",
                "v_20240416",
                "v_20240514",
                "v_20240611",
                "v_20240718",
                "v_20240813",
                "v_20240910",
                "v_20241015",
                "v_20241112",
                "v_20241217",
                "v_20250121",
                "v_20250218",
                "v_20250320",
                "v_20250415",
                "v_20250513",
                "v_20250610",
                "v_20250717",
                "v_20250812",
                "v_20250916"
               ]
              ],
              "y": [
               [
                617,
                617,
                617,
                617,
                617,
                617,
                617,
                617,
                617,
                617,
                617,
                617,
                617,
                617,
                617,
                617,
                617,
                617,
                619,
                619,
                619,
                619,
                619,
                619
               ]
              ]
             },
             {
              "title": {
               "text": "Vacancy Estimates Across Vintages",
               "x": 0.5,
               "xanchor": "center"
              }
             }
            ],
            "label": "2002-02",
            "method": "update"
           },
           {
            "args": [
             {
              "type": "line",
              "x": [
               [
                "v_20230912",
                "v_20231114",
                "v_20231212",
                "v_20240116",
                "v_20240213",
                "v_20240312",
                "v_20240416",
                "v_20240514",
                "v_20240611",
                "v_20240718",
                "v_20240813",
                "v_20240910",
                "v_20241015",
                "v_20241112",
                "v_20241217",
                "v_20250121",
                "v_20250218",
                "v_20250320",
                "v_20250415",
                "v_20250513",
                "v_20250610",
                "v_20250717",
                "v_20250812",
                "v_20250916"
               ]
              ],
              "y": [
               [
                621,
                621,
                621,
                621,
                621,
                621,
                622,
                622,
                622,
                622,
                622,
                622,
                622,
                622,
                622,
                622,
                622,
                622,
                619,
                619,
                619,
                619,
                619,
                619
               ]
              ]
             },
             {
              "title": {
               "text": "Vacancy Estimates Across Vintages",
               "x": 0.5,
               "xanchor": "center"
              }
             }
            ],
            "label": "2002-03",
            "method": "update"
           },
           {
            "args": [
             {
              "type": "line",
              "x": [
               [
                "v_20230912",
                "v_20231114",
                "v_20231212",
                "v_20240116",
                "v_20240213",
                "v_20240312",
                "v_20240416",
                "v_20240514",
                "v_20240611",
                "v_20240718",
                "v_20240813",
                "v_20240910",
                "v_20241015",
                "v_20241112",
                "v_20241217",
                "v_20250121",
                "v_20250218",
                "v_20250320",
                "v_20250415",
                "v_20250513",
                "v_20250610",
                "v_20250717",
                "v_20250812",
                "v_20250916"
               ]
              ],
              "y": [
               [
                613,
                613,
                613,
                613,
                613,
                613,
                613,
                613,
                613,
                613,
                613,
                613,
                613,
                613,
                613,
                613,
                613,
                613,
                613,
                613,
                613,
                613,
                613,
                613
               ]
              ]
             },
             {
              "title": {
               "text": "Vacancy Estimates Across Vintages",
               "x": 0.5,
               "xanchor": "center"
              }
             }
            ],
            "label": "2002-04",
            "method": "update"
           },
           {
            "args": [
             {
              "type": "line",
              "x": [
               [
                "v_20230912",
                "v_20231114",
                "v_20231212",
                "v_20240116",
                "v_20240213",
                "v_20240312",
                "v_20240416",
                "v_20240514",
                "v_20240611",
                "v_20240718",
                "v_20240813",
                "v_20240910",
                "v_20241015",
                "v_20241112",
                "v_20241217",
                "v_20250121",
                "v_20250218",
                "v_20250320",
                "v_20250415",
                "v_20250513",
                "v_20250610",
                "v_20250717",
                "v_20250812",
                "v_20250916"
               ]
              ],
              "y": [
               [
                616,
                616,
                616,
                616,
                616,
                616,
                616,
                616,
                616,
                616,
                616,
                616,
                616,
                616,
                616,
                616,
                616,
                616,
                616,
                616,
                616,
                616,
                616,
                616
               ]
              ]
             },
             {
              "title": {
               "text": "Vacancy Estimates Across Vintages",
               "x": 0.5,
               "xanchor": "center"
              }
             }
            ],
            "label": "2002-05",
            "method": "update"
           },
           {
            "args": [
             {
              "type": "line",
              "x": [
               [
                "v_20230912",
                "v_20231114",
                "v_20231212",
                "v_20240116",
                "v_20240213",
                "v_20240312",
                "v_20240416",
                "v_20240514",
                "v_20240611",
                "v_20240718",
                "v_20240813",
                "v_20240910",
                "v_20241015",
                "v_20241112",
                "v_20241217",
                "v_20250121",
                "v_20250218",
                "v_20250320",
                "v_20250415",
                "v_20250513",
                "v_20250610",
                "v_20250717",
                "v_20250812",
                "v_20250916"
               ]
              ],
              "y": [
               [
                612,
                612,
                612,
                612,
                612,
                612,
                612,
                612,
                612,
                612,
                612,
                612,
                612,
                612,
                612,
                612,
                612,
                612,
                611,
                611,
                611,
                611,
                611,
                611
               ]
              ]
             },
             {
              "title": {
               "text": "Vacancy Estimates Across Vintages",
               "x": 0.5,
               "xanchor": "center"
              }
             }
            ],
            "label": "2002-06",
            "method": "update"
           },
           {
            "args": [
             {
              "type": "line",
              "x": [
               [
                "v_20230912",
                "v_20231114",
                "v_20231212",
                "v_20240116",
                "v_20240213",
                "v_20240312",
                "v_20240416",
                "v_20240514",
                "v_20240611",
                "v_20240718",
                "v_20240813",
                "v_20240910",
                "v_20241015",
                "v_20241112",
                "v_20241217",
                "v_20250121",
                "v_20250218",
                "v_20250320",
                "v_20250415",
                "v_20250513",
                "v_20250610",
                "v_20250717",
                "v_20250812",
                "v_20250916"
               ]
              ],
              "y": [
               [
                613,
                613,
                613,
                613,
                613,
                613,
                613,
                613,
                613,
                613,
                613,
                613,
                613,
                613,
                613,
                613,
                613,
                613,
                613,
                613,
                613,
                613,
                613,
                613
               ]
              ]
             },
             {
              "title": {
               "text": "Vacancy Estimates Across Vintages",
               "x": 0.5,
               "xanchor": "center"
              }
             }
            ],
            "label": "2002-07",
            "method": "update"
           },
           {
            "args": [
             {
              "type": "line",
              "x": [
               [
                "v_20230912",
                "v_20231114",
                "v_20231212",
                "v_20240116",
                "v_20240213",
                "v_20240312",
                "v_20240416",
                "v_20240514",
                "v_20240611",
                "v_20240718",
                "v_20240813",
                "v_20240910",
                "v_20241015",
                "v_20241112",
                "v_20241217",
                "v_20250121",
                "v_20250218",
                "v_20250320",
                "v_20250415",
                "v_20250513",
                "v_20250610",
                "v_20250717",
                "v_20250812",
                "v_20250916"
               ]
              ],
              "y": [
               [
                609,
                609,
                609,
                609,
                609,
                609,
                609,
                609,
                609,
                609,
                609,
                609,
                609,
                609,
                609,
                609,
                609,
                609,
                609,
                609,
                609,
                609,
                609,
                609
               ]
              ]
             },
             {
              "title": {
               "text": "Vacancy Estimates Across Vintages",
               "x": 0.5,
               "xanchor": "center"
              }
             }
            ],
            "label": "2002-08",
            "method": "update"
           },
           {
            "args": [
             {
              "type": "line",
              "x": [
               [
                "v_20230912",
                "v_20231114",
                "v_20231212",
                "v_20240116",
                "v_20240213",
                "v_20240312",
                "v_20240416",
                "v_20240514",
                "v_20240611",
                "v_20240718",
                "v_20240813",
                "v_20240910",
                "v_20241015",
                "v_20241112",
                "v_20241217",
                "v_20250121",
                "v_20250218",
                "v_20250320",
                "v_20250415",
                "v_20250513",
                "v_20250610",
                "v_20250717",
                "v_20250812",
                "v_20250916"
               ]
              ],
              "y": [
               [
                609,
                609,
                609,
                609,
                609,
                609,
                609,
                609,
                609,
                609,
                609,
                609,
                609,
                609,
                609,
                609,
                609,
                609,
                609,
                609,
                609,
                609,
                609,
                609
               ]
              ]
             },
             {
              "title": {
               "text": "Vacancy Estimates Across Vintages",
               "x": 0.5,
               "xanchor": "center"
              }
             }
            ],
            "label": "2002-09",
            "method": "update"
           },
           {
            "args": [
             {
              "type": "line",
              "x": [
               [
                "v_20230912",
                "v_20231114",
                "v_20231212",
                "v_20240116",
                "v_20240213",
                "v_20240312",
                "v_20240416",
                "v_20240514",
                "v_20240611",
                "v_20240718",
                "v_20240813",
                "v_20240910",
                "v_20241015",
                "v_20241112",
                "v_20241217",
                "v_20250121",
                "v_20250218",
                "v_20250320",
                "v_20250415",
                "v_20250513",
                "v_20250610",
                "v_20250717",
                "v_20250812",
                "v_20250916"
               ]
              ],
              "y": [
               [
                608,
                608,
                608,
                608,
                608,
                608,
                608,
                608,
                608,
                608,
                608,
                608,
                608,
                608,
                608,
                608,
                608,
                608,
                608,
                608,
                608,
                608,
                608,
                608
               ]
              ]
             },
             {
              "title": {
               "text": "Vacancy Estimates Across Vintages",
               "x": 0.5,
               "xanchor": "center"
              }
             }
            ],
            "label": "2002-10",
            "method": "update"
           },
           {
            "args": [
             {
              "type": "line",
              "x": [
               [
                "v_20230912",
                "v_20231114",
                "v_20231212",
                "v_20240116",
                "v_20240213",
                "v_20240312",
                "v_20240416",
                "v_20240514",
                "v_20240611",
                "v_20240718",
                "v_20240813",
                "v_20240910",
                "v_20241015",
                "v_20241112",
                "v_20241217",
                "v_20250121",
                "v_20250218",
                "v_20250320",
                "v_20250415",
                "v_20250513",
                "v_20250610",
                "v_20250717",
                "v_20250812",
                "v_20250916"
               ]
              ],
              "y": [
               [
                603,
                603,
                603,
                603,
                603,
                603,
                603,
                603,
                603,
                603,
                603,
                603,
                603,
                603,
                603,
                603,
                603,
                603,
                603,
                603,
                603,
                603,
                603,
                603
               ]
              ]
             },
             {
              "title": {
               "text": "Vacancy Estimates Across Vintages",
               "x": 0.5,
               "xanchor": "center"
              }
             }
            ],
            "label": "2002-11",
            "method": "update"
           },
           {
            "args": [
             {
              "type": "line",
              "x": [
               [
                "v_20230912",
                "v_20231114",
                "v_20231212",
                "v_20240116",
                "v_20240213",
                "v_20240312",
                "v_20240416",
                "v_20240514",
                "v_20240611",
                "v_20240718",
                "v_20240813",
                "v_20240910",
                "v_20241015",
                "v_20241112",
                "v_20241217",
                "v_20250121",
                "v_20250218",
                "v_20250320",
                "v_20250415",
                "v_20250513",
                "v_20250610",
                "v_20250717",
                "v_20250812",
                "v_20250916"
               ]
              ],
              "y": [
               [
                602,
                602,
                602,
                602,
                602,
                602,
                602,
                602,
                602,
                602,
                602,
                602,
                602,
                602,
                602,
                602,
                602,
                602,
                602,
                602,
                602,
                602,
                602,
                602
               ]
              ]
             },
             {
              "title": {
               "text": "Vacancy Estimates Across Vintages",
               "x": 0.5,
               "xanchor": "center"
              }
             }
            ],
            "label": "2002-12",
            "method": "update"
           },
           {
            "args": [
             {
              "type": "line",
              "x": [
               [
                "v_20230912",
                "v_20231114",
                "v_20231212",
                "v_20240116",
                "v_20240213",
                "v_20240312",
                "v_20240416",
                "v_20240514",
                "v_20240611",
                "v_20240718",
                "v_20240813",
                "v_20240910",
                "v_20241015",
                "v_20241112",
                "v_20241217",
                "v_20250121",
                "v_20250218",
                "v_20250320",
                "v_20250415",
                "v_20250513",
                "v_20250610",
                "v_20250717",
                "v_20250812",
                "v_20250916"
               ]
              ],
              "y": [
               [
                596,
                596,
                596,
                596,
                596,
                596,
                596,
                596,
                596,
                596,
                596,
                596,
                596,
                596,
                596,
                596,
                596,
                596,
                596,
                596,
                596,
                596,
                596,
                596
               ]
              ]
             },
             {
              "title": {
               "text": "Vacancy Estimates Across Vintages",
               "x": 0.5,
               "xanchor": "center"
              }
             }
            ],
            "label": "2003-01",
            "method": "update"
           },
           {
            "args": [
             {
              "type": "line",
              "x": [
               [
                "v_20230912",
                "v_20231114",
                "v_20231212",
                "v_20240116",
                "v_20240213",
                "v_20240312",
                "v_20240416",
                "v_20240514",
                "v_20240611",
                "v_20240718",
                "v_20240813",
                "v_20240910",
                "v_20241015",
                "v_20241112",
                "v_20241217",
                "v_20250121",
                "v_20250218",
                "v_20250320",
                "v_20250415",
                "v_20250513",
                "v_20250610",
                "v_20250717",
                "v_20250812",
                "v_20250916"
               ]
              ],
              "y": [
               [
                594,
                594,
                594,
                594,
                594,
                594,
                594,
                594,
                594,
                594,
                594,
                594,
                594,
                594,
                594,
                594,
                594,
                594,
                593,
                593,
                593,
                593,
                593,
                593
               ]
              ]
             },
             {
              "title": {
               "text": "Vacancy Estimates Across Vintages",
               "x": 0.5,
               "xanchor": "center"
              }
             }
            ],
            "label": "2003-02",
            "method": "update"
           },
           {
            "args": [
             {
              "type": "line",
              "x": [
               [
                "v_20230912",
                "v_20231114",
                "v_20231212",
                "v_20240116",
                "v_20240213",
                "v_20240312",
                "v_20240416",
                "v_20240514",
                "v_20240611",
                "v_20240718",
                "v_20240813",
                "v_20240910",
                "v_20241015",
                "v_20241112",
                "v_20241217",
                "v_20250121",
                "v_20250218",
                "v_20250320",
                "v_20250415",
                "v_20250513",
                "v_20250610",
                "v_20250717",
                "v_20250812",
                "v_20250916"
               ]
              ],
              "y": [
               [
                585,
                585,
                585,
                585,
                585,
                585,
                585,
                585,
                585,
                585,
                585,
                585,
                585,
                585,
                585,
                585,
                585,
                585,
                585,
                585,
                585,
                585,
                585,
                585
               ]
              ]
             },
             {
              "title": {
               "text": "Vacancy Estimates Across Vintages",
               "x": 0.5,
               "xanchor": "center"
              }
             }
            ],
            "label": "2003-03",
            "method": "update"
           },
           {
            "args": [
             {
              "type": "line",
              "x": [
               [
                "v_20230912",
                "v_20231114",
                "v_20231212",
                "v_20240116",
                "v_20240213",
                "v_20240312",
                "v_20240416",
                "v_20240514",
                "v_20240611",
                "v_20240718",
                "v_20240813",
                "v_20240910",
                "v_20241015",
                "v_20241112",
                "v_20241217",
                "v_20250121",
                "v_20250218",
                "v_20250320",
                "v_20250415",
                "v_20250513",
                "v_20250610",
                "v_20250717",
                "v_20250812",
                "v_20250916"
               ]
              ],
              "y": [
               [
                588,
                588,
                588,
                588,
                588,
                588,
                588,
                588,
                588,
                588,
                588,
                588,
                588,
                588,
                588,
                588,
                588,
                588,
                589,
                589,
                589,
                589,
                589,
                589
               ]
              ]
             },
             {
              "title": {
               "text": "Vacancy Estimates Across Vintages",
               "x": 0.5,
               "xanchor": "center"
              }
             }
            ],
            "label": "2003-04",
            "method": "update"
           },
           {
            "args": [
             {
              "type": "line",
              "x": [
               [
                "v_20230912",
                "v_20231114",
                "v_20231212",
                "v_20240116",
                "v_20240213",
                "v_20240312",
                "v_20240416",
                "v_20240514",
                "v_20240611",
                "v_20240718",
                "v_20240813",
                "v_20240910",
                "v_20241015",
                "v_20241112",
                "v_20241217",
                "v_20250121",
                "v_20250218",
                "v_20250320",
                "v_20250415",
                "v_20250513",
                "v_20250610",
                "v_20250717",
                "v_20250812",
                "v_20250916"
               ]
              ],
              "y": [
               [
                579,
                579,
                579,
                579,
                579,
                579,
                579,
                579,
                579,
                579,
                579,
                579,
                579,
                579,
                579,
                579,
                579,
                579,
                579,
                579,
                579,
                579,
                579,
                579
               ]
              ]
             },
             {
              "title": {
               "text": "Vacancy Estimates Across Vintages",
               "x": 0.5,
               "xanchor": "center"
              }
             }
            ],
            "label": "2003-05",
            "method": "update"
           },
           {
            "args": [
             {
              "type": "line",
              "x": [
               [
                "v_20230912",
                "v_20231114",
                "v_20231212",
                "v_20240116",
                "v_20240213",
                "v_20240312",
                "v_20240416",
                "v_20240514",
                "v_20240611",
                "v_20240718",
                "v_20240813",
                "v_20240910",
                "v_20241015",
                "v_20241112",
                "v_20241217",
                "v_20250121",
                "v_20250218",
                "v_20250320",
                "v_20250415",
                "v_20250513",
                "v_20250610",
                "v_20250717",
                "v_20250812",
                "v_20250916"
               ]
              ],
              "y": [
               [
                574,
                574,
                574,
                574,
                574,
                574,
                574,
                574,
                574,
                574,
                574,
                574,
                574,
                574,
                574,
                574,
                574,
                574,
                574,
                574,
                574,
                574,
                574,
                574
               ]
              ]
             },
             {
              "title": {
               "text": "Vacancy Estimates Across Vintages",
               "x": 0.5,
               "xanchor": "center"
              }
             }
            ],
            "label": "2003-06",
            "method": "update"
           },
           {
            "args": [
             {
              "type": "line",
              "x": [
               [
                "v_20230912",
                "v_20231114",
                "v_20231212",
                "v_20240116",
                "v_20240213",
                "v_20240312",
                "v_20240416",
                "v_20240514",
                "v_20240611",
                "v_20240718",
                "v_20240813",
                "v_20240910",
                "v_20241015",
                "v_20241112",
                "v_20241217",
                "v_20250121",
                "v_20250218",
                "v_20250320",
                "v_20250415",
                "v_20250513",
                "v_20250610",
                "v_20250717",
                "v_20250812",
                "v_20250916"
               ]
              ],
              "y": [
               [
                576,
                576,
                576,
                576,
                576,
                576,
                576,
                576,
                576,
                576,
                576,
                576,
                576,
                576,
                576,
                576,
                576,
                576,
                576,
                576,
                576,
                576,
                576,
                576
               ]
              ]
             },
             {
              "title": {
               "text": "Vacancy Estimates Across Vintages",
               "x": 0.5,
               "xanchor": "center"
              }
             }
            ],
            "label": "2003-07",
            "method": "update"
           },
           {
            "args": [
             {
              "type": "line",
              "x": [
               [
                "v_20230912",
                "v_20231114",
                "v_20231212",
                "v_20240116",
                "v_20240213",
                "v_20240312",
                "v_20240416",
                "v_20240514",
                "v_20240611",
                "v_20240718",
                "v_20240813",
                "v_20240910",
                "v_20241015",
                "v_20241112",
                "v_20241217",
                "v_20250121",
                "v_20250218",
                "v_20250320",
                "v_20250415",
                "v_20250513",
                "v_20250610",
                "v_20250717",
                "v_20250812",
                "v_20250916"
               ]
              ],
              "y": [
               [
                592,
                592,
                592,
                592,
                592,
                592,
                592,
                592,
                592,
                592,
                592,
                592,
                592,
                592,
                592,
                592,
                592,
                592,
                592,
                592,
                592,
                592,
                592,
                592
               ]
              ]
             },
             {
              "title": {
               "text": "Vacancy Estimates Across Vintages",
               "x": 0.5,
               "xanchor": "center"
              }
             }
            ],
            "label": "2003-08",
            "method": "update"
           },
           {
            "args": [
             {
              "type": "line",
              "x": [
               [
                "v_20230912",
                "v_20231114",
                "v_20231212",
                "v_20240116",
                "v_20240213",
                "v_20240312",
                "v_20240416",
                "v_20240514",
                "v_20240611",
                "v_20240718",
                "v_20240813",
                "v_20240910",
                "v_20241015",
                "v_20241112",
                "v_20241217",
                "v_20250121",
                "v_20250218",
                "v_20250320",
                "v_20250415",
                "v_20250513",
                "v_20250610",
                "v_20250717",
                "v_20250812",
                "v_20250916"
               ]
              ],
              "y": [
               [
                604,
                604,
                604,
                604,
                604,
                604,
                604,
                604,
                604,
                604,
                604,
                604,
                604,
                604,
                604,
                604,
                604,
                604,
                604,
                604,
                604,
                604,
                604,
                604
               ]
              ]
             },
             {
              "title": {
               "text": "Vacancy Estimates Across Vintages",
               "x": 0.5,
               "xanchor": "center"
              }
             }
            ],
            "label": "2003-09",
            "method": "update"
           },
           {
            "args": [
             {
              "type": "line",
              "x": [
               [
                "v_20230912",
                "v_20231114",
                "v_20231212",
                "v_20240116",
                "v_20240213",
                "v_20240312",
                "v_20240416",
                "v_20240514",
                "v_20240611",
                "v_20240718",
                "v_20240813",
                "v_20240910",
                "v_20241015",
                "v_20241112",
                "v_20241217",
                "v_20250121",
                "v_20250218",
                "v_20250320",
                "v_20250415",
                "v_20250513",
                "v_20250610",
                "v_20250717",
                "v_20250812",
                "v_20250916"
               ]
              ],
              "y": [
               [
                610,
                610,
                610,
                610,
                610,
                610,
                610,
                610,
                610,
                610,
                610,
                610,
                610,
                610,
                610,
                610,
                610,
                610,
                610,
                610,
                610,
                610,
                610,
                610
               ]
              ]
             },
             {
              "title": {
               "text": "Vacancy Estimates Across Vintages",
               "x": 0.5,
               "xanchor": "center"
              }
             }
            ],
            "label": "2003-10",
            "method": "update"
           },
           {
            "args": [
             {
              "type": "line",
              "x": [
               [
                "v_20230912",
                "v_20231114",
                "v_20231212",
                "v_20240116",
                "v_20240213",
                "v_20240312",
                "v_20240416",
                "v_20240514",
                "v_20240611",
                "v_20240718",
                "v_20240813",
                "v_20240910",
                "v_20241015",
                "v_20241112",
                "v_20241217",
                "v_20250121",
                "v_20250218",
                "v_20250320",
                "v_20250415",
                "v_20250513",
                "v_20250610",
                "v_20250717",
                "v_20250812",
                "v_20250916"
               ]
              ],
              "y": [
               [
                615,
                615,
                615,
                615,
                615,
                615,
                615,
                615,
                615,
                615,
                615,
                615,
                615,
                615,
                615,
                615,
                615,
                615,
                614,
                614,
                614,
                614,
                614,
                614
               ]
              ]
             },
             {
              "title": {
               "text": "Vacancy Estimates Across Vintages",
               "x": 0.5,
               "xanchor": "center"
              }
             }
            ],
            "label": "2003-11",
            "method": "update"
           },
           {
            "args": [
             {
              "type": "line",
              "x": [
               [
                "v_20230912",
                "v_20231114",
                "v_20231212",
                "v_20240116",
                "v_20240213",
                "v_20240312",
                "v_20240416",
                "v_20240514",
                "v_20240611",
                "v_20240718",
                "v_20240813",
                "v_20240910",
                "v_20241015",
                "v_20241112",
                "v_20241217",
                "v_20250121",
                "v_20250218",
                "v_20250320",
                "v_20250415",
                "v_20250513",
                "v_20250610",
                "v_20250717",
                "v_20250812",
                "v_20250916"
               ]
              ],
              "y": [
               [
                613,
                613,
                613,
                613,
                613,
                613,
                613,
                613,
                613,
                613,
                613,
                613,
                613,
                613,
                613,
                613,
                613,
                613,
                613,
                613,
                613,
                613,
                613,
                613
               ]
              ]
             },
             {
              "title": {
               "text": "Vacancy Estimates Across Vintages",
               "x": 0.5,
               "xanchor": "center"
              }
             }
            ],
            "label": "2003-12",
            "method": "update"
           },
           {
            "args": [
             {
              "type": "line",
              "x": [
               [
                "v_20230912",
                "v_20231114",
                "v_20231212",
                "v_20240116",
                "v_20240213",
                "v_20240312",
                "v_20240416",
                "v_20240514",
                "v_20240611",
                "v_20240718",
                "v_20240813",
                "v_20240910",
                "v_20241015",
                "v_20241112",
                "v_20241217",
                "v_20250121",
                "v_20250218",
                "v_20250320",
                "v_20250415",
                "v_20250513",
                "v_20250610",
                "v_20250717",
                "v_20250812",
                "v_20250916"
               ]
              ],
              "y": [
               [
                617,
                617,
                617,
                617,
                617,
                617,
                617,
                617,
                617,
                617,
                617,
                617,
                617,
                617,
                617,
                617,
                617,
                617,
                617,
                617,
                617,
                617,
                617,
                617
               ]
              ]
             },
             {
              "title": {
               "text": "Vacancy Estimates Across Vintages",
               "x": 0.5,
               "xanchor": "center"
              }
             }
            ],
            "label": "2004-01",
            "method": "update"
           },
           {
            "args": [
             {
              "type": "line",
              "x": [
               [
                "v_20230912",
                "v_20231114",
                "v_20231212",
                "v_20240116",
                "v_20240213",
                "v_20240312",
                "v_20240416",
                "v_20240514",
                "v_20240611",
                "v_20240718",
                "v_20240813",
                "v_20240910",
                "v_20241015",
                "v_20241112",
                "v_20241217",
                "v_20250121",
                "v_20250218",
                "v_20250320",
                "v_20250415",
                "v_20250513",
                "v_20250610",
                "v_20250717",
                "v_20250812",
                "v_20250916"
               ]
              ],
              "y": [
               [
                624,
                624,
                624,
                624,
                624,
                624,
                624,
                624,
                624,
                624,
                624,
                624,
                624,
                624,
                624,
                624,
                624,
                624,
                624,
                624,
                624,
                624,
                624,
                624
               ]
              ]
             },
             {
              "title": {
               "text": "Vacancy Estimates Across Vintages",
               "x": 0.5,
               "xanchor": "center"
              }
             }
            ],
            "label": "2004-02",
            "method": "update"
           },
           {
            "args": [
             {
              "type": "line",
              "x": [
               [
                "v_20230912",
                "v_20231114",
                "v_20231212",
                "v_20240116",
                "v_20240213",
                "v_20240312",
                "v_20240416",
                "v_20240514",
                "v_20240611",
                "v_20240718",
                "v_20240813",
                "v_20240910",
                "v_20241015",
                "v_20241112",
                "v_20241217",
                "v_20250121",
                "v_20250218",
                "v_20250320",
                "v_20250415",
                "v_20250513",
                "v_20250610",
                "v_20250717",
                "v_20250812",
                "v_20250916"
               ]
              ],
              "y": [
               [
                631,
                631,
                631,
                631,
                631,
                631,
                631,
                631,
                631,
                631,
                631,
                631,
                631,
                631,
                631,
                631,
                631,
                631,
                630,
                630,
                630,
                630,
                630,
                630
               ]
              ]
             },
             {
              "title": {
               "text": "Vacancy Estimates Across Vintages",
               "x": 0.5,
               "xanchor": "center"
              }
             }
            ],
            "label": "2004-03",
            "method": "update"
           },
           {
            "args": [
             {
              "type": "line",
              "x": [
               [
                "v_20230912",
                "v_20231114",
                "v_20231212",
                "v_20240116",
                "v_20240213",
                "v_20240312",
                "v_20240416",
                "v_20240514",
                "v_20240611",
                "v_20240718",
                "v_20240813",
                "v_20240910",
                "v_20241015",
                "v_20241112",
                "v_20241217",
                "v_20250121",
                "v_20250218",
                "v_20250320",
                "v_20250415",
                "v_20250513",
                "v_20250610",
                "v_20250717",
                "v_20250812",
                "v_20250916"
               ]
              ],
              "y": [
               [
                636,
                636,
                636,
                636,
                636,
                636,
                636,
                636,
                636,
                636,
                636,
                636,
                636,
                636,
                636,
                636,
                636,
                636,
                637,
                637,
                637,
                637,
                637,
                637
               ]
              ]
             },
             {
              "title": {
               "text": "Vacancy Estimates Across Vintages",
               "x": 0.5,
               "xanchor": "center"
              }
             }
            ],
            "label": "2004-04",
            "method": "update"
           },
           {
            "args": [
             {
              "type": "line",
              "x": [
               [
                "v_20230912",
                "v_20231114",
                "v_20231212",
                "v_20240116",
                "v_20240213",
                "v_20240312",
                "v_20240416",
                "v_20240514",
                "v_20240611",
                "v_20240718",
                "v_20240813",
                "v_20240910",
                "v_20241015",
                "v_20241112",
                "v_20241217",
                "v_20250121",
                "v_20250218",
                "v_20250320",
                "v_20250415",
                "v_20250513",
                "v_20250610",
                "v_20250717",
                "v_20250812",
                "v_20250916"
               ]
              ],
              "y": [
               [
                641,
                641,
                641,
                641,
                641,
                641,
                641,
                641,
                641,
                641,
                641,
                641,
                641,
                641,
                641,
                641,
                641,
                641,
                641,
                641,
                641,
                641,
                641,
                641
               ]
              ]
             },
             {
              "title": {
               "text": "Vacancy Estimates Across Vintages",
               "x": 0.5,
               "xanchor": "center"
              }
             }
            ],
            "label": "2004-05",
            "method": "update"
           },
           {
            "args": [
             {
              "type": "line",
              "x": [
               [
                "v_20230912",
                "v_20231114",
                "v_20231212",
                "v_20240116",
                "v_20240213",
                "v_20240312",
                "v_20240416",
                "v_20240514",
                "v_20240611",
                "v_20240718",
                "v_20240813",
                "v_20240910",
                "v_20241015",
                "v_20241112",
                "v_20241217",
                "v_20250121",
                "v_20250218",
                "v_20250320",
                "v_20250415",
                "v_20250513",
                "v_20250610",
                "v_20250717",
                "v_20250812",
                "v_20250916"
               ]
              ],
              "y": [
               [
                652,
                652,
                652,
                652,
                652,
                652,
                652,
                652,
                652,
                652,
                652,
                652,
                652,
                652,
                652,
                652,
                652,
                652,
                652,
                652,
                652,
                652,
                652,
                652
               ]
              ]
             },
             {
              "title": {
               "text": "Vacancy Estimates Across Vintages",
               "x": 0.5,
               "xanchor": "center"
              }
             }
            ],
            "label": "2004-06",
            "method": "update"
           },
           {
            "args": [
             {
              "type": "line",
              "x": [
               [
                "v_20230912",
                "v_20231114",
                "v_20231212",
                "v_20240116",
                "v_20240213",
                "v_20240312",
                "v_20240416",
                "v_20240514",
                "v_20240611",
                "v_20240718",
                "v_20240813",
                "v_20240910",
                "v_20241015",
                "v_20241112",
                "v_20241217",
                "v_20250121",
                "v_20250218",
                "v_20250320",
                "v_20250415",
                "v_20250513",
                "v_20250610",
                "v_20250717",
                "v_20250812",
                "v_20250916"
               ]
              ],
              "y": [
               [
                654,
                654,
                654,
                654,
                654,
                654,
                654,
                654,
                654,
                654,
                654,
                654,
                654,
                654,
                654,
                654,
                654,
                654,
                654,
                654,
                654,
                654,
                654,
                654
               ]
              ]
             },
             {
              "title": {
               "text": "Vacancy Estimates Across Vintages",
               "x": 0.5,
               "xanchor": "center"
              }
             }
            ],
            "label": "2004-07",
            "method": "update"
           },
           {
            "args": [
             {
              "type": "line",
              "x": [
               [
                "v_20230912",
                "v_20231114",
                "v_20231212",
                "v_20240116",
                "v_20240213",
                "v_20240312",
                "v_20240416",
                "v_20240514",
                "v_20240611",
                "v_20240718",
                "v_20240813",
                "v_20240910",
                "v_20241015",
                "v_20241112",
                "v_20241217",
                "v_20250121",
                "v_20250218",
                "v_20250320",
                "v_20250415",
                "v_20250513",
                "v_20250610",
                "v_20250717",
                "v_20250812",
                "v_20250916"
               ]
              ],
              "y": [
               [
                654,
                654,
                654,
                654,
                654,
                654,
                654,
                654,
                654,
                654,
                654,
                654,
                654,
                654,
                654,
                654,
                654,
                654,
                654,
                654,
                654,
                654,
                654,
                654
               ]
              ]
             },
             {
              "title": {
               "text": "Vacancy Estimates Across Vintages",
               "x": 0.5,
               "xanchor": "center"
              }
             }
            ],
            "label": "2004-08",
            "method": "update"
           },
           {
            "args": [
             {
              "type": "line",
              "x": [
               [
                "v_20230912",
                "v_20231114",
                "v_20231212",
                "v_20240116",
                "v_20240213",
                "v_20240312",
                "v_20240416",
                "v_20240514",
                "v_20240611",
                "v_20240718",
                "v_20240813",
                "v_20240910",
                "v_20241015",
                "v_20241112",
                "v_20241217",
                "v_20250121",
                "v_20250218",
                "v_20250320",
                "v_20250415",
                "v_20250513",
                "v_20250610",
                "v_20250717",
                "v_20250812",
                "v_20250916"
               ]
              ],
              "y": [
               [
                654,
                654,
                654,
                654,
                654,
                654,
                654,
                654,
                654,
                654,
                654,
                654,
                654,
                654,
                654,
                654,
                654,
                654,
                655,
                655,
                655,
                655,
                655,
                655
               ]
              ]
             },
             {
              "title": {
               "text": "Vacancy Estimates Across Vintages",
               "x": 0.5,
               "xanchor": "center"
              }
             }
            ],
            "label": "2004-09",
            "method": "update"
           },
           {
            "args": [
             {
              "type": "line",
              "x": [
               [
                "v_20230912",
                "v_20231114",
                "v_20231212",
                "v_20240116",
                "v_20240213",
                "v_20240312",
                "v_20240416",
                "v_20240514",
                "v_20240611",
                "v_20240718",
                "v_20240813",
                "v_20240910",
                "v_20241015",
                "v_20241112",
                "v_20241217",
                "v_20250121",
                "v_20250218",
                "v_20250320",
                "v_20250415",
                "v_20250513",
                "v_20250610",
                "v_20250717",
                "v_20250812",
                "v_20250916"
               ]
              ],
              "y": [
               [
                658,
                658,
                658,
                658,
                658,
                658,
                658,
                658,
                658,
                658,
                658,
                658,
                658,
                658,
                658,
                658,
                658,
                658,
                658,
                658,
                658,
                658,
                658,
                658
               ]
              ]
             },
             {
              "title": {
               "text": "Vacancy Estimates Across Vintages",
               "x": 0.5,
               "xanchor": "center"
              }
             }
            ],
            "label": "2004-10",
            "method": "update"
           },
           {
            "args": [
             {
              "type": "line",
              "x": [
               [
                "v_20230912",
                "v_20231114",
                "v_20231212",
                "v_20240116",
                "v_20240213",
                "v_20240312",
                "v_20240416",
                "v_20240514",
                "v_20240611",
                "v_20240718",
                "v_20240813",
                "v_20240910",
                "v_20241015",
                "v_20241112",
                "v_20241217",
                "v_20250121",
                "v_20250218",
                "v_20250320",
                "v_20250415",
                "v_20250513",
                "v_20250610",
                "v_20250717",
                "v_20250812",
                "v_20250916"
               ]
              ],
              "y": [
               [
                662,
                662,
                662,
                662,
                662,
                662,
                662,
                662,
                662,
                662,
                662,
                662,
                662,
                662,
                662,
                662,
                662,
                662,
                662,
                662,
                662,
                662,
                662,
                662
               ]
              ]
             },
             {
              "title": {
               "text": "Vacancy Estimates Across Vintages",
               "x": 0.5,
               "xanchor": "center"
              }
             }
            ],
            "label": "2004-11",
            "method": "update"
           },
           {
            "args": [
             {
              "type": "line",
              "x": [
               [
                "v_20230912",
                "v_20231114",
                "v_20231212",
                "v_20240116",
                "v_20240213",
                "v_20240312",
                "v_20240416",
                "v_20240514",
                "v_20240611",
                "v_20240718",
                "v_20240813",
                "v_20240910",
                "v_20241015",
                "v_20241112",
                "v_20241217",
                "v_20250121",
                "v_20250218",
                "v_20250320",
                "v_20250415",
                "v_20250513",
                "v_20250610",
                "v_20250717",
                "v_20250812",
                "v_20250916"
               ]
              ],
              "y": [
               [
                661,
                661,
                661,
                661,
                661,
                661,
                661,
                661,
                661,
                661,
                661,
                661,
                661,
                661,
                661,
                661,
                661,
                661,
                661,
                661,
                661,
                661,
                661,
                661
               ]
              ]
             },
             {
              "title": {
               "text": "Vacancy Estimates Across Vintages",
               "x": 0.5,
               "xanchor": "center"
              }
             }
            ],
            "label": "2004-12",
            "method": "update"
           },
           {
            "args": [
             {
              "type": "line",
              "x": [
               [
                "v_20230912",
                "v_20231114",
                "v_20231212",
                "v_20240116",
                "v_20240213",
                "v_20240312",
                "v_20240416",
                "v_20240514",
                "v_20240611",
                "v_20240718",
                "v_20240813",
                "v_20240910",
                "v_20241015",
                "v_20241112",
                "v_20241217",
                "v_20250121",
                "v_20250218",
                "v_20250320",
                "v_20250415",
                "v_20250513",
                "v_20250610",
                "v_20250717",
                "v_20250812",
                "v_20250916"
               ]
              ],
              "y": [
               [
                655,
                655,
                655,
                655,
                655,
                655,
                655,
                655,
                655,
                655,
                655,
                655,
                655,
                655,
                655,
                655,
                655,
                655,
                655,
                655,
                655,
                655,
                655,
                655
               ]
              ]
             },
             {
              "title": {
               "text": "Vacancy Estimates Across Vintages",
               "x": 0.5,
               "xanchor": "center"
              }
             }
            ],
            "label": "2005-01",
            "method": "update"
           },
           {
            "args": [
             {
              "type": "line",
              "x": [
               [
                "v_20230912",
                "v_20231114",
                "v_20231212",
                "v_20240116",
                "v_20240213",
                "v_20240312",
                "v_20240416",
                "v_20240514",
                "v_20240611",
                "v_20240718",
                "v_20240813",
                "v_20240910",
                "v_20241015",
                "v_20241112",
                "v_20241217",
                "v_20250121",
                "v_20250218",
                "v_20250320",
                "v_20250415",
                "v_20250513",
                "v_20250610",
                "v_20250717",
                "v_20250812",
                "v_20250916"
               ]
              ],
              "y": [
               [
                642,
                642,
                642,
                642,
                642,
                642,
                642,
                642,
                642,
                642,
                642,
                642,
                642,
                642,
                642,
                642,
                642,
                642,
                644,
                644,
                644,
                644,
                644,
                644
               ]
              ]
             },
             {
              "title": {
               "text": "Vacancy Estimates Across Vintages",
               "x": 0.5,
               "xanchor": "center"
              }
             }
            ],
            "label": "2005-02",
            "method": "update"
           },
           {
            "args": [
             {
              "type": "line",
              "x": [
               [
                "v_20230912",
                "v_20231114",
                "v_20231212",
                "v_20240116",
                "v_20240213",
                "v_20240312",
                "v_20240416",
                "v_20240514",
                "v_20240611",
                "v_20240718",
                "v_20240813",
                "v_20240910",
                "v_20241015",
                "v_20241112",
                "v_20241217",
                "v_20250121",
                "v_20250218",
                "v_20250320",
                "v_20250415",
                "v_20250513",
                "v_20250610",
                "v_20250717",
                "v_20250812",
                "v_20250916"
               ]
              ],
              "y": [
               [
                638,
                638,
                638,
                638,
                638,
                638,
                638,
                638,
                638,
                638,
                638,
                638,
                638,
                638,
                638,
                638,
                638,
                638,
                636,
                636,
                636,
                636,
                636,
                636
               ]
              ]
             },
             {
              "title": {
               "text": "Vacancy Estimates Across Vintages",
               "x": 0.5,
               "xanchor": "center"
              }
             }
            ],
            "label": "2005-03",
            "method": "update"
           },
           {
            "args": [
             {
              "type": "line",
              "x": [
               [
                "v_20230912",
                "v_20231114",
                "v_20231212",
                "v_20240116",
                "v_20240213",
                "v_20240312",
                "v_20240416",
                "v_20240514",
                "v_20240611",
                "v_20240718",
                "v_20240813",
                "v_20240910",
                "v_20241015",
                "v_20241112",
                "v_20241217",
                "v_20250121",
                "v_20250218",
                "v_20250320",
                "v_20250415",
                "v_20250513",
                "v_20250610",
                "v_20250717",
                "v_20250812",
                "v_20250916"
               ]
              ],
              "y": [
               [
                642,
                642,
                642,
                642,
                642,
                642,
                642,
                642,
                642,
                642,
                642,
                642,
                642,
                642,
                642,
                642,
                642,
                642,
                642,
                642,
                642,
                642,
                642,
                642
               ]
              ]
             },
             {
              "title": {
               "text": "Vacancy Estimates Across Vintages",
               "x": 0.5,
               "xanchor": "center"
              }
             }
            ],
            "label": "2005-04",
            "method": "update"
           },
           {
            "args": [
             {
              "type": "line",
              "x": [
               [
                "v_20230912",
                "v_20231114",
                "v_20231212",
                "v_20240116",
                "v_20240213",
                "v_20240312",
                "v_20240416",
                "v_20240514",
                "v_20240611",
                "v_20240718",
                "v_20240813",
                "v_20240910",
                "v_20241015",
                "v_20241112",
                "v_20241217",
                "v_20250121",
                "v_20250218",
                "v_20250320",
                "v_20250415",
                "v_20250513",
                "v_20250610",
                "v_20250717",
                "v_20250812",
                "v_20250916"
               ]
              ],
              "y": [
               [
                642,
                642,
                642,
                642,
                642,
                642,
                642,
                642,
                642,
                642,
                642,
                642,
                642,
                642,
                642,
                642,
                642,
                642,
                642,
                642,
                642,
                642,
                642,
                642
               ]
              ]
             },
             {
              "title": {
               "text": "Vacancy Estimates Across Vintages",
               "x": 0.5,
               "xanchor": "center"
              }
             }
            ],
            "label": "2005-05",
            "method": "update"
           },
           {
            "args": [
             {
              "type": "line",
              "x": [
               [
                "v_20230912",
                "v_20231114",
                "v_20231212",
                "v_20240116",
                "v_20240213",
                "v_20240312",
                "v_20240416",
                "v_20240514",
                "v_20240611",
                "v_20240718",
                "v_20240813",
                "v_20240910",
                "v_20241015",
                "v_20241112",
                "v_20241217",
                "v_20250121",
                "v_20250218",
                "v_20250320",
                "v_20250415",
                "v_20250513",
                "v_20250610",
                "v_20250717",
                "v_20250812",
                "v_20250916"
               ]
              ],
              "y": [
               [
                633,
                633,
                633,
                633,
                633,
                633,
                633,
                633,
                633,
                633,
                633,
                633,
                633,
                633,
                633,
                633,
                633,
                633,
                633,
                633,
                633,
                633,
                633,
                633
               ]
              ]
             },
             {
              "title": {
               "text": "Vacancy Estimates Across Vintages",
               "x": 0.5,
               "xanchor": "center"
              }
             }
            ],
            "label": "2005-06",
            "method": "update"
           },
           {
            "args": [
             {
              "type": "line",
              "x": [
               [
                "v_20230912",
                "v_20231114",
                "v_20231212",
                "v_20240116",
                "v_20240213",
                "v_20240312",
                "v_20240416",
                "v_20240514",
                "v_20240611",
                "v_20240718",
                "v_20240813",
                "v_20240910",
                "v_20241015",
                "v_20241112",
                "v_20241217",
                "v_20250121",
                "v_20250218",
                "v_20250320",
                "v_20250415",
                "v_20250513",
                "v_20250610",
                "v_20250717",
                "v_20250812",
                "v_20250916"
               ]
              ],
              "y": [
               [
                624,
                624,
                624,
                624,
                624,
                624,
                624,
                624,
                624,
                624,
                624,
                624,
                624,
                624,
                624,
                624,
                624,
                624,
                624,
                624,
                624,
                624,
                624,
                624
               ]
              ]
             },
             {
              "title": {
               "text": "Vacancy Estimates Across Vintages",
               "x": 0.5,
               "xanchor": "center"
              }
             }
            ],
            "label": "2005-07",
            "method": "update"
           },
           {
            "args": [
             {
              "type": "line",
              "x": [
               [
                "v_20230912",
                "v_20231114",
                "v_20231212",
                "v_20240116",
                "v_20240213",
                "v_20240312",
                "v_20240416",
                "v_20240514",
                "v_20240611",
                "v_20240718",
                "v_20240813",
                "v_20240910",
                "v_20241015",
                "v_20241112",
                "v_20241217",
                "v_20250121",
                "v_20250218",
                "v_20250320",
                "v_20250415",
                "v_20250513",
                "v_20250610",
                "v_20250717",
                "v_20250812",
                "v_20250916"
               ]
              ],
              "y": [
               [
                622,
                622,
                622,
                622,
                622,
                622,
                622,
                622,
                622,
                622,
                622,
                622,
                622,
                622,
                622,
                622,
                622,
                622,
                622,
                622,
                622,
                622,
                622,
                622
               ]
              ]
             },
             {
              "title": {
               "text": "Vacancy Estimates Across Vintages",
               "x": 0.5,
               "xanchor": "center"
              }
             }
            ],
            "label": "2005-08",
            "method": "update"
           },
           {
            "args": [
             {
              "type": "line",
              "x": [
               [
                "v_20230912",
                "v_20231114",
                "v_20231212",
                "v_20240116",
                "v_20240213",
                "v_20240312",
                "v_20240416",
                "v_20240514",
                "v_20240611",
                "v_20240718",
                "v_20240813",
                "v_20240910",
                "v_20241015",
                "v_20241112",
                "v_20241217",
                "v_20250121",
                "v_20250218",
                "v_20250320",
                "v_20250415",
                "v_20250513",
                "v_20250610",
                "v_20250717",
                "v_20250812",
                "v_20250916"
               ]
              ],
              "y": [
               [
                608,
                608,
                608,
                608,
                608,
                608,
                608,
                608,
                608,
                608,
                608,
                608,
                608,
                608,
                608,
                608,
                608,
                608,
                608,
                608,
                608,
                608,
                608,
                608
               ]
              ]
             },
             {
              "title": {
               "text": "Vacancy Estimates Across Vintages",
               "x": 0.5,
               "xanchor": "center"
              }
             }
            ],
            "label": "2005-09",
            "method": "update"
           },
           {
            "args": [
             {
              "type": "line",
              "x": [
               [
                "v_20230912",
                "v_20231114",
                "v_20231212",
                "v_20240116",
                "v_20240213",
                "v_20240312",
                "v_20240416",
                "v_20240514",
                "v_20240611",
                "v_20240718",
                "v_20240813",
                "v_20240910",
                "v_20241015",
                "v_20241112",
                "v_20241217",
                "v_20250121",
                "v_20250218",
                "v_20250320",
                "v_20250415",
                "v_20250513",
                "v_20250610",
                "v_20250717",
                "v_20250812",
                "v_20250916"
               ]
              ],
              "y": [
               [
                606,
                606,
                606,
                606,
                606,
                606,
                606,
                606,
                606,
                606,
                606,
                606,
                606,
                606,
                606,
                606,
                606,
                606,
                606,
                606,
                606,
                606,
                606,
                606
               ]
              ]
             },
             {
              "title": {
               "text": "Vacancy Estimates Across Vintages",
               "x": 0.5,
               "xanchor": "center"
              }
             }
            ],
            "label": "2005-10",
            "method": "update"
           },
           {
            "args": [
             {
              "type": "line",
              "x": [
               [
                "v_20230912",
                "v_20231114",
                "v_20231212",
                "v_20240116",
                "v_20240213",
                "v_20240312",
                "v_20240416",
                "v_20240514",
                "v_20240611",
                "v_20240718",
                "v_20240813",
                "v_20240910",
                "v_20241015",
                "v_20241112",
                "v_20241217",
                "v_20250121",
                "v_20250218",
                "v_20250320",
                "v_20250415",
                "v_20250513",
                "v_20250610",
                "v_20250717",
                "v_20250812",
                "v_20250916"
               ]
              ],
              "y": [
               [
                609,
                609,
                609,
                609,
                609,
                609,
                609,
                609,
                609,
                609,
                609,
                609,
                609,
                609,
                609,
                609,
                609,
                609,
                609,
                609,
                609,
                609,
                609,
                609
               ]
              ]
             },
             {
              "title": {
               "text": "Vacancy Estimates Across Vintages",
               "x": 0.5,
               "xanchor": "center"
              }
             }
            ],
            "label": "2005-11",
            "method": "update"
           },
           {
            "args": [
             {
              "type": "line",
              "x": [
               [
                "v_20230912",
                "v_20231114",
                "v_20231212",
                "v_20240116",
                "v_20240213",
                "v_20240312",
                "v_20240416",
                "v_20240514",
                "v_20240611",
                "v_20240718",
                "v_20240813",
                "v_20240910",
                "v_20241015",
                "v_20241112",
                "v_20241217",
                "v_20250121",
                "v_20250218",
                "v_20250320",
                "v_20250415",
                "v_20250513",
                "v_20250610",
                "v_20250717",
                "v_20250812",
                "v_20250916"
               ]
              ],
              "y": [
               [
                615,
                615,
                615,
                615,
                615,
                615,
                615,
                615,
                615,
                615,
                615,
                615,
                615,
                615,
                615,
                615,
                615,
                615,
                615,
                615,
                615,
                615,
                615,
                615
               ]
              ]
             },
             {
              "title": {
               "text": "Vacancy Estimates Across Vintages",
               "x": 0.5,
               "xanchor": "center"
              }
             }
            ],
            "label": "2005-12",
            "method": "update"
           },
           {
            "args": [
             {
              "type": "line",
              "x": [
               [
                "v_20230912",
                "v_20231114",
                "v_20231212",
                "v_20240116",
                "v_20240213",
                "v_20240312",
                "v_20240416",
                "v_20240514",
                "v_20240611",
                "v_20240718",
                "v_20240813",
                "v_20240910",
                "v_20241015",
                "v_20241112",
                "v_20241217",
                "v_20250121",
                "v_20250218",
                "v_20250320",
                "v_20250415",
                "v_20250513",
                "v_20250610",
                "v_20250717",
                "v_20250812",
                "v_20250916"
               ]
              ],
              "y": [
               [
                612,
                612,
                612,
                612,
                612,
                612,
                612,
                612,
                612,
                612,
                612,
                612,
                612,
                612,
                612,
                612,
                612,
                612,
                612,
                612,
                612,
                612,
                612,
                612
               ]
              ]
             },
             {
              "title": {
               "text": "Vacancy Estimates Across Vintages",
               "x": 0.5,
               "xanchor": "center"
              }
             }
            ],
            "label": "2006-01",
            "method": "update"
           },
           {
            "args": [
             {
              "type": "line",
              "x": [
               [
                "v_20230912",
                "v_20231114",
                "v_20231212",
                "v_20240116",
                "v_20240213",
                "v_20240312",
                "v_20240416",
                "v_20240514",
                "v_20240611",
                "v_20240718",
                "v_20240813",
                "v_20240910",
                "v_20241015",
                "v_20241112",
                "v_20241217",
                "v_20250121",
                "v_20250218",
                "v_20250320",
                "v_20250415",
                "v_20250513",
                "v_20250610",
                "v_20250717",
                "v_20250812",
                "v_20250916"
               ]
              ],
              "y": [
               [
                600,
                600,
                600,
                600,
                600,
                600,
                600,
                600,
                600,
                600,
                600,
                600,
                600,
                600,
                600,
                600,
                600,
                600,
                600,
                600,
                600,
                600,
                600,
                600
               ]
              ]
             },
             {
              "title": {
               "text": "Vacancy Estimates Across Vintages",
               "x": 0.5,
               "xanchor": "center"
              }
             }
            ],
            "label": "2006-02",
            "method": "update"
           },
           {
            "args": [
             {
              "type": "line",
              "x": [
               [
                "v_20230912",
                "v_20231114",
                "v_20231212",
                "v_20240116",
                "v_20240213",
                "v_20240312",
                "v_20240416",
                "v_20240514",
                "v_20240611",
                "v_20240718",
                "v_20240813",
                "v_20240910",
                "v_20241015",
                "v_20241112",
                "v_20241217",
                "v_20250121",
                "v_20250218",
                "v_20250320",
                "v_20250415",
                "v_20250513",
                "v_20250610",
                "v_20250717",
                "v_20250812",
                "v_20250916"
               ]
              ],
              "y": [
               [
                598,
                598,
                598,
                598,
                598,
                598,
                598,
                598,
                598,
                598,
                598,
                598,
                598,
                598,
                598,
                598,
                598,
                598,
                597,
                597,
                597,
                597,
                597,
                597
               ]
              ]
             },
             {
              "title": {
               "text": "Vacancy Estimates Across Vintages",
               "x": 0.5,
               "xanchor": "center"
              }
             }
            ],
            "label": "2006-03",
            "method": "update"
           },
           {
            "args": [
             {
              "type": "line",
              "x": [
               [
                "v_20230912",
                "v_20231114",
                "v_20231212",
                "v_20240116",
                "v_20240213",
                "v_20240312",
                "v_20240416",
                "v_20240514",
                "v_20240611",
                "v_20240718",
                "v_20240813",
                "v_20240910",
                "v_20241015",
                "v_20241112",
                "v_20241217",
                "v_20250121",
                "v_20250218",
                "v_20250320",
                "v_20250415",
                "v_20250513",
                "v_20250610",
                "v_20250717",
                "v_20250812",
                "v_20250916"
               ]
              ],
              "y": [
               [
                597,
                597,
                597,
                597,
                597,
                597,
                597,
                597,
                597,
                597,
                597,
                597,
                597,
                597,
                597,
                597,
                597,
                597,
                597,
                597,
                597,
                597,
                597,
                597
               ]
              ]
             },
             {
              "title": {
               "text": "Vacancy Estimates Across Vintages",
               "x": 0.5,
               "xanchor": "center"
              }
             }
            ],
            "label": "2006-04",
            "method": "update"
           },
           {
            "args": [
             {
              "type": "line",
              "x": [
               [
                "v_20230912",
                "v_20231114",
                "v_20231212",
                "v_20240116",
                "v_20240213",
                "v_20240312",
                "v_20240416",
                "v_20240514",
                "v_20240611",
                "v_20240718",
                "v_20240813",
                "v_20240910",
                "v_20241015",
                "v_20241112",
                "v_20241217",
                "v_20250121",
                "v_20250218",
                "v_20250320",
                "v_20250415",
                "v_20250513",
                "v_20250610",
                "v_20250717",
                "v_20250812",
                "v_20250916"
               ]
              ],
              "y": [
               [
                604,
                604,
                604,
                604,
                604,
                604,
                604,
                604,
                604,
                604,
                604,
                604,
                604,
                604,
                604,
                604,
                604,
                604,
                604,
                604,
                604,
                604,
                604,
                604
               ]
              ]
             },
             {
              "title": {
               "text": "Vacancy Estimates Across Vintages",
               "x": 0.5,
               "xanchor": "center"
              }
             }
            ],
            "label": "2006-05",
            "method": "update"
           },
           {
            "args": [
             {
              "type": "line",
              "x": [
               [
                "v_20230912",
                "v_20231114",
                "v_20231212",
                "v_20240116",
                "v_20240213",
                "v_20240312",
                "v_20240416",
                "v_20240514",
                "v_20240611",
                "v_20240718",
                "v_20240813",
                "v_20240910",
                "v_20241015",
                "v_20241112",
                "v_20241217",
                "v_20250121",
                "v_20250218",
                "v_20250320",
                "v_20250415",
                "v_20250513",
                "v_20250610",
                "v_20250717",
                "v_20250812",
                "v_20250916"
               ]
              ],
              "y": [
               [
                607,
                607,
                607,
                607,
                607,
                607,
                607,
                607,
                607,
                607,
                607,
                607,
                607,
                607,
                607,
                607,
                607,
                607,
                607,
                607,
                607,
                607,
                607,
                607
               ]
              ]
             },
             {
              "title": {
               "text": "Vacancy Estimates Across Vintages",
               "x": 0.5,
               "xanchor": "center"
              }
             }
            ],
            "label": "2006-06",
            "method": "update"
           },
           {
            "args": [
             {
              "type": "line",
              "x": [
               [
                "v_20230912",
                "v_20231114",
                "v_20231212",
                "v_20240116",
                "v_20240213",
                "v_20240312",
                "v_20240416",
                "v_20240514",
                "v_20240611",
                "v_20240718",
                "v_20240813",
                "v_20240910",
                "v_20241015",
                "v_20241112",
                "v_20241217",
                "v_20250121",
                "v_20250218",
                "v_20250320",
                "v_20250415",
                "v_20250513",
                "v_20250610",
                "v_20250717",
                "v_20250812",
                "v_20250916"
               ]
              ],
              "y": [
               [
                611,
                611,
                611,
                611,
                611,
                611,
                611,
                611,
                611,
                611,
                611,
                611,
                611,
                611,
                611,
                611,
                611,
                611,
                610,
                610,
                610,
                610,
                610,
                610
               ]
              ]
             },
             {
              "title": {
               "text": "Vacancy Estimates Across Vintages",
               "x": 0.5,
               "xanchor": "center"
              }
             }
            ],
            "label": "2006-07",
            "method": "update"
           },
           {
            "args": [
             {
              "type": "line",
              "x": [
               [
                "v_20230912",
                "v_20231114",
                "v_20231212",
                "v_20240116",
                "v_20240213",
                "v_20240312",
                "v_20240416",
                "v_20240514",
                "v_20240611",
                "v_20240718",
                "v_20240813",
                "v_20240910",
                "v_20241015",
                "v_20241112",
                "v_20241217",
                "v_20250121",
                "v_20250218",
                "v_20250320",
                "v_20250415",
                "v_20250513",
                "v_20250610",
                "v_20250717",
                "v_20250812",
                "v_20250916"
               ]
              ],
              "y": [
               [
                611,
                611,
                611,
                611,
                611,
                611,
                611,
                611,
                611,
                611,
                611,
                611,
                611,
                611,
                611,
                611,
                611,
                611,
                611,
                611,
                611,
                611,
                611,
                611
               ]
              ]
             },
             {
              "title": {
               "text": "Vacancy Estimates Across Vintages",
               "x": 0.5,
               "xanchor": "center"
              }
             }
            ],
            "label": "2006-08",
            "method": "update"
           },
           {
            "args": [
             {
              "type": "line",
              "x": [
               [
                "v_20230912",
                "v_20231114",
                "v_20231212",
                "v_20240116",
                "v_20240213",
                "v_20240312",
                "v_20240416",
                "v_20240514",
                "v_20240611",
                "v_20240718",
                "v_20240813",
                "v_20240910",
                "v_20241015",
                "v_20241112",
                "v_20241217",
                "v_20250121",
                "v_20250218",
                "v_20250320",
                "v_20250415",
                "v_20250513",
                "v_20250610",
                "v_20250717",
                "v_20250812",
                "v_20250916"
               ]
              ],
              "y": [
               [
                618,
                618,
                618,
                618,
                618,
                618,
                618,
                618,
                618,
                618,
                618,
                618,
                618,
                618,
                618,
                618,
                618,
                618,
                618,
                618,
                618,
                618,
                618,
                618
               ]
              ]
             },
             {
              "title": {
               "text": "Vacancy Estimates Across Vintages",
               "x": 0.5,
               "xanchor": "center"
              }
             }
            ],
            "label": "2006-09",
            "method": "update"
           },
           {
            "args": [
             {
              "type": "line",
              "x": [
               [
                "v_20230912",
                "v_20231114",
                "v_20231212",
                "v_20240116",
                "v_20240213",
                "v_20240312",
                "v_20240416",
                "v_20240514",
                "v_20240611",
                "v_20240718",
                "v_20240813",
                "v_20240910",
                "v_20241015",
                "v_20241112",
                "v_20241217",
                "v_20250121",
                "v_20250218",
                "v_20250320",
                "v_20250415",
                "v_20250513",
                "v_20250610",
                "v_20250717",
                "v_20250812",
                "v_20250916"
               ]
              ],
              "y": [
               [
                620,
                620,
                620,
                620,
                620,
                620,
                620,
                620,
                620,
                620,
                620,
                620,
                620,
                620,
                620,
                620,
                620,
                620,
                620,
                620,
                620,
                620,
                620,
                620
               ]
              ]
             },
             {
              "title": {
               "text": "Vacancy Estimates Across Vintages",
               "x": 0.5,
               "xanchor": "center"
              }
             }
            ],
            "label": "2006-10",
            "method": "update"
           },
           {
            "args": [
             {
              "type": "line",
              "x": [
               [
                "v_20230912",
                "v_20231114",
                "v_20231212",
                "v_20240116",
                "v_20240213",
                "v_20240312",
                "v_20240416",
                "v_20240514",
                "v_20240611",
                "v_20240718",
                "v_20240813",
                "v_20240910",
                "v_20241015",
                "v_20241112",
                "v_20241217",
                "v_20250121",
                "v_20250218",
                "v_20250320",
                "v_20250415",
                "v_20250513",
                "v_20250610",
                "v_20250717",
                "v_20250812",
                "v_20250916"
               ]
              ],
              "y": [
               [
                620,
                620,
                620,
                620,
                620,
                620,
                620,
                620,
                620,
                620,
                620,
                620,
                620,
                620,
                620,
                620,
                620,
                620,
                620,
                620,
                620,
                620,
                620,
                620
               ]
              ]
             },
             {
              "title": {
               "text": "Vacancy Estimates Across Vintages",
               "x": 0.5,
               "xanchor": "center"
              }
             }
            ],
            "label": "2006-11",
            "method": "update"
           },
           {
            "args": [
             {
              "type": "line",
              "x": [
               [
                "v_20230912",
                "v_20231114",
                "v_20231212",
                "v_20240116",
                "v_20240213",
                "v_20240312",
                "v_20240416",
                "v_20240514",
                "v_20240611",
                "v_20240718",
                "v_20240813",
                "v_20240910",
                "v_20241015",
                "v_20241112",
                "v_20241217",
                "v_20250121",
                "v_20250218",
                "v_20250320",
                "v_20250415",
                "v_20250513",
                "v_20250610",
                "v_20250717",
                "v_20250812",
                "v_20250916"
               ]
              ],
              "y": [
               [
                619,
                619,
                619,
                619,
                619,
                619,
                619,
                619,
                619,
                619,
                619,
                619,
                619,
                619,
                619,
                619,
                619,
                619,
                619,
                619,
                619,
                619,
                619,
                619
               ]
              ]
             },
             {
              "title": {
               "text": "Vacancy Estimates Across Vintages",
               "x": 0.5,
               "xanchor": "center"
              }
             }
            ],
            "label": "2006-12",
            "method": "update"
           },
           {
            "args": [
             {
              "type": "line",
              "x": [
               [
                "v_20230912",
                "v_20231114",
                "v_20231212",
                "v_20240116",
                "v_20240213",
                "v_20240312",
                "v_20240416",
                "v_20240514",
                "v_20240611",
                "v_20240718",
                "v_20240813",
                "v_20240910",
                "v_20241015",
                "v_20241112",
                "v_20241217",
                "v_20250121",
                "v_20250218",
                "v_20250320",
                "v_20250415",
                "v_20250513",
                "v_20250610",
                "v_20250717",
                "v_20250812",
                "v_20250916"
               ]
              ],
              "y": [
               [
                629,
                629,
                629,
                629,
                629,
                629,
                629,
                629,
                629,
                629,
                629,
                629,
                629,
                629,
                629,
                629,
                629,
                629,
                629,
                629,
                629,
                629,
                629,
                629
               ]
              ]
             },
             {
              "title": {
               "text": "Vacancy Estimates Across Vintages",
               "x": 0.5,
               "xanchor": "center"
              }
             }
            ],
            "label": "2007-01",
            "method": "update"
           },
           {
            "args": [
             {
              "type": "line",
              "x": [
               [
                "v_20230912",
                "v_20231114",
                "v_20231212",
                "v_20240116",
                "v_20240213",
                "v_20240312",
                "v_20240416",
                "v_20240514",
                "v_20240611",
                "v_20240718",
                "v_20240813",
                "v_20240910",
                "v_20241015",
                "v_20241112",
                "v_20241217",
                "v_20250121",
                "v_20250218",
                "v_20250320",
                "v_20250415",
                "v_20250513",
                "v_20250610",
                "v_20250717",
                "v_20250812",
                "v_20250916"
               ]
              ],
              "y": [
               [
                642,
                642,
                642,
                642,
                642,
                642,
                642,
                642,
                642,
                642,
                642,
                642,
                642,
                642,
                642,
                642,
                642,
                642,
                642,
                642,
                642,
                642,
                642,
                642
               ]
              ]
             },
             {
              "title": {
               "text": "Vacancy Estimates Across Vintages",
               "x": 0.5,
               "xanchor": "center"
              }
             }
            ],
            "label": "2007-02",
            "method": "update"
           },
           {
            "args": [
             {
              "type": "line",
              "x": [
               [
                "v_20230912",
                "v_20231114",
                "v_20231212",
                "v_20240116",
                "v_20240213",
                "v_20240312",
                "v_20240416",
                "v_20240514",
                "v_20240611",
                "v_20240718",
                "v_20240813",
                "v_20240910",
                "v_20241015",
                "v_20241112",
                "v_20241217",
                "v_20250121",
                "v_20250218",
                "v_20250320",
                "v_20250415",
                "v_20250513",
                "v_20250610",
                "v_20250717",
                "v_20250812",
                "v_20250916"
               ]
              ],
              "y": [
               [
                648,
                648,
                648,
                648,
                648,
                648,
                648,
                648,
                648,
                648,
                648,
                648,
                648,
                648,
                648,
                648,
                648,
                648,
                647,
                647,
                647,
                647,
                647,
                647
               ]
              ]
             },
             {
              "title": {
               "text": "Vacancy Estimates Across Vintages",
               "x": 0.5,
               "xanchor": "center"
              }
             }
            ],
            "label": "2007-03",
            "method": "update"
           },
           {
            "args": [
             {
              "type": "line",
              "x": [
               [
                "v_20230912",
                "v_20231114",
                "v_20231212",
                "v_20240116",
                "v_20240213",
                "v_20240312",
                "v_20240416",
                "v_20240514",
                "v_20240611",
                "v_20240718",
                "v_20240813",
                "v_20240910",
                "v_20241015",
                "v_20241112",
                "v_20241217",
                "v_20250121",
                "v_20250218",
                "v_20250320",
                "v_20250415",
                "v_20250513",
                "v_20250610",
                "v_20250717",
                "v_20250812",
                "v_20250916"
               ]
              ],
              "y": [
               [
                651,
                651,
                651,
                651,
                651,
                651,
                651,
                651,
                651,
                651,
                651,
                651,
                651,
                651,
                651,
                651,
                651,
                651,
                651,
                651,
                651,
                651,
                651,
                651
               ]
              ]
             },
             {
              "title": {
               "text": "Vacancy Estimates Across Vintages",
               "x": 0.5,
               "xanchor": "center"
              }
             }
            ],
            "label": "2007-04",
            "method": "update"
           },
           {
            "args": [
             {
              "type": "line",
              "x": [
               [
                "v_20230912",
                "v_20231114",
                "v_20231212",
                "v_20240116",
                "v_20240213",
                "v_20240312",
                "v_20240416",
                "v_20240514",
                "v_20240611",
                "v_20240718",
                "v_20240813",
                "v_20240910",
                "v_20241015",
                "v_20241112",
                "v_20241217",
                "v_20250121",
                "v_20250218",
                "v_20250320",
                "v_20250415",
                "v_20250513",
                "v_20250610",
                "v_20250717",
                "v_20250812",
                "v_20250916"
               ]
              ],
              "y": [
               [
                658,
                658,
                658,
                658,
                658,
                658,
                659,
                659,
                659,
                659,
                659,
                659,
                659,
                659,
                659,
                659,
                659,
                659,
                659,
                659,
                659,
                659,
                659,
                659
               ]
              ]
             },
             {
              "title": {
               "text": "Vacancy Estimates Across Vintages",
               "x": 0.5,
               "xanchor": "center"
              }
             }
            ],
            "label": "2007-05",
            "method": "update"
           },
           {
            "args": [
             {
              "type": "line",
              "x": [
               [
                "v_20230912",
                "v_20231114",
                "v_20231212",
                "v_20240116",
                "v_20240213",
                "v_20240312",
                "v_20240416",
                "v_20240514",
                "v_20240611",
                "v_20240718",
                "v_20240813",
                "v_20240910",
                "v_20241015",
                "v_20241112",
                "v_20241217",
                "v_20250121",
                "v_20250218",
                "v_20250320",
                "v_20250415",
                "v_20250513",
                "v_20250610",
                "v_20250717",
                "v_20250812",
                "v_20250916"
               ]
              ],
              "y": [
               [
                670,
                670,
                670,
                670,
                670,
                670,
                670,
                670,
                670,
                670,
                670,
                670,
                670,
                670,
                670,
                670,
                670,
                670,
                670,
                670,
                670,
                670,
                670,
                670
               ]
              ]
             },
             {
              "title": {
               "text": "Vacancy Estimates Across Vintages",
               "x": 0.5,
               "xanchor": "center"
              }
             }
            ],
            "label": "2007-06",
            "method": "update"
           },
           {
            "args": [
             {
              "type": "line",
              "x": [
               [
                "v_20230912",
                "v_20231114",
                "v_20231212",
                "v_20240116",
                "v_20240213",
                "v_20240312",
                "v_20240416",
                "v_20240514",
                "v_20240611",
                "v_20240718",
                "v_20240813",
                "v_20240910",
                "v_20241015",
                "v_20241112",
                "v_20241217",
                "v_20250121",
                "v_20250218",
                "v_20250320",
                "v_20250415",
                "v_20250513",
                "v_20250610",
                "v_20250717",
                "v_20250812",
                "v_20250916"
               ]
              ],
              "y": [
               [
                681,
                681,
                681,
                681,
                681,
                681,
                681,
                681,
                681,
                681,
                681,
                681,
                681,
                681,
                681,
                681,
                681,
                681,
                681,
                681,
                681,
                681,
                681,
                681
               ]
              ]
             },
             {
              "title": {
               "text": "Vacancy Estimates Across Vintages",
               "x": 0.5,
               "xanchor": "center"
              }
             }
            ],
            "label": "2007-07",
            "method": "update"
           },
           {
            "args": [
             {
              "type": "line",
              "x": [
               [
                "v_20230912",
                "v_20231114",
                "v_20231212",
                "v_20240116",
                "v_20240213",
                "v_20240312",
                "v_20240416",
                "v_20240514",
                "v_20240611",
                "v_20240718",
                "v_20240813",
                "v_20240910",
                "v_20241015",
                "v_20241112",
                "v_20241217",
                "v_20250121",
                "v_20250218",
                "v_20250320",
                "v_20250415",
                "v_20250513",
                "v_20250610",
                "v_20250717",
                "v_20250812",
                "v_20250916"
               ]
              ],
              "y": [
               [
                683,
                683,
                683,
                683,
                683,
                683,
                683,
                683,
                683,
                683,
                683,
                683,
                683,
                683,
                683,
                683,
                683,
                683,
                684,
                684,
                684,
                684,
                684,
                684
               ]
              ]
             },
             {
              "title": {
               "text": "Vacancy Estimates Across Vintages",
               "x": 0.5,
               "xanchor": "center"
              }
             }
            ],
            "label": "2007-08",
            "method": "update"
           },
           {
            "args": [
             {
              "type": "line",
              "x": [
               [
                "v_20230912",
                "v_20231114",
                "v_20231212",
                "v_20240116",
                "v_20240213",
                "v_20240312",
                "v_20240416",
                "v_20240514",
                "v_20240611",
                "v_20240718",
                "v_20240813",
                "v_20240910",
                "v_20241015",
                "v_20241112",
                "v_20241217",
                "v_20250121",
                "v_20250218",
                "v_20250320",
                "v_20250415",
                "v_20250513",
                "v_20250610",
                "v_20250717",
                "v_20250812",
                "v_20250916"
               ]
              ],
              "y": [
               [
                686,
                686,
                686,
                686,
                686,
                686,
                686,
                686,
                686,
                686,
                686,
                686,
                686,
                686,
                686,
                686,
                686,
                686,
                686,
                686,
                686,
                686,
                686,
                686
               ]
              ]
             },
             {
              "title": {
               "text": "Vacancy Estimates Across Vintages",
               "x": 0.5,
               "xanchor": "center"
              }
             }
            ],
            "label": "2007-09",
            "method": "update"
           },
           {
            "args": [
             {
              "type": "line",
              "x": [
               [
                "v_20230912",
                "v_20231114",
                "v_20231212",
                "v_20240116",
                "v_20240213",
                "v_20240312",
                "v_20240416",
                "v_20240514",
                "v_20240611",
                "v_20240718",
                "v_20240813",
                "v_20240910",
                "v_20241015",
                "v_20241112",
                "v_20241217",
                "v_20250121",
                "v_20250218",
                "v_20250320",
                "v_20250415",
                "v_20250513",
                "v_20250610",
                "v_20250717",
                "v_20250812",
                "v_20250916"
               ]
              ],
              "y": [
               [
                691,
                691,
                691,
                691,
                691,
                691,
                691,
                691,
                691,
                691,
                691,
                691,
                691,
                691,
                691,
                691,
                691,
                691,
                691,
                691,
                691,
                691,
                691,
                691
               ]
              ]
             },
             {
              "title": {
               "text": "Vacancy Estimates Across Vintages",
               "x": 0.5,
               "xanchor": "center"
              }
             }
            ],
            "label": "2007-10",
            "method": "update"
           },
           {
            "args": [
             {
              "type": "line",
              "x": [
               [
                "v_20230912",
                "v_20231114",
                "v_20231212",
                "v_20240116",
                "v_20240213",
                "v_20240312",
                "v_20240416",
                "v_20240514",
                "v_20240611",
                "v_20240718",
                "v_20240813",
                "v_20240910",
                "v_20241015",
                "v_20241112",
                "v_20241217",
                "v_20250121",
                "v_20250218",
                "v_20250320",
                "v_20250415",
                "v_20250513",
                "v_20250610",
                "v_20250717",
                "v_20250812",
                "v_20250916"
               ]
              ],
              "y": [
               [
                687,
                687,
                687,
                687,
                687,
                687,
                687,
                687,
                687,
                687,
                687,
                687,
                687,
                687,
                687,
                687,
                687,
                687,
                687,
                687,
                687,
                687,
                687,
                687
               ]
              ]
             },
             {
              "title": {
               "text": "Vacancy Estimates Across Vintages",
               "x": 0.5,
               "xanchor": "center"
              }
             }
            ],
            "label": "2007-11",
            "method": "update"
           },
           {
            "args": [
             {
              "type": "line",
              "x": [
               [
                "v_20230912",
                "v_20231114",
                "v_20231212",
                "v_20240116",
                "v_20240213",
                "v_20240312",
                "v_20240416",
                "v_20240514",
                "v_20240611",
                "v_20240718",
                "v_20240813",
                "v_20240910",
                "v_20241015",
                "v_20241112",
                "v_20241217",
                "v_20250121",
                "v_20250218",
                "v_20250320",
                "v_20250415",
                "v_20250513",
                "v_20250610",
                "v_20250717",
                "v_20250812",
                "v_20250916"
               ]
              ],
              "y": [
               [
                678,
                678,
                678,
                678,
                678,
                678,
                678,
                678,
                678,
                678,
                678,
                678,
                678,
                678,
                678,
                678,
                678,
                678,
                679,
                679,
                679,
                679,
                679,
                679
               ]
              ]
             },
             {
              "title": {
               "text": "Vacancy Estimates Across Vintages",
               "x": 0.5,
               "xanchor": "center"
              }
             }
            ],
            "label": "2007-12",
            "method": "update"
           },
           {
            "args": [
             {
              "type": "line",
              "x": [
               [
                "v_20230912",
                "v_20231114",
                "v_20231212",
                "v_20240116",
                "v_20240213",
                "v_20240312",
                "v_20240416",
                "v_20240514",
                "v_20240611",
                "v_20240718",
                "v_20240813",
                "v_20240910",
                "v_20241015",
                "v_20241112",
                "v_20241217",
                "v_20250121",
                "v_20250218",
                "v_20250320",
                "v_20250415",
                "v_20250513",
                "v_20250610",
                "v_20250717",
                "v_20250812",
                "v_20250916"
               ]
              ],
              "y": [
               [
                687,
                687,
                687,
                687,
                687,
                687,
                687,
                687,
                687,
                687,
                687,
                687,
                687,
                687,
                687,
                687,
                687,
                687,
                687,
                687,
                687,
                687,
                687,
                687
               ]
              ]
             },
             {
              "title": {
               "text": "Vacancy Estimates Across Vintages",
               "x": 0.5,
               "xanchor": "center"
              }
             }
            ],
            "label": "2008-01",
            "method": "update"
           },
           {
            "args": [
             {
              "type": "line",
              "x": [
               [
                "v_20230912",
                "v_20231114",
                "v_20231212",
                "v_20240116",
                "v_20240213",
                "v_20240312",
                "v_20240416",
                "v_20240514",
                "v_20240611",
                "v_20240718",
                "v_20240813",
                "v_20240910",
                "v_20241015",
                "v_20241112",
                "v_20241217",
                "v_20250121",
                "v_20250218",
                "v_20250320",
                "v_20250415",
                "v_20250513",
                "v_20250610",
                "v_20250717",
                "v_20250812",
                "v_20250916"
               ]
              ],
              "y": [
               [
                697,
                697,
                697,
                697,
                697,
                697,
                697,
                697,
                697,
                697,
                697,
                697,
                697,
                697,
                697,
                697,
                697,
                697,
                698,
                698,
                698,
                698,
                698,
                698
               ]
              ]
             },
             {
              "title": {
               "text": "Vacancy Estimates Across Vintages",
               "x": 0.5,
               "xanchor": "center"
              }
             }
            ],
            "label": "2008-02",
            "method": "update"
           },
           {
            "args": [
             {
              "type": "line",
              "x": [
               [
                "v_20230912",
                "v_20231114",
                "v_20231212",
                "v_20240116",
                "v_20240213",
                "v_20240312",
                "v_20240416",
                "v_20240514",
                "v_20240611",
                "v_20240718",
                "v_20240813",
                "v_20240910",
                "v_20241015",
                "v_20241112",
                "v_20241217",
                "v_20250121",
                "v_20250218",
                "v_20250320",
                "v_20250415",
                "v_20250513",
                "v_20250610",
                "v_20250717",
                "v_20250812",
                "v_20250916"
               ]
              ],
              "y": [
               [
                696,
                696,
                696,
                696,
                696,
                696,
                696,
                696,
                696,
                696,
                696,
                696,
                696,
                696,
                696,
                696,
                696,
                696,
                694,
                694,
                694,
                694,
                694,
                694
               ]
              ]
             },
             {
              "title": {
               "text": "Vacancy Estimates Across Vintages",
               "x": 0.5,
               "xanchor": "center"
              }
             }
            ],
            "label": "2008-03",
            "method": "update"
           },
           {
            "args": [
             {
              "type": "line",
              "x": [
               [
                "v_20230912",
                "v_20231114",
                "v_20231212",
                "v_20240116",
                "v_20240213",
                "v_20240312",
                "v_20240416",
                "v_20240514",
                "v_20240611",
                "v_20240718",
                "v_20240813",
                "v_20240910",
                "v_20241015",
                "v_20241112",
                "v_20241217",
                "v_20250121",
                "v_20250218",
                "v_20250320",
                "v_20250415",
                "v_20250513",
                "v_20250610",
                "v_20250717",
                "v_20250812",
                "v_20250916"
               ]
              ],
              "y": [
               [
                679,
                679,
                679,
                679,
                679,
                679,
                679,
                679,
                679,
                679,
                679,
                679,
                679,
                679,
                679,
                679,
                679,
                679,
                679,
                679,
                679,
                679,
                679,
                679
               ]
              ]
             },
             {
              "title": {
               "text": "Vacancy Estimates Across Vintages",
               "x": 0.5,
               "xanchor": "center"
              }
             }
            ],
            "label": "2008-04",
            "method": "update"
           },
           {
            "args": [
             {
              "type": "line",
              "x": [
               [
                "v_20230912",
                "v_20231114",
                "v_20231212",
                "v_20240116",
                "v_20240213",
                "v_20240312",
                "v_20240416",
                "v_20240514",
                "v_20240611",
                "v_20240718",
                "v_20240813",
                "v_20240910",
                "v_20241015",
                "v_20241112",
                "v_20241217",
                "v_20250121",
                "v_20250218",
                "v_20250320",
                "v_20250415",
                "v_20250513",
                "v_20250610",
                "v_20250717",
                "v_20250812",
                "v_20250916"
               ]
              ],
              "y": [
               [
                657,
                657,
                657,
                657,
                657,
                657,
                657,
                657,
                657,
                657,
                657,
                657,
                657,
                657,
                657,
                657,
                657,
                657,
                657,
                657,
                657,
                657,
                657,
                657
               ]
              ]
             },
             {
              "title": {
               "text": "Vacancy Estimates Across Vintages",
               "x": 0.5,
               "xanchor": "center"
              }
             }
            ],
            "label": "2008-05",
            "method": "update"
           },
           {
            "args": [
             {
              "type": "line",
              "x": [
               [
                "v_20230912",
                "v_20231114",
                "v_20231212",
                "v_20240116",
                "v_20240213",
                "v_20240312",
                "v_20240416",
                "v_20240514",
                "v_20240611",
                "v_20240718",
                "v_20240813",
                "v_20240910",
                "v_20241015",
                "v_20241112",
                "v_20241217",
                "v_20250121",
                "v_20250218",
                "v_20250320",
                "v_20250415",
                "v_20250513",
                "v_20250610",
                "v_20250717",
                "v_20250812",
                "v_20250916"
               ]
              ],
              "y": [
               [
                643,
                643,
                643,
                643,
                643,
                643,
                643,
                643,
                643,
                643,
                643,
                643,
                643,
                643,
                643,
                643,
                643,
                643,
                643,
                643,
                643,
                643,
                643,
                643
               ]
              ]
             },
             {
              "title": {
               "text": "Vacancy Estimates Across Vintages",
               "x": 0.5,
               "xanchor": "center"
              }
             }
            ],
            "label": "2008-06",
            "method": "update"
           },
           {
            "args": [
             {
              "type": "line",
              "x": [
               [
                "v_20230912",
                "v_20231114",
                "v_20231212",
                "v_20240116",
                "v_20240213",
                "v_20240312",
                "v_20240416",
                "v_20240514",
                "v_20240611",
                "v_20240718",
                "v_20240813",
                "v_20240910",
                "v_20241015",
                "v_20241112",
                "v_20241217",
                "v_20250121",
                "v_20250218",
                "v_20250320",
                "v_20250415",
                "v_20250513",
                "v_20250610",
                "v_20250717",
                "v_20250812",
                "v_20250916"
               ]
              ],
              "y": [
               [
                624,
                624,
                624,
                624,
                624,
                624,
                624,
                624,
                624,
                624,
                624,
                624,
                624,
                624,
                624,
                624,
                624,
                624,
                624,
                624,
                624,
                624,
                624,
                624
               ]
              ]
             },
             {
              "title": {
               "text": "Vacancy Estimates Across Vintages",
               "x": 0.5,
               "xanchor": "center"
              }
             }
            ],
            "label": "2008-07",
            "method": "update"
           },
           {
            "args": [
             {
              "type": "line",
              "x": [
               [
                "v_20230912",
                "v_20231114",
                "v_20231212",
                "v_20240116",
                "v_20240213",
                "v_20240312",
                "v_20240416",
                "v_20240514",
                "v_20240611",
                "v_20240718",
                "v_20240813",
                "v_20240910",
                "v_20241015",
                "v_20241112",
                "v_20241217",
                "v_20250121",
                "v_20250218",
                "v_20250320",
                "v_20250415",
                "v_20250513",
                "v_20250610",
                "v_20250717",
                "v_20250812",
                "v_20250916"
               ]
              ],
              "y": [
               [
                615,
                615,
                615,
                615,
                615,
                615,
                615,
                615,
                615,
                615,
                615,
                615,
                615,
                615,
                615,
                615,
                615,
                615,
                615,
                615,
                615,
                615,
                615,
                615
               ]
              ]
             },
             {
              "title": {
               "text": "Vacancy Estimates Across Vintages",
               "x": 0.5,
               "xanchor": "center"
              }
             }
            ],
            "label": "2008-08",
            "method": "update"
           },
           {
            "args": [
             {
              "type": "line",
              "x": [
               [
                "v_20230912",
                "v_20231114",
                "v_20231212",
                "v_20240116",
                "v_20240213",
                "v_20240312",
                "v_20240416",
                "v_20240514",
                "v_20240611",
                "v_20240718",
                "v_20240813",
                "v_20240910",
                "v_20241015",
                "v_20241112",
                "v_20241217",
                "v_20250121",
                "v_20250218",
                "v_20250320",
                "v_20250415",
                "v_20250513",
                "v_20250610",
                "v_20250717",
                "v_20250812",
                "v_20250916"
               ]
              ],
              "y": [
               [
                596,
                596,
                596,
                596,
                596,
                596,
                596,
                596,
                596,
                596,
                596,
                596,
                596,
                596,
                596,
                596,
                596,
                596,
                596,
                596,
                596,
                596,
                596,
                596
               ]
              ]
             },
             {
              "title": {
               "text": "Vacancy Estimates Across Vintages",
               "x": 0.5,
               "xanchor": "center"
              }
             }
            ],
            "label": "2008-09",
            "method": "update"
           },
           {
            "args": [
             {
              "type": "line",
              "x": [
               [
                "v_20230912",
                "v_20231114",
                "v_20231212",
                "v_20240116",
                "v_20240213",
                "v_20240312",
                "v_20240416",
                "v_20240514",
                "v_20240611",
                "v_20240718",
                "v_20240813",
                "v_20240910",
                "v_20241015",
                "v_20241112",
                "v_20241217",
                "v_20250121",
                "v_20250218",
                "v_20250320",
                "v_20250415",
                "v_20250513",
                "v_20250610",
                "v_20250717",
                "v_20250812",
                "v_20250916"
               ]
              ],
              "y": [
               [
                562,
                562,
                562,
                562,
                562,
                562,
                562,
                562,
                562,
                562,
                562,
                562,
                562,
                562,
                562,
                562,
                562,
                562,
                562,
                562,
                562,
                562,
                562,
                562
               ]
              ]
             },
             {
              "title": {
               "text": "Vacancy Estimates Across Vintages",
               "x": 0.5,
               "xanchor": "center"
              }
             }
            ],
            "label": "2008-10",
            "method": "update"
           },
           {
            "args": [
             {
              "type": "line",
              "x": [
               [
                "v_20230912",
                "v_20231114",
                "v_20231212",
                "v_20240116",
                "v_20240213",
                "v_20240312",
                "v_20240416",
                "v_20240514",
                "v_20240611",
                "v_20240718",
                "v_20240813",
                "v_20240910",
                "v_20241015",
                "v_20241112",
                "v_20241217",
                "v_20250121",
                "v_20250218",
                "v_20250320",
                "v_20250415",
                "v_20250513",
                "v_20250610",
                "v_20250717",
                "v_20250812",
                "v_20250916"
               ]
              ],
              "y": [
               [
                527,
                527,
                527,
                527,
                527,
                527,
                527,
                527,
                527,
                527,
                527,
                527,
                527,
                527,
                527,
                527,
                527,
                527,
                527,
                527,
                527,
                527,
                527,
                527
               ]
              ]
             },
             {
              "title": {
               "text": "Vacancy Estimates Across Vintages",
               "x": 0.5,
               "xanchor": "center"
              }
             }
            ],
            "label": "2008-11",
            "method": "update"
           },
           {
            "args": [
             {
              "type": "line",
              "x": [
               [
                "v_20230912",
                "v_20231114",
                "v_20231212",
                "v_20240116",
                "v_20240213",
                "v_20240312",
                "v_20240416",
                "v_20240514",
                "v_20240611",
                "v_20240718",
                "v_20240813",
                "v_20240910",
                "v_20241015",
                "v_20241112",
                "v_20241217",
                "v_20250121",
                "v_20250218",
                "v_20250320",
                "v_20250415",
                "v_20250513",
                "v_20250610",
                "v_20250717",
                "v_20250812",
                "v_20250916"
               ]
              ],
              "y": [
               [
                497,
                497,
                497,
                497,
                497,
                497,
                497,
                497,
                497,
                497,
                497,
                497,
                497,
                497,
                497,
                497,
                497,
                497,
                498,
                498,
                498,
                498,
                498,
                498
               ]
              ]
             },
             {
              "title": {
               "text": "Vacancy Estimates Across Vintages",
               "x": 0.5,
               "xanchor": "center"
              }
             }
            ],
            "label": "2008-12",
            "method": "update"
           },
           {
            "args": [
             {
              "type": "line",
              "x": [
               [
                "v_20230912",
                "v_20231114",
                "v_20231212",
                "v_20240116",
                "v_20240213",
                "v_20240312",
                "v_20240416",
                "v_20240514",
                "v_20240611",
                "v_20240718",
                "v_20240813",
                "v_20240910",
                "v_20241015",
                "v_20241112",
                "v_20241217",
                "v_20250121",
                "v_20250218",
                "v_20250320",
                "v_20250415",
                "v_20250513",
                "v_20250610",
                "v_20250717",
                "v_20250812",
                "v_20250916"
               ]
              ],
              "y": [
               [
                478,
                478,
                478,
                478,
                478,
                478,
                478,
                478,
                478,
                478,
                478,
                478,
                478,
                478,
                478,
                478,
                478,
                478,
                478,
                478,
                478,
                478,
                478,
                478
               ]
              ]
             },
             {
              "title": {
               "text": "Vacancy Estimates Across Vintages",
               "x": 0.5,
               "xanchor": "center"
              }
             }
            ],
            "label": "2009-01",
            "method": "update"
           },
           {
            "args": [
             {
              "type": "line",
              "x": [
               [
                "v_20230912",
                "v_20231114",
                "v_20231212",
                "v_20240116",
                "v_20240213",
                "v_20240312",
                "v_20240416",
                "v_20240514",
                "v_20240611",
                "v_20240718",
                "v_20240813",
                "v_20240910",
                "v_20241015",
                "v_20241112",
                "v_20241217",
                "v_20250121",
                "v_20250218",
                "v_20250320",
                "v_20250415",
                "v_20250513",
                "v_20250610",
                "v_20250717",
                "v_20250812",
                "v_20250916"
               ]
              ],
              "y": [
               [
                465,
                465,
                465,
                465,
                465,
                465,
                465,
                465,
                465,
                465,
                465,
                465,
                465,
                465,
                465,
                465,
                465,
                465,
                464,
                464,
                464,
                464,
                464,
                464
               ]
              ]
             },
             {
              "title": {
               "text": "Vacancy Estimates Across Vintages",
               "x": 0.5,
               "xanchor": "center"
              }
             }
            ],
            "label": "2009-02",
            "method": "update"
           },
           {
            "args": [
             {
              "type": "line",
              "x": [
               [
                "v_20230912",
                "v_20231114",
                "v_20231212",
                "v_20240116",
                "v_20240213",
                "v_20240312",
                "v_20240416",
                "v_20240514",
                "v_20240611",
                "v_20240718",
                "v_20240813",
                "v_20240910",
                "v_20241015",
                "v_20241112",
                "v_20241217",
                "v_20250121",
                "v_20250218",
                "v_20250320",
                "v_20250415",
                "v_20250513",
                "v_20250610",
                "v_20250717",
                "v_20250812",
                "v_20250916"
               ]
              ],
              "y": [
               [
                455,
                455,
                455,
                455,
                455,
                455,
                455,
                455,
                455,
                455,
                455,
                455,
                455,
                455,
                455,
                455,
                455,
                455,
                454,
                454,
                454,
                454,
                454,
                454
               ]
              ]
             },
             {
              "title": {
               "text": "Vacancy Estimates Across Vintages",
               "x": 0.5,
               "xanchor": "center"
              }
             }
            ],
            "label": "2009-03",
            "method": "update"
           },
           {
            "args": [
             {
              "type": "line",
              "x": [
               [
                "v_20230912",
                "v_20231114",
                "v_20231212",
                "v_20240116",
                "v_20240213",
                "v_20240312",
                "v_20240416",
                "v_20240514",
                "v_20240611",
                "v_20240718",
                "v_20240813",
                "v_20240910",
                "v_20241015",
                "v_20241112",
                "v_20241217",
                "v_20250121",
                "v_20250218",
                "v_20250320",
                "v_20250415",
                "v_20250513",
                "v_20250610",
                "v_20250717",
                "v_20250812",
                "v_20250916"
               ]
              ],
              "y": [
               [
                443,
                443,
                443,
                443,
                443,
                443,
                443,
                443,
                443,
                443,
                443,
                443,
                443,
                443,
                443,
                443,
                443,
                443,
                444,
                444,
                444,
                444,
                444,
                444
               ]
              ]
             },
             {
              "title": {
               "text": "Vacancy Estimates Across Vintages",
               "x": 0.5,
               "xanchor": "center"
              }
             }
            ],
            "label": "2009-04",
            "method": "update"
           },
           {
            "args": [
             {
              "type": "line",
              "x": [
               [
                "v_20230912",
                "v_20231114",
                "v_20231212",
                "v_20240116",
                "v_20240213",
                "v_20240312",
                "v_20240416",
                "v_20240514",
                "v_20240611",
                "v_20240718",
                "v_20240813",
                "v_20240910",
                "v_20241015",
                "v_20241112",
                "v_20241217",
                "v_20250121",
                "v_20250218",
                "v_20250320",
                "v_20250415",
                "v_20250513",
                "v_20250610",
                "v_20250717",
                "v_20250812",
                "v_20250916"
               ]
              ],
              "y": [
               [
                431,
                431,
                431,
                431,
                431,
                431,
                431,
                431,
                431,
                431,
                431,
                431,
                431,
                431,
                431,
                431,
                431,
                431,
                431,
                431,
                431,
                431,
                431,
                431
               ]
              ]
             },
             {
              "title": {
               "text": "Vacancy Estimates Across Vintages",
               "x": 0.5,
               "xanchor": "center"
              }
             }
            ],
            "label": "2009-05",
            "method": "update"
           },
           {
            "args": [
             {
              "type": "line",
              "x": [
               [
                "v_20230912",
                "v_20231114",
                "v_20231212",
                "v_20240116",
                "v_20240213",
                "v_20240312",
                "v_20240416",
                "v_20240514",
                "v_20240611",
                "v_20240718",
                "v_20240813",
                "v_20240910",
                "v_20241015",
                "v_20241112",
                "v_20241217",
                "v_20250121",
                "v_20250218",
                "v_20250320",
                "v_20250415",
                "v_20250513",
                "v_20250610",
                "v_20250717",
                "v_20250812",
                "v_20250916"
               ]
              ],
              "y": [
               [
                430,
                430,
                430,
                430,
                430,
                430,
                430,
                430,
                430,
                430,
                430,
                430,
                430,
                430,
                430,
                430,
                430,
                430,
                429,
                429,
                429,
                429,
                429,
                429
               ]
              ]
             },
             {
              "title": {
               "text": "Vacancy Estimates Across Vintages",
               "x": 0.5,
               "xanchor": "center"
              }
             }
            ],
            "label": "2009-06",
            "method": "update"
           },
           {
            "args": [
             {
              "type": "line",
              "x": [
               [
                "v_20230912",
                "v_20231114",
                "v_20231212",
                "v_20240116",
                "v_20240213",
                "v_20240312",
                "v_20240416",
                "v_20240514",
                "v_20240611",
                "v_20240718",
                "v_20240813",
                "v_20240910",
                "v_20241015",
                "v_20241112",
                "v_20241217",
                "v_20250121",
                "v_20250218",
                "v_20250320",
                "v_20250415",
                "v_20250513",
                "v_20250610",
                "v_20250717",
                "v_20250812",
                "v_20250916"
               ]
              ],
              "y": [
               [
                438,
                438,
                438,
                438,
                438,
                438,
                438,
                438,
                438,
                438,
                438,
                438,
                438,
                438,
                438,
                438,
                438,
                438,
                438,
                438,
                438,
                438,
                438,
                438
               ]
              ]
             },
             {
              "title": {
               "text": "Vacancy Estimates Across Vintages",
               "x": 0.5,
               "xanchor": "center"
              }
             }
            ],
            "label": "2009-07",
            "method": "update"
           },
           {
            "args": [
             {
              "type": "line",
              "x": [
               [
                "v_20230912",
                "v_20231114",
                "v_20231212",
                "v_20240116",
                "v_20240213",
                "v_20240312",
                "v_20240416",
                "v_20240514",
                "v_20240611",
                "v_20240718",
                "v_20240813",
                "v_20240910",
                "v_20241015",
                "v_20241112",
                "v_20241217",
                "v_20250121",
                "v_20250218",
                "v_20250320",
                "v_20250415",
                "v_20250513",
                "v_20250610",
                "v_20250717",
                "v_20250812",
                "v_20250916"
               ]
              ],
              "y": [
               [
                436,
                436,
                436,
                436,
                436,
                436,
                436,
                436,
                436,
                436,
                436,
                436,
                436,
                436,
                436,
                436,
                436,
                436,
                436,
                436,
                436,
                436,
                436,
                436
               ]
              ]
             },
             {
              "title": {
               "text": "Vacancy Estimates Across Vintages",
               "x": 0.5,
               "xanchor": "center"
              }
             }
            ],
            "label": "2009-08",
            "method": "update"
           },
           {
            "args": [
             {
              "type": "line",
              "x": [
               [
                "v_20230912",
                "v_20231114",
                "v_20231212",
                "v_20240116",
                "v_20240213",
                "v_20240312",
                "v_20240416",
                "v_20240514",
                "v_20240611",
                "v_20240718",
                "v_20240813",
                "v_20240910",
                "v_20241015",
                "v_20241112",
                "v_20241217",
                "v_20250121",
                "v_20250218",
                "v_20250320",
                "v_20250415",
                "v_20250513",
                "v_20250610",
                "v_20250717",
                "v_20250812",
                "v_20250916"
               ]
              ],
              "y": [
               [
                432,
                432,
                432,
                432,
                432,
                432,
                432,
                432,
                432,
                432,
                432,
                432,
                432,
                432,
                432,
                432,
                432,
                432,
                432,
                432,
                432,
                432,
                432,
                432
               ]
              ]
             },
             {
              "title": {
               "text": "Vacancy Estimates Across Vintages",
               "x": 0.5,
               "xanchor": "center"
              }
             }
            ],
            "label": "2009-09",
            "method": "update"
           },
           {
            "args": [
             {
              "type": "line",
              "x": [
               [
                "v_20230912",
                "v_20231114",
                "v_20231212",
                "v_20240116",
                "v_20240213",
                "v_20240312",
                "v_20240416",
                "v_20240514",
                "v_20240611",
                "v_20240718",
                "v_20240813",
                "v_20240910",
                "v_20241015",
                "v_20241112",
                "v_20241217",
                "v_20250121",
                "v_20250218",
                "v_20250320",
                "v_20250415",
                "v_20250513",
                "v_20250610",
                "v_20250717",
                "v_20250812",
                "v_20250916"
               ]
              ],
              "y": [
               [
                437,
                437,
                437,
                437,
                437,
                437,
                437,
                437,
                437,
                437,
                437,
                437,
                437,
                437,
                437,
                437,
                437,
                437,
                437,
                437,
                437,
                437,
                437,
                437
               ]
              ]
             },
             {
              "title": {
               "text": "Vacancy Estimates Across Vintages",
               "x": 0.5,
               "xanchor": "center"
              }
             }
            ],
            "label": "2009-10",
            "method": "update"
           },
           {
            "args": [
             {
              "type": "line",
              "x": [
               [
                "v_20230912",
                "v_20231114",
                "v_20231212",
                "v_20240116",
                "v_20240213",
                "v_20240312",
                "v_20240416",
                "v_20240514",
                "v_20240611",
                "v_20240718",
                "v_20240813",
                "v_20240910",
                "v_20241015",
                "v_20241112",
                "v_20241217",
                "v_20250121",
                "v_20250218",
                "v_20250320",
                "v_20250415",
                "v_20250513",
                "v_20250610",
                "v_20250717",
                "v_20250812",
                "v_20250916"
               ]
              ],
              "y": [
               [
                454,
                454,
                454,
                454,
                454,
                454,
                454,
                454,
                454,
                454,
                454,
                454,
                454,
                454,
                454,
                454,
                454,
                454,
                454,
                454,
                454,
                454,
                454,
                454
               ]
              ]
             },
             {
              "title": {
               "text": "Vacancy Estimates Across Vintages",
               "x": 0.5,
               "xanchor": "center"
              }
             }
            ],
            "label": "2009-11",
            "method": "update"
           },
           {
            "args": [
             {
              "type": "line",
              "x": [
               [
                "v_20230912",
                "v_20231114",
                "v_20231212",
                "v_20240116",
                "v_20240213",
                "v_20240312",
                "v_20240416",
                "v_20240514",
                "v_20240611",
                "v_20240718",
                "v_20240813",
                "v_20240910",
                "v_20241015",
                "v_20241112",
                "v_20241217",
                "v_20250121",
                "v_20250218",
                "v_20250320",
                "v_20250415",
                "v_20250513",
                "v_20250610",
                "v_20250717",
                "v_20250812",
                "v_20250916"
               ]
              ],
              "y": [
               [
                463,
                463,
                463,
                463,
                463,
                463,
                463,
                463,
                463,
                463,
                463,
                463,
                463,
                463,
                463,
                463,
                463,
                463,
                464,
                464,
                464,
                464,
                464,
                464
               ]
              ]
             },
             {
              "title": {
               "text": "Vacancy Estimates Across Vintages",
               "x": 0.5,
               "xanchor": "center"
              }
             }
            ],
            "label": "2009-12",
            "method": "update"
           },
           {
            "args": [
             {
              "type": "line",
              "x": [
               [
                "v_20230912",
                "v_20231114",
                "v_20231212",
                "v_20240116",
                "v_20240213",
                "v_20240312",
                "v_20240416",
                "v_20240514",
                "v_20240611",
                "v_20240718",
                "v_20240813",
                "v_20240910",
                "v_20241015",
                "v_20241112",
                "v_20241217",
                "v_20250121",
                "v_20250218",
                "v_20250320",
                "v_20250415",
                "v_20250513",
                "v_20250610",
                "v_20250717",
                "v_20250812",
                "v_20250916"
               ]
              ],
              "y": [
               [
                467,
                467,
                467,
                467,
                467,
                467,
                467,
                467,
                467,
                467,
                467,
                467,
                467,
                467,
                467,
                467,
                467,
                467,
                467,
                467,
                467,
                467,
                467,
                467
               ]
              ]
             },
             {
              "title": {
               "text": "Vacancy Estimates Across Vintages",
               "x": 0.5,
               "xanchor": "center"
              }
             }
            ],
            "label": "2010-01",
            "method": "update"
           },
           {
            "args": [
             {
              "type": "line",
              "x": [
               [
                "v_20230912",
                "v_20231114",
                "v_20231212",
                "v_20240116",
                "v_20240213",
                "v_20240312",
                "v_20240416",
                "v_20240514",
                "v_20240611",
                "v_20240718",
                "v_20240813",
                "v_20240910",
                "v_20241015",
                "v_20241112",
                "v_20241217",
                "v_20250121",
                "v_20250218",
                "v_20250320",
                "v_20250415",
                "v_20250513",
                "v_20250610",
                "v_20250717",
                "v_20250812",
                "v_20250916"
               ]
              ],
              "y": [
               [
                465,
                465,
                465,
                465,
                465,
                465,
                465,
                465,
                465,
                465,
                465,
                465,
                465,
                465,
                465,
                465,
                465,
                465,
                465,
                465,
                465,
                465,
                465,
                465
               ]
              ]
             },
             {
              "title": {
               "text": "Vacancy Estimates Across Vintages",
               "x": 0.5,
               "xanchor": "center"
              }
             }
            ],
            "label": "2010-02",
            "method": "update"
           },
           {
            "args": [
             {
              "type": "line",
              "x": [
               [
                "v_20230912",
                "v_20231114",
                "v_20231212",
                "v_20240116",
                "v_20240213",
                "v_20240312",
                "v_20240416",
                "v_20240514",
                "v_20240611",
                "v_20240718",
                "v_20240813",
                "v_20240910",
                "v_20241015",
                "v_20241112",
                "v_20241217",
                "v_20250121",
                "v_20250218",
                "v_20250320",
                "v_20250415",
                "v_20250513",
                "v_20250610",
                "v_20250717",
                "v_20250812",
                "v_20250916"
               ]
              ],
              "y": [
               [
                469,
                469,
                469,
                469,
                469,
                469,
                469,
                469,
                469,
                469,
                469,
                469,
                469,
                469,
                469,
                469,
                469,
                469,
                467,
                467,
                467,
                467,
                467,
                467
               ]
              ]
             },
             {
              "title": {
               "text": "Vacancy Estimates Across Vintages",
               "x": 0.5,
               "xanchor": "center"
              }
             }
            ],
            "label": "2010-03",
            "method": "update"
           },
           {
            "args": [
             {
              "type": "line",
              "x": [
               [
                "v_20230912",
                "v_20231114",
                "v_20231212",
                "v_20240116",
                "v_20240213",
                "v_20240312",
                "v_20240416",
                "v_20240514",
                "v_20240611",
                "v_20240718",
                "v_20240813",
                "v_20240910",
                "v_20241015",
                "v_20241112",
                "v_20241217",
                "v_20250121",
                "v_20250218",
                "v_20250320",
                "v_20250415",
                "v_20250513",
                "v_20250610",
                "v_20250717",
                "v_20250812",
                "v_20250916"
               ]
              ],
              "y": [
               [
                479,
                479,
                479,
                479,
                479,
                479,
                479,
                479,
                479,
                479,
                479,
                479,
                479,
                479,
                479,
                479,
                479,
                479,
                479,
                479,
                479,
                479,
                479,
                479
               ]
              ]
             },
             {
              "title": {
               "text": "Vacancy Estimates Across Vintages",
               "x": 0.5,
               "xanchor": "center"
              }
             }
            ],
            "label": "2010-04",
            "method": "update"
           },
           {
            "args": [
             {
              "type": "line",
              "x": [
               [
                "v_20230912",
                "v_20231114",
                "v_20231212",
                "v_20240116",
                "v_20240213",
                "v_20240312",
                "v_20240416",
                "v_20240514",
                "v_20240611",
                "v_20240718",
                "v_20240813",
                "v_20240910",
                "v_20241015",
                "v_20241112",
                "v_20241217",
                "v_20250121",
                "v_20250218",
                "v_20250320",
                "v_20250415",
                "v_20250513",
                "v_20250610",
                "v_20250717",
                "v_20250812",
                "v_20250916"
               ]
              ],
              "y": [
               [
                484,
                484,
                484,
                484,
                484,
                484,
                484,
                484,
                484,
                484,
                484,
                484,
                484,
                484,
                484,
                484,
                484,
                484,
                484,
                484,
                484,
                484,
                484,
                484
               ]
              ]
             },
             {
              "title": {
               "text": "Vacancy Estimates Across Vintages",
               "x": 0.5,
               "xanchor": "center"
              }
             }
            ],
            "label": "2010-05",
            "method": "update"
           },
           {
            "args": [
             {
              "type": "line",
              "x": [
               [
                "v_20230912",
                "v_20231114",
                "v_20231212",
                "v_20240116",
                "v_20240213",
                "v_20240312",
                "v_20240416",
                "v_20240514",
                "v_20240611",
                "v_20240718",
                "v_20240813",
                "v_20240910",
                "v_20241015",
                "v_20241112",
                "v_20241217",
                "v_20250121",
                "v_20250218",
                "v_20250320",
                "v_20250415",
                "v_20250513",
                "v_20250610",
                "v_20250717",
                "v_20250812",
                "v_20250916"
               ]
              ],
              "y": [
               [
                479,
                479,
                479,
                479,
                479,
                479,
                479,
                479,
                479,
                479,
                479,
                479,
                479,
                479,
                479,
                479,
                479,
                479,
                479,
                479,
                479,
                479,
                479,
                479
               ]
              ]
             },
             {
              "title": {
               "text": "Vacancy Estimates Across Vintages",
               "x": 0.5,
               "xanchor": "center"
              }
             }
            ],
            "label": "2010-06",
            "method": "update"
           },
           {
            "args": [
             {
              "type": "line",
              "x": [
               [
                "v_20230912",
                "v_20231114",
                "v_20231212",
                "v_20240116",
                "v_20240213",
                "v_20240312",
                "v_20240416",
                "v_20240514",
                "v_20240611",
                "v_20240718",
                "v_20240813",
                "v_20240910",
                "v_20241015",
                "v_20241112",
                "v_20241217",
                "v_20250121",
                "v_20250218",
                "v_20250320",
                "v_20250415",
                "v_20250513",
                "v_20250610",
                "v_20250717",
                "v_20250812",
                "v_20250916"
               ]
              ],
              "y": [
               [
                461,
                461,
                461,
                461,
                461,
                461,
                461,
                461,
                461,
                461,
                461,
                461,
                461,
                461,
                461,
                461,
                461,
                461,
                461,
                461,
                461,
                461,
                461,
                461
               ]
              ]
             },
             {
              "title": {
               "text": "Vacancy Estimates Across Vintages",
               "x": 0.5,
               "xanchor": "center"
              }
             }
            ],
            "label": "2010-07",
            "method": "update"
           },
           {
            "args": [
             {
              "type": "line",
              "x": [
               [
                "v_20230912",
                "v_20231114",
                "v_20231212",
                "v_20240116",
                "v_20240213",
                "v_20240312",
                "v_20240416",
                "v_20240514",
                "v_20240611",
                "v_20240718",
                "v_20240813",
                "v_20240910",
                "v_20241015",
                "v_20241112",
                "v_20241217",
                "v_20250121",
                "v_20250218",
                "v_20250320",
                "v_20250415",
                "v_20250513",
                "v_20250610",
                "v_20250717",
                "v_20250812",
                "v_20250916"
               ]
              ],
              "y": [
               [
                455,
                455,
                455,
                455,
                455,
                455,
                455,
                455,
                455,
                455,
                455,
                455,
                455,
                455,
                455,
                455,
                455,
                455,
                455,
                455,
                455,
                455,
                455,
                455
               ]
              ]
             },
             {
              "title": {
               "text": "Vacancy Estimates Across Vintages",
               "x": 0.5,
               "xanchor": "center"
              }
             }
            ],
            "label": "2010-08",
            "method": "update"
           },
           {
            "args": [
             {
              "type": "line",
              "x": [
               [
                "v_20230912",
                "v_20231114",
                "v_20231212",
                "v_20240116",
                "v_20240213",
                "v_20240312",
                "v_20240416",
                "v_20240514",
                "v_20240611",
                "v_20240718",
                "v_20240813",
                "v_20240910",
                "v_20241015",
                "v_20241112",
                "v_20241217",
                "v_20250121",
                "v_20250218",
                "v_20250320",
                "v_20250415",
                "v_20250513",
                "v_20250610",
                "v_20250717",
                "v_20250812",
                "v_20250916"
               ]
              ],
              "y": [
               [
                454,
                454,
                454,
                454,
                454,
                454,
                454,
                454,
                454,
                454,
                454,
                454,
                454,
                454,
                454,
                454,
                454,
                454,
                455,
                455,
                455,
                455,
                455,
                455
               ]
              ]
             },
             {
              "title": {
               "text": "Vacancy Estimates Across Vintages",
               "x": 0.5,
               "xanchor": "center"
              }
             }
            ],
            "label": "2010-09",
            "method": "update"
           },
           {
            "args": [
             {
              "type": "line",
              "x": [
               [
                "v_20230912",
                "v_20231114",
                "v_20231212",
                "v_20240116",
                "v_20240213",
                "v_20240312",
                "v_20240416",
                "v_20240514",
                "v_20240611",
                "v_20240718",
                "v_20240813",
                "v_20240910",
                "v_20241015",
                "v_20241112",
                "v_20241217",
                "v_20250121",
                "v_20250218",
                "v_20250320",
                "v_20250415",
                "v_20250513",
                "v_20250610",
                "v_20250717",
                "v_20250812",
                "v_20250916"
               ]
              ],
              "y": [
               [
                474,
                474,
                474,
                474,
                474,
                474,
                474,
                474,
                474,
                474,
                474,
                474,
                474,
                474,
                474,
                474,
                474,
                474,
                474,
                474,
                474,
                474,
                474,
                474
               ]
              ]
             },
             {
              "title": {
               "text": "Vacancy Estimates Across Vintages",
               "x": 0.5,
               "xanchor": "center"
              }
             }
            ],
            "label": "2010-10",
            "method": "update"
           },
           {
            "args": [
             {
              "type": "line",
              "x": [
               [
                "v_20230912",
                "v_20231114",
                "v_20231212",
                "v_20240116",
                "v_20240213",
                "v_20240312",
                "v_20240416",
                "v_20240514",
                "v_20240611",
                "v_20240718",
                "v_20240813",
                "v_20240910",
                "v_20241015",
                "v_20241112",
                "v_20241217",
                "v_20250121",
                "v_20250218",
                "v_20250320",
                "v_20250415",
                "v_20250513",
                "v_20250610",
                "v_20250717",
                "v_20250812",
                "v_20250916"
               ]
              ],
              "y": [
               [
                483,
                483,
                483,
                483,
                483,
                483,
                483,
                483,
                483,
                483,
                483,
                483,
                483,
                483,
                483,
                483,
                483,
                483,
                483,
                483,
                483,
                483,
                483,
                483
               ]
              ]
             },
             {
              "title": {
               "text": "Vacancy Estimates Across Vintages",
               "x": 0.5,
               "xanchor": "center"
              }
             }
            ],
            "label": "2010-11",
            "method": "update"
           },
           {
            "args": [
             {
              "type": "line",
              "x": [
               [
                "v_20230912",
                "v_20231114",
                "v_20231212",
                "v_20240116",
                "v_20240213",
                "v_20240312",
                "v_20240416",
                "v_20240514",
                "v_20240611",
                "v_20240718",
                "v_20240813",
                "v_20240910",
                "v_20241015",
                "v_20241112",
                "v_20241217",
                "v_20250121",
                "v_20250218",
                "v_20250320",
                "v_20250415",
                "v_20250513",
                "v_20250610",
                "v_20250717",
                "v_20250812",
                "v_20250916"
               ]
              ],
              "y": [
               [
                493,
                493,
                493,
                493,
                493,
                493,
                493,
                493,
                493,
                493,
                493,
                493,
                493,
                493,
                493,
                493,
                493,
                493,
                495,
                495,
                495,
                495,
                495,
                495
               ]
              ]
             },
             {
              "title": {
               "text": "Vacancy Estimates Across Vintages",
               "x": 0.5,
               "xanchor": "center"
              }
             }
            ],
            "label": "2010-12",
            "method": "update"
           },
           {
            "args": [
             {
              "type": "line",
              "x": [
               [
                "v_20230912",
                "v_20231114",
                "v_20231212",
                "v_20240116",
                "v_20240213",
                "v_20240312",
                "v_20240416",
                "v_20240514",
                "v_20240611",
                "v_20240718",
                "v_20240813",
                "v_20240910",
                "v_20241015",
                "v_20241112",
                "v_20241217",
                "v_20250121",
                "v_20250218",
                "v_20250320",
                "v_20250415",
                "v_20250513",
                "v_20250610",
                "v_20250717",
                "v_20250812",
                "v_20250916"
               ]
              ],
              "y": [
               [
                490,
                490,
                490,
                490,
                490,
                490,
                490,
                490,
                490,
                490,
                490,
                490,
                490,
                490,
                490,
                490,
                490,
                490,
                490,
                490,
                490,
                490,
                490,
                490
               ]
              ]
             },
             {
              "title": {
               "text": "Vacancy Estimates Across Vintages",
               "x": 0.5,
               "xanchor": "center"
              }
             }
            ],
            "label": "2011-01",
            "method": "update"
           },
           {
            "args": [
             {
              "type": "line",
              "x": [
               [
                "v_20230912",
                "v_20231114",
                "v_20231212",
                "v_20240116",
                "v_20240213",
                "v_20240312",
                "v_20240416",
                "v_20240514",
                "v_20240611",
                "v_20240718",
                "v_20240813",
                "v_20240910",
                "v_20241015",
                "v_20241112",
                "v_20241217",
                "v_20250121",
                "v_20250218",
                "v_20250320",
                "v_20250415",
                "v_20250513",
                "v_20250610",
                "v_20250717",
                "v_20250812",
                "v_20250916"
               ]
              ],
              "y": [
               [
                484,
                484,
                484,
                484,
                484,
                484,
                484,
                484,
                484,
                484,
                484,
                484,
                484,
                484,
                484,
                484,
                484,
                484,
                483,
                483,
                483,
                483,
                483,
                483
               ]
              ]
             },
             {
              "title": {
               "text": "Vacancy Estimates Across Vintages",
               "x": 0.5,
               "xanchor": "center"
              }
             }
            ],
            "label": "2011-02",
            "method": "update"
           },
           {
            "args": [
             {
              "type": "line",
              "x": [
               [
                "v_20230912",
                "v_20231114",
                "v_20231212",
                "v_20240116",
                "v_20240213",
                "v_20240312",
                "v_20240416",
                "v_20240514",
                "v_20240611",
                "v_20240718",
                "v_20240813",
                "v_20240910",
                "v_20241015",
                "v_20241112",
                "v_20241217",
                "v_20250121",
                "v_20250218",
                "v_20250320",
                "v_20250415",
                "v_20250513",
                "v_20250610",
                "v_20250717",
                "v_20250812",
                "v_20250916"
               ]
              ],
              "y": [
               [
                472,
                472,
                472,
                472,
                472,
                472,
                472,
                472,
                472,
                472,
                472,
                472,
                472,
                472,
                472,
                472,
                472,
                472,
                472,
                472,
                472,
                472,
                472,
                472
               ]
              ]
             },
             {
              "title": {
               "text": "Vacancy Estimates Across Vintages",
               "x": 0.5,
               "xanchor": "center"
              }
             }
            ],
            "label": "2011-03",
            "method": "update"
           },
           {
            "args": [
             {
              "type": "line",
              "x": [
               [
                "v_20230912",
                "v_20231114",
                "v_20231212",
                "v_20240116",
                "v_20240213",
                "v_20240312",
                "v_20240416",
                "v_20240514",
                "v_20240611",
                "v_20240718",
                "v_20240813",
                "v_20240910",
                "v_20241015",
                "v_20241112",
                "v_20241217",
                "v_20250121",
                "v_20250218",
                "v_20250320",
                "v_20250415",
                "v_20250513",
                "v_20250610",
                "v_20250717",
                "v_20250812",
                "v_20250916"
               ]
              ],
              "y": [
               [
                461,
                461,
                461,
                461,
                461,
                461,
                461,
                461,
                461,
                461,
                461,
                461,
                461,
                461,
                461,
                461,
                461,
                461,
                461,
                461,
                461,
                461,
                461,
                461
               ]
              ]
             },
             {
              "title": {
               "text": "Vacancy Estimates Across Vintages",
               "x": 0.5,
               "xanchor": "center"
              }
             }
            ],
            "label": "2011-04",
            "method": "update"
           },
           {
            "args": [
             {
              "type": "line",
              "x": [
               [
                "v_20230912",
                "v_20231114",
                "v_20231212",
                "v_20240116",
                "v_20240213",
                "v_20240312",
                "v_20240416",
                "v_20240514",
                "v_20240611",
                "v_20240718",
                "v_20240813",
                "v_20240910",
                "v_20241015",
                "v_20241112",
                "v_20241217",
                "v_20250121",
                "v_20250218",
                "v_20250320",
                "v_20250415",
                "v_20250513",
                "v_20250610",
                "v_20250717",
                "v_20250812",
                "v_20250916"
               ]
              ],
              "y": [
               [
                460,
                460,
                460,
                460,
                460,
                460,
                461,
                461,
                461,
                461,
                461,
                461,
                461,
                461,
                461,
                461,
                461,
                461,
                460,
                460,
                460,
                460,
                460,
                460
               ]
              ]
             },
             {
              "title": {
               "text": "Vacancy Estimates Across Vintages",
               "x": 0.5,
               "xanchor": "center"
              }
             }
            ],
            "label": "2011-05",
            "method": "update"
           },
           {
            "args": [
             {
              "type": "line",
              "x": [
               [
                "v_20230912",
                "v_20231114",
                "v_20231212",
                "v_20240116",
                "v_20240213",
                "v_20240312",
                "v_20240416",
                "v_20240514",
                "v_20240611",
                "v_20240718",
                "v_20240813",
                "v_20240910",
                "v_20241015",
                "v_20241112",
                "v_20241217",
                "v_20250121",
                "v_20250218",
                "v_20250320",
                "v_20250415",
                "v_20250513",
                "v_20250610",
                "v_20250717",
                "v_20250812",
                "v_20250916"
               ]
              ],
              "y": [
               [
                457,
                457,
                457,
                457,
                457,
                457,
                457,
                457,
                457,
                457,
                457,
                457,
                457,
                457,
                457,
                457,
                457,
                457,
                457,
                457,
                457,
                457,
                457,
                457
               ]
              ]
             },
             {
              "title": {
               "text": "Vacancy Estimates Across Vintages",
               "x": 0.5,
               "xanchor": "center"
              }
             }
            ],
            "label": "2011-06",
            "method": "update"
           },
           {
            "args": [
             {
              "type": "line",
              "x": [
               [
                "v_20230912",
                "v_20231114",
                "v_20231212",
                "v_20240116",
                "v_20240213",
                "v_20240312",
                "v_20240416",
                "v_20240514",
                "v_20240611",
                "v_20240718",
                "v_20240813",
                "v_20240910",
                "v_20241015",
                "v_20241112",
                "v_20241217",
                "v_20250121",
                "v_20250218",
                "v_20250320",
                "v_20250415",
                "v_20250513",
                "v_20250610",
                "v_20250717",
                "v_20250812",
                "v_20250916"
               ]
              ],
              "y": [
               [
                462,
                462,
                462,
                462,
                462,
                462,
                462,
                462,
                462,
                462,
                462,
                462,
                462,
                462,
                462,
                462,
                462,
                462,
                462,
                462,
                462,
                462,
                462,
                462
               ]
              ]
             },
             {
              "title": {
               "text": "Vacancy Estimates Across Vintages",
               "x": 0.5,
               "xanchor": "center"
              }
             }
            ],
            "label": "2011-07",
            "method": "update"
           },
           {
            "args": [
             {
              "type": "line",
              "x": [
               [
                "v_20230912",
                "v_20231114",
                "v_20231212",
                "v_20240116",
                "v_20240213",
                "v_20240312",
                "v_20240416",
                "v_20240514",
                "v_20240611",
                "v_20240718",
                "v_20240813",
                "v_20240910",
                "v_20241015",
                "v_20241112",
                "v_20241217",
                "v_20250121",
                "v_20250218",
                "v_20250320",
                "v_20250415",
                "v_20250513",
                "v_20250610",
                "v_20250717",
                "v_20250812",
                "v_20250916"
               ]
              ],
              "y": [
               [
                464,
                464,
                464,
                464,
                464,
                464,
                464,
                464,
                464,
                464,
                464,
                464,
                464,
                464,
                464,
                464,
                464,
                464,
                464,
                464,
                464,
                464,
                464,
                464
               ]
              ]
             },
             {
              "title": {
               "text": "Vacancy Estimates Across Vintages",
               "x": 0.5,
               "xanchor": "center"
              }
             }
            ],
            "label": "2011-08",
            "method": "update"
           },
           {
            "args": [
             {
              "type": "line",
              "x": [
               [
                "v_20230912",
                "v_20231114",
                "v_20231212",
                "v_20240116",
                "v_20240213",
                "v_20240312",
                "v_20240416",
                "v_20240514",
                "v_20240611",
                "v_20240718",
                "v_20240813",
                "v_20240910",
                "v_20241015",
                "v_20241112",
                "v_20241217",
                "v_20250121",
                "v_20250218",
                "v_20250320",
                "v_20250415",
                "v_20250513",
                "v_20250610",
                "v_20250717",
                "v_20250812",
                "v_20250916"
               ]
              ],
              "y": [
               [
                467,
                467,
                467,
                467,
                467,
                467,
                466,
                466,
                466,
                466,
                466,
                466,
                466,
                466,
                466,
                466,
                466,
                466,
                467,
                467,
                467,
                467,
                467,
                467
               ]
              ]
             },
             {
              "title": {
               "text": "Vacancy Estimates Across Vintages",
               "x": 0.5,
               "xanchor": "center"
              }
             }
            ],
            "label": "2011-09",
            "method": "update"
           },
           {
            "args": [
             {
              "type": "line",
              "x": [
               [
                "v_20230912",
                "v_20231114",
                "v_20231212",
                "v_20240116",
                "v_20240213",
                "v_20240312",
                "v_20240416",
                "v_20240514",
                "v_20240611",
                "v_20240718",
                "v_20240813",
                "v_20240910",
                "v_20241015",
                "v_20241112",
                "v_20241217",
                "v_20250121",
                "v_20250218",
                "v_20250320",
                "v_20250415",
                "v_20250513",
                "v_20250610",
                "v_20250717",
                "v_20250812",
                "v_20250916"
               ]
              ],
              "y": [
               [
                462,
                462,
                462,
                462,
                462,
                462,
                462,
                462,
                462,
                462,
                462,
                462,
                462,
                462,
                462,
                462,
                462,
                462,
                462,
                462,
                462,
                462,
                462,
                462
               ]
              ]
             },
             {
              "title": {
               "text": "Vacancy Estimates Across Vintages",
               "x": 0.5,
               "xanchor": "center"
              }
             }
            ],
            "label": "2011-10",
            "method": "update"
           },
           {
            "args": [
             {
              "type": "line",
              "x": [
               [
                "v_20230912",
                "v_20231114",
                "v_20231212",
                "v_20240116",
                "v_20240213",
                "v_20240312",
                "v_20240416",
                "v_20240514",
                "v_20240611",
                "v_20240718",
                "v_20240813",
                "v_20240910",
                "v_20241015",
                "v_20241112",
                "v_20241217",
                "v_20250121",
                "v_20250218",
                "v_20250320",
                "v_20250415",
                "v_20250513",
                "v_20250610",
                "v_20250717",
                "v_20250812",
                "v_20250916"
               ]
              ],
              "y": [
               [
                465,
                465,
                465,
                465,
                465,
                465,
                465,
                465,
                465,
                465,
                465,
                465,
                465,
                465,
                465,
                465,
                465,
                465,
                465,
                465,
                465,
                465,
                465,
                465
               ]
              ]
             },
             {
              "title": {
               "text": "Vacancy Estimates Across Vintages",
               "x": 0.5,
               "xanchor": "center"
              }
             }
            ],
            "label": "2011-11",
            "method": "update"
           },
           {
            "args": [
             {
              "type": "line",
              "x": [
               [
                "v_20230912",
                "v_20231114",
                "v_20231212",
                "v_20240116",
                "v_20240213",
                "v_20240312",
                "v_20240416",
                "v_20240514",
                "v_20240611",
                "v_20240718",
                "v_20240813",
                "v_20240910",
                "v_20241015",
                "v_20241112",
                "v_20241217",
                "v_20250121",
                "v_20250218",
                "v_20250320",
                "v_20250415",
                "v_20250513",
                "v_20250610",
                "v_20250717",
                "v_20250812",
                "v_20250916"
               ]
              ],
              "y": [
               [
                473,
                473,
                473,
                473,
                473,
                473,
                473,
                473,
                473,
                473,
                473,
                473,
                473,
                473,
                473,
                473,
                473,
                473,
                476,
                476,
                476,
                476,
                476,
                476
               ]
              ]
             },
             {
              "title": {
               "text": "Vacancy Estimates Across Vintages",
               "x": 0.5,
               "xanchor": "center"
              }
             }
            ],
            "label": "2011-12",
            "method": "update"
           },
           {
            "args": [
             {
              "type": "line",
              "x": [
               [
                "v_20230912",
                "v_20231114",
                "v_20231212",
                "v_20240116",
                "v_20240213",
                "v_20240312",
                "v_20240416",
                "v_20240514",
                "v_20240611",
                "v_20240718",
                "v_20240813",
                "v_20240910",
                "v_20241015",
                "v_20241112",
                "v_20241217",
                "v_20250121",
                "v_20250218",
                "v_20250320",
                "v_20250415",
                "v_20250513",
                "v_20250610",
                "v_20250717",
                "v_20250812",
                "v_20250916"
               ]
              ],
              "y": [
               [
                473,
                473,
                473,
                473,
                473,
                473,
                473,
                473,
                473,
                473,
                473,
                473,
                473,
                473,
                473,
                473,
                473,
                473,
                473,
                473,
                473,
                473,
                473,
                473
               ]
              ]
             },
             {
              "title": {
               "text": "Vacancy Estimates Across Vintages",
               "x": 0.5,
               "xanchor": "center"
              }
             }
            ],
            "label": "2012-01",
            "method": "update"
           },
           {
            "args": [
             {
              "type": "line",
              "x": [
               [
                "v_20230912",
                "v_20231114",
                "v_20231212",
                "v_20240116",
                "v_20240213",
                "v_20240312",
                "v_20240416",
                "v_20240514",
                "v_20240611",
                "v_20240718",
                "v_20240813",
                "v_20240910",
                "v_20241015",
                "v_20241112",
                "v_20241217",
                "v_20250121",
                "v_20250218",
                "v_20250320",
                "v_20250415",
                "v_20250513",
                "v_20250610",
                "v_20250717",
                "v_20250812",
                "v_20250916"
               ]
              ],
              "y": [
               [
                467,
                467,
                467,
                467,
                467,
                467,
                467,
                467,
                467,
                467,
                467,
                467,
                467,
                467,
                467,
                467,
                467,
                467,
                467,
                467,
                467,
                467,
                467,
                467
               ]
              ]
             },
             {
              "title": {
               "text": "Vacancy Estimates Across Vintages",
               "x": 0.5,
               "xanchor": "center"
              }
             }
            ],
            "label": "2012-02",
            "method": "update"
           },
           {
            "args": [
             {
              "type": "line",
              "x": [
               [
                "v_20230912",
                "v_20231114",
                "v_20231212",
                "v_20240116",
                "v_20240213",
                "v_20240312",
                "v_20240416",
                "v_20240514",
                "v_20240611",
                "v_20240718",
                "v_20240813",
                "v_20240910",
                "v_20241015",
                "v_20241112",
                "v_20241217",
                "v_20250121",
                "v_20250218",
                "v_20250320",
                "v_20250415",
                "v_20250513",
                "v_20250610",
                "v_20250717",
                "v_20250812",
                "v_20250916"
               ]
              ],
              "y": [
               [
                465,
                465,
                465,
                465,
                465,
                465,
                465,
                465,
                465,
                465,
                465,
                465,
                465,
                465,
                465,
                465,
                465,
                465,
                465,
                465,
                465,
                465,
                465,
                465
               ]
              ]
             },
             {
              "title": {
               "text": "Vacancy Estimates Across Vintages",
               "x": 0.5,
               "xanchor": "center"
              }
             }
            ],
            "label": "2012-03",
            "method": "update"
           },
           {
            "args": [
             {
              "type": "line",
              "x": [
               [
                "v_20230912",
                "v_20231114",
                "v_20231212",
                "v_20240116",
                "v_20240213",
                "v_20240312",
                "v_20240416",
                "v_20240514",
                "v_20240611",
                "v_20240718",
                "v_20240813",
                "v_20240910",
                "v_20241015",
                "v_20241112",
                "v_20241217",
                "v_20250121",
                "v_20250218",
                "v_20250320",
                "v_20250415",
                "v_20250513",
                "v_20250610",
                "v_20250717",
                "v_20250812",
                "v_20250916"
               ]
              ],
              "y": [
               [
                471,
                471,
                471,
                471,
                471,
                471,
                471,
                471,
                471,
                471,
                471,
                471,
                471,
                471,
                471,
                471,
                471,
                471,
                470,
                470,
                470,
                470,
                470,
                470
               ]
              ]
             },
             {
              "title": {
               "text": "Vacancy Estimates Across Vintages",
               "x": 0.5,
               "xanchor": "center"
              }
             }
            ],
            "label": "2012-04",
            "method": "update"
           },
           {
            "args": [
             {
              "type": "line",
              "x": [
               [
                "v_20230912",
                "v_20231114",
                "v_20231212",
                "v_20240116",
                "v_20240213",
                "v_20240312",
                "v_20240416",
                "v_20240514",
                "v_20240611",
                "v_20240718",
                "v_20240813",
                "v_20240910",
                "v_20241015",
                "v_20241112",
                "v_20241217",
                "v_20250121",
                "v_20250218",
                "v_20250320",
                "v_20250415",
                "v_20250513",
                "v_20250610",
                "v_20250717",
                "v_20250812",
                "v_20250916"
               ]
              ],
              "y": [
               [
                474,
                474,
                474,
                474,
                474,
                474,
                474,
                474,
                474,
                474,
                474,
                474,
                474,
                474,
                474,
                474,
                474,
                474,
                474,
                474,
                474,
                474,
                474,
                474
               ]
              ]
             },
             {
              "title": {
               "text": "Vacancy Estimates Across Vintages",
               "x": 0.5,
               "xanchor": "center"
              }
             }
            ],
            "label": "2012-05",
            "method": "update"
           },
           {
            "args": [
             {
              "type": "line",
              "x": [
               [
                "v_20230912",
                "v_20231114",
                "v_20231212",
                "v_20240116",
                "v_20240213",
                "v_20240312",
                "v_20240416",
                "v_20240514",
                "v_20240611",
                "v_20240718",
                "v_20240813",
                "v_20240910",
                "v_20241015",
                "v_20241112",
                "v_20241217",
                "v_20250121",
                "v_20250218",
                "v_20250320",
                "v_20250415",
                "v_20250513",
                "v_20250610",
                "v_20250717",
                "v_20250812",
                "v_20250916"
               ]
              ],
              "y": [
               [
                479,
                479,
                479,
                479,
                479,
                479,
                480,
                480,
                480,
                480,
                480,
                480,
                480,
                480,
                480,
                480,
                480,
                480,
                479,
                479,
                479,
                479,
                479,
                479
               ]
              ]
             },
             {
              "title": {
               "text": "Vacancy Estimates Across Vintages",
               "x": 0.5,
               "xanchor": "center"
              }
             }
            ],
            "label": "2012-06",
            "method": "update"
           },
           {
            "args": [
             {
              "type": "line",
              "x": [
               [
                "v_20230912",
                "v_20231114",
                "v_20231212",
                "v_20240116",
                "v_20240213",
                "v_20240312",
                "v_20240416",
                "v_20240514",
                "v_20240611",
                "v_20240718",
                "v_20240813",
                "v_20240910",
                "v_20241015",
                "v_20241112",
                "v_20241217",
                "v_20250121",
                "v_20250218",
                "v_20250320",
                "v_20250415",
                "v_20250513",
                "v_20250610",
                "v_20250717",
                "v_20250812",
                "v_20250916"
               ]
              ],
              "y": [
               [
                484,
                484,
                484,
                484,
                484,
                484,
                484,
                484,
                484,
                484,
                484,
                484,
                484,
                484,
                484,
                484,
                484,
                484,
                483,
                483,
                483,
                483,
                483,
                483
               ]
              ]
             },
             {
              "title": {
               "text": "Vacancy Estimates Across Vintages",
               "x": 0.5,
               "xanchor": "center"
              }
             }
            ],
            "label": "2012-07",
            "method": "update"
           },
           {
            "args": [
             {
              "type": "line",
              "x": [
               [
                "v_20230912",
                "v_20231114",
                "v_20231212",
                "v_20240116",
                "v_20240213",
                "v_20240312",
                "v_20240416",
                "v_20240514",
                "v_20240611",
                "v_20240718",
                "v_20240813",
                "v_20240910",
                "v_20241015",
                "v_20241112",
                "v_20241217",
                "v_20250121",
                "v_20250218",
                "v_20250320",
                "v_20250415",
                "v_20250513",
                "v_20250610",
                "v_20250717",
                "v_20250812",
                "v_20250916"
               ]
              ],
              "y": [
               [
                488,
                488,
                488,
                488,
                488,
                488,
                488,
                488,
                488,
                488,
                488,
                488,
                488,
                488,
                488,
                488,
                488,
                488,
                487,
                487,
                487,
                487,
                487,
                487
               ]
              ]
             },
             {
              "title": {
               "text": "Vacancy Estimates Across Vintages",
               "x": 0.5,
               "xanchor": "center"
              }
             }
            ],
            "label": "2012-08",
            "method": "update"
           },
           {
            "args": [
             {
              "type": "line",
              "x": [
               [
                "v_20230912",
                "v_20231114",
                "v_20231212",
                "v_20240116",
                "v_20240213",
                "v_20240312",
                "v_20240416",
                "v_20240514",
                "v_20240611",
                "v_20240718",
                "v_20240813",
                "v_20240910",
                "v_20241015",
                "v_20241112",
                "v_20241217",
                "v_20250121",
                "v_20250218",
                "v_20250320",
                "v_20250415",
                "v_20250513",
                "v_20250610",
                "v_20250717",
                "v_20250812",
                "v_20250916"
               ]
              ],
              "y": [
               [
                491,
                491,
                491,
                491,
                491,
                491,
                490,
                490,
                490,
                490,
                490,
                490,
                490,
                490,
                490,
                490,
                490,
                490,
                490,
                490,
                490,
                490,
                490,
                490
               ]
              ]
             },
             {
              "title": {
               "text": "Vacancy Estimates Across Vintages",
               "x": 0.5,
               "xanchor": "center"
              }
             }
            ],
            "label": "2012-09",
            "method": "update"
           },
           {
            "args": [
             {
              "type": "line",
              "x": [
               [
                "v_20230912",
                "v_20231114",
                "v_20231212",
                "v_20240116",
                "v_20240213",
                "v_20240312",
                "v_20240416",
                "v_20240514",
                "v_20240611",
                "v_20240718",
                "v_20240813",
                "v_20240910",
                "v_20241015",
                "v_20241112",
                "v_20241217",
                "v_20250121",
                "v_20250218",
                "v_20250320",
                "v_20250415",
                "v_20250513",
                "v_20250610",
                "v_20250717",
                "v_20250812",
                "v_20250916"
               ]
              ],
              "y": [
               [
                494,
                494,
                494,
                494,
                494,
                494,
                494,
                494,
                494,
                494,
                494,
                494,
                494,
                494,
                494,
                494,
                494,
                494,
                493,
                493,
                493,
                493,
                493,
                493
               ]
              ]
             },
             {
              "title": {
               "text": "Vacancy Estimates Across Vintages",
               "x": 0.5,
               "xanchor": "center"
              }
             }
            ],
            "label": "2012-10",
            "method": "update"
           },
           {
            "args": [
             {
              "type": "line",
              "x": [
               [
                "v_20230912",
                "v_20231114",
                "v_20231212",
                "v_20240116",
                "v_20240213",
                "v_20240312",
                "v_20240416",
                "v_20240514",
                "v_20240611",
                "v_20240718",
                "v_20240813",
                "v_20240910",
                "v_20241015",
                "v_20241112",
                "v_20241217",
                "v_20250121",
                "v_20250218",
                "v_20250320",
                "v_20250415",
                "v_20250513",
                "v_20250610",
                "v_20250717",
                "v_20250812",
                "v_20250916"
               ]
              ],
              "y": [
               [
                501,
                501,
                501,
                501,
                501,
                501,
                501,
                501,
                501,
                501,
                501,
                501,
                501,
                501,
                501,
                501,
                501,
                501,
                501,
                501,
                501,
                501,
                501,
                501
               ]
              ]
             },
             {
              "title": {
               "text": "Vacancy Estimates Across Vintages",
               "x": 0.5,
               "xanchor": "center"
              }
             }
            ],
            "label": "2012-11",
            "method": "update"
           },
           {
            "args": [
             {
              "type": "line",
              "x": [
               [
                "v_20230912",
                "v_20231114",
                "v_20231212",
                "v_20240116",
                "v_20240213",
                "v_20240312",
                "v_20240416",
                "v_20240514",
                "v_20240611",
                "v_20240718",
                "v_20240813",
                "v_20240910",
                "v_20241015",
                "v_20241112",
                "v_20241217",
                "v_20250121",
                "v_20250218",
                "v_20250320",
                "v_20250415",
                "v_20250513",
                "v_20250610",
                "v_20250717",
                "v_20250812",
                "v_20250916"
               ]
              ],
              "y": [
               [
                501,
                501,
                501,
                501,
                501,
                501,
                500,
                500,
                500,
                500,
                500,
                500,
                500,
                500,
                500,
                500,
                500,
                500,
                503,
                503,
                503,
                503,
                503,
                503
               ]
              ]
             },
             {
              "title": {
               "text": "Vacancy Estimates Across Vintages",
               "x": 0.5,
               "xanchor": "center"
              }
             }
            ],
            "label": "2012-12",
            "method": "update"
           },
           {
            "args": [
             {
              "type": "line",
              "x": [
               [
                "v_20230912",
                "v_20231114",
                "v_20231212",
                "v_20240116",
                "v_20240213",
                "v_20240312",
                "v_20240416",
                "v_20240514",
                "v_20240611",
                "v_20240718",
                "v_20240813",
                "v_20240910",
                "v_20241015",
                "v_20241112",
                "v_20241217",
                "v_20250121",
                "v_20250218",
                "v_20250320",
                "v_20250415",
                "v_20250513",
                "v_20250610",
                "v_20250717",
                "v_20250812",
                "v_20250916"
               ]
              ],
              "y": [
               [
                504,
                504,
                504,
                504,
                504,
                504,
                505,
                505,
                505,
                505,
                505,
                505,
                505,
                505,
                505,
                505,
                505,
                505,
                505,
                505,
                505,
                505,
                505,
                505
               ]
              ]
             },
             {
              "title": {
               "text": "Vacancy Estimates Across Vintages",
               "x": 0.5,
               "xanchor": "center"
              }
             }
            ],
            "label": "2013-01",
            "method": "update"
           },
           {
            "args": [
             {
              "type": "line",
              "x": [
               [
                "v_20230912",
                "v_20231114",
                "v_20231212",
                "v_20240116",
                "v_20240213",
                "v_20240312",
                "v_20240416",
                "v_20240514",
                "v_20240611",
                "v_20240718",
                "v_20240813",
                "v_20240910",
                "v_20241015",
                "v_20241112",
                "v_20241217",
                "v_20250121",
                "v_20250218",
                "v_20250320",
                "v_20250415",
                "v_20250513",
                "v_20250610",
                "v_20250717",
                "v_20250812",
                "v_20250916"
               ]
              ],
              "y": [
               [
                504,
                504,
                504,
                504,
                504,
                504,
                504,
                504,
                504,
                504,
                504,
                504,
                504,
                504,
                504,
                504,
                504,
                504,
                506,
                506,
                506,
                506,
                506,
                506
               ]
              ]
             },
             {
              "title": {
               "text": "Vacancy Estimates Across Vintages",
               "x": 0.5,
               "xanchor": "center"
              }
             }
            ],
            "label": "2013-02",
            "method": "update"
           },
           {
            "args": [
             {
              "type": "line",
              "x": [
               [
                "v_20230912",
                "v_20231114",
                "v_20231212",
                "v_20240116",
                "v_20240213",
                "v_20240312",
                "v_20240416",
                "v_20240514",
                "v_20240611",
                "v_20240718",
                "v_20240813",
                "v_20240910",
                "v_20241015",
                "v_20241112",
                "v_20241217",
                "v_20250121",
                "v_20250218",
                "v_20250320",
                "v_20250415",
                "v_20250513",
                "v_20250610",
                "v_20250717",
                "v_20250812",
                "v_20250916"
               ]
              ],
              "y": [
               [
                516,
                516,
                516,
                516,
                516,
                516,
                516,
                516,
                516,
                516,
                516,
                516,
                516,
                516,
                516,
                516,
                516,
                516,
                515,
                515,
                515,
                515,
                515,
                515
               ]
              ]
             },
             {
              "title": {
               "text": "Vacancy Estimates Across Vintages",
               "x": 0.5,
               "xanchor": "center"
              }
             }
            ],
            "label": "2013-03",
            "method": "update"
           },
           {
            "args": [
             {
              "type": "line",
              "x": [
               [
                "v_20230912",
                "v_20231114",
                "v_20231212",
                "v_20240116",
                "v_20240213",
                "v_20240312",
                "v_20240416",
                "v_20240514",
                "v_20240611",
                "v_20240718",
                "v_20240813",
                "v_20240910",
                "v_20241015",
                "v_20241112",
                "v_20241217",
                "v_20250121",
                "v_20250218",
                "v_20250320",
                "v_20250415",
                "v_20250513",
                "v_20250610",
                "v_20250717",
                "v_20250812",
                "v_20250916"
               ]
              ],
              "y": [
               [
                522,
                522,
                522,
                522,
                522,
                522,
                523,
                523,
                523,
                523,
                523,
                523,
                523,
                523,
                523,
                523,
                523,
                523,
                522,
                522,
                522,
                522,
                522,
                522
               ]
              ]
             },
             {
              "title": {
               "text": "Vacancy Estimates Across Vintages",
               "x": 0.5,
               "xanchor": "center"
              }
             }
            ],
            "label": "2013-04",
            "method": "update"
           },
           {
            "args": [
             {
              "type": "line",
              "x": [
               [
                "v_20230912",
                "v_20231114",
                "v_20231212",
                "v_20240116",
                "v_20240213",
                "v_20240312",
                "v_20240416",
                "v_20240514",
                "v_20240611",
                "v_20240718",
                "v_20240813",
                "v_20240910",
                "v_20241015",
                "v_20241112",
                "v_20241217",
                "v_20250121",
                "v_20250218",
                "v_20250320",
                "v_20250415",
                "v_20250513",
                "v_20250610",
                "v_20250717",
                "v_20250812",
                "v_20250916"
               ]
              ],
              "y": [
               [
                533,
                533,
                533,
                533,
                533,
                533,
                534,
                534,
                534,
                534,
                534,
                534,
                534,
                534,
                534,
                534,
                534,
                534,
                533,
                533,
                533,
                533,
                533,
                533
               ]
              ]
             },
             {
              "title": {
               "text": "Vacancy Estimates Across Vintages",
               "x": 0.5,
               "xanchor": "center"
              }
             }
            ],
            "label": "2013-05",
            "method": "update"
           },
           {
            "args": [
             {
              "type": "line",
              "x": [
               [
                "v_20230912",
                "v_20231114",
                "v_20231212",
                "v_20240116",
                "v_20240213",
                "v_20240312",
                "v_20240416",
                "v_20240514",
                "v_20240611",
                "v_20240718",
                "v_20240813",
                "v_20240910",
                "v_20241015",
                "v_20241112",
                "v_20241217",
                "v_20250121",
                "v_20250218",
                "v_20250320",
                "v_20250415",
                "v_20250513",
                "v_20250610",
                "v_20250717",
                "v_20250812",
                "v_20250916"
               ]
              ],
              "y": [
               [
                540,
                540,
                540,
                540,
                540,
                540,
                540,
                540,
                540,
                540,
                540,
                540,
                540,
                540,
                540,
                540,
                540,
                540,
                539,
                539,
                539,
                539,
                539,
                539
               ]
              ]
             },
             {
              "title": {
               "text": "Vacancy Estimates Across Vintages",
               "x": 0.5,
               "xanchor": "center"
              }
             }
            ],
            "label": "2013-06",
            "method": "update"
           },
           {
            "args": [
             {
              "type": "line",
              "x": [
               [
                "v_20230912",
                "v_20231114",
                "v_20231212",
                "v_20240116",
                "v_20240213",
                "v_20240312",
                "v_20240416",
                "v_20240514",
                "v_20240611",
                "v_20240718",
                "v_20240813",
                "v_20240910",
                "v_20241015",
                "v_20241112",
                "v_20241217",
                "v_20250121",
                "v_20250218",
                "v_20250320",
                "v_20250415",
                "v_20250513",
                "v_20250610",
                "v_20250717",
                "v_20250812",
                "v_20250916"
               ]
              ],
              "y": [
               [
                536,
                536,
                536,
                536,
                536,
                536,
                536,
                536,
                536,
                536,
                536,
                536,
                536,
                536,
                536,
                536,
                536,
                536,
                536,
                536,
                536,
                536,
                536,
                536
               ]
              ]
             },
             {
              "title": {
               "text": "Vacancy Estimates Across Vintages",
               "x": 0.5,
               "xanchor": "center"
              }
             }
            ],
            "label": "2013-07",
            "method": "update"
           },
           {
            "args": [
             {
              "type": "line",
              "x": [
               [
                "v_20230912",
                "v_20231114",
                "v_20231212",
                "v_20240116",
                "v_20240213",
                "v_20240312",
                "v_20240416",
                "v_20240514",
                "v_20240611",
                "v_20240718",
                "v_20240813",
                "v_20240910",
                "v_20241015",
                "v_20241112",
                "v_20241217",
                "v_20250121",
                "v_20250218",
                "v_20250320",
                "v_20250415",
                "v_20250513",
                "v_20250610",
                "v_20250717",
                "v_20250812",
                "v_20250916"
               ]
              ],
              "y": [
               [
                548,
                548,
                548,
                548,
                548,
                548,
                548,
                548,
                548,
                548,
                548,
                548,
                548,
                548,
                548,
                548,
                548,
                548,
                547,
                547,
                547,
                547,
                547,
                547
               ]
              ]
             },
             {
              "title": {
               "text": "Vacancy Estimates Across Vintages",
               "x": 0.5,
               "xanchor": "center"
              }
             }
            ],
            "label": "2013-08",
            "method": "update"
           },
           {
            "args": [
             {
              "type": "line",
              "x": [
               [
                "v_20230912",
                "v_20231114",
                "v_20231212",
                "v_20240116",
                "v_20240213",
                "v_20240312",
                "v_20240416",
                "v_20240514",
                "v_20240611",
                "v_20240718",
                "v_20240813",
                "v_20240910",
                "v_20241015",
                "v_20241112",
                "v_20241217",
                "v_20250121",
                "v_20250218",
                "v_20250320",
                "v_20250415",
                "v_20250513",
                "v_20250610",
                "v_20250717",
                "v_20250812",
                "v_20250916"
               ]
              ],
              "y": [
               [
                553,
                553,
                553,
                553,
                553,
                553,
                552,
                552,
                552,
                552,
                552,
                552,
                552,
                552,
                552,
                552,
                552,
                552,
                552,
                552,
                552,
                552,
                552,
                552
               ]
              ]
             },
             {
              "title": {
               "text": "Vacancy Estimates Across Vintages",
               "x": 0.5,
               "xanchor": "center"
              }
             }
            ],
            "label": "2013-09",
            "method": "update"
           },
           {
            "args": [
             {
              "type": "line",
              "x": [
               [
                "v_20230912",
                "v_20231114",
                "v_20231212",
                "v_20240116",
                "v_20240213",
                "v_20240312",
                "v_20240416",
                "v_20240514",
                "v_20240611",
                "v_20240718",
                "v_20240813",
                "v_20240910",
                "v_20241015",
                "v_20241112",
                "v_20241217",
                "v_20250121",
                "v_20250218",
                "v_20250320",
                "v_20250415",
                "v_20250513",
                "v_20250610",
                "v_20250717",
                "v_20250812",
                "v_20250916"
               ]
              ],
              "y": [
               [
                568,
                568,
                568,
                568,
                568,
                568,
                567,
                567,
                567,
                567,
                567,
                567,
                567,
                567,
                567,
                567,
                567,
                567,
                567,
                567,
                567,
                567,
                567,
                567
               ]
              ]
             },
             {
              "title": {
               "text": "Vacancy Estimates Across Vintages",
               "x": 0.5,
               "xanchor": "center"
              }
             }
            ],
            "label": "2013-10",
            "method": "update"
           },
           {
            "args": [
             {
              "type": "line",
              "x": [
               [
                "v_20230912",
                "v_20231114",
                "v_20231212",
                "v_20240116",
                "v_20240213",
                "v_20240312",
                "v_20240416",
                "v_20240514",
                "v_20240611",
                "v_20240718",
                "v_20240813",
                "v_20240910",
                "v_20241015",
                "v_20241112",
                "v_20241217",
                "v_20250121",
                "v_20250218",
                "v_20250320",
                "v_20250415",
                "v_20250513",
                "v_20250610",
                "v_20250717",
                "v_20250812",
                "v_20250916"
               ]
              ],
              "y": [
               [
                573,
                573,
                573,
                573,
                573,
                573,
                572,
                572,
                572,
                572,
                572,
                572,
                572,
                572,
                572,
                572,
                572,
                572,
                573,
                573,
                573,
                573,
                573,
                573
               ]
              ]
             },
             {
              "title": {
               "text": "Vacancy Estimates Across Vintages",
               "x": 0.5,
               "xanchor": "center"
              }
             }
            ],
            "label": "2013-11",
            "method": "update"
           },
           {
            "args": [
             {
              "type": "line",
              "x": [
               [
                "v_20230912",
                "v_20231114",
                "v_20231212",
                "v_20240116",
                "v_20240213",
                "v_20240312",
                "v_20240416",
                "v_20240514",
                "v_20240611",
                "v_20240718",
                "v_20240813",
                "v_20240910",
                "v_20241015",
                "v_20241112",
                "v_20241217",
                "v_20250121",
                "v_20250218",
                "v_20250320",
                "v_20250415",
                "v_20250513",
                "v_20250610",
                "v_20250717",
                "v_20250812",
                "v_20250916"
               ]
              ],
              "y": [
               [
                581,
                581,
                581,
                581,
                581,
                581,
                581,
                581,
                581,
                581,
                581,
                581,
                581,
                581,
                581,
                581,
                581,
                581,
                584,
                584,
                584,
                584,
                584,
                584
               ]
              ]
             },
             {
              "title": {
               "text": "Vacancy Estimates Across Vintages",
               "x": 0.5,
               "xanchor": "center"
              }
             }
            ],
            "label": "2013-12",
            "method": "update"
           },
           {
            "args": [
             {
              "type": "line",
              "x": [
               [
                "v_20230912",
                "v_20231114",
                "v_20231212",
                "v_20240116",
                "v_20240213",
                "v_20240312",
                "v_20240416",
                "v_20240514",
                "v_20240611",
                "v_20240718",
                "v_20240813",
                "v_20240910",
                "v_20241015",
                "v_20241112",
                "v_20241217",
                "v_20250121",
                "v_20250218",
                "v_20250320",
                "v_20250415",
                "v_20250513",
                "v_20250610",
                "v_20250717",
                "v_20250812",
                "v_20250916"
               ]
              ],
              "y": [
               [
                595,
                595,
                595,
                595,
                595,
                595,
                595,
                595,
                595,
                595,
                595,
                595,
                595,
                595,
                595,
                595,
                595,
                595,
                596,
                596,
                596,
                596,
                596,
                596
               ]
              ]
             },
             {
              "title": {
               "text": "Vacancy Estimates Across Vintages",
               "x": 0.5,
               "xanchor": "center"
              }
             }
            ],
            "label": "2014-01",
            "method": "update"
           },
           {
            "args": [
             {
              "type": "line",
              "x": [
               [
                "v_20230912",
                "v_20231114",
                "v_20231212",
                "v_20240116",
                "v_20240213",
                "v_20240312",
                "v_20240416",
                "v_20240514",
                "v_20240611",
                "v_20240718",
                "v_20240813",
                "v_20240910",
                "v_20241015",
                "v_20241112",
                "v_20241217",
                "v_20250121",
                "v_20250218",
                "v_20250320",
                "v_20250415",
                "v_20250513",
                "v_20250610",
                "v_20250717",
                "v_20250812",
                "v_20250916"
               ]
              ],
              "y": [
               [
                615,
                615,
                615,
                615,
                615,
                615,
                616,
                616,
                616,
                616,
                616,
                616,
                616,
                616,
                616,
                616,
                616,
                616,
                616,
                616,
                616,
                616,
                616,
                616
               ]
              ]
             },
             {
              "title": {
               "text": "Vacancy Estimates Across Vintages",
               "x": 0.5,
               "xanchor": "center"
              }
             }
            ],
            "label": "2014-02",
            "method": "update"
           },
           {
            "args": [
             {
              "type": "line",
              "x": [
               [
                "v_20230912",
                "v_20231114",
                "v_20231212",
                "v_20240116",
                "v_20240213",
                "v_20240312",
                "v_20240416",
                "v_20240514",
                "v_20240611",
                "v_20240718",
                "v_20240813",
                "v_20240910",
                "v_20241015",
                "v_20241112",
                "v_20241217",
                "v_20250121",
                "v_20250218",
                "v_20250320",
                "v_20250415",
                "v_20250513",
                "v_20250610",
                "v_20250717",
                "v_20250812",
                "v_20250916"
               ]
              ],
              "y": [
               [
                637,
                637,
                637,
                637,
                637,
                637,
                638,
                638,
                638,
                638,
                638,
                638,
                638,
                638,
                638,
                638,
                638,
                638,
                639,
                639,
                639,
                639,
                639,
                639
               ]
              ]
             },
             {
              "title": {
               "text": "Vacancy Estimates Across Vintages",
               "x": 0.5,
               "xanchor": "center"
              }
             }
            ],
            "label": "2014-03",
            "method": "update"
           },
           {
            "args": [
             {
              "type": "line",
              "x": [
               [
                "v_20230912",
                "v_20231114",
                "v_20231212",
                "v_20240116",
                "v_20240213",
                "v_20240312",
                "v_20240416",
                "v_20240514",
                "v_20240611",
                "v_20240718",
                "v_20240813",
                "v_20240910",
                "v_20241015",
                "v_20241112",
                "v_20241217",
                "v_20250121",
                "v_20250218",
                "v_20250320",
                "v_20250415",
                "v_20250513",
                "v_20250610",
                "v_20250717",
                "v_20250812",
                "v_20250916"
               ]
              ],
              "y": [
               [
                653,
                653,
                653,
                653,
                653,
                653,
                654,
                654,
                654,
                654,
                654,
                654,
                654,
                654,
                654,
                654,
                654,
                654,
                653,
                653,
                653,
                653,
                653,
                653
               ]
              ]
             },
             {
              "title": {
               "text": "Vacancy Estimates Across Vintages",
               "x": 0.5,
               "xanchor": "center"
              }
             }
            ],
            "label": "2014-04",
            "method": "update"
           },
           {
            "args": [
             {
              "type": "line",
              "x": [
               [
                "v_20230912",
                "v_20231114",
                "v_20231212",
                "v_20240116",
                "v_20240213",
                "v_20240312",
                "v_20240416",
                "v_20240514",
                "v_20240611",
                "v_20240718",
                "v_20240813",
                "v_20240910",
                "v_20241015",
                "v_20241112",
                "v_20241217",
                "v_20250121",
                "v_20250218",
                "v_20250320",
                "v_20250415",
                "v_20250513",
                "v_20250610",
                "v_20250717",
                "v_20250812",
                "v_20250916"
               ]
              ],
              "y": [
               [
                662,
                662,
                662,
                662,
                662,
                662,
                663,
                663,
                663,
                663,
                663,
                663,
                663,
                663,
                663,
                663,
                663,
                663,
                661,
                661,
                661,
                661,
                661,
                661
               ]
              ]
             },
             {
              "title": {
               "text": "Vacancy Estimates Across Vintages",
               "x": 0.5,
               "xanchor": "center"
              }
             }
            ],
            "label": "2014-05",
            "method": "update"
           },
           {
            "args": [
             {
              "type": "line",
              "x": [
               [
                "v_20230912",
                "v_20231114",
                "v_20231212",
                "v_20240116",
                "v_20240213",
                "v_20240312",
                "v_20240416",
                "v_20240514",
                "v_20240611",
                "v_20240718",
                "v_20240813",
                "v_20240910",
                "v_20241015",
                "v_20241112",
                "v_20241217",
                "v_20250121",
                "v_20250218",
                "v_20250320",
                "v_20250415",
                "v_20250513",
                "v_20250610",
                "v_20250717",
                "v_20250812",
                "v_20250916"
               ]
              ],
              "y": [
               [
                670,
                670,
                670,
                670,
                670,
                670,
                670,
                670,
                670,
                670,
                670,
                670,
                670,
                670,
                670,
                670,
                670,
                670,
                669,
                669,
                669,
                669,
                669,
                669
               ]
              ]
             },
             {
              "title": {
               "text": "Vacancy Estimates Across Vintages",
               "x": 0.5,
               "xanchor": "center"
              }
             }
            ],
            "label": "2014-06",
            "method": "update"
           },
           {
            "args": [
             {
              "type": "line",
              "x": [
               [
                "v_20230912",
                "v_20231114",
                "v_20231212",
                "v_20240116",
                "v_20240213",
                "v_20240312",
                "v_20240416",
                "v_20240514",
                "v_20240611",
                "v_20240718",
                "v_20240813",
                "v_20240910",
                "v_20241015",
                "v_20241112",
                "v_20241217",
                "v_20250121",
                "v_20250218",
                "v_20250320",
                "v_20250415",
                "v_20250513",
                "v_20250610",
                "v_20250717",
                "v_20250812",
                "v_20250916"
               ]
              ],
              "y": [
               [
                682,
                682,
                682,
                682,
                682,
                682,
                681,
                681,
                681,
                681,
                681,
                681,
                681,
                681,
                681,
                681,
                681,
                681,
                681,
                681,
                681,
                681,
                681,
                681
               ]
              ]
             },
             {
              "title": {
               "text": "Vacancy Estimates Across Vintages",
               "x": 0.5,
               "xanchor": "center"
              }
             }
            ],
            "label": "2014-07",
            "method": "update"
           },
           {
            "args": [
             {
              "type": "line",
              "x": [
               [
                "v_20230912",
                "v_20231114",
                "v_20231212",
                "v_20240116",
                "v_20240213",
                "v_20240312",
                "v_20240416",
                "v_20240514",
                "v_20240611",
                "v_20240718",
                "v_20240813",
                "v_20240910",
                "v_20241015",
                "v_20241112",
                "v_20241217",
                "v_20250121",
                "v_20250218",
                "v_20250320",
                "v_20250415",
                "v_20250513",
                "v_20250610",
                "v_20250717",
                "v_20250812",
                "v_20250916"
               ]
              ],
              "y": [
               [
                687,
                687,
                687,
                687,
                687,
                687,
                687,
                687,
                687,
                687,
                687,
                687,
                687,
                687,
                687,
                687,
                687,
                687,
                686,
                686,
                686,
                686,
                686,
                686
               ]
              ]
             },
             {
              "title": {
               "text": "Vacancy Estimates Across Vintages",
               "x": 0.5,
               "xanchor": "center"
              }
             }
            ],
            "label": "2014-08",
            "method": "update"
           },
           {
            "args": [
             {
              "type": "line",
              "x": [
               [
                "v_20230912",
                "v_20231114",
                "v_20231212",
                "v_20240116",
                "v_20240213",
                "v_20240312",
                "v_20240416",
                "v_20240514",
                "v_20240611",
                "v_20240718",
                "v_20240813",
                "v_20240910",
                "v_20241015",
                "v_20241112",
                "v_20241217",
                "v_20250121",
                "v_20250218",
                "v_20250320",
                "v_20250415",
                "v_20250513",
                "v_20250610",
                "v_20250717",
                "v_20250812",
                "v_20250916"
               ]
              ],
              "y": [
               [
                703,
                703,
                703,
                703,
                703,
                703,
                702,
                702,
                702,
                702,
                702,
                702,
                702,
                702,
                702,
                702,
                702,
                702,
                702,
                702,
                702,
                702,
                702,
                702
               ]
              ]
             },
             {
              "title": {
               "text": "Vacancy Estimates Across Vintages",
               "x": 0.5,
               "xanchor": "center"
              }
             }
            ],
            "label": "2014-09",
            "method": "update"
           },
           {
            "args": [
             {
              "type": "line",
              "x": [
               [
                "v_20230912",
                "v_20231114",
                "v_20231212",
                "v_20240116",
                "v_20240213",
                "v_20240312",
                "v_20240416",
                "v_20240514",
                "v_20240611",
                "v_20240718",
                "v_20240813",
                "v_20240910",
                "v_20241015",
                "v_20241112",
                "v_20241217",
                "v_20250121",
                "v_20250218",
                "v_20250320",
                "v_20250415",
                "v_20250513",
                "v_20250610",
                "v_20250717",
                "v_20250812",
                "v_20250916"
               ]
              ],
              "y": [
               [
                704,
                704,
                704,
                704,
                704,
                704,
                703,
                703,
                703,
                703,
                703,
                703,
                703,
                703,
                703,
                703,
                703,
                703,
                702,
                702,
                702,
                702,
                702,
                702
               ]
              ]
             },
             {
              "title": {
               "text": "Vacancy Estimates Across Vintages",
               "x": 0.5,
               "xanchor": "center"
              }
             }
            ],
            "label": "2014-10",
            "method": "update"
           },
           {
            "args": [
             {
              "type": "line",
              "x": [
               [
                "v_20230912",
                "v_20231114",
                "v_20231212",
                "v_20240116",
                "v_20240213",
                "v_20240312",
                "v_20240416",
                "v_20240514",
                "v_20240611",
                "v_20240718",
                "v_20240813",
                "v_20240910",
                "v_20241015",
                "v_20241112",
                "v_20241217",
                "v_20250121",
                "v_20250218",
                "v_20250320",
                "v_20250415",
                "v_20250513",
                "v_20250610",
                "v_20250717",
                "v_20250812",
                "v_20250916"
               ]
              ],
              "y": [
               [
                708,
                708,
                708,
                708,
                708,
                708,
                707,
                707,
                707,
                707,
                707,
                707,
                707,
                707,
                707,
                707,
                707,
                707,
                708,
                708,
                708,
                708,
                708,
                708
               ]
              ]
             },
             {
              "title": {
               "text": "Vacancy Estimates Across Vintages",
               "x": 0.5,
               "xanchor": "center"
              }
             }
            ],
            "label": "2014-11",
            "method": "update"
           },
           {
            "args": [
             {
              "type": "line",
              "x": [
               [
                "v_20230912",
                "v_20231114",
                "v_20231212",
                "v_20240116",
                "v_20240213",
                "v_20240312",
                "v_20240416",
                "v_20240514",
                "v_20240611",
                "v_20240718",
                "v_20240813",
                "v_20240910",
                "v_20241015",
                "v_20241112",
                "v_20241217",
                "v_20250121",
                "v_20250218",
                "v_20250320",
                "v_20250415",
                "v_20250513",
                "v_20250610",
                "v_20250717",
                "v_20250812",
                "v_20250916"
               ]
              ],
              "y": [
               [
                708,
                708,
                708,
                708,
                708,
                708,
                708,
                708,
                708,
                708,
                708,
                708,
                708,
                708,
                708,
                708,
                708,
                708,
                712,
                712,
                712,
                712,
                712,
                712
               ]
              ]
             },
             {
              "title": {
               "text": "Vacancy Estimates Across Vintages",
               "x": 0.5,
               "xanchor": "center"
              }
             }
            ],
            "label": "2014-12",
            "method": "update"
           },
           {
            "args": [
             {
              "type": "line",
              "x": [
               [
                "v_20230912",
                "v_20231114",
                "v_20231212",
                "v_20240116",
                "v_20240213",
                "v_20240312",
                "v_20240416",
                "v_20240514",
                "v_20240611",
                "v_20240718",
                "v_20240813",
                "v_20240910",
                "v_20241015",
                "v_20241112",
                "v_20241217",
                "v_20250121",
                "v_20250218",
                "v_20250320",
                "v_20250415",
                "v_20250513",
                "v_20250610",
                "v_20250717",
                "v_20250812",
                "v_20250916"
               ]
              ],
              "y": [
               [
                719,
                719,
                719,
                719,
                719,
                719,
                720,
                720,
                720,
                720,
                720,
                720,
                720,
                720,
                720,
                720,
                720,
                720,
                722,
                722,
                722,
                722,
                722,
                722
               ]
              ]
             },
             {
              "title": {
               "text": "Vacancy Estimates Across Vintages",
               "x": 0.5,
               "xanchor": "center"
              }
             }
            ],
            "label": "2015-01",
            "method": "update"
           },
           {
            "args": [
             {
              "type": "line",
              "x": [
               [
                "v_20230912",
                "v_20231114",
                "v_20231212",
                "v_20240116",
                "v_20240213",
                "v_20240312",
                "v_20240416",
                "v_20240514",
                "v_20240611",
                "v_20240718",
                "v_20240813",
                "v_20240910",
                "v_20241015",
                "v_20241112",
                "v_20241217",
                "v_20250121",
                "v_20250218",
                "v_20250320",
                "v_20250415",
                "v_20250513",
                "v_20250610",
                "v_20250717",
                "v_20250812",
                "v_20250916"
               ]
              ],
              "y": [
               [
                727,
                727,
                727,
                727,
                727,
                727,
                729,
                729,
                729,
                729,
                729,
                729,
                729,
                729,
                729,
                729,
                729,
                729,
                730,
                730,
                730,
                730,
                730,
                730
               ]
              ]
             },
             {
              "title": {
               "text": "Vacancy Estimates Across Vintages",
               "x": 0.5,
               "xanchor": "center"
              }
             }
            ],
            "label": "2015-02",
            "method": "update"
           },
           {
            "args": [
             {
              "type": "line",
              "x": [
               [
                "v_20230912",
                "v_20231114",
                "v_20231212",
                "v_20240116",
                "v_20240213",
                "v_20240312",
                "v_20240416",
                "v_20240514",
                "v_20240611",
                "v_20240718",
                "v_20240813",
                "v_20240910",
                "v_20241015",
                "v_20241112",
                "v_20241217",
                "v_20250121",
                "v_20250218",
                "v_20250320",
                "v_20250415",
                "v_20250513",
                "v_20250610",
                "v_20250717",
                "v_20250812",
                "v_20250916"
               ]
              ],
              "y": [
               [
                727,
                727,
                727,
                727,
                727,
                727,
                728,
                728,
                728,
                728,
                728,
                728,
                728,
                728,
                728,
                728,
                728,
                728,
                726,
                726,
                726,
                726,
                726,
                726
               ]
              ]
             },
             {
              "title": {
               "text": "Vacancy Estimates Across Vintages",
               "x": 0.5,
               "xanchor": "center"
              }
             }
            ],
            "label": "2015-03",
            "method": "update"
           },
           {
            "args": [
             {
              "type": "line",
              "x": [
               [
                "v_20230912",
                "v_20231114",
                "v_20231212",
                "v_20240116",
                "v_20240213",
                "v_20240312",
                "v_20240416",
                "v_20240514",
                "v_20240611",
                "v_20240718",
                "v_20240813",
                "v_20240910",
                "v_20241015",
                "v_20241112",
                "v_20241217",
                "v_20250121",
                "v_20250218",
                "v_20250320",
                "v_20250415",
                "v_20250513",
                "v_20250610",
                "v_20250717",
                "v_20250812",
                "v_20250916"
               ]
              ],
              "y": [
               [
                727,
                727,
                727,
                727,
                727,
                727,
                728,
                728,
                728,
                728,
                728,
                728,
                728,
                728,
                728,
                728,
                728,
                728,
                727,
                727,
                727,
                727,
                727,
                727
               ]
              ]
             },
             {
              "title": {
               "text": "Vacancy Estimates Across Vintages",
               "x": 0.5,
               "xanchor": "center"
              }
             }
            ],
            "label": "2015-04",
            "method": "update"
           },
           {
            "args": [
             {
              "type": "line",
              "x": [
               [
                "v_20230912",
                "v_20231114",
                "v_20231212",
                "v_20240116",
                "v_20240213",
                "v_20240312",
                "v_20240416",
                "v_20240514",
                "v_20240611",
                "v_20240718",
                "v_20240813",
                "v_20240910",
                "v_20241015",
                "v_20241112",
                "v_20241217",
                "v_20250121",
                "v_20250218",
                "v_20250320",
                "v_20250415",
                "v_20250513",
                "v_20250610",
                "v_20250717",
                "v_20250812",
                "v_20250916"
               ]
              ],
              "y": [
               [
                732,
                732,
                732,
                732,
                732,
                732,
                732,
                732,
                732,
                732,
                732,
                732,
                732,
                732,
                732,
                732,
                732,
                732,
                730,
                730,
                730,
                730,
                730,
                730
               ]
              ]
             },
             {
              "title": {
               "text": "Vacancy Estimates Across Vintages",
               "x": 0.5,
               "xanchor": "center"
              }
             }
            ],
            "label": "2015-05",
            "method": "update"
           },
           {
            "args": [
             {
              "type": "line",
              "x": [
               [
                "v_20230912",
                "v_20231114",
                "v_20231212",
                "v_20240116",
                "v_20240213",
                "v_20240312",
                "v_20240416",
                "v_20240514",
                "v_20240611",
                "v_20240718",
                "v_20240813",
                "v_20240910",
                "v_20241015",
                "v_20241112",
                "v_20241217",
                "v_20250121",
                "v_20250218",
                "v_20250320",
                "v_20250415",
                "v_20250513",
                "v_20250610",
                "v_20250717",
                "v_20250812",
                "v_20250916"
               ]
              ],
              "y": [
               [
                742,
                742,
                742,
                742,
                742,
                742,
                742,
                742,
                742,
                742,
                742,
                742,
                742,
                742,
                742,
                742,
                742,
                742,
                741,
                741,
                741,
                741,
                741,
                741
               ]
              ]
             },
             {
              "title": {
               "text": "Vacancy Estimates Across Vintages",
               "x": 0.5,
               "xanchor": "center"
              }
             }
            ],
            "label": "2015-06",
            "method": "update"
           },
           {
            "args": [
             {
              "type": "line",
              "x": [
               [
                "v_20230912",
                "v_20231114",
                "v_20231212",
                "v_20240116",
                "v_20240213",
                "v_20240312",
                "v_20240416",
                "v_20240514",
                "v_20240611",
                "v_20240718",
                "v_20240813",
                "v_20240910",
                "v_20241015",
                "v_20241112",
                "v_20241217",
                "v_20250121",
                "v_20250218",
                "v_20250320",
                "v_20250415",
                "v_20250513",
                "v_20250610",
                "v_20250717",
                "v_20250812",
                "v_20250916"
               ]
              ],
              "y": [
               [
                743,
                743,
                743,
                743,
                743,
                743,
                742,
                742,
                742,
                742,
                742,
                742,
                742,
                742,
                742,
                742,
                742,
                742,
                742,
                742,
                742,
                742,
                742,
                742
               ]
              ]
             },
             {
              "title": {
               "text": "Vacancy Estimates Across Vintages",
               "x": 0.5,
               "xanchor": "center"
              }
             }
            ],
            "label": "2015-07",
            "method": "update"
           },
           {
            "args": [
             {
              "type": "line",
              "x": [
               [
                "v_20230912",
                "v_20231114",
                "v_20231212",
                "v_20240116",
                "v_20240213",
                "v_20240312",
                "v_20240416",
                "v_20240514",
                "v_20240611",
                "v_20240718",
                "v_20240813",
                "v_20240910",
                "v_20241015",
                "v_20241112",
                "v_20241217",
                "v_20250121",
                "v_20250218",
                "v_20250320",
                "v_20250415",
                "v_20250513",
                "v_20250610",
                "v_20250717",
                "v_20250812",
                "v_20250916"
               ]
              ],
              "y": [
               [
                742,
                742,
                742,
                742,
                742,
                742,
                742,
                742,
                742,
                742,
                742,
                742,
                742,
                742,
                742,
                742,
                742,
                742,
                741,
                741,
                741,
                741,
                741,
                741
               ]
              ]
             },
             {
              "title": {
               "text": "Vacancy Estimates Across Vintages",
               "x": 0.5,
               "xanchor": "center"
              }
             }
            ],
            "label": "2015-08",
            "method": "update"
           },
           {
            "args": [
             {
              "type": "line",
              "x": [
               [
                "v_20230912",
                "v_20231114",
                "v_20231212",
                "v_20240116",
                "v_20240213",
                "v_20240312",
                "v_20240416",
                "v_20240514",
                "v_20240611",
                "v_20240718",
                "v_20240813",
                "v_20240910",
                "v_20241015",
                "v_20241112",
                "v_20241217",
                "v_20250121",
                "v_20250218",
                "v_20250320",
                "v_20250415",
                "v_20250513",
                "v_20250610",
                "v_20250717",
                "v_20250812",
                "v_20250916"
               ]
              ],
              "y": [
               [
                743,
                743,
                743,
                743,
                743,
                743,
                741,
                741,
                741,
                741,
                741,
                741,
                741,
                741,
                741,
                741,
                741,
                741,
                741,
                741,
                741,
                741,
                741,
                741
               ]
              ]
             },
             {
              "title": {
               "text": "Vacancy Estimates Across Vintages",
               "x": 0.5,
               "xanchor": "center"
              }
             }
            ],
            "label": "2015-09",
            "method": "update"
           },
           {
            "args": [
             {
              "type": "line",
              "x": [
               [
                "v_20230912",
                "v_20231114",
                "v_20231212",
                "v_20240116",
                "v_20240213",
                "v_20240312",
                "v_20240416",
                "v_20240514",
                "v_20240611",
                "v_20240718",
                "v_20240813",
                "v_20240910",
                "v_20241015",
                "v_20241112",
                "v_20241217",
                "v_20250121",
                "v_20250218",
                "v_20250320",
                "v_20250415",
                "v_20250513",
                "v_20250610",
                "v_20250717",
                "v_20250812",
                "v_20250916"
               ]
              ],
              "y": [
               [
                743,
                743,
                743,
                743,
                743,
                743,
                742,
                742,
                742,
                742,
                742,
                742,
                742,
                742,
                742,
                742,
                742,
                742,
                741,
                741,
                741,
                741,
                741,
                741
               ]
              ]
             },
             {
              "title": {
               "text": "Vacancy Estimates Across Vintages",
               "x": 0.5,
               "xanchor": "center"
              }
             }
            ],
            "label": "2015-10",
            "method": "update"
           },
           {
            "args": [
             {
              "type": "line",
              "x": [
               [
                "v_20230912",
                "v_20231114",
                "v_20231212",
                "v_20240116",
                "v_20240213",
                "v_20240312",
                "v_20240416",
                "v_20240514",
                "v_20240611",
                "v_20240718",
                "v_20240813",
                "v_20240910",
                "v_20241015",
                "v_20241112",
                "v_20241217",
                "v_20250121",
                "v_20250218",
                "v_20250320",
                "v_20250415",
                "v_20250513",
                "v_20250610",
                "v_20250717",
                "v_20250812",
                "v_20250916"
               ]
              ],
              "y": [
               [
                745,
                745,
                745,
                745,
                745,
                745,
                743,
                743,
                743,
                743,
                743,
                743,
                743,
                743,
                743,
                743,
                743,
                743,
                746,
                746,
                746,
                746,
                746,
                746
               ]
              ]
             },
             {
              "title": {
               "text": "Vacancy Estimates Across Vintages",
               "x": 0.5,
               "xanchor": "center"
              }
             }
            ],
            "label": "2015-11",
            "method": "update"
           },
           {
            "args": [
             {
              "type": "line",
              "x": [
               [
                "v_20230912",
                "v_20231114",
                "v_20231212",
                "v_20240116",
                "v_20240213",
                "v_20240312",
                "v_20240416",
                "v_20240514",
                "v_20240611",
                "v_20240718",
                "v_20240813",
                "v_20240910",
                "v_20241015",
                "v_20241112",
                "v_20241217",
                "v_20250121",
                "v_20250218",
                "v_20250320",
                "v_20250415",
                "v_20250513",
                "v_20250610",
                "v_20250717",
                "v_20250812",
                "v_20250916"
               ]
              ],
              "y": [
               [
                747,
                747,
                747,
                747,
                747,
                747,
                746,
                746,
                746,
                746,
                746,
                746,
                746,
                746,
                746,
                746,
                746,
                746,
                750,
                750,
                750,
                750,
                750,
                750
               ]
              ]
             },
             {
              "title": {
               "text": "Vacancy Estimates Across Vintages",
               "x": 0.5,
               "xanchor": "center"
              }
             }
            ],
            "label": "2015-12",
            "method": "update"
           },
           {
            "args": [
             {
              "type": "line",
              "x": [
               [
                "v_20230912",
                "v_20231114",
                "v_20231212",
                "v_20240116",
                "v_20240213",
                "v_20240312",
                "v_20240416",
                "v_20240514",
                "v_20240611",
                "v_20240718",
                "v_20240813",
                "v_20240910",
                "v_20241015",
                "v_20241112",
                "v_20241217",
                "v_20250121",
                "v_20250218",
                "v_20250320",
                "v_20250415",
                "v_20250513",
                "v_20250610",
                "v_20250717",
                "v_20250812",
                "v_20250916"
               ]
              ],
              "y": [
               [
                743,
                743,
                743,
                743,
                743,
                743,
                745,
                745,
                745,
                745,
                745,
                745,
                745,
                745,
                745,
                745,
                745,
                745,
                748,
                748,
                748,
                748,
                748,
                748
               ]
              ]
             },
             {
              "title": {
               "text": "Vacancy Estimates Across Vintages",
               "x": 0.5,
               "xanchor": "center"
              }
             }
            ],
            "label": "2016-01",
            "method": "update"
           },
           {
            "args": [
             {
              "type": "line",
              "x": [
               [
                "v_20230912",
                "v_20231114",
                "v_20231212",
                "v_20240116",
                "v_20240213",
                "v_20240312",
                "v_20240416",
                "v_20240514",
                "v_20240611",
                "v_20240718",
                "v_20240813",
                "v_20240910",
                "v_20241015",
                "v_20241112",
                "v_20241217",
                "v_20250121",
                "v_20250218",
                "v_20250320",
                "v_20250415",
                "v_20250513",
                "v_20250610",
                "v_20250717",
                "v_20250812",
                "v_20250916"
               ]
              ],
              "y": [
               [
                744,
                744,
                744,
                744,
                744,
                744,
                746,
                746,
                746,
                746,
                746,
                746,
                746,
                746,
                746,
                746,
                746,
                746,
                748,
                748,
                748,
                748,
                748,
                748
               ]
              ]
             },
             {
              "title": {
               "text": "Vacancy Estimates Across Vintages",
               "x": 0.5,
               "xanchor": "center"
              }
             }
            ],
            "label": "2016-02",
            "method": "update"
           },
           {
            "args": [
             {
              "type": "line",
              "x": [
               [
                "v_20230912",
                "v_20231114",
                "v_20231212",
                "v_20240116",
                "v_20240213",
                "v_20240312",
                "v_20240416",
                "v_20240514",
                "v_20240611",
                "v_20240718",
                "v_20240813",
                "v_20240910",
                "v_20241015",
                "v_20241112",
                "v_20241217",
                "v_20250121",
                "v_20250218",
                "v_20250320",
                "v_20250415",
                "v_20250513",
                "v_20250610",
                "v_20250717",
                "v_20250812",
                "v_20250916"
               ]
              ],
              "y": [
               [
                744,
                744,
                744,
                744,
                744,
                744,
                745,
                745,
                745,
                745,
                745,
                745,
                745,
                745,
                745,
                745,
                745,
                745,
                742,
                742,
                742,
                742,
                742,
                742
               ]
              ]
             },
             {
              "title": {
               "text": "Vacancy Estimates Across Vintages",
               "x": 0.5,
               "xanchor": "center"
              }
             }
            ],
            "label": "2016-03",
            "method": "update"
           },
           {
            "args": [
             {
              "type": "line",
              "x": [
               [
                "v_20230912",
                "v_20231114",
                "v_20231212",
                "v_20240116",
                "v_20240213",
                "v_20240312",
                "v_20240416",
                "v_20240514",
                "v_20240611",
                "v_20240718",
                "v_20240813",
                "v_20240910",
                "v_20241015",
                "v_20241112",
                "v_20241217",
                "v_20250121",
                "v_20250218",
                "v_20250320",
                "v_20250415",
                "v_20250513",
                "v_20250610",
                "v_20250717",
                "v_20250812",
                "v_20250916"
               ]
              ],
              "y": [
               [
                747,
                747,
                747,
                747,
                747,
                747,
                748,
                748,
                748,
                748,
                748,
                748,
                748,
                748,
                748,
                748,
                748,
                748,
                745,
                745,
                745,
                745,
                745,
                745
               ]
              ]
             },
             {
              "title": {
               "text": "Vacancy Estimates Across Vintages",
               "x": 0.5,
               "xanchor": "center"
              }
             }
            ],
            "label": "2016-04",
            "method": "update"
           },
           {
            "args": [
             {
              "type": "line",
              "x": [
               [
                "v_20230912",
                "v_20231114",
                "v_20231212",
                "v_20240116",
                "v_20240213",
                "v_20240312",
                "v_20240416",
                "v_20240514",
                "v_20240611",
                "v_20240718",
                "v_20240813",
                "v_20240910",
                "v_20241015",
                "v_20241112",
                "v_20241217",
                "v_20250121",
                "v_20250218",
                "v_20250320",
                "v_20250415",
                "v_20250513",
                "v_20250610",
                "v_20250717",
                "v_20250812",
                "v_20250916"
               ]
              ],
              "y": [
               [
                750,
                750,
                750,
                750,
                750,
                750,
                750,
                750,
                750,
                750,
                750,
                750,
                750,
                750,
                750,
                750,
                750,
                750,
                746,
                746,
                746,
                746,
                746,
                746
               ]
              ]
             },
             {
              "title": {
               "text": "Vacancy Estimates Across Vintages",
               "x": 0.5,
               "xanchor": "center"
              }
             }
            ],
            "label": "2016-05",
            "method": "update"
           },
           {
            "args": [
             {
              "type": "line",
              "x": [
               [
                "v_20230912",
                "v_20231114",
                "v_20231212",
                "v_20240116",
                "v_20240213",
                "v_20240312",
                "v_20240416",
                "v_20240514",
                "v_20240611",
                "v_20240718",
                "v_20240813",
                "v_20240910",
                "v_20241015",
                "v_20241112",
                "v_20241217",
                "v_20250121",
                "v_20250218",
                "v_20250320",
                "v_20250415",
                "v_20250513",
                "v_20250610",
                "v_20250717",
                "v_20250812",
                "v_20250916"
               ]
              ],
              "y": [
               [
                749,
                749,
                749,
                749,
                749,
                749,
                749,
                749,
                749,
                749,
                749,
                749,
                749,
                749,
                749,
                749,
                749,
                749,
                747,
                747,
                747,
                747,
                747,
                747
               ]
              ]
             },
             {
              "title": {
               "text": "Vacancy Estimates Across Vintages",
               "x": 0.5,
               "xanchor": "center"
              }
             }
            ],
            "label": "2016-06",
            "method": "update"
           },
           {
            "args": [
             {
              "type": "line",
              "x": [
               [
                "v_20230912",
                "v_20231114",
                "v_20231212",
                "v_20240116",
                "v_20240213",
                "v_20240312",
                "v_20240416",
                "v_20240514",
                "v_20240611",
                "v_20240718",
                "v_20240813",
                "v_20240910",
                "v_20241015",
                "v_20241112",
                "v_20241217",
                "v_20250121",
                "v_20250218",
                "v_20250320",
                "v_20250415",
                "v_20250513",
                "v_20250610",
                "v_20250717",
                "v_20250812",
                "v_20250916"
               ]
              ],
              "y": [
               [
                754,
                754,
                754,
                754,
                754,
                754,
                753,
                753,
                753,
                753,
                753,
                753,
                753,
                753,
                753,
                753,
                753,
                753,
                752,
                752,
                752,
                752,
                752,
                752
               ]
              ]
             },
             {
              "title": {
               "text": "Vacancy Estimates Across Vintages",
               "x": 0.5,
               "xanchor": "center"
              }
             }
            ],
            "label": "2016-07",
            "method": "update"
           },
           {
            "args": [
             {
              "type": "line",
              "x": [
               [
                "v_20230912",
                "v_20231114",
                "v_20231212",
                "v_20240116",
                "v_20240213",
                "v_20240312",
                "v_20240416",
                "v_20240514",
                "v_20240611",
                "v_20240718",
                "v_20240813",
                "v_20240910",
                "v_20241015",
                "v_20241112",
                "v_20241217",
                "v_20250121",
                "v_20250218",
                "v_20250320",
                "v_20250415",
                "v_20250513",
                "v_20250610",
                "v_20250717",
                "v_20250812",
                "v_20250916"
               ]
              ],
              "y": [
               [
                755,
                755,
                755,
                755,
                755,
                755,
                755,
                755,
                755,
                755,
                755,
                755,
                755,
                755,
                755,
                755,
                755,
                755,
                753,
                753,
                753,
                753,
                753,
                753
               ]
              ]
             },
             {
              "title": {
               "text": "Vacancy Estimates Across Vintages",
               "x": 0.5,
               "xanchor": "center"
              }
             }
            ],
            "label": "2016-08",
            "method": "update"
           },
           {
            "args": [
             {
              "type": "line",
              "x": [
               [
                "v_20230912",
                "v_20231114",
                "v_20231212",
                "v_20240116",
                "v_20240213",
                "v_20240312",
                "v_20240416",
                "v_20240514",
                "v_20240611",
                "v_20240718",
                "v_20240813",
                "v_20240910",
                "v_20241015",
                "v_20241112",
                "v_20241217",
                "v_20250121",
                "v_20250218",
                "v_20250320",
                "v_20250415",
                "v_20250513",
                "v_20250610",
                "v_20250717",
                "v_20250812",
                "v_20250916"
               ]
              ],
              "y": [
               [
                758,
                758,
                758,
                758,
                758,
                758,
                762,
                762,
                762,
                762,
                762,
                762,
                762,
                762,
                762,
                762,
                762,
                762,
                765,
                765,
                765,
                765,
                765,
                765
               ]
              ]
             },
             {
              "title": {
               "text": "Vacancy Estimates Across Vintages",
               "x": 0.5,
               "xanchor": "center"
              }
             }
            ],
            "label": "2016-09",
            "method": "update"
           },
           {
            "args": [
             {
              "type": "line",
              "x": [
               [
                "v_20230912",
                "v_20231114",
                "v_20231212",
                "v_20240116",
                "v_20240213",
                "v_20240312",
                "v_20240416",
                "v_20240514",
                "v_20240611",
                "v_20240718",
                "v_20240813",
                "v_20240910",
                "v_20241015",
                "v_20241112",
                "v_20241217",
                "v_20250121",
                "v_20250218",
                "v_20250320",
                "v_20250415",
                "v_20250513",
                "v_20250610",
                "v_20250717",
                "v_20250812",
                "v_20250916"
               ]
              ],
              "y": [
               [
                755,
                755,
                755,
                755,
                755,
                755,
                758,
                758,
                758,
                758,
                758,
                758,
                758,
                758,
                758,
                758,
                758,
                758,
                758,
                758,
                758,
                758,
                758,
                758
               ]
              ]
             },
             {
              "title": {
               "text": "Vacancy Estimates Across Vintages",
               "x": 0.5,
               "xanchor": "center"
              }
             }
            ],
            "label": "2016-10",
            "method": "update"
           },
           {
            "args": [
             {
              "type": "line",
              "x": [
               [
                "v_20230912",
                "v_20231114",
                "v_20231212",
                "v_20240116",
                "v_20240213",
                "v_20240312",
                "v_20240416",
                "v_20240514",
                "v_20240611",
                "v_20240718",
                "v_20240813",
                "v_20240910",
                "v_20241015",
                "v_20241112",
                "v_20241217",
                "v_20250121",
                "v_20250218",
                "v_20250320",
                "v_20250415",
                "v_20250513",
                "v_20250610",
                "v_20250717",
                "v_20250812",
                "v_20250916"
               ]
              ],
              "y": [
               [
                757,
                757,
                757,
                757,
                757,
                757,
                758,
                758,
                758,
                758,
                758,
                758,
                758,
                758,
                758,
                758,
                758,
                758,
                755,
                755,
                755,
                755,
                755,
                755
               ]
              ]
             },
             {
              "title": {
               "text": "Vacancy Estimates Across Vintages",
               "x": 0.5,
               "xanchor": "center"
              }
             }
            ],
            "label": "2016-11",
            "method": "update"
           },
           {
            "args": [
             {
              "type": "line",
              "x": [
               [
                "v_20230912",
                "v_20231114",
                "v_20231212",
                "v_20240116",
                "v_20240213",
                "v_20240312",
                "v_20240416",
                "v_20240514",
                "v_20240611",
                "v_20240718",
                "v_20240813",
                "v_20240910",
                "v_20241015",
                "v_20241112",
                "v_20241217",
                "v_20250121",
                "v_20250218",
                "v_20250320",
                "v_20250415",
                "v_20250513",
                "v_20250610",
                "v_20250717",
                "v_20250812",
                "v_20250916"
               ]
              ],
              "y": [
               [
                759,
                759,
                759,
                759,
                759,
                759,
                754,
                754,
                754,
                754,
                754,
                754,
                754,
                754,
                754,
                754,
                754,
                754,
                748,
                748,
                748,
                748,
                748,
                748
               ]
              ]
             },
             {
              "title": {
               "text": "Vacancy Estimates Across Vintages",
               "x": 0.5,
               "xanchor": "center"
              }
             }
            ],
            "label": "2016-12",
            "method": "update"
           },
           {
            "args": [
             {
              "type": "line",
              "x": [
               [
                "v_20230912",
                "v_20231114",
                "v_20231212",
                "v_20240116",
                "v_20240213",
                "v_20240312",
                "v_20240416",
                "v_20240514",
                "v_20240611",
                "v_20240718",
                "v_20240813",
                "v_20240910",
                "v_20241015",
                "v_20241112",
                "v_20241217",
                "v_20250121",
                "v_20250218",
                "v_20250320",
                "v_20250415",
                "v_20250513",
                "v_20250610",
                "v_20250717",
                "v_20250812",
                "v_20250916"
               ]
              ],
              "y": [
               [
                770,
                770,
                770,
                770,
                770,
                770,
                767,
                767,
                767,
                767,
                767,
                767,
                767,
                767,
                767,
                767,
                767,
                767,
                764,
                764,
                764,
                764,
                764,
                764
               ]
              ]
             },
             {
              "title": {
               "text": "Vacancy Estimates Across Vintages",
               "x": 0.5,
               "xanchor": "center"
              }
             }
            ],
            "label": "2017-01",
            "method": "update"
           },
           {
            "args": [
             {
              "type": "line",
              "x": [
               [
                "v_20230912",
                "v_20231114",
                "v_20231212",
                "v_20240116",
                "v_20240213",
                "v_20240312",
                "v_20240416",
                "v_20240514",
                "v_20240611",
                "v_20240718",
                "v_20240813",
                "v_20240910",
                "v_20241015",
                "v_20241112",
                "v_20241217",
                "v_20250121",
                "v_20250218",
                "v_20250320",
                "v_20250415",
                "v_20250513",
                "v_20250610",
                "v_20250717",
                "v_20250812",
                "v_20250916"
               ]
              ],
              "y": [
               [
                777,
                777,
                777,
                777,
                777,
                777,
                773,
                773,
                773,
                773,
                773,
                773,
                773,
                773,
                773,
                773,
                773,
                773,
                771,
                771,
                771,
                771,
                771,
                771
               ]
              ]
             },
             {
              "title": {
               "text": "Vacancy Estimates Across Vintages",
               "x": 0.5,
               "xanchor": "center"
              }
             }
            ],
            "label": "2017-02",
            "method": "update"
           },
           {
            "args": [
             {
              "type": "line",
              "x": [
               [
                "v_20230912",
                "v_20231114",
                "v_20231212",
                "v_20240116",
                "v_20240213",
                "v_20240312",
                "v_20240416",
                "v_20240514",
                "v_20240611",
                "v_20240718",
                "v_20240813",
                "v_20240910",
                "v_20241015",
                "v_20241112",
                "v_20241217",
                "v_20250121",
                "v_20250218",
                "v_20250320",
                "v_20250415",
                "v_20250513",
                "v_20250610",
                "v_20250717",
                "v_20250812",
                "v_20250916"
               ]
              ],
              "y": [
               [
                792,
                792,
                792,
                792,
                792,
                792,
                788,
                788,
                788,
                788,
                788,
                788,
                788,
                788,
                788,
                788,
                788,
                788,
                791,
                791,
                791,
                791,
                791,
                791
               ]
              ]
             },
             {
              "title": {
               "text": "Vacancy Estimates Across Vintages",
               "x": 0.5,
               "xanchor": "center"
              }
             }
            ],
            "label": "2017-03",
            "method": "update"
           },
           {
            "args": [
             {
              "type": "line",
              "x": [
               [
                "v_20230912",
                "v_20231114",
                "v_20231212",
                "v_20240116",
                "v_20240213",
                "v_20240312",
                "v_20240416",
                "v_20240514",
                "v_20240611",
                "v_20240718",
                "v_20240813",
                "v_20240910",
                "v_20241015",
                "v_20241112",
                "v_20241217",
                "v_20250121",
                "v_20250218",
                "v_20250320",
                "v_20250415",
                "v_20250513",
                "v_20250610",
                "v_20250717",
                "v_20250812",
                "v_20250916"
               ]
              ],
              "y": [
               [
                784,
                784,
                784,
                784,
                784,
                784,
                783,
                783,
                783,
                783,
                783,
                783,
                783,
                783,
                783,
                783,
                783,
                783,
                786,
                786,
                786,
                786,
                786,
                786
               ]
              ]
             },
             {
              "title": {
               "text": "Vacancy Estimates Across Vintages",
               "x": 0.5,
               "xanchor": "center"
              }
             }
            ],
            "label": "2017-04",
            "method": "update"
           },
           {
            "args": [
             {
              "type": "line",
              "x": [
               [
                "v_20230912",
                "v_20231114",
                "v_20231212",
                "v_20240116",
                "v_20240213",
                "v_20240312",
                "v_20240416",
                "v_20240514",
                "v_20240611",
                "v_20240718",
                "v_20240813",
                "v_20240910",
                "v_20241015",
                "v_20241112",
                "v_20241217",
                "v_20250121",
                "v_20250218",
                "v_20250320",
                "v_20250415",
                "v_20250513",
                "v_20250610",
                "v_20250717",
                "v_20250812",
                "v_20250916"
               ]
              ],
              "y": [
               [
                781,
                781,
                781,
                781,
                781,
                781,
                782,
                782,
                782,
                782,
                782,
                782,
                782,
                782,
                782,
                782,
                782,
                782,
                786,
                786,
                786,
                786,
                786,
                786
               ]
              ]
             },
             {
              "title": {
               "text": "Vacancy Estimates Across Vintages",
               "x": 0.5,
               "xanchor": "center"
              }
             }
            ],
            "label": "2017-05",
            "method": "update"
           },
           {
            "args": [
             {
              "type": "line",
              "x": [
               [
                "v_20230912",
                "v_20231114",
                "v_20231212",
                "v_20240116",
                "v_20240213",
                "v_20240312",
                "v_20240416",
                "v_20240514",
                "v_20240611",
                "v_20240718",
                "v_20240813",
                "v_20240910",
                "v_20241015",
                "v_20241112",
                "v_20241217",
                "v_20250121",
                "v_20250218",
                "v_20250320",
                "v_20250415",
                "v_20250513",
                "v_20250610",
                "v_20250717",
                "v_20250812",
                "v_20250916"
               ]
              ],
              "y": [
               [
                781,
                781,
                781,
                781,
                781,
                781,
                785,
                785,
                785,
                785,
                785,
                785,
                785,
                785,
                785,
                785,
                785,
                785,
                784,
                784,
                784,
                784,
                784,
                784
               ]
              ]
             },
             {
              "title": {
               "text": "Vacancy Estimates Across Vintages",
               "x": 0.5,
               "xanchor": "center"
              }
             }
            ],
            "label": "2017-06",
            "method": "update"
           },
           {
            "args": [
             {
              "type": "line",
              "x": [
               [
                "v_20230912",
                "v_20231114",
                "v_20231212",
                "v_20240116",
                "v_20240213",
                "v_20240312",
                "v_20240416",
                "v_20240514",
                "v_20240611",
                "v_20240718",
                "v_20240813",
                "v_20240910",
                "v_20241015",
                "v_20241112",
                "v_20241217",
                "v_20250121",
                "v_20250218",
                "v_20250320",
                "v_20250415",
                "v_20250513",
                "v_20250610",
                "v_20250717",
                "v_20250812",
                "v_20250916"
               ]
              ],
              "y": [
               [
                790,
                790,
                790,
                790,
                790,
                790,
                794,
                794,
                794,
                794,
                794,
                794,
                794,
                794,
                794,
                794,
                794,
                794,
                793,
                793,
                793,
                793,
                793,
                793
               ]
              ]
             },
             {
              "title": {
               "text": "Vacancy Estimates Across Vintages",
               "x": 0.5,
               "xanchor": "center"
              }
             }
            ],
            "label": "2017-07",
            "method": "update"
           },
           {
            "args": [
             {
              "type": "line",
              "x": [
               [
                "v_20230912",
                "v_20231114",
                "v_20231212",
                "v_20240116",
                "v_20240213",
                "v_20240312",
                "v_20240416",
                "v_20240514",
                "v_20240611",
                "v_20240718",
                "v_20240813",
                "v_20240910",
                "v_20241015",
                "v_20241112",
                "v_20241217",
                "v_20250121",
                "v_20250218",
                "v_20250320",
                "v_20250415",
                "v_20250513",
                "v_20250610",
                "v_20250717",
                "v_20250812",
                "v_20250916"
               ]
              ],
              "y": [
               [
                798,
                798,
                798,
                798,
                798,
                798,
                799,
                799,
                799,
                799,
                799,
                799,
                799,
                799,
                799,
                799,
                799,
                799,
                800,
                800,
                800,
                800,
                800,
                800
               ]
              ]
             },
             {
              "title": {
               "text": "Vacancy Estimates Across Vintages",
               "x": 0.5,
               "xanchor": "center"
              }
             }
            ],
            "label": "2017-08",
            "method": "update"
           },
           {
            "args": [
             {
              "type": "line",
              "x": [
               [
                "v_20230912",
                "v_20231114",
                "v_20231212",
                "v_20240116",
                "v_20240213",
                "v_20240312",
                "v_20240416",
                "v_20240514",
                "v_20240611",
                "v_20240718",
                "v_20240813",
                "v_20240910",
                "v_20241015",
                "v_20241112",
                "v_20241217",
                "v_20250121",
                "v_20250218",
                "v_20250320",
                "v_20250415",
                "v_20250513",
                "v_20250610",
                "v_20250717",
                "v_20250812",
                "v_20250916"
               ]
              ],
              "y": [
               [
                805,
                805,
                805,
                805,
                805,
                805,
                809,
                809,
                809,
                809,
                809,
                809,
                809,
                809,
                809,
                809,
                809,
                809,
                812,
                812,
                812,
                812,
                812,
                812
               ]
              ]
             },
             {
              "title": {
               "text": "Vacancy Estimates Across Vintages",
               "x": 0.5,
               "xanchor": "center"
              }
             }
            ],
            "label": "2017-09",
            "method": "update"
           },
           {
            "args": [
             {
              "type": "line",
              "x": [
               [
                "v_20230912",
                "v_20231114",
                "v_20231212",
                "v_20240116",
                "v_20240213",
                "v_20240312",
                "v_20240416",
                "v_20240514",
                "v_20240611",
                "v_20240718",
                "v_20240813",
                "v_20240910",
                "v_20241015",
                "v_20241112",
                "v_20241217",
                "v_20250121",
                "v_20250218",
                "v_20250320",
                "v_20250415",
                "v_20250513",
                "v_20250610",
                "v_20250717",
                "v_20250812",
                "v_20250916"
               ]
              ],
              "y": [
               [
                816,
                816,
                816,
                816,
                816,
                816,
                819,
                819,
                819,
                819,
                819,
                819,
                819,
                819,
                819,
                819,
                819,
                819,
                819,
                819,
                819,
                819,
                819,
                819
               ]
              ]
             },
             {
              "title": {
               "text": "Vacancy Estimates Across Vintages",
               "x": 0.5,
               "xanchor": "center"
              }
             }
            ],
            "label": "2017-10",
            "method": "update"
           },
           {
            "args": [
             {
              "type": "line",
              "x": [
               [
                "v_20230912",
                "v_20231114",
                "v_20231212",
                "v_20240116",
                "v_20240213",
                "v_20240312",
                "v_20240416",
                "v_20240514",
                "v_20240611",
                "v_20240718",
                "v_20240813",
                "v_20240910",
                "v_20241015",
                "v_20241112",
                "v_20241217",
                "v_20250121",
                "v_20250218",
                "v_20250320",
                "v_20250415",
                "v_20250513",
                "v_20250610",
                "v_20250717",
                "v_20250812",
                "v_20250916"
               ]
              ],
              "y": [
               [
                821,
                821,
                821,
                821,
                821,
                821,
                821,
                821,
                821,
                821,
                821,
                821,
                821,
                821,
                821,
                821,
                821,
                821,
                820,
                820,
                820,
                820,
                820,
                820
               ]
              ]
             },
             {
              "title": {
               "text": "Vacancy Estimates Across Vintages",
               "x": 0.5,
               "xanchor": "center"
              }
             }
            ],
            "label": "2017-11",
            "method": "update"
           },
           {
            "args": [
             {
              "type": "line",
              "x": [
               [
                "v_20230912",
                "v_20231114",
                "v_20231212",
                "v_20240116",
                "v_20240213",
                "v_20240312",
                "v_20240416",
                "v_20240514",
                "v_20240611",
                "v_20240718",
                "v_20240813",
                "v_20240910",
                "v_20241015",
                "v_20241112",
                "v_20241217",
                "v_20250121",
                "v_20250218",
                "v_20250320",
                "v_20250415",
                "v_20250513",
                "v_20250610",
                "v_20250717",
                "v_20250812",
                "v_20250916"
               ]
              ],
              "y": [
               [
                828,
                828,
                828,
                828,
                828,
                828,
                822,
                822,
                822,
                822,
                822,
                822,
                822,
                822,
                822,
                822,
                822,
                822,
                817,
                817,
                817,
                817,
                817,
                817
               ]
              ]
             },
             {
              "title": {
               "text": "Vacancy Estimates Across Vintages",
               "x": 0.5,
               "xanchor": "center"
              }
             }
            ],
            "label": "2017-12",
            "method": "update"
           },
           {
            "args": [
             {
              "type": "line",
              "x": [
               [
                "v_20230912",
                "v_20231114",
                "v_20231212",
                "v_20240116",
                "v_20240213",
                "v_20240312",
                "v_20240416",
                "v_20240514",
                "v_20240611",
                "v_20240718",
                "v_20240813",
                "v_20240910",
                "v_20241015",
                "v_20241112",
                "v_20241217",
                "v_20250121",
                "v_20250218",
                "v_20250320",
                "v_20250415",
                "v_20250513",
                "v_20250610",
                "v_20250717",
                "v_20250812",
                "v_20250916"
               ]
              ],
              "y": [
               [
                819,
                819,
                819,
                819,
                819,
                819,
                815,
                815,
                815,
                815,
                815,
                815,
                815,
                815,
                815,
                815,
                815,
                815,
                814,
                814,
                814,
                814,
                814,
                814
               ]
              ]
             },
             {
              "title": {
               "text": "Vacancy Estimates Across Vintages",
               "x": 0.5,
               "xanchor": "center"
              }
             }
            ],
            "label": "2018-01",
            "method": "update"
           },
           {
            "args": [
             {
              "type": "line",
              "x": [
               [
                "v_20230912",
                "v_20231114",
                "v_20231212",
                "v_20240116",
                "v_20240213",
                "v_20240312",
                "v_20240416",
                "v_20240514",
                "v_20240611",
                "v_20240718",
                "v_20240813",
                "v_20240910",
                "v_20241015",
                "v_20241112",
                "v_20241217",
                "v_20250121",
                "v_20250218",
                "v_20250320",
                "v_20250415",
                "v_20250513",
                "v_20250610",
                "v_20250717",
                "v_20250812",
                "v_20250916"
               ]
              ],
              "y": [
               [
                818,
                818,
                818,
                818,
                818,
                818,
                814,
                814,
                814,
                814,
                814,
                814,
                814,
                814,
                814,
                814,
                814,
                814,
                815,
                815,
                815,
                815,
                815,
                815
               ]
              ]
             },
             {
              "title": {
               "text": "Vacancy Estimates Across Vintages",
               "x": 0.5,
               "xanchor": "center"
              }
             }
            ],
            "label": "2018-02",
            "method": "update"
           },
           {
            "args": [
             {
              "type": "line",
              "x": [
               [
                "v_20230912",
                "v_20231114",
                "v_20231212",
                "v_20240116",
                "v_20240213",
                "v_20240312",
                "v_20240416",
                "v_20240514",
                "v_20240611",
                "v_20240718",
                "v_20240813",
                "v_20240910",
                "v_20241015",
                "v_20241112",
                "v_20241217",
                "v_20250121",
                "v_20250218",
                "v_20250320",
                "v_20250415",
                "v_20250513",
                "v_20250610",
                "v_20250717",
                "v_20250812",
                "v_20250916"
               ]
              ],
              "y": [
               [
                816,
                816,
                816,
                816,
                816,
                816,
                812,
                812,
                812,
                812,
                812,
                812,
                812,
                812,
                812,
                812,
                812,
                812,
                811,
                811,
                811,
                811,
                811,
                811
               ]
              ]
             },
             {
              "title": {
               "text": "Vacancy Estimates Across Vintages",
               "x": 0.5,
               "xanchor": "center"
              }
             }
            ],
            "label": "2018-03",
            "method": "update"
           },
           {
            "args": [
             {
              "type": "line",
              "x": [
               [
                "v_20230912",
                "v_20231114",
                "v_20231212",
                "v_20240116",
                "v_20240213",
                "v_20240312",
                "v_20240416",
                "v_20240514",
                "v_20240611",
                "v_20240718",
                "v_20240813",
                "v_20240910",
                "v_20241015",
                "v_20241112",
                "v_20241217",
                "v_20250121",
                "v_20250218",
                "v_20250320",
                "v_20250415",
                "v_20250513",
                "v_20250610",
                "v_20250717",
                "v_20250812",
                "v_20250916"
               ]
              ],
              "y": [
               [
                820,
                820,
                820,
                820,
                820,
                820,
                819,
                819,
                819,
                819,
                819,
                819,
                819,
                819,
                819,
                819,
                819,
                819,
                821,
                821,
                821,
                821,
                821,
                821
               ]
              ]
             },
             {
              "title": {
               "text": "Vacancy Estimates Across Vintages",
               "x": 0.5,
               "xanchor": "center"
              }
             }
            ],
            "label": "2018-04",
            "method": "update"
           },
           {
            "args": [
             {
              "type": "line",
              "x": [
               [
                "v_20230912",
                "v_20231114",
                "v_20231212",
                "v_20240116",
                "v_20240213",
                "v_20240312",
                "v_20240416",
                "v_20240514",
                "v_20240611",
                "v_20240718",
                "v_20240813",
                "v_20240910",
                "v_20241015",
                "v_20241112",
                "v_20241217",
                "v_20250121",
                "v_20250218",
                "v_20250320",
                "v_20250415",
                "v_20250513",
                "v_20250610",
                "v_20250717",
                "v_20250812",
                "v_20250916"
               ]
              ],
              "y": [
               [
                828,
                828,
                828,
                828,
                828,
                828,
                829,
                829,
                829,
                829,
                829,
                829,
                829,
                829,
                829,
                829,
                829,
                829,
                832,
                832,
                832,
                832,
                832,
                832
               ]
              ]
             },
             {
              "title": {
               "text": "Vacancy Estimates Across Vintages",
               "x": 0.5,
               "xanchor": "center"
              }
             }
            ],
            "label": "2018-05",
            "method": "update"
           },
           {
            "args": [
             {
              "type": "line",
              "x": [
               [
                "v_20230912",
                "v_20231114",
                "v_20231212",
                "v_20240116",
                "v_20240213",
                "v_20240312",
                "v_20240416",
                "v_20240514",
                "v_20240611",
                "v_20240718",
                "v_20240813",
                "v_20240910",
                "v_20241015",
                "v_20241112",
                "v_20241217",
                "v_20250121",
                "v_20250218",
                "v_20250320",
                "v_20250415",
                "v_20250513",
                "v_20250610",
                "v_20250717",
                "v_20250812",
                "v_20250916"
               ]
              ],
              "y": [
               [
                834,
                834,
                834,
                834,
                834,
                834,
                839,
                839,
                839,
                839,
                839,
                839,
                839,
                839,
                839,
                839,
                839,
                839,
                837,
                837,
                837,
                837,
                837,
                837
               ]
              ]
             },
             {
              "title": {
               "text": "Vacancy Estimates Across Vintages",
               "x": 0.5,
               "xanchor": "center"
              }
             }
            ],
            "label": "2018-06",
            "method": "update"
           },
           {
            "args": [
             {
              "type": "line",
              "x": [
               [
                "v_20230912",
                "v_20231114",
                "v_20231212",
                "v_20240116",
                "v_20240213",
                "v_20240312",
                "v_20240416",
                "v_20240514",
                "v_20240611",
                "v_20240718",
                "v_20240813",
                "v_20240910",
                "v_20241015",
                "v_20241112",
                "v_20241217",
                "v_20250121",
                "v_20250218",
                "v_20250320",
                "v_20250415",
                "v_20250513",
                "v_20250610",
                "v_20250717",
                "v_20250812",
                "v_20250916"
               ]
              ],
              "y": [
               [
                839,
                839,
                839,
                839,
                839,
                839,
                843,
                843,
                843,
                843,
                843,
                843,
                843,
                843,
                843,
                843,
                843,
                843,
                842,
                842,
                842,
                842,
                842,
                842
               ]
              ]
             },
             {
              "title": {
               "text": "Vacancy Estimates Across Vintages",
               "x": 0.5,
               "xanchor": "center"
              }
             }
            ],
            "label": "2018-07",
            "method": "update"
           },
           {
            "args": [
             {
              "type": "line",
              "x": [
               [
                "v_20230912",
                "v_20231114",
                "v_20231212",
                "v_20240116",
                "v_20240213",
                "v_20240312",
                "v_20240416",
                "v_20240514",
                "v_20240611",
                "v_20240718",
                "v_20240813",
                "v_20240910",
                "v_20241015",
                "v_20241112",
                "v_20241217",
                "v_20250121",
                "v_20250218",
                "v_20250320",
                "v_20250415",
                "v_20250513",
                "v_20250610",
                "v_20250717",
                "v_20250812",
                "v_20250916"
               ]
              ],
              "y": [
               [
                843,
                843,
                843,
                843,
                843,
                843,
                844,
                844,
                844,
                844,
                844,
                844,
                844,
                844,
                844,
                844,
                844,
                844,
                846,
                846,
                846,
                846,
                846,
                846
               ]
              ]
             },
             {
              "title": {
               "text": "Vacancy Estimates Across Vintages",
               "x": 0.5,
               "xanchor": "center"
              }
             }
            ],
            "label": "2018-08",
            "method": "update"
           },
           {
            "args": [
             {
              "type": "line",
              "x": [
               [
                "v_20230912",
                "v_20231114",
                "v_20231212",
                "v_20240116",
                "v_20240213",
                "v_20240312",
                "v_20240416",
                "v_20240514",
                "v_20240611",
                "v_20240718",
                "v_20240813",
                "v_20240910",
                "v_20241015",
                "v_20241112",
                "v_20241217",
                "v_20250121",
                "v_20250218",
                "v_20250320",
                "v_20250415",
                "v_20250513",
                "v_20250610",
                "v_20250717",
                "v_20250812",
                "v_20250916"
               ]
              ],
              "y": [
               [
                857,
                857,
                857,
                857,
                857,
                857,
                862,
                862,
                862,
                862,
                862,
                862,
                862,
                862,
                862,
                862,
                862,
                862,
                864,
                864,
                864,
                864,
                864,
                864
               ]
              ]
             },
             {
              "title": {
               "text": "Vacancy Estimates Across Vintages",
               "x": 0.5,
               "xanchor": "center"
              }
             }
            ],
            "label": "2018-09",
            "method": "update"
           },
           {
            "args": [
             {
              "type": "line",
              "x": [
               [
                "v_20230912",
                "v_20231114",
                "v_20231212",
                "v_20240116",
                "v_20240213",
                "v_20240312",
                "v_20240416",
                "v_20240514",
                "v_20240611",
                "v_20240718",
                "v_20240813",
                "v_20240910",
                "v_20241015",
                "v_20241112",
                "v_20241217",
                "v_20250121",
                "v_20250218",
                "v_20250320",
                "v_20250415",
                "v_20250513",
                "v_20250610",
                "v_20250717",
                "v_20250812",
                "v_20250916"
               ]
              ],
              "y": [
               [
                858,
                858,
                858,
                858,
                858,
                858,
                861,
                861,
                861,
                861,
                861,
                861,
                861,
                861,
                861,
                861,
                861,
                861,
                862,
                862,
                862,
                862,
                862,
                862
               ]
              ]
             },
             {
              "title": {
               "text": "Vacancy Estimates Across Vintages",
               "x": 0.5,
               "xanchor": "center"
              }
             }
            ],
            "label": "2018-10",
            "method": "update"
           },
           {
            "args": [
             {
              "type": "line",
              "x": [
               [
                "v_20230912",
                "v_20231114",
                "v_20231212",
                "v_20240116",
                "v_20240213",
                "v_20240312",
                "v_20240416",
                "v_20240514",
                "v_20240611",
                "v_20240718",
                "v_20240813",
                "v_20240910",
                "v_20241015",
                "v_20241112",
                "v_20241217",
                "v_20250121",
                "v_20250218",
                "v_20250320",
                "v_20250415",
                "v_20250513",
                "v_20250610",
                "v_20250717",
                "v_20250812",
                "v_20250916"
               ]
              ],
              "y": [
               [
                857,
                857,
                857,
                857,
                857,
                857,
                856,
                856,
                856,
                856,
                856,
                856,
                856,
                856,
                856,
                856,
                856,
                856,
                856,
                856,
                856,
                856,
                856,
                856
               ]
              ]
             },
             {
              "title": {
               "text": "Vacancy Estimates Across Vintages",
               "x": 0.5,
               "xanchor": "center"
              }
             }
            ],
            "label": "2018-11",
            "method": "update"
           },
           {
            "args": [
             {
              "type": "line",
              "x": [
               [
                "v_20230912",
                "v_20231114",
                "v_20231212",
                "v_20240116",
                "v_20240213",
                "v_20240312",
                "v_20240416",
                "v_20240514",
                "v_20240611",
                "v_20240718",
                "v_20240813",
                "v_20240910",
                "v_20241015",
                "v_20241112",
                "v_20241217",
                "v_20250121",
                "v_20250218",
                "v_20250320",
                "v_20250415",
                "v_20250513",
                "v_20250610",
                "v_20250717",
                "v_20250812",
                "v_20250916"
               ]
              ],
              "y": [
               [
                865,
                865,
                865,
                865,
                865,
                865,
                859,
                859,
                859,
                859,
                859,
                859,
                859,
                859,
                859,
                859,
                859,
                859,
                855,
                855,
                855,
                855,
                855,
                855
               ]
              ]
             },
             {
              "title": {
               "text": "Vacancy Estimates Across Vintages",
               "x": 0.5,
               "xanchor": "center"
              }
             }
            ],
            "label": "2018-12",
            "method": "update"
           },
           {
            "args": [
             {
              "type": "line",
              "x": [
               [
                "v_20230912",
                "v_20231114",
                "v_20231212",
                "v_20240116",
                "v_20240213",
                "v_20240312",
                "v_20240416",
                "v_20240514",
                "v_20240611",
                "v_20240718",
                "v_20240813",
                "v_20240910",
                "v_20241015",
                "v_20241112",
                "v_20241217",
                "v_20250121",
                "v_20250218",
                "v_20250320",
                "v_20250415",
                "v_20250513",
                "v_20250610",
                "v_20250717",
                "v_20250812",
                "v_20250916"
               ]
              ],
              "y": [
               [
                852,
                852,
                852,
                852,
                852,
                852,
                847,
                847,
                847,
                847,
                847,
                847,
                847,
                847,
                847,
                847,
                847,
                847,
                847,
                847,
                847,
                847,
                847,
                847
               ]
              ]
             },
             {
              "title": {
               "text": "Vacancy Estimates Across Vintages",
               "x": 0.5,
               "xanchor": "center"
              }
             }
            ],
            "label": "2019-01",
            "method": "update"
           },
           {
            "args": [
             {
              "type": "line",
              "x": [
               [
                "v_20230912",
                "v_20231114",
                "v_20231212",
                "v_20240116",
                "v_20240213",
                "v_20240312",
                "v_20240416",
                "v_20240514",
                "v_20240611",
                "v_20240718",
                "v_20240813",
                "v_20240910",
                "v_20241015",
                "v_20241112",
                "v_20241217",
                "v_20250121",
                "v_20250218",
                "v_20250320",
                "v_20250415",
                "v_20250513",
                "v_20250610",
                "v_20250717",
                "v_20250812",
                "v_20250916"
               ]
              ],
              "y": [
               [
                850,
                850,
                850,
                850,
                850,
                850,
                845,
                845,
                845,
                845,
                845,
                845,
                845,
                845,
                845,
                845,
                845,
                845,
                845,
                845,
                845,
                845,
                845,
                845
               ]
              ]
             },
             {
              "title": {
               "text": "Vacancy Estimates Across Vintages",
               "x": 0.5,
               "xanchor": "center"
              }
             }
            ],
            "label": "2019-02",
            "method": "update"
           },
           {
            "args": [
             {
              "type": "line",
              "x": [
               [
                "v_20230912",
                "v_20231114",
                "v_20231212",
                "v_20240116",
                "v_20240213",
                "v_20240312",
                "v_20240416",
                "v_20240514",
                "v_20240611",
                "v_20240718",
                "v_20240813",
                "v_20240910",
                "v_20241015",
                "v_20241112",
                "v_20241217",
                "v_20250121",
                "v_20250218",
                "v_20250320",
                "v_20250415",
                "v_20250513",
                "v_20250610",
                "v_20250717",
                "v_20250812",
                "v_20250916"
               ]
              ],
              "y": [
               [
                843,
                843,
                843,
                843,
                843,
                843,
                840,
                840,
                840,
                840,
                840,
                840,
                840,
                840,
                840,
                840,
                840,
                840,
                840,
                840,
                840,
                840,
                840,
                840
               ]
              ]
             },
             {
              "title": {
               "text": "Vacancy Estimates Across Vintages",
               "x": 0.5,
               "xanchor": "center"
              }
             }
            ],
            "label": "2019-03",
            "method": "update"
           },
           {
            "args": [
             {
              "type": "line",
              "x": [
               [
                "v_20230912",
                "v_20231114",
                "v_20231212",
                "v_20240116",
                "v_20240213",
                "v_20240312",
                "v_20240416",
                "v_20240514",
                "v_20240611",
                "v_20240718",
                "v_20240813",
                "v_20240910",
                "v_20241015",
                "v_20241112",
                "v_20241217",
                "v_20250121",
                "v_20250218",
                "v_20250320",
                "v_20250415",
                "v_20250513",
                "v_20250610",
                "v_20250717",
                "v_20250812",
                "v_20250916"
               ]
              ],
              "y": [
               [
                836,
                836,
                836,
                836,
                836,
                836,
                835,
                835,
                835,
                835,
                835,
                835,
                835,
                835,
                835,
                835,
                835,
                835,
                835,
                835,
                835,
                835,
                835,
                835
               ]
              ]
             },
             {
              "title": {
               "text": "Vacancy Estimates Across Vintages",
               "x": 0.5,
               "xanchor": "center"
              }
             }
            ],
            "label": "2019-04",
            "method": "update"
           },
           {
            "args": [
             {
              "type": "line",
              "x": [
               [
                "v_20230912",
                "v_20231114",
                "v_20231212",
                "v_20240116",
                "v_20240213",
                "v_20240312",
                "v_20240416",
                "v_20240514",
                "v_20240611",
                "v_20240718",
                "v_20240813",
                "v_20240910",
                "v_20241015",
                "v_20241112",
                "v_20241217",
                "v_20250121",
                "v_20250218",
                "v_20250320",
                "v_20250415",
                "v_20250513",
                "v_20250610",
                "v_20250717",
                "v_20250812",
                "v_20250916"
               ]
              ],
              "y": [
               [
                819,
                819,
                819,
                819,
                819,
                819,
                821,
                821,
                821,
                821,
                821,
                821,
                821,
                821,
                821,
                821,
                821,
                821,
                822,
                822,
                822,
                822,
                822,
                822
               ]
              ]
             },
             {
              "title": {
               "text": "Vacancy Estimates Across Vintages",
               "x": 0.5,
               "xanchor": "center"
              }
             }
            ],
            "label": "2019-05",
            "method": "update"
           },
           {
            "args": [
             {
              "type": "line",
              "x": [
               [
                "v_20230912",
                "v_20231114",
                "v_20231212",
                "v_20240116",
                "v_20240213",
                "v_20240312",
                "v_20240416",
                "v_20240514",
                "v_20240611",
                "v_20240718",
                "v_20240813",
                "v_20240910",
                "v_20241015",
                "v_20241112",
                "v_20241217",
                "v_20250121",
                "v_20250218",
                "v_20250320",
                "v_20250415",
                "v_20250513",
                "v_20250610",
                "v_20250717",
                "v_20250812",
                "v_20250916"
               ]
              ],
              "y": [
               [
                817,
                817,
                817,
                817,
                817,
                817,
                823,
                823,
                823,
                823,
                823,
                823,
                823,
                823,
                823,
                823,
                823,
                823,
                821,
                821,
                821,
                821,
                821,
                821
               ]
              ]
             },
             {
              "title": {
               "text": "Vacancy Estimates Across Vintages",
               "x": 0.5,
               "xanchor": "center"
              }
             }
            ],
            "label": "2019-06",
            "method": "update"
           },
           {
            "args": [
             {
              "type": "line",
              "x": [
               [
                "v_20230912",
                "v_20231114",
                "v_20231212",
                "v_20240116",
                "v_20240213",
                "v_20240312",
                "v_20240416",
                "v_20240514",
                "v_20240611",
                "v_20240718",
                "v_20240813",
                "v_20240910",
                "v_20241015",
                "v_20241112",
                "v_20241217",
                "v_20250121",
                "v_20250218",
                "v_20250320",
                "v_20250415",
                "v_20250513",
                "v_20250610",
                "v_20250717",
                "v_20250812",
                "v_20250916"
               ]
              ],
              "y": [
               [
                811,
                811,
                811,
                811,
                811,
                811,
                816,
                816,
                816,
                816,
                816,
                816,
                816,
                816,
                816,
                816,
                816,
                816,
                815,
                815,
                815,
                815,
                815,
                815
               ]
              ]
             },
             {
              "title": {
               "text": "Vacancy Estimates Across Vintages",
               "x": 0.5,
               "xanchor": "center"
              }
             }
            ],
            "label": "2019-07",
            "method": "update"
           },
           {
            "args": [
             {
              "type": "line",
              "x": [
               [
                "v_20230912",
                "v_20231114",
                "v_20231212",
                "v_20240116",
                "v_20240213",
                "v_20240312",
                "v_20240416",
                "v_20240514",
                "v_20240611",
                "v_20240718",
                "v_20240813",
                "v_20240910",
                "v_20241015",
                "v_20241112",
                "v_20241217",
                "v_20250121",
                "v_20250218",
                "v_20250320",
                "v_20250415",
                "v_20250513",
                "v_20250610",
                "v_20250717",
                "v_20250812",
                "v_20250916"
               ]
              ],
              "y": [
               [
                816,
                816,
                816,
                816,
                816,
                816,
                817,
                817,
                817,
                817,
                817,
                817,
                817,
                817,
                817,
                817,
                817,
                817,
                818,
                818,
                818,
                818,
                818,
                818
               ]
              ]
             },
             {
              "title": {
               "text": "Vacancy Estimates Across Vintages",
               "x": 0.5,
               "xanchor": "center"
              }
             }
            ],
            "label": "2019-08",
            "method": "update"
           },
           {
            "args": [
             {
              "type": "line",
              "x": [
               [
                "v_20230912",
                "v_20231114",
                "v_20231212",
                "v_20240116",
                "v_20240213",
                "v_20240312",
                "v_20240416",
                "v_20240514",
                "v_20240611",
                "v_20240718",
                "v_20240813",
                "v_20240910",
                "v_20241015",
                "v_20241112",
                "v_20241217",
                "v_20250121",
                "v_20250218",
                "v_20250320",
                "v_20250415",
                "v_20250513",
                "v_20250610",
                "v_20250717",
                "v_20250812",
                "v_20250916"
               ]
              ],
              "y": [
               [
                804,
                804,
                804,
                804,
                804,
                804,
                810,
                810,
                810,
                810,
                810,
                810,
                810,
                810,
                810,
                810,
                810,
                810,
                813,
                813,
                813,
                813,
                813,
                813
               ]
              ]
             },
             {
              "title": {
               "text": "Vacancy Estimates Across Vintages",
               "x": 0.5,
               "xanchor": "center"
              }
             }
            ],
            "label": "2019-09",
            "method": "update"
           },
           {
            "args": [
             {
              "type": "line",
              "x": [
               [
                "v_20230912",
                "v_20231114",
                "v_20231212",
                "v_20240116",
                "v_20240213",
                "v_20240312",
                "v_20240416",
                "v_20240514",
                "v_20240611",
                "v_20240718",
                "v_20240813",
                "v_20240910",
                "v_20241015",
                "v_20241112",
                "v_20241217",
                "v_20250121",
                "v_20250218",
                "v_20250320",
                "v_20250415",
                "v_20250513",
                "v_20250610",
                "v_20250717",
                "v_20250812",
                "v_20250916"
               ]
              ],
              "y": [
               [
                803,
                803,
                803,
                803,
                803,
                803,
                807,
                807,
                807,
                807,
                807,
                807,
                807,
                807,
                807,
                807,
                807,
                807,
                809,
                809,
                809,
                809,
                809,
                809
               ]
              ]
             },
             {
              "title": {
               "text": "Vacancy Estimates Across Vintages",
               "x": 0.5,
               "xanchor": "center"
              }
             }
            ],
            "label": "2019-10",
            "method": "update"
           },
           {
            "args": [
             {
              "type": "line",
              "x": [
               [
                "v_20230912",
                "v_20231114",
                "v_20231212",
                "v_20240116",
                "v_20240213",
                "v_20240312",
                "v_20240416",
                "v_20240514",
                "v_20240611",
                "v_20240718",
                "v_20240813",
                "v_20240910",
                "v_20241015",
                "v_20241112",
                "v_20241217",
                "v_20250121",
                "v_20250218",
                "v_20250320",
                "v_20250415",
                "v_20250513",
                "v_20250610",
                "v_20250717",
                "v_20250812",
                "v_20250916"
               ]
              ],
              "y": [
               [
                811,
                811,
                811,
                811,
                811,
                811,
                810,
                810,
                810,
                810,
                810,
                810,
                810,
                810,
                810,
                810,
                810,
                810,
                811,
                811,
                811,
                811,
                811,
                811
               ]
              ]
             },
             {
              "title": {
               "text": "Vacancy Estimates Across Vintages",
               "x": 0.5,
               "xanchor": "center"
              }
             }
            ],
            "label": "2019-11",
            "method": "update"
           },
           {
            "args": [
             {
              "type": "line",
              "x": [
               [
                "v_20230912",
                "v_20231114",
                "v_20231212",
                "v_20240116",
                "v_20240213",
                "v_20240312",
                "v_20240416",
                "v_20240514",
                "v_20240611",
                "v_20240718",
                "v_20240813",
                "v_20240910",
                "v_20241015",
                "v_20241112",
                "v_20241217",
                "v_20250121",
                "v_20250218",
                "v_20250320",
                "v_20250415",
                "v_20250513",
                "v_20250610",
                "v_20250717",
                "v_20250812",
                "v_20250916"
               ]
              ],
              "y": [
               [
                822,
                822,
                822,
                822,
                822,
                822,
                816,
                816,
                816,
                816,
                816,
                816,
                816,
                816,
                816,
                816,
                816,
                816,
                812,
                812,
                812,
                812,
                812,
                812
               ]
              ]
             },
             {
              "title": {
               "text": "Vacancy Estimates Across Vintages",
               "x": 0.5,
               "xanchor": "center"
              }
             }
            ],
            "label": "2019-12",
            "method": "update"
           },
           {
            "args": [
             {
              "type": "line",
              "x": [
               [
                "v_20230912",
                "v_20231114",
                "v_20231212",
                "v_20240116",
                "v_20240213",
                "v_20240312",
                "v_20240416",
                "v_20240514",
                "v_20240611",
                "v_20240718",
                "v_20240813",
                "v_20240910",
                "v_20241015",
                "v_20241112",
                "v_20241217",
                "v_20250121",
                "v_20250218",
                "v_20250320",
                "v_20250415",
                "v_20250513",
                "v_20250610",
                "v_20250717",
                "v_20250812",
                "v_20250916"
               ]
              ],
              "y": [
               [
                826,
                826,
                826,
                826,
                826,
                826,
                819,
                819,
                819,
                819,
                819,
                819,
                819,
                819,
                819,
                819,
                819,
                819,
                819,
                819,
                819,
                819,
                819,
                819
               ]
              ]
             },
             {
              "title": {
               "text": "Vacancy Estimates Across Vintages",
               "x": 0.5,
               "xanchor": "center"
              }
             }
            ],
            "label": "2020-01",
            "method": "update"
           },
           {
            "args": [
             {
              "type": "line",
              "x": [
               [
                "v_20230912",
                "v_20231114",
                "v_20231212",
                "v_20240116",
                "v_20240213",
                "v_20240312",
                "v_20240416",
                "v_20240514",
                "v_20240611",
                "v_20240718",
                "v_20240813",
                "v_20240910",
                "v_20241015",
                "v_20241112",
                "v_20241217",
                "v_20250121",
                "v_20250218",
                "v_20250320",
                "v_20250415",
                "v_20250513",
                "v_20250610",
                "v_20250717",
                "v_20250812",
                "v_20250916"
               ]
              ],
              "y": [
               [
                801,
                801,
                801,
                801,
                801,
                801,
                796,
                796,
                796,
                796,
                796,
                796,
                796,
                796,
                796,
                796,
                796,
                796,
                795,
                795,
                795,
                795,
                795,
                795
               ]
              ]
             },
             {
              "title": {
               "text": "Vacancy Estimates Across Vintages",
               "x": 0.5,
               "xanchor": "center"
              }
             }
            ],
            "label": "2020-02",
            "method": "update"
           },
           {
            "args": [
             {
              "type": "line",
              "x": [
               [
                "v_20230912",
                "v_20231114",
                "v_20231212",
                "v_20240116",
                "v_20240213",
                "v_20240312",
                "v_20240416",
                "v_20240514",
                "v_20240611",
                "v_20240718",
                "v_20240813",
                "v_20240910",
                "v_20241015",
                "v_20241112",
                "v_20241217",
                "v_20250121",
                "v_20250218",
                "v_20250320",
                "v_20250415",
                "v_20250513",
                "v_20250610",
                "v_20250717",
                "v_20250812",
                "v_20250916"
               ]
              ],
              "y": [
               [
                642,
                642,
                642,
                642,
                642,
                642,
                638,
                638,
                638,
                638,
                638,
                638,
                638,
                638,
                638,
                638,
                638,
                638,
                637,
                637,
                637,
                637,
                637,
                637
               ]
              ]
             },
             {
              "title": {
               "text": "Vacancy Estimates Across Vintages",
               "x": 0.5,
               "xanchor": "center"
              }
             }
            ],
            "label": "2020-03",
            "method": "update"
           },
           {
            "args": [
             {
              "type": "line",
              "x": [
               [
                "v_20230912",
                "v_20231114",
                "v_20231212",
                "v_20240116",
                "v_20240213",
                "v_20240312",
                "v_20240416",
                "v_20240514",
                "v_20240611",
                "v_20240718",
                "v_20240813",
                "v_20240910",
                "v_20241015",
                "v_20241112",
                "v_20241217",
                "v_20250121",
                "v_20250218",
                "v_20250320",
                "v_20250415",
                "v_20250513",
                "v_20250610",
                "v_20250717",
                "v_20250812",
                "v_20250916"
               ]
              ],
              "y": [
               [
                473,
                473,
                473,
                473,
                473,
                473,
                472,
                472,
                472,
                472,
                472,
                472,
                472,
                472,
                472,
                472,
                472,
                472,
                471,
                471,
                471,
                471,
                471,
                471
               ]
              ]
             },
             {
              "title": {
               "text": "Vacancy Estimates Across Vintages",
               "x": 0.5,
               "xanchor": "center"
              }
             }
            ],
            "label": "2020-04",
            "method": "update"
           },
           {
            "args": [
             {
              "type": "line",
              "x": [
               [
                "v_20230912",
                "v_20231114",
                "v_20231212",
                "v_20240116",
                "v_20240213",
                "v_20240312",
                "v_20240416",
                "v_20240514",
                "v_20240611",
                "v_20240718",
                "v_20240813",
                "v_20240910",
                "v_20241015",
                "v_20241112",
                "v_20241217",
                "v_20250121",
                "v_20250218",
                "v_20250320",
                "v_20250415",
                "v_20250513",
                "v_20250610",
                "v_20250717",
                "v_20250812",
                "v_20250916"
               ]
              ],
              "y": [
               [
                326,
                326,
                326,
                326,
                326,
                326,
                328,
                328,
                328,
                328,
                328,
                328,
                328,
                328,
                328,
                328,
                328,
                328,
                328,
                328,
                328,
                328,
                328,
                328
               ]
              ]
             },
             {
              "title": {
               "text": "Vacancy Estimates Across Vintages",
               "x": 0.5,
               "xanchor": "center"
              }
             }
            ],
            "label": "2020-05",
            "method": "update"
           },
           {
            "args": [
             {
              "type": "line",
              "x": [
               [
                "v_20230912",
                "v_20231114",
                "v_20231212",
                "v_20240116",
                "v_20240213",
                "v_20240312",
                "v_20240416",
                "v_20240514",
                "v_20240611",
                "v_20240718",
                "v_20240813",
                "v_20240910",
                "v_20241015",
                "v_20241112",
                "v_20241217",
                "v_20250121",
                "v_20250218",
                "v_20250320",
                "v_20250415",
                "v_20250513",
                "v_20250610",
                "v_20250717",
                "v_20250812",
                "v_20250916"
               ]
              ],
              "y": [
               [
                365,
                365,
                365,
                365,
                365,
                365,
                371,
                371,
                371,
                371,
                371,
                371,
                371,
                371,
                371,
                371,
                371,
                371,
                369,
                369,
                369,
                369,
                369,
                369
               ]
              ]
             },
             {
              "title": {
               "text": "Vacancy Estimates Across Vintages",
               "x": 0.5,
               "xanchor": "center"
              }
             }
            ],
            "label": "2020-06",
            "method": "update"
           },
           {
            "args": [
             {
              "type": "line",
              "x": [
               [
                "v_20230912",
                "v_20231114",
                "v_20231212",
                "v_20240116",
                "v_20240213",
                "v_20240312",
                "v_20240416",
                "v_20240514",
                "v_20240611",
                "v_20240718",
                "v_20240813",
                "v_20240910",
                "v_20241015",
                "v_20241112",
                "v_20241217",
                "v_20250121",
                "v_20250218",
                "v_20250320",
                "v_20250415",
                "v_20250513",
                "v_20250610",
                "v_20250717",
                "v_20250812",
                "v_20250916"
               ]
              ],
              "y": [
               [
                423,
                423,
                423,
                423,
                423,
                423,
                429,
                429,
                429,
                429,
                429,
                429,
                429,
                429,
                429,
                429,
                429,
                429,
                428,
                428,
                428,
                428,
                428,
                428
               ]
              ]
             },
             {
              "title": {
               "text": "Vacancy Estimates Across Vintages",
               "x": 0.5,
               "xanchor": "center"
              }
             }
            ],
            "label": "2020-07",
            "method": "update"
           },
           {
            "args": [
             {
              "type": "line",
              "x": [
               [
                "v_20230912",
                "v_20231114",
                "v_20231212",
                "v_20240116",
                "v_20240213",
                "v_20240312",
                "v_20240416",
                "v_20240514",
                "v_20240611",
                "v_20240718",
                "v_20240813",
                "v_20240910",
                "v_20241015",
                "v_20241112",
                "v_20241217",
                "v_20250121",
                "v_20250218",
                "v_20250320",
                "v_20250415",
                "v_20250513",
                "v_20250610",
                "v_20250717",
                "v_20250812",
                "v_20250916"
               ]
              ],
              "y": [
               [
                488,
                488,
                488,
                488,
                488,
                488,
                488,
                488,
                488,
                488,
                488,
                488,
                488,
                488,
                488,
                488,
                488,
                488,
                490,
                490,
                490,
                490,
                490,
                490
               ]
              ]
             },
             {
              "title": {
               "text": "Vacancy Estimates Across Vintages",
               "x": 0.5,
               "xanchor": "center"
              }
             }
            ],
            "label": "2020-08",
            "method": "update"
           },
           {
            "args": [
             {
              "type": "line",
              "x": [
               [
                "v_20230912",
                "v_20231114",
                "v_20231212",
                "v_20240116",
                "v_20240213",
                "v_20240312",
                "v_20240416",
                "v_20240514",
                "v_20240611",
                "v_20240718",
                "v_20240813",
                "v_20240910",
                "v_20241015",
                "v_20241112",
                "v_20241217",
                "v_20250121",
                "v_20250218",
                "v_20250320",
                "v_20250415",
                "v_20250513",
                "v_20250610",
                "v_20250717",
                "v_20250812",
                "v_20250916"
               ]
              ],
              "y": [
               [
                524,
                524,
                524,
                524,
                524,
                524,
                531,
                531,
                531,
                531,
                531,
                531,
                531,
                531,
                531,
                531,
                531,
                531,
                535,
                535,
                535,
                535,
                535,
                535
               ]
              ]
             },
             {
              "title": {
               "text": "Vacancy Estimates Across Vintages",
               "x": 0.5,
               "xanchor": "center"
              }
             }
            ],
            "label": "2020-09",
            "method": "update"
           },
           {
            "args": [
             {
              "type": "line",
              "x": [
               [
                "v_20230912",
                "v_20231114",
                "v_20231212",
                "v_20240116",
                "v_20240213",
                "v_20240312",
                "v_20240416",
                "v_20240514",
                "v_20240611",
                "v_20240718",
                "v_20240813",
                "v_20240910",
                "v_20241015",
                "v_20241112",
                "v_20241217",
                "v_20250121",
                "v_20250218",
                "v_20250320",
                "v_20250415",
                "v_20250513",
                "v_20250610",
                "v_20250717",
                "v_20250812",
                "v_20250916"
               ]
              ],
              "y": [
               [
                553,
                553,
                553,
                553,
                553,
                553,
                557,
                557,
                557,
                557,
                557,
                557,
                557,
                557,
                557,
                557,
                557,
                557,
                560,
                560,
                560,
                560,
                560,
                560
               ]
              ]
             },
             {
              "title": {
               "text": "Vacancy Estimates Across Vintages",
               "x": 0.5,
               "xanchor": "center"
              }
             }
            ],
            "label": "2020-10",
            "method": "update"
           },
           {
            "args": [
             {
              "type": "line",
              "x": [
               [
                "v_20230912",
                "v_20231114",
                "v_20231212",
                "v_20240116",
                "v_20240213",
                "v_20240312",
                "v_20240416",
                "v_20240514",
                "v_20240611",
                "v_20240718",
                "v_20240813",
                "v_20240910",
                "v_20241015",
                "v_20241112",
                "v_20241217",
                "v_20250121",
                "v_20250218",
                "v_20250320",
                "v_20250415",
                "v_20250513",
                "v_20250610",
                "v_20250717",
                "v_20250812",
                "v_20250916"
               ]
              ],
              "y": [
               [
                601,
                601,
                601,
                601,
                601,
                601,
                600,
                600,
                600,
                600,
                600,
                600,
                600,
                600,
                600,
                600,
                600,
                600,
                602,
                602,
                602,
                602,
                602,
                602
               ]
              ]
             },
             {
              "title": {
               "text": "Vacancy Estimates Across Vintages",
               "x": 0.5,
               "xanchor": "center"
              }
             }
            ],
            "label": "2020-11",
            "method": "update"
           },
           {
            "args": [
             {
              "type": "line",
              "x": [
               [
                "v_20230912",
                "v_20231114",
                "v_20231212",
                "v_20240116",
                "v_20240213",
                "v_20240312",
                "v_20240416",
                "v_20240514",
                "v_20240611",
                "v_20240718",
                "v_20240813",
                "v_20240910",
                "v_20241015",
                "v_20241112",
                "v_20241217",
                "v_20250121",
                "v_20250218",
                "v_20250320",
                "v_20250415",
                "v_20250513",
                "v_20250610",
                "v_20250717",
                "v_20250812",
                "v_20250916"
               ]
              ],
              "y": [
               [
                626,
                626,
                626,
                626,
                626,
                626,
                619,
                619,
                619,
                619,
                619,
                619,
                619,
                619,
                619,
                619,
                619,
                619,
                617,
                617,
                617,
                617,
                617,
                617
               ]
              ]
             },
             {
              "title": {
               "text": "Vacancy Estimates Across Vintages",
               "x": 0.5,
               "xanchor": "center"
              }
             }
            ],
            "label": "2020-12",
            "method": "update"
           },
           {
            "args": [
             {
              "type": "line",
              "x": [
               [
                "v_20230912",
                "v_20231114",
                "v_20231212",
                "v_20240116",
                "v_20240213",
                "v_20240312",
                "v_20240416",
                "v_20240514",
                "v_20240611",
                "v_20240718",
                "v_20240813",
                "v_20240910",
                "v_20241015",
                "v_20241112",
                "v_20241217",
                "v_20250121",
                "v_20250218",
                "v_20250320",
                "v_20250415",
                "v_20250513",
                "v_20250610",
                "v_20250717",
                "v_20250812",
                "v_20250916"
               ]
              ],
              "y": [
               [
                628,
                628,
                628,
                628,
                628,
                628,
                621,
                621,
                621,
                621,
                621,
                621,
                621,
                621,
                621,
                621,
                621,
                621,
                621,
                621,
                621,
                621,
                621,
                621
               ]
              ]
             },
             {
              "title": {
               "text": "Vacancy Estimates Across Vintages",
               "x": 0.5,
               "xanchor": "center"
              }
             }
            ],
            "label": "2021-01",
            "method": "update"
           },
           {
            "args": [
             {
              "type": "line",
              "x": [
               [
                "v_20230912",
                "v_20231114",
                "v_20231212",
                "v_20240116",
                "v_20240213",
                "v_20240312",
                "v_20240416",
                "v_20240514",
                "v_20240611",
                "v_20240718",
                "v_20240813",
                "v_20240910",
                "v_20241015",
                "v_20241112",
                "v_20241217",
                "v_20250121",
                "v_20250218",
                "v_20250320",
                "v_20250415",
                "v_20250513",
                "v_20250610",
                "v_20250717",
                "v_20250812",
                "v_20250916"
               ]
              ],
              "y": [
               [
                634,
                634,
                634,
                634,
                634,
                634,
                628,
                628,
                628,
                628,
                628,
                628,
                628,
                628,
                628,
                628,
                628,
                628,
                626,
                626,
                626,
                626,
                626,
                626
               ]
              ]
             },
             {
              "title": {
               "text": "Vacancy Estimates Across Vintages",
               "x": 0.5,
               "xanchor": "center"
              }
             }
            ],
            "label": "2021-02",
            "method": "update"
           },
           {
            "args": [
             {
              "type": "line",
              "x": [
               [
                "v_20230912",
                "v_20231114",
                "v_20231212",
                "v_20240116",
                "v_20240213",
                "v_20240312",
                "v_20240416",
                "v_20240514",
                "v_20240611",
                "v_20240718",
                "v_20240813",
                "v_20240910",
                "v_20241015",
                "v_20241112",
                "v_20241217",
                "v_20250121",
                "v_20250218",
                "v_20250320",
                "v_20250415",
                "v_20250513",
                "v_20250610",
                "v_20250717",
                "v_20250812",
                "v_20250916"
               ]
              ],
              "y": [
               [
                668,
                668,
                668,
                668,
                668,
                668,
                663,
                663,
                663,
                663,
                663,
                663,
                663,
                663,
                663,
                663,
                663,
                663,
                659,
                659,
                659,
                659,
                659,
                659
               ]
              ]
             },
             {
              "title": {
               "text": "Vacancy Estimates Across Vintages",
               "x": 0.5,
               "xanchor": "center"
              }
             }
            ],
            "label": "2021-03",
            "method": "update"
           },
           {
            "args": [
             {
              "type": "line",
              "x": [
               [
                "v_20230912",
                "v_20231114",
                "v_20231212",
                "v_20240116",
                "v_20240213",
                "v_20240312",
                "v_20240416",
                "v_20240514",
                "v_20240611",
                "v_20240718",
                "v_20240813",
                "v_20240910",
                "v_20241015",
                "v_20241112",
                "v_20241217",
                "v_20250121",
                "v_20250218",
                "v_20250320",
                "v_20250415",
                "v_20250513",
                "v_20250610",
                "v_20250717",
                "v_20250812",
                "v_20250916"
               ]
              ],
              "y": [
               [
                767,
                767,
                767,
                767,
                767,
                767,
                765,
                765,
                765,
                765,
                765,
                765,
                765,
                765,
                765,
                765,
                765,
                765,
                764,
                764,
                764,
                764,
                764,
                764
               ]
              ]
             },
             {
              "title": {
               "text": "Vacancy Estimates Across Vintages",
               "x": 0.5,
               "xanchor": "center"
              }
             }
            ],
            "label": "2021-04",
            "method": "update"
           },
           {
            "args": [
             {
              "type": "line",
              "x": [
               [
                "v_20230912",
                "v_20231114",
                "v_20231212",
                "v_20240116",
                "v_20240213",
                "v_20240312",
                "v_20240416",
                "v_20240514",
                "v_20240611",
                "v_20240718",
                "v_20240813",
                "v_20240910",
                "v_20241015",
                "v_20241112",
                "v_20241217",
                "v_20250121",
                "v_20250218",
                "v_20250320",
                "v_20250415",
                "v_20250513",
                "v_20250610",
                "v_20250717",
                "v_20250812",
                "v_20250916"
               ]
              ],
              "y": [
               [
                864,
                864,
                864,
                864,
                864,
                864,
                867,
                867,
                867,
                867,
                867,
                867,
                867,
                867,
                867,
                867,
                867,
                867,
                867,
                867,
                867,
                867,
                867,
                867
               ]
              ]
             },
             {
              "title": {
               "text": "Vacancy Estimates Across Vintages",
               "x": 0.5,
               "xanchor": "center"
              }
             }
            ],
            "label": "2021-05",
            "method": "update"
           },
           {
            "args": [
             {
              "type": "line",
              "x": [
               [
                "v_20230912",
                "v_20231114",
                "v_20231212",
                "v_20240116",
                "v_20240213",
                "v_20240312",
                "v_20240416",
                "v_20240514",
                "v_20240611",
                "v_20240718",
                "v_20240813",
                "v_20240910",
                "v_20241015",
                "v_20241112",
                "v_20241217",
                "v_20250121",
                "v_20250218",
                "v_20250320",
                "v_20250415",
                "v_20250513",
                "v_20250610",
                "v_20250717",
                "v_20250812",
                "v_20250916"
               ]
              ],
              "y": [
               [
                964,
                964,
                964,
                964,
                964,
                964,
                971,
                971,
                971,
                971,
                971,
                971,
                971,
                971,
                971,
                971,
                971,
                971,
                968,
                968,
                968,
                968,
                968,
                968
               ]
              ]
             },
             {
              "title": {
               "text": "Vacancy Estimates Across Vintages",
               "x": 0.5,
               "xanchor": "center"
              }
             }
            ],
            "label": "2021-06",
            "method": "update"
           },
           {
            "args": [
             {
              "type": "line",
              "x": [
               [
                "v_20230912",
                "v_20231114",
                "v_20231212",
                "v_20240116",
                "v_20240213",
                "v_20240312",
                "v_20240416",
                "v_20240514",
                "v_20240611",
                "v_20240718",
                "v_20240813",
                "v_20240910",
                "v_20241015",
                "v_20241112",
                "v_20241217",
                "v_20250121",
                "v_20250218",
                "v_20250320",
                "v_20250415",
                "v_20250513",
                "v_20250610",
                "v_20250717",
                "v_20250812",
                "v_20250916"
               ]
              ],
              "y": [
               [
                1046,
                1046,
                1046,
                1046,
                1046,
                1046,
                1052,
                1052,
                1052,
                1052,
                1052,
                1052,
                1052,
                1052,
                1052,
                1052,
                1052,
                1052,
                1052,
                1052,
                1052,
                1052,
                1052,
                1052
               ]
              ]
             },
             {
              "title": {
               "text": "Vacancy Estimates Across Vintages",
               "x": 0.5,
               "xanchor": "center"
              }
             }
            ],
            "label": "2021-07",
            "method": "update"
           },
           {
            "args": [
             {
              "type": "line",
              "x": [
               [
                "v_20230912",
                "v_20231114",
                "v_20231212",
                "v_20240116",
                "v_20240213",
                "v_20240312",
                "v_20240416",
                "v_20240514",
                "v_20240611",
                "v_20240718",
                "v_20240813",
                "v_20240910",
                "v_20241015",
                "v_20241112",
                "v_20241217",
                "v_20250121",
                "v_20250218",
                "v_20250320",
                "v_20250415",
                "v_20250513",
                "v_20250610",
                "v_20250717",
                "v_20250812",
                "v_20250916"
               ]
              ],
              "y": [
               [
                1121,
                1121,
                1121,
                1121,
                1121,
                1121,
                1122,
                1122,
                1122,
                1122,
                1122,
                1122,
                1122,
                1122,
                1122,
                1122,
                1122,
                1122,
                1125,
                1125,
                1125,
                1125,
                1125,
                1125
               ]
              ]
             },
             {
              "title": {
               "text": "Vacancy Estimates Across Vintages",
               "x": 0.5,
               "xanchor": "center"
              }
             }
            ],
            "label": "2021-08",
            "method": "update"
           },
           {
            "args": [
             {
              "type": "line",
              "x": [
               [
                "v_20230912",
                "v_20231114",
                "v_20231212",
                "v_20240116",
                "v_20240213",
                "v_20240312",
                "v_20240416",
                "v_20240514",
                "v_20240611",
                "v_20240718",
                "v_20240813",
                "v_20240910",
                "v_20241015",
                "v_20241112",
                "v_20241217",
                "v_20250121",
                "v_20250218",
                "v_20250320",
                "v_20250415",
                "v_20250513",
                "v_20250610",
                "v_20250717",
                "v_20250812",
                "v_20250916"
               ]
              ],
              "y": [
               [
                1186,
                1186,
                1186,
                1186,
                1186,
                1186,
                1194,
                1194,
                1194,
                1194,
                1194,
                1194,
                1194,
                1194,
                1194,
                1194,
                1194,
                1194,
                1198,
                1198,
                1198,
                1198,
                1198,
                1198
               ]
              ]
             },
             {
              "title": {
               "text": "Vacancy Estimates Across Vintages",
               "x": 0.5,
               "xanchor": "center"
              }
             }
            ],
            "label": "2021-09",
            "method": "update"
           },
           {
            "args": [
             {
              "type": "line",
              "x": [
               [
                "v_20230912",
                "v_20231114",
                "v_20231212",
                "v_20240116",
                "v_20240213",
                "v_20240312",
                "v_20240416",
                "v_20240514",
                "v_20240611",
                "v_20240718",
                "v_20240813",
                "v_20240910",
                "v_20241015",
                "v_20241112",
                "v_20241217",
                "v_20250121",
                "v_20250218",
                "v_20250320",
                "v_20250415",
                "v_20250513",
                "v_20250610",
                "v_20250717",
                "v_20250812",
                "v_20250916"
               ]
              ],
              "y": [
               [
                1214,
                1214,
                1214,
                1214,
                1214,
                1214,
                1218,
                1218,
                1218,
                1218,
                1218,
                1218,
                1218,
                1218,
                1218,
                1218,
                1218,
                1218,
                1223,
                1223,
                1223,
                1223,
                1223,
                1223
               ]
              ]
             },
             {
              "title": {
               "text": "Vacancy Estimates Across Vintages",
               "x": 0.5,
               "xanchor": "center"
              }
             }
            ],
            "label": "2021-10",
            "method": "update"
           },
           {
            "args": [
             {
              "type": "line",
              "x": [
               [
                "v_20230912",
                "v_20231114",
                "v_20231212",
                "v_20240116",
                "v_20240213",
                "v_20240312",
                "v_20240416",
                "v_20240514",
                "v_20240611",
                "v_20240718",
                "v_20240813",
                "v_20240910",
                "v_20241015",
                "v_20241112",
                "v_20241217",
                "v_20250121",
                "v_20250218",
                "v_20250320",
                "v_20250415",
                "v_20250513",
                "v_20250610",
                "v_20250717",
                "v_20250812",
                "v_20250916"
               ]
              ],
              "y": [
               [
                1241,
                1241,
                1241,
                1241,
                1241,
                1241,
                1241,
                1241,
                1241,
                1241,
                1241,
                1241,
                1241,
                1241,
                1241,
                1241,
                1241,
                1241,
                1243,
                1243,
                1243,
                1243,
                1243,
                1243
               ]
              ]
             },
             {
              "title": {
               "text": "Vacancy Estimates Across Vintages",
               "x": 0.5,
               "xanchor": "center"
              }
             }
            ],
            "label": "2021-11",
            "method": "update"
           },
           {
            "args": [
             {
              "type": "line",
              "x": [
               [
                "v_20230912",
                "v_20231114",
                "v_20231212",
                "v_20240116",
                "v_20240213",
                "v_20240312",
                "v_20240416",
                "v_20240514",
                "v_20240611",
                "v_20240718",
                "v_20240813",
                "v_20240910",
                "v_20241015",
                "v_20241112",
                "v_20241217",
                "v_20250121",
                "v_20250218",
                "v_20250320",
                "v_20250415",
                "v_20250513",
                "v_20250610",
                "v_20250717",
                "v_20250812",
                "v_20250916"
               ]
              ],
              "y": [
               [
                1264,
                1264,
                1264,
                1264,
                1264,
                1264,
                1257,
                1257,
                1257,
                1257,
                1257,
                1257,
                1257,
                1257,
                1257,
                1257,
                1257,
                1257,
                1250,
                1250,
                1250,
                1250,
                1250,
                1250
               ]
              ]
             },
             {
              "title": {
               "text": "Vacancy Estimates Across Vintages",
               "x": 0.5,
               "xanchor": "center"
              }
             }
            ],
            "label": "2021-12",
            "method": "update"
           },
           {
            "args": [
             {
              "type": "line",
              "x": [
               [
                "v_20230912",
                "v_20231114",
                "v_20231212",
                "v_20240116",
                "v_20240213",
                "v_20240312",
                "v_20240416",
                "v_20240514",
                "v_20240611",
                "v_20240718",
                "v_20240813",
                "v_20240910",
                "v_20241015",
                "v_20241112",
                "v_20241217",
                "v_20250121",
                "v_20250218",
                "v_20250320",
                "v_20250415",
                "v_20250513",
                "v_20250610",
                "v_20250717",
                "v_20250812",
                "v_20250916"
               ]
              ],
              "y": [
               [
                1281,
                1281,
                1281,
                1281,
                1281,
                1281,
                1273,
                1273,
                1273,
                1273,
                1273,
                1273,
                1273,
                1273,
                1273,
                1273,
                1273,
                1273,
                1267,
                1267,
                1267,
                1267,
                1267,
                1267
               ]
              ]
             },
             {
              "title": {
               "text": "Vacancy Estimates Across Vintages",
               "x": 0.5,
               "xanchor": "center"
              }
             }
            ],
            "label": "2022-01",
            "method": "update"
           },
           {
            "args": [
             {
              "type": "line",
              "x": [
               [
                "v_20230912",
                "v_20231114",
                "v_20231212",
                "v_20240116",
                "v_20240213",
                "v_20240312",
                "v_20240416",
                "v_20240514",
                "v_20240611",
                "v_20240718",
                "v_20240813",
                "v_20240910",
                "v_20241015",
                "v_20241112",
                "v_20241217",
                "v_20250121",
                "v_20250218",
                "v_20250320",
                "v_20250415",
                "v_20250513",
                "v_20250610",
                "v_20250717",
                "v_20250812",
                "v_20250916"
               ]
              ],
              "y": [
               [
                1293,
                1293,
                1293,
                1293,
                1293,
                1293,
                1286,
                1286,
                1286,
                1286,
                1286,
                1286,
                1286,
                1286,
                1286,
                1286,
                1286,
                1286,
                1276,
                1276,
                1276,
                1276,
                1276,
                1276
               ]
              ]
             },
             {
              "title": {
               "text": "Vacancy Estimates Across Vintages",
               "x": 0.5,
               "xanchor": "center"
              }
             }
            ],
            "label": "2022-02",
            "method": "update"
           },
           {
            "args": [
             {
              "type": "line",
              "x": [
               [
                "v_20230912",
                "v_20231114",
                "v_20231212",
                "v_20240116",
                "v_20240213",
                "v_20240312",
                "v_20240416",
                "v_20240514",
                "v_20240611",
                "v_20240718",
                "v_20240813",
                "v_20240910",
                "v_20241015",
                "v_20241112",
                "v_20241217",
                "v_20250121",
                "v_20250218",
                "v_20250320",
                "v_20250415",
                "v_20250513",
                "v_20250610",
                "v_20250717",
                "v_20250812",
                "v_20250916"
               ]
              ],
              "y": [
               [
                1297,
                1297,
                1297,
                1297,
                1297,
                1297,
                1296,
                1296,
                1296,
                1296,
                1296,
                1296,
                1296,
                1296,
                1296,
                1296,
                1296,
                1296,
                1291,
                1291,
                1291,
                1291,
                1291,
                1291
               ]
              ]
             },
             {
              "title": {
               "text": "Vacancy Estimates Across Vintages",
               "x": 0.5,
               "xanchor": "center"
              }
             }
            ],
            "label": "2022-03",
            "method": "update"
           },
           {
            "args": [
             {
              "type": "line",
              "x": [
               [
                "v_20230912",
                "v_20231114",
                "v_20231212",
                "v_20240116",
                "v_20240213",
                "v_20240312",
                "v_20240416",
                "v_20240514",
                "v_20240611",
                "v_20240718",
                "v_20240813",
                "v_20240910",
                "v_20241015",
                "v_20241112",
                "v_20241217",
                "v_20250121",
                "v_20250218",
                "v_20250320",
                "v_20250415",
                "v_20250513",
                "v_20250610",
                "v_20250717",
                "v_20250812",
                "v_20250916"
               ]
              ],
              "y": [
               [
                1302,
                1302,
                1302,
                1302,
                1302,
                1302,
                1304,
                1304,
                1304,
                1304,
                1304,
                1304,
                1304,
                1304,
                1304,
                1304,
                1304,
                1304,
                1300,
                1300,
                1300,
                1300,
                1300,
                1300
               ]
              ]
             },
             {
              "title": {
               "text": "Vacancy Estimates Across Vintages",
               "x": 0.5,
               "xanchor": "center"
              }
             }
            ],
            "label": "2022-04",
            "method": "update"
           },
           {
            "args": [
             {
              "type": "line",
              "x": [
               [
                "v_20230912",
                "v_20231114",
                "v_20231212",
                "v_20240116",
                "v_20240213",
                "v_20240312",
                "v_20240416",
                "v_20240514",
                "v_20240611",
                "v_20240718",
                "v_20240813",
                "v_20240910",
                "v_20241015",
                "v_20241112",
                "v_20241217",
                "v_20250121",
                "v_20250218",
                "v_20250320",
                "v_20250415",
                "v_20250513",
                "v_20250610",
                "v_20250717",
                "v_20250812",
                "v_20250916"
               ]
              ],
              "y": [
               [
                1299,
                1299,
                1299,
                1299,
                1299,
                1299,
                1299,
                1299,
                1299,
                1299,
                1299,
                1299,
                1299,
                1299,
                1299,
                1299,
                1299,
                1299,
                1290,
                1290,
                1290,
                1290,
                1290,
                1290
               ]
              ]
             },
             {
              "title": {
               "text": "Vacancy Estimates Across Vintages",
               "x": 0.5,
               "xanchor": "center"
              }
             }
            ],
            "label": "2022-05",
            "method": "update"
           },
           {
            "args": [
             {
              "type": "line",
              "x": [
               [
                "v_20230912",
                "v_20231114",
                "v_20231212",
                "v_20240116",
                "v_20240213",
                "v_20240312",
                "v_20240416",
                "v_20240514",
                "v_20240611",
                "v_20240718",
                "v_20240813",
                "v_20240910",
                "v_20241015",
                "v_20241112",
                "v_20241217",
                "v_20250121",
                "v_20250218",
                "v_20250320",
                "v_20250415",
                "v_20250513",
                "v_20250610",
                "v_20250717",
                "v_20250812",
                "v_20250916"
               ]
              ],
              "y": [
               [
                1275,
                1275,
                1275,
                1275,
                1275,
                1275,
                1280,
                1280,
                1280,
                1280,
                1280,
                1280,
                1280,
                1280,
                1280,
                1280,
                1280,
                1280,
                1263,
                1263,
                1263,
                1263,
                1263,
                1263
               ]
              ]
             },
             {
              "title": {
               "text": "Vacancy Estimates Across Vintages",
               "x": 0.5,
               "xanchor": "center"
              }
             }
            ],
            "label": "2022-06",
            "method": "update"
           },
           {
            "args": [
             {
              "type": "line",
              "x": [
               [
                "v_20230912",
                "v_20231114",
                "v_20231212",
                "v_20240116",
                "v_20240213",
                "v_20240312",
                "v_20240416",
                "v_20240514",
                "v_20240611",
                "v_20240718",
                "v_20240813",
                "v_20240910",
                "v_20241015",
                "v_20241112",
                "v_20241217",
                "v_20250121",
                "v_20250218",
                "v_20250320",
                "v_20250415",
                "v_20250513",
                "v_20250610",
                "v_20250717",
                "v_20250812",
                "v_20250916"
               ]
              ],
              "y": [
               [
                1257,
                1257,
                1257,
                1257,
                1257,
                1257,
                1259,
                1259,
                1259,
                1259,
                1259,
                1259,
                1259,
                1259,
                1259,
                1259,
                1259,
                1259,
                1244,
                1244,
                1244,
                1244,
                1244,
                1244
               ]
              ]
             },
             {
              "title": {
               "text": "Vacancy Estimates Across Vintages",
               "x": 0.5,
               "xanchor": "center"
              }
             }
            ],
            "label": "2022-07",
            "method": "update"
           },
           {
            "args": [
             {
              "type": "line",
              "x": [
               [
                "v_20230912",
                "v_20231114",
                "v_20231212",
                "v_20240116",
                "v_20240213",
                "v_20240312",
                "v_20240416",
                "v_20240514",
                "v_20240611",
                "v_20240718",
                "v_20240813",
                "v_20240910",
                "v_20241015",
                "v_20241112",
                "v_20241217",
                "v_20250121",
                "v_20250218",
                "v_20250320",
                "v_20250415",
                "v_20250513",
                "v_20250610",
                "v_20250717",
                "v_20250812",
                "v_20250916"
               ]
              ],
              "y": [
               [
                1232,
                1244,
                1244,
                1244,
                1244,
                1244,
                1233,
                1233,
                1233,
                1233,
                1233,
                1233,
                1233,
                1233,
                1233,
                1233,
                1233,
                1233,
                1222,
                1222,
                1222,
                1222,
                1222,
                1222
               ]
              ]
             },
             {
              "title": {
               "text": "Vacancy Estimates Across Vintages",
               "x": 0.5,
               "xanchor": "center"
              }
             }
            ],
            "label": "2022-08",
            "method": "update"
           },
           {
            "args": [
             {
              "type": "line",
              "x": [
               [
                "v_20230912",
                "v_20231114",
                "v_20231212",
                "v_20240116",
                "v_20240213",
                "v_20240312",
                "v_20240416",
                "v_20240514",
                "v_20240611",
                "v_20240718",
                "v_20240813",
                "v_20240910",
                "v_20241015",
                "v_20241112",
                "v_20241217",
                "v_20250121",
                "v_20250218",
                "v_20250320",
                "v_20250415",
                "v_20250513",
                "v_20250610",
                "v_20250717",
                "v_20250812",
                "v_20250916"
               ]
              ],
              "y": [
               [
                1207,
                1214,
                1214,
                1214,
                1214,
                1214,
                1216,
                1216,
                1216,
                1216,
                1216,
                1216,
                1216,
                1216,
                1216,
                1216,
                1216,
                1216,
                1208,
                1208,
                1208,
                1208,
                1208,
                1208
               ]
              ]
             },
             {
              "title": {
               "text": "Vacancy Estimates Across Vintages",
               "x": 0.5,
               "xanchor": "center"
              }
             }
            ],
            "label": "2022-09",
            "method": "update"
           },
           {
            "args": [
             {
              "type": "line",
              "x": [
               [
                "v_20230912",
                "v_20231114",
                "v_20231212",
                "v_20240116",
                "v_20240213",
                "v_20240312",
                "v_20240416",
                "v_20240514",
                "v_20240611",
                "v_20240718",
                "v_20240813",
                "v_20240910",
                "v_20241015",
                "v_20241112",
                "v_20241217",
                "v_20250121",
                "v_20250218",
                "v_20250320",
                "v_20250415",
                "v_20250513",
                "v_20250610",
                "v_20250717",
                "v_20250812",
                "v_20250916"
               ]
              ],
              "y": [
               [
                1171,
                1171,
                1178,
                1178,
                1178,
                1178,
                1175,
                1175,
                1175,
                1175,
                1175,
                1175,
                1175,
                1175,
                1175,
                1175,
                1175,
                1175,
                1167,
                1167,
                1167,
                1167,
                1167,
                1167
               ]
              ]
             },
             {
              "title": {
               "text": "Vacancy Estimates Across Vintages",
               "x": 0.5,
               "xanchor": "center"
              }
             }
            ],
            "label": "2022-10",
            "method": "update"
           },
           {
            "args": [
             {
              "type": "line",
              "x": [
               [
                "v_20230912",
                "v_20231114",
                "v_20231212",
                "v_20240116",
                "v_20240213",
                "v_20240312",
                "v_20240416",
                "v_20240514",
                "v_20240611",
                "v_20240718",
                "v_20240813",
                "v_20240910",
                "v_20241015",
                "v_20241112",
                "v_20241217",
                "v_20250121",
                "v_20250218",
                "v_20250320",
                "v_20250415",
                "v_20250513",
                "v_20250610",
                "v_20250717",
                "v_20250812",
                "v_20250916"
               ]
              ],
              "y": [
               [
                1151,
                1151,
                1151,
                1160,
                1160,
                1160,
                1153,
                1153,
                1153,
                1153,
                1153,
                1153,
                1153,
                1153,
                1153,
                1153,
                1153,
                1153,
                1138,
                1138,
                1138,
                1138,
                1138,
                1138
               ]
              ]
             },
             {
              "title": {
               "text": "Vacancy Estimates Across Vintages",
               "x": 0.5,
               "xanchor": "center"
              }
             }
            ],
            "label": "2022-11",
            "method": "update"
           },
           {
            "args": [
             {
              "type": "line",
              "x": [
               [
                "v_20230912",
                "v_20231114",
                "v_20231212",
                "v_20240116",
                "v_20240213",
                "v_20240312",
                "v_20240416",
                "v_20240514",
                "v_20240611",
                "v_20240718",
                "v_20240813",
                "v_20240910",
                "v_20241015",
                "v_20241112",
                "v_20241217",
                "v_20250121",
                "v_20250218",
                "v_20250320",
                "v_20250415",
                "v_20250513",
                "v_20250610",
                "v_20250717",
                "v_20250812",
                "v_20250916"
               ]
              ],
              "y": [
               [
                1138,
                1138,
                1138,
                1138,
                1140,
                1140,
                1132,
                1132,
                1132,
                1132,
                1132,
                1132,
                1132,
                1132,
                1132,
                1132,
                1132,
                1132,
                1114,
                1114,
                1114,
                1114,
                1114,
                1114
               ]
              ]
             },
             {
              "title": {
               "text": "Vacancy Estimates Across Vintages",
               "x": 0.5,
               "xanchor": "center"
              }
             }
            ],
            "label": "2022-12",
            "method": "update"
           },
           {
            "args": [
             {
              "type": "line",
              "x": [
               [
                "v_20230912",
                "v_20231114",
                "v_20231212",
                "v_20240116",
                "v_20240213",
                "v_20240312",
                "v_20240416",
                "v_20240514",
                "v_20240611",
                "v_20240718",
                "v_20240813",
                "v_20240910",
                "v_20241015",
                "v_20241112",
                "v_20241217",
                "v_20250121",
                "v_20250218",
                "v_20250320",
                "v_20250415",
                "v_20250513",
                "v_20250610",
                "v_20250717",
                "v_20250812",
                "v_20250916"
               ]
              ],
              "y": [
               [
                1130,
                1130,
                1130,
                1130,
                1130,
                1132,
                1128,
                1128,
                1128,
                1128,
                1128,
                1128,
                1128,
                1128,
                1128,
                1128,
                1128,
                1128,
                1112,
                1112,
                1112,
                1112,
                1112,
                1112
               ]
              ]
             },
             {
              "title": {
               "text": "Vacancy Estimates Across Vintages",
               "x": 0.5,
               "xanchor": "center"
              }
             }
            ],
            "label": "2023-01",
            "method": "update"
           },
           {
            "args": [
             {
              "type": "line",
              "x": [
               [
                "v_20230912",
                "v_20231114",
                "v_20231212",
                "v_20240116",
                "v_20240213",
                "v_20240312",
                "v_20240416",
                "v_20240514",
                "v_20240611",
                "v_20240718",
                "v_20240813",
                "v_20240910",
                "v_20241015",
                "v_20241112",
                "v_20241217",
                "v_20250121",
                "v_20250218",
                "v_20250320",
                "v_20250415",
                "v_20250513",
                "v_20250610",
                "v_20250717",
                "v_20250812",
                "v_20250916"
               ]
              ],
              "y": [
               [
                1119,
                1119,
                1119,
                1119,
                1119,
                1119,
                1120,
                1120,
                1120,
                1120,
                1120,
                1120,
                1120,
                1120,
                1120,
                1120,
                1120,
                1120,
                1104,
                1104,
                1104,
                1104,
                1104,
                1104
               ]
              ]
             },
             {
              "title": {
               "text": "Vacancy Estimates Across Vintages",
               "x": 0.5,
               "xanchor": "center"
              }
             }
            ],
            "label": "2023-02",
            "method": "update"
           },
           {
            "args": [
             {
              "type": "line",
              "x": [
               [
                "v_20230912",
                "v_20231114",
                "v_20231212",
                "v_20240116",
                "v_20240213",
                "v_20240312",
                "v_20240416",
                "v_20240514",
                "v_20240611",
                "v_20240718",
                "v_20240813",
                "v_20240910",
                "v_20241015",
                "v_20241112",
                "v_20241217",
                "v_20250121",
                "v_20250218",
                "v_20250320",
                "v_20250415",
                "v_20250513",
                "v_20250610",
                "v_20250717",
                "v_20250812",
                "v_20250916"
               ]
              ],
              "y": [
               [
                1085,
                1085,
                1085,
                1085,
                1085,
                1085,
                1088,
                1086,
                1086,
                1086,
                1086,
                1086,
                1086,
                1086,
                1086,
                1086,
                1086,
                1086,
                1075,
                1075,
                1075,
                1075,
                1075,
                1075
               ]
              ]
             },
             {
              "title": {
               "text": "Vacancy Estimates Across Vintages",
               "x": 0.5,
               "xanchor": "center"
              }
             }
            ],
            "label": "2023-03",
            "method": "update"
           },
           {
            "args": [
             {
              "type": "line",
              "x": [
               [
                "v_20230912",
                "v_20231114",
                "v_20231212",
                "v_20240116",
                "v_20240213",
                "v_20240312",
                "v_20240416",
                "v_20240514",
                "v_20240611",
                "v_20240718",
                "v_20240813",
                "v_20240910",
                "v_20241015",
                "v_20241112",
                "v_20241217",
                "v_20250121",
                "v_20250218",
                "v_20250320",
                "v_20250415",
                "v_20250513",
                "v_20250610",
                "v_20250717",
                "v_20250812",
                "v_20250916"
               ]
              ],
              "y": [
               [
                1052,
                1052,
                1052,
                1052,
                1052,
                1052,
                1058,
                1058,
                1060,
                1060,
                1060,
                1060,
                1060,
                1060,
                1060,
                1060,
                1060,
                1060,
                1043,
                1043,
                1043,
                1043,
                1043,
                1043
               ]
              ]
             },
             {
              "title": {
               "text": "Vacancy Estimates Across Vintages",
               "x": 0.5,
               "xanchor": "center"
              }
             }
            ],
            "label": "2023-04",
            "method": "update"
           },
           {
            "args": [
             {
              "type": "line",
              "x": [
               [
                "v_20230912",
                "v_20231114",
                "v_20231212",
                "v_20240116",
                "v_20240213",
                "v_20240312",
                "v_20240416",
                "v_20240514",
                "v_20240611",
                "v_20240718",
                "v_20240813",
                "v_20240910",
                "v_20241015",
                "v_20241112",
                "v_20241217",
                "v_20250121",
                "v_20250218",
                "v_20250320",
                "v_20250415",
                "v_20250513",
                "v_20250610",
                "v_20250717",
                "v_20250812",
                "v_20250916"
               ]
              ],
              "y": [
               [
                1031,
                1032,
                1032,
                1032,
                1032,
                1032,
                1037,
                1037,
                1037,
                1039,
                1039,
                1039,
                1039,
                1039,
                1039,
                1039,
                1039,
                1039,
                1025,
                1025,
                1025,
                1025,
                1025,
                1025
               ]
              ]
             },
             {
              "title": {
               "text": "Vacancy Estimates Across Vintages",
               "x": 0.5,
               "xanchor": "center"
              }
             }
            ],
            "label": "2023-05",
            "method": "update"
           },
           {
            "args": [
             {
              "type": "line",
              "x": [
               [
                "v_20230912",
                "v_20231114",
                "v_20231212",
                "v_20240116",
                "v_20240213",
                "v_20240312",
                "v_20240416",
                "v_20240514",
                "v_20240611",
                "v_20240718",
                "v_20240813",
                "v_20240910",
                "v_20241015",
                "v_20241112",
                "v_20241217",
                "v_20250121",
                "v_20250218",
                "v_20250320",
                "v_20250415",
                "v_20250513",
                "v_20250610",
                "v_20250717",
                "v_20250812",
                "v_20250916"
               ]
              ],
              "y": [
               [
                1017,
                1015,
                1015,
                1015,
                1015,
                1015,
                1024,
                1024,
                1024,
                1024,
                1024,
                1024,
                1024,
                1024,
                1024,
                1024,
                1024,
                1024,
                1010,
                1010,
                1010,
                1010,
                1010,
                1010
               ]
              ]
             },
             {
              "title": {
               "text": "Vacancy Estimates Across Vintages",
               "x": 0.5,
               "xanchor": "center"
              }
             }
            ],
            "label": "2023-06",
            "method": "update"
           },
           {
            "args": [
             {
              "type": "line",
              "x": [
               [
                "v_20230912",
                "v_20231114",
                "v_20231212",
                "v_20240116",
                "v_20240213",
                "v_20240312",
                "v_20240416",
                "v_20240514",
                "v_20240611",
                "v_20240718",
                "v_20240813",
                "v_20240910",
                "v_20241015",
                "v_20241112",
                "v_20241217",
                "v_20250121",
                "v_20250218",
                "v_20250320",
                "v_20250415",
                "v_20250513",
                "v_20250610",
                "v_20250717",
                "v_20250812",
                "v_20250916"
               ]
              ],
              "y": [
               [
                989,
                993,
                994,
                994,
                994,
                994,
                997,
                997,
                997,
                997,
                997,
                1000,
                1000,
                1000,
                1000,
                1000,
                1000,
                1000,
                988,
                988,
                988,
                988,
                988,
                988
               ]
              ]
             },
             {
              "title": {
               "text": "Vacancy Estimates Across Vintages",
               "x": 0.5,
               "xanchor": "center"
              }
             }
            ],
            "label": "2023-07",
            "method": "update"
           },
           {
            "args": [
             {
              "type": "line",
              "x": [
               [
                "v_20231114",
                "v_20231212",
                "v_20240116",
                "v_20240213",
                "v_20240312",
                "v_20240416",
                "v_20240514",
                "v_20240611",
                "v_20240718",
                "v_20240813",
                "v_20240910",
                "v_20241015",
                "v_20241112",
                "v_20241217",
                "v_20250121",
                "v_20250218",
                "v_20250320",
                "v_20250415",
                "v_20250513",
                "v_20250610",
                "v_20250717",
                "v_20250812",
                "v_20250916"
               ]
              ],
              "y": [
               [
                981,
                984,
                983,
                983,
                983,
                982,
                982,
                982,
                982,
                982,
                982,
                983,
                983,
                983,
                983,
                983,
                983,
                973,
                973,
                973,
                973,
                973,
                973
               ]
              ]
             },
             {
              "title": {
               "text": "Vacancy Estimates Across Vintages",
               "x": 0.5,
               "xanchor": "center"
              }
             }
            ],
            "label": "2023-08",
            "method": "update"
           },
           {
            "args": [
             {
              "type": "line",
              "x": [
               [
                "v_20231114",
                "v_20231212",
                "v_20240116",
                "v_20240213",
                "v_20240312",
                "v_20240416",
                "v_20240514",
                "v_20240611",
                "v_20240718",
                "v_20240813",
                "v_20240910",
                "v_20241015",
                "v_20241112",
                "v_20241217",
                "v_20250121",
                "v_20250218",
                "v_20250320",
                "v_20250415",
                "v_20250513",
                "v_20250610",
                "v_20250717",
                "v_20250812",
                "v_20250916"
               ]
              ],
              "y": [
               [
                957,
                959,
                960,
                958,
                958,
                959,
                959,
                959,
                959,
                959,
                959,
                959,
                961,
                961,
                961,
                961,
                961,
                952,
                952,
                952,
                952,
                952,
                952
               ]
              ]
             },
             {
              "title": {
               "text": "Vacancy Estimates Across Vintages",
               "x": 0.5,
               "xanchor": "center"
              }
             }
            ],
            "label": "2023-09",
            "method": "update"
           },
           {
            "args": [
             {
              "type": "line",
              "x": [
               [
                "v_20231212",
                "v_20240116",
                "v_20240213",
                "v_20240312",
                "v_20240416",
                "v_20240514",
                "v_20240611",
                "v_20240718",
                "v_20240813",
                "v_20240910",
                "v_20241015",
                "v_20241112",
                "v_20241217",
                "v_20250121",
                "v_20250218",
                "v_20250320",
                "v_20250415",
                "v_20250513",
                "v_20250610",
                "v_20250717",
                "v_20250812",
                "v_20250916"
               ]
              ],
              "y": [
               [
                949,
                951,
                949,
                951,
                951,
                951,
                951,
                951,
                951,
                951,
                951,
                951,
                955,
                955,
                955,
                955,
                948,
                948,
                948,
                948,
                948,
                948
               ]
              ]
             },
             {
              "title": {
               "text": "Vacancy Estimates Across Vintages",
               "x": 0.5,
               "xanchor": "center"
              }
             }
            ],
            "label": "2023-10",
            "method": "update"
           },
           {
            "args": [
             {
              "type": "line",
              "x": [
               [
                "v_20240116",
                "v_20240213",
                "v_20240312",
                "v_20240416",
                "v_20240514",
                "v_20240611",
                "v_20240718",
                "v_20240813",
                "v_20240910",
                "v_20241015",
                "v_20241112",
                "v_20241217",
                "v_20250121",
                "v_20250218",
                "v_20250320",
                "v_20250415",
                "v_20250513",
                "v_20250610",
                "v_20250717",
                "v_20250812",
                "v_20250916"
               ]
              ],
              "y": [
               [
                934,
                934,
                933,
                929,
                929,
                929,
                929,
                929,
                929,
                929,
                929,
                929,
                930,
                930,
                930,
                924,
                924,
                924,
                924,
                924,
                924
               ]
              ]
             },
             {
              "title": {
               "text": "Vacancy Estimates Across Vintages",
               "x": 0.5,
               "xanchor": "center"
              }
             }
            ],
            "label": "2023-11",
            "method": "update"
           },
           {
            "args": [
             {
              "type": "line",
              "x": [
               [
                "v_20240213",
                "v_20240312",
                "v_20240416",
                "v_20240514",
                "v_20240611",
                "v_20240718",
                "v_20240813",
                "v_20240910",
                "v_20241015",
                "v_20241112",
                "v_20241217",
                "v_20250121",
                "v_20250218",
                "v_20250320",
                "v_20250415",
                "v_20250513",
                "v_20250610",
                "v_20250717",
                "v_20250812",
                "v_20250916"
               ]
              ],
              "y": [
               [
                932,
                928,
                923,
                924,
                924,
                924,
                924,
                924,
                924,
                924,
                924,
                924,
                929,
                929,
                916,
                916,
                916,
                916,
                916,
                916
               ]
              ]
             },
             {
              "title": {
               "text": "Vacancy Estimates Across Vintages",
               "x": 0.5,
               "xanchor": "center"
              }
             }
            ],
            "label": "2023-12",
            "method": "update"
           },
           {
            "args": [
             {
              "type": "line",
              "x": [
               [
                "v_20240312",
                "v_20240416",
                "v_20240514",
                "v_20240611",
                "v_20240718",
                "v_20240813",
                "v_20240910",
                "v_20241015",
                "v_20241112",
                "v_20241217",
                "v_20250121",
                "v_20250218",
                "v_20250320",
                "v_20250415",
                "v_20250513",
                "v_20250610",
                "v_20250717",
                "v_20250812",
                "v_20250916"
               ]
              ],
              "y": [
               [
                908,
                910,
                911,
                916,
                916,
                916,
                916,
                916,
                916,
                916,
                916,
                916,
                914,
                904,
                904,
                904,
                904,
                904,
                904
               ]
              ]
             },
             {
              "title": {
               "text": "Vacancy Estimates Across Vintages",
               "x": 0.5,
               "xanchor": "center"
              }
             }
            ],
            "label": "2024-01",
            "method": "update"
           },
           {
            "args": [
             {
              "type": "line",
              "x": [
               [
                "v_20240416",
                "v_20240514",
                "v_20240611",
                "v_20240718",
                "v_20240813",
                "v_20240910",
                "v_20241015",
                "v_20241112",
                "v_20241217",
                "v_20250121",
                "v_20250218",
                "v_20250320",
                "v_20250415",
                "v_20250513",
                "v_20250610",
                "v_20250717",
                "v_20250812",
                "v_20250916"
               ]
              ],
              "y": [
               [
                916,
                913,
                919,
                919,
                919,
                919,
                919,
                919,
                919,
                919,
                919,
                919,
                905,
                905,
                905,
                905,
                905,
                905
               ]
              ]
             },
             {
              "title": {
               "text": "Vacancy Estimates Across Vintages",
               "x": 0.5,
               "xanchor": "center"
              }
             }
            ],
            "label": "2024-02",
            "method": "update"
           },
           {
            "args": [
             {
              "type": "line",
              "x": [
               [
                "v_20240514",
                "v_20240611",
                "v_20240718",
                "v_20240813",
                "v_20240910",
                "v_20241015",
                "v_20241112",
                "v_20241217",
                "v_20250121",
                "v_20250218",
                "v_20250320",
                "v_20250415",
                "v_20250513",
                "v_20250610",
                "v_20250717",
                "v_20250812",
                "v_20250916"
               ]
              ],
              "y": [
               [
                898,
                908,
                908,
                909,
                909,
                909,
                909,
                909,
                909,
                909,
                909,
                893,
                892,
                892,
                892,
                892,
                892
               ]
              ]
             },
             {
              "title": {
               "text": "Vacancy Estimates Across Vintages",
               "x": 0.5,
               "xanchor": "center"
              }
             }
            ],
            "label": "2024-03",
            "method": "update"
           },
           {
            "args": [
             {
              "type": "line",
              "x": [
               [
                "v_20240611",
                "v_20240718",
                "v_20240813",
                "v_20240910",
                "v_20241015",
                "v_20241112",
                "v_20241217",
                "v_20250121",
                "v_20250218",
                "v_20250320",
                "v_20250415",
                "v_20250513",
                "v_20250610",
                "v_20250717",
                "v_20250812",
                "v_20250916"
               ]
              ],
              "y": [
               [
                904,
                905,
                906,
                899,
                899,
                899,
                899,
                899,
                899,
                899,
                886,
                886,
                886,
                886,
                886,
                886
               ]
              ]
             },
             {
              "title": {
               "text": "Vacancy Estimates Across Vintages",
               "x": 0.5,
               "xanchor": "center"
              }
             }
            ],
            "label": "2024-04",
            "method": "update"
           },
           {
            "args": [
             {
              "type": "line",
              "x": [
               [
                "v_20240718",
                "v_20240813",
                "v_20240910",
                "v_20241015",
                "v_20241112",
                "v_20241217",
                "v_20250121",
                "v_20250218",
                "v_20250320",
                "v_20250415",
                "v_20250513",
                "v_20250610",
                "v_20250717",
                "v_20250812",
                "v_20250916"
               ]
              ],
              "y": [
               [
                889,
                888,
                880,
                875,
                875,
                875,
                875,
                875,
                875,
                868,
                868,
                868,
                870,
                870,
                870
               ]
              ]
             },
             {
              "title": {
               "text": "Vacancy Estimates Across Vintages",
               "x": 0.5,
               "xanchor": "center"
              }
             }
            ],
            "label": "2024-05",
            "method": "update"
           },
           {
            "args": [
             {
              "type": "line",
              "x": [
               [
                "v_20240813",
                "v_20240910",
                "v_20241015",
                "v_20241112",
                "v_20241217",
                "v_20250121",
                "v_20250218",
                "v_20250320",
                "v_20250415",
                "v_20250513",
                "v_20250610",
                "v_20250717",
                "v_20250812",
                "v_20250916"
               ]
              ],
              "y": [
               [
                884,
                872,
                869,
                866,
                866,
                866,
                866,
                866,
                859,
                859,
                859,
                859,
                863,
                863
               ]
              ]
             },
             {
              "title": {
               "text": "Vacancy Estimates Across Vintages",
               "x": 0.5,
               "xanchor": "center"
              }
             }
            ],
            "label": "2024-06",
            "method": "update"
           },
           {
            "args": [
             {
              "type": "line",
              "x": [
               [
                "v_20240910",
                "v_20241015",
                "v_20241112",
                "v_20241217",
                "v_20250121",
                "v_20250218",
                "v_20250320",
                "v_20250415",
                "v_20250513",
                "v_20250610",
                "v_20250717",
                "v_20250812",
                "v_20250916"
               ]
              ],
              "y": [
               [
                857,
                856,
                853,
                850,
                850,
                850,
                850,
                845,
                845,
                845,
                845,
                845,
                847
               ]
              ]
             },
             {
              "title": {
               "text": "Vacancy Estimates Across Vintages",
               "x": 0.5,
               "xanchor": "center"
              }
             }
            ],
            "label": "2024-07",
            "method": "update"
           },
           {
            "args": [
             {
              "type": "line",
              "x": [
               [
                "v_20241015",
                "v_20241112",
                "v_20241217",
                "v_20250121",
                "v_20250218",
                "v_20250320",
                "v_20250415",
                "v_20250513",
                "v_20250610",
                "v_20250717",
                "v_20250812",
                "v_20250916"
               ]
              ],
              "y": [
               [
                841,
                840,
                837,
                836,
                836,
                836,
                832,
                832,
                832,
                832,
                832,
                832
               ]
              ]
             },
             {
              "title": {
               "text": "Vacancy Estimates Across Vintages",
               "x": 0.5,
               "xanchor": "center"
              }
             }
            ],
            "label": "2024-08",
            "method": "update"
           },
           {
            "args": [
             {
              "type": "line",
              "x": [
               [
                "v_20241112",
                "v_20241217",
                "v_20250121",
                "v_20250218",
                "v_20250320",
                "v_20250415",
                "v_20250513",
                "v_20250610",
                "v_20250717",
                "v_20250812",
                "v_20250916"
               ]
              ],
              "y": [
               [
                831,
                828,
                827,
                828,
                828,
                823,
                823,
                823,
                823,
                823,
                823
               ]
              ]
             },
             {
              "title": {
               "text": "Vacancy Estimates Across Vintages",
               "x": 0.5,
               "xanchor": "center"
              }
             }
            ],
            "label": "2024-09",
            "method": "update"
           },
           {
            "args": [
             {
              "type": "line",
              "x": [
               [
                "v_20241217",
                "v_20250121",
                "v_20250218",
                "v_20250320",
                "v_20250415",
                "v_20250513",
                "v_20250610",
                "v_20250717",
                "v_20250812",
                "v_20250916"
               ]
              ],
              "y": [
               [
                818,
                813,
                814,
                815,
                807,
                807,
                807,
                807,
                807,
                807
               ]
              ]
             },
             {
              "title": {
               "text": "Vacancy Estimates Across Vintages",
               "x": 0.5,
               "xanchor": "center"
              }
             }
            ],
            "label": "2024-10",
            "method": "update"
           },
           {
            "args": [
             {
              "type": "line",
              "x": [
               [
                "v_20250121",
                "v_20250218",
                "v_20250320",
                "v_20250415",
                "v_20250513",
                "v_20250610",
                "v_20250717",
                "v_20250812",
                "v_20250916"
               ]
              ],
              "y": [
               [
                812,
                818,
                820,
                806,
                806,
                806,
                806,
                806,
                806
               ]
              ]
             },
             {
              "title": {
               "text": "Vacancy Estimates Across Vintages",
               "x": 0.5,
               "xanchor": "center"
              }
             }
            ],
            "label": "2024-11",
            "method": "update"
           },
           {
            "args": [
             {
              "type": "line",
              "x": [
               [
                "v_20250218",
                "v_20250320",
                "v_20250415",
                "v_20250513",
                "v_20250610",
                "v_20250717",
                "v_20250812",
                "v_20250916"
               ]
              ],
              "y": [
               [
                819,
                821,
                803,
                804,
                804,
                804,
                804,
                804
               ]
              ]
             },
             {
              "title": {
               "text": "Vacancy Estimates Across Vintages",
               "x": 0.5,
               "xanchor": "center"
              }
             }
            ],
            "label": "2024-12",
            "method": "update"
           },
           {
            "args": [
             {
              "type": "line",
              "x": [
               [
                "v_20250320",
                "v_20250415",
                "v_20250513",
                "v_20250610",
                "v_20250717",
                "v_20250812",
                "v_20250916"
               ]
              ],
              "y": [
               [
                816,
                799,
                801,
                799,
                799,
                799,
                799
               ]
              ]
             },
             {
              "title": {
               "text": "Vacancy Estimates Across Vintages",
               "x": 0.5,
               "xanchor": "center"
              }
             }
            ],
            "label": "2025-01",
            "method": "update"
           },
           {
            "args": [
             {
              "type": "line",
              "x": [
               [
                "v_20250415",
                "v_20250513",
                "v_20250610",
                "v_20250717",
                "v_20250812",
                "v_20250916"
               ]
              ],
              "y": [
               [
                781,
                783,
                782,
                783,
                783,
                783
               ]
              ]
             },
             {
              "title": {
               "text": "Vacancy Estimates Across Vintages",
               "x": 0.5,
               "xanchor": "center"
              }
             }
            ],
            "label": "2025-02",
            "method": "update"
           },
           {
            "args": [
             {
              "type": "line",
              "x": [
               [
                "v_20250513",
                "v_20250610",
                "v_20250717",
                "v_20250812",
                "v_20250916"
               ]
              ],
              "y": [
               [
                761,
                760,
                763,
                762,
                762
               ]
              ]
             },
             {
              "title": {
               "text": "Vacancy Estimates Across Vintages",
               "x": 0.5,
               "xanchor": "center"
              }
             }
            ],
            "label": "2025-03",
            "method": "update"
           },
           {
            "args": [
             {
              "type": "line",
              "x": [
               [
                "v_20250610",
                "v_20250717",
                "v_20250812",
                "v_20250916"
               ]
              ],
              "y": [
               [
                736,
                738,
                738,
                739
               ]
              ]
             },
             {
              "title": {
               "text": "Vacancy Estimates Across Vintages",
               "x": 0.5,
               "xanchor": "center"
              }
             }
            ],
            "label": "2025-04",
            "method": "update"
           },
           {
            "args": [
             {
              "type": "line",
              "x": [
               [
                "v_20250717",
                "v_20250812",
                "v_20250916"
               ]
              ],
              "y": [
               [
                727,
                725,
                726
               ]
              ]
             },
             {
              "title": {
               "text": "Vacancy Estimates Across Vintages",
               "x": 0.5,
               "xanchor": "center"
              }
             }
            ],
            "label": "2025-05",
            "method": "update"
           },
           {
            "args": [
             {
              "type": "line",
              "x": [
               [
                "v_20250812",
                "v_20250916"
               ]
              ],
              "y": [
               [
                718,
                720
               ]
              ]
             },
             {
              "title": {
               "text": "Vacancy Estimates Across Vintages",
               "x": 0.5,
               "xanchor": "center"
              }
             }
            ],
            "label": "2025-06",
            "method": "update"
           },
           {
            "args": [
             {
              "type": "line",
              "x": [
               [
                "v_20250916"
               ]
              ],
              "y": [
               [
                728
               ]
              ]
             },
             {
              "title": {
               "text": "Vacancy Estimates Across Vintages",
               "x": 0.5,
               "xanchor": "center"
              }
             }
            ],
            "label": "2025-07",
            "method": "update"
           }
          ],
          "x": 0,
          "xanchor": "right",
          "y": 1.5,
          "yanchor": "top"
         }
        ],
        "xaxis": {
         "title": {
          "text": "Vintage"
         }
        },
        "yaxis": {
         "title": {
          "text": "Vacancy Estimate"
         }
        }
       }
      },
      "image/png": "[encoded data removed]"
     },
     "metadata": {},
     "output_type": "display_data"
    }
   ],
   "source": [
    "# Initialize figure with the first month\n",
    "initial_month = available_months[0]\n",
    "initial_df = melted_df[melted_df[\"Date\"] == initial_month]\n",
    "fig = go.Figure(data=[go.Scatter(x=initial_df[\"Vintage\"], y=initial_df[\"Vacancy\"], name=initial_month)])\n",
    "\n",
    "# Add dropdown menu\n",
    "fig.update_layout(\n",
    "    updatemenus=[dict(\n",
    "        active=0,\n",
    "        buttons=dropdown_buttons,\n",
    "        x=0,\n",
    "        xanchor=\"right\",\n",
    "        y=1.5,\n",
    "        yanchor=\"top\"\n",
    "    )],\n",
    "    title=dict(\n",
    "        text=\"Vacancy Estimates Across Vintages\",\n",
    "        x=0.5,\n",
    "        xanchor=\"center\"\n",
    "    ),\n",
    "    xaxis_title=\"Vintage\",\n",
    "    yaxis_title=\"Vacancy Estimate\",\n",
    "    showlegend=False\n",
    ")"
   ]
  },
  {
   "cell_type": "code",
   "execution_count": 18,
   "id": "6061915c-6e19-41b6-834d-9c827b167de5",
   "metadata": {},
   "outputs": [],
   "source": [
    "# Save the interactive chart as an HTML file\n",
    "fig.write_html(os.path.join(chart_path,\"vacancy_chart_interactive.html\"), auto_open=False)"
   ]
  },
  {
   "cell_type": "markdown",
   "id": "4fa51b57-0b19-4aa5-8248-737a6b256a7f",
   "metadata": {},
   "source": [
    "## b. Static Chart"
   ]
  },
  {
   "cell_type": "code",
   "execution_count": 19,
   "id": "4bb16589-0b47-4b69-bb09-ecafee266c37",
   "metadata": {},
   "outputs": [],
   "source": [
    "# Load the consolidated csv file. !!!Notice: If you run the code from the start, no need to run this cell.\n",
    "combined_df = pd.read_csv(os.path.join(data_path,\"whole_vacancy_data.csv\"))"
   ]
  },
  {
   "cell_type": "code",
   "execution_count": 20,
   "id": "d973a70d-e19f-433e-83a7-c742996a21d9",
   "metadata": {},
   "outputs": [],
   "source": [
    "# Load the consolidated parquet file. !!!Notice: If you run the code from the start, no need to run this cell.\n",
    "#combined_df = pd.read_parquet(os.path.join(data_path, \"whole_vacancy_data.parquet\"))\n",
    "#combined_df.iloc[:, 1:] = combined_df.iloc[:, 1:].apply(pd.to_numeric, errors='coerce')"
   ]
  },
  {
   "cell_type": "code",
   "execution_count": 21,
   "id": "8c79a034-549a-4c07-a830-d19150ad8081",
   "metadata": {},
   "outputs": [],
   "source": [
    "# Create a line chart with each vintage as a separate trace\n",
    "fig = go.Figure()\n",
    "\n",
    "for vintage in combined_df.columns[1:]:\n",
    "    fig.add_trace(go.Scatter(x=combined_df[\"Date\"], y=combined_df[vintage], mode='lines', name=vintage))"
   ]
  },
  {
   "cell_type": "code",
   "execution_count": 22,
   "id": "e07304e0-fa4d-4758-b9f5-ee95e1945814",
   "metadata": {},
   "outputs": [
    {
     "data": {
      "application/vnd.plotly.v1+json": {
       "config": {
        "plotlyServerURL": "https://plot.ly"
       },
       "data": [
        {
         "mode": "lines",
         "name": "v_20230912",
         "type": "scatter",
         "x": [
          "2001-05",
          "2001-06",
          "2001-07",
          "2001-08",
          "2001-09",
          "2001-10",
          "2001-11",
          "2001-12",
          "2002-01",
          "2002-02",
          "2002-03",
          "2002-04",
          "2002-05",
          "2002-06",
          "2002-07",
          "2002-08",
          "2002-09",
          "2002-10",
          "2002-11",
          "2002-12",
          "2003-01",
          "2003-02",
          "2003-03",
          "2003-04",
          "2003-05",
          "2003-06",
          "2003-07",
          "2003-08",
          "2003-09",
          "2003-10",
          "2003-11",
          "2003-12",
          "2004-01",
          "2004-02",
          "2004-03",
          "2004-04",
          "2004-05",
          "2004-06",
          "2004-07",
          "2004-08",
          "2004-09",
          "2004-10",
          "2004-11",
          "2004-12",
          "2005-01",
          "2005-02",
          "2005-03",
          "2005-04",
          "2005-05",
          "2005-06",
          "2005-07",
          "2005-08",
          "2005-09",
          "2005-10",
          "2005-11",
          "2005-12",
          "2006-01",
          "2006-02",
          "2006-03",
          "2006-04",
          "2006-05",
          "2006-06",
          "2006-07",
          "2006-08",
          "2006-09",
          "2006-10",
          "2006-11",
          "2006-12",
          "2007-01",
          "2007-02",
          "2007-03",
          "2007-04",
          "2007-05",
          "2007-06",
          "2007-07",
          "2007-08",
          "2007-09",
          "2007-10",
          "2007-11",
          "2007-12",
          "2008-01",
          "2008-02",
          "2008-03",
          "2008-04",
          "2008-05",
          "2008-06",
          "2008-07",
          "2008-08",
          "2008-09",
          "2008-10",
          "2008-11",
          "2008-12",
          "2009-01",
          "2009-02",
          "2009-03",
          "2009-04",
          "2009-05",
          "2009-06",
          "2009-07",
          "2009-08",
          "2009-09",
          "2009-10",
          "2009-11",
          "2009-12",
          "2010-01",
          "2010-02",
          "2010-03",
          "2010-04",
          "2010-05",
          "2010-06",
          "2010-07",
          "2010-08",
          "2010-09",
          "2010-10",
          "2010-11",
          "2010-12",
          "2011-01",
          "2011-02",
          "2011-03",
          "2011-04",
          "2011-05",
          "2011-06",
          "2011-07",
          "2011-08",
          "2011-09",
          "2011-10",
          "2011-11",
          "2011-12",
          "2012-01",
          "2012-02",
          "2012-03",
          "2012-04",
          "2012-05",
          "2012-06",
          "2012-07",
          "2012-08",
          "2012-09",
          "2012-10",
          "2012-11",
          "2012-12",
          "2013-01",
          "2013-02",
          "2013-03",
          "2013-04",
          "2013-05",
          "2013-06",
          "2013-07",
          "2013-08",
          "2013-09",
          "2013-10",
          "2013-11",
          "2013-12",
          "2014-01",
          "2014-02",
          "2014-03",
          "2014-04",
          "2014-05",
          "2014-06",
          "2014-07",
          "2014-08",
          "2014-09",
          "2014-10",
          "2014-11",
          "2014-12",
          "2015-01",
          "2015-02",
          "2015-03",
          "2015-04",
          "2015-05",
          "2015-06",
          "2015-07",
          "2015-08",
          "2015-09",
          "2015-10",
          "2015-11",
          "2015-12",
          "2016-01",
          "2016-02",
          "2016-03",
          "2016-04",
          "2016-05",
          "2016-06",
          "2016-07",
          "2016-08",
          "2016-09",
          "2016-10",
          "2016-11",
          "2016-12",
          "2017-01",
          "2017-02",
          "2017-03",
          "2017-04",
          "2017-05",
          "2017-06",
          "2017-07",
          "2017-08",
          "2017-09",
          "2017-10",
          "2017-11",
          "2017-12",
          "2018-01",
          "2018-02",
          "2018-03",
          "2018-04",
          "2018-05",
          "2018-06",
          "2018-07",
          "2018-08",
          "2018-09",
          "2018-10",
          "2018-11",
          "2018-12",
          "2019-01",
          "2019-02",
          "2019-03",
          "2019-04",
          "2019-05",
          "2019-06",
          "2019-07",
          "2019-08",
          "2019-09",
          "2019-10",
          "2019-11",
          "2019-12",
          "2020-01",
          "2020-02",
          "2020-03",
          "2020-04",
          "2020-05",
          "2020-06",
          "2020-07",
          "2020-08",
          "2020-09",
          "2020-10",
          "2020-11",
          "2020-12",
          "2021-01",
          "2021-02",
          "2021-03",
          "2021-04",
          "2021-05",
          "2021-06",
          "2021-07",
          "2021-08",
          "2021-09",
          "2021-10",
          "2021-11",
          "2021-12",
          "2022-01",
          "2022-02",
          "2022-03",
          "2022-04",
          "2022-05",
          "2022-06",
          "2022-07",
          "2022-08",
          "2022-09",
          "2022-10",
          "2022-11",
          "2022-12",
          "2023-01",
          "2023-02",
          "2023-03",
          "2023-04",
          "2023-05",
          "2023-06",
          "2023-07",
          "2023-08",
          "2023-09",
          "2023-10",
          "2023-11",
          "2023-12",
          "2024-01",
          "2024-02",
          "2024-03",
          "2024-04",
          "2024-05",
          "2024-06",
          "2024-07",
          "2024-08",
          "2024-09",
          "2024-10",
          "2024-11",
          "2024-12",
          "2025-01",
          "2025-02",
          "2025-03",
          "2025-04",
          "2025-05",
          "2025-06",
          "2025-07"
         ],
         "y": {
          "bdata": "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",
          "dtype": "f8"
         }
        },
        {
         "mode": "lines",
         "name": "v_20231114",
         "type": "scatter",
         "x": [
          "2001-05",
          "2001-06",
          "2001-07",
          "2001-08",
          "2001-09",
          "2001-10",
          "2001-11",
          "2001-12",
          "2002-01",
          "2002-02",
          "2002-03",
          "2002-04",
          "2002-05",
          "2002-06",
          "2002-07",
          "2002-08",
          "2002-09",
          "2002-10",
          "2002-11",
          "2002-12",
          "2003-01",
          "2003-02",
          "2003-03",
          "2003-04",
          "2003-05",
          "2003-06",
          "2003-07",
          "2003-08",
          "2003-09",
          "2003-10",
          "2003-11",
          "2003-12",
          "2004-01",
          "2004-02",
          "2004-03",
          "2004-04",
          "2004-05",
          "2004-06",
          "2004-07",
          "2004-08",
          "2004-09",
          "2004-10",
          "2004-11",
          "2004-12",
          "2005-01",
          "2005-02",
          "2005-03",
          "2005-04",
          "2005-05",
          "2005-06",
          "2005-07",
          "2005-08",
          "2005-09",
          "2005-10",
          "2005-11",
          "2005-12",
          "2006-01",
          "2006-02",
          "2006-03",
          "2006-04",
          "2006-05",
          "2006-06",
          "2006-07",
          "2006-08",
          "2006-09",
          "2006-10",
          "2006-11",
          "2006-12",
          "2007-01",
          "2007-02",
          "2007-03",
          "2007-04",
          "2007-05",
          "2007-06",
          "2007-07",
          "2007-08",
          "2007-09",
          "2007-10",
          "2007-11",
          "2007-12",
          "2008-01",
          "2008-02",
          "2008-03",
          "2008-04",
          "2008-05",
          "2008-06",
          "2008-07",
          "2008-08",
          "2008-09",
          "2008-10",
          "2008-11",
          "2008-12",
          "2009-01",
          "2009-02",
          "2009-03",
          "2009-04",
          "2009-05",
          "2009-06",
          "2009-07",
          "2009-08",
          "2009-09",
          "2009-10",
          "2009-11",
          "2009-12",
          "2010-01",
          "2010-02",
          "2010-03",
          "2010-04",
          "2010-05",
          "2010-06",
          "2010-07",
          "2010-08",
          "2010-09",
          "2010-10",
          "2010-11",
          "2010-12",
          "2011-01",
          "2011-02",
          "2011-03",
          "2011-04",
          "2011-05",
          "2011-06",
          "2011-07",
          "2011-08",
          "2011-09",
          "2011-10",
          "2011-11",
          "2011-12",
          "2012-01",
          "2012-02",
          "2012-03",
          "2012-04",
          "2012-05",
          "2012-06",
          "2012-07",
          "2012-08",
          "2012-09",
          "2012-10",
          "2012-11",
          "2012-12",
          "2013-01",
          "2013-02",
          "2013-03",
          "2013-04",
          "2013-05",
          "2013-06",
          "2013-07",
          "2013-08",
          "2013-09",
          "2013-10",
          "2013-11",
          "2013-12",
          "2014-01",
          "2014-02",
          "2014-03",
          "2014-04",
          "2014-05",
          "2014-06",
          "2014-07",
          "2014-08",
          "2014-09",
          "2014-10",
          "2014-11",
          "2014-12",
          "2015-01",
          "2015-02",
          "2015-03",
          "2015-04",
          "2015-05",
          "2015-06",
          "2015-07",
          "2015-08",
          "2015-09",
          "2015-10",
          "2015-11",
          "2015-12",
          "2016-01",
          "2016-02",
          "2016-03",
          "2016-04",
          "2016-05",
          "2016-06",
          "2016-07",
          "2016-08",
          "2016-09",
          "2016-10",
          "2016-11",
          "2016-12",
          "2017-01",
          "2017-02",
          "2017-03",
          "2017-04",
          "2017-05",
          "2017-06",
          "2017-07",
          "2017-08",
          "2017-09",
          "2017-10",
          "2017-11",
          "2017-12",
          "2018-01",
          "2018-02",
          "2018-03",
          "2018-04",
          "2018-05",
          "2018-06",
          "2018-07",
          "2018-08",
          "2018-09",
          "2018-10",
          "2018-11",
          "2018-12",
          "2019-01",
          "2019-02",
          "2019-03",
          "2019-04",
          "2019-05",
          "2019-06",
          "2019-07",
          "2019-08",
          "2019-09",
          "2019-10",
          "2019-11",
          "2019-12",
          "2020-01",
          "2020-02",
          "2020-03",
          "2020-04",
          "2020-05",
          "2020-06",
          "2020-07",
          "2020-08",
          "2020-09",
          "2020-10",
          "2020-11",
          "2020-12",
          "2021-01",
          "2021-02",
          "2021-03",
          "2021-04",
          "2021-05",
          "2021-06",
          "2021-07",
          "2021-08",
          "2021-09",
          "2021-10",
          "2021-11",
          "2021-12",
          "2022-01",
          "2022-02",
          "2022-03",
          "2022-04",
          "2022-05",
          "2022-06",
          "2022-07",
          "2022-08",
          "2022-09",
          "2022-10",
          "2022-11",
          "2022-12",
          "2023-01",
          "2023-02",
          "2023-03",
          "2023-04",
          "2023-05",
          "2023-06",
          "2023-07",
          "2023-08",
          "2023-09",
          "2023-10",
          "2023-11",
          "2023-12",
          "2024-01",
          "2024-02",
          "2024-03",
          "2024-04",
          "2024-05",
          "2024-06",
          "2024-07",
          "2024-08",
          "2024-09",
          "2024-10",
          "2024-11",
          "2024-12",
          "2025-01",
          "2025-02",
          "2025-03",
          "2025-04",
          "2025-05",
          "2025-06",
          "2025-07"
         ],
         "y": {
          "bdata": "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",
          "dtype": "f8"
         }
        },
        {
         "mode": "lines",
         "name": "v_20231212",
         "type": "scatter",
         "x": [
          "2001-05",
          "2001-06",
          "2001-07",
          "2001-08",
          "2001-09",
          "2001-10",
          "2001-11",
          "2001-12",
          "2002-01",
          "2002-02",
          "2002-03",
          "2002-04",
          "2002-05",
          "2002-06",
          "2002-07",
          "2002-08",
          "2002-09",
          "2002-10",
          "2002-11",
          "2002-12",
          "2003-01",
          "2003-02",
          "2003-03",
          "2003-04",
          "2003-05",
          "2003-06",
          "2003-07",
          "2003-08",
          "2003-09",
          "2003-10",
          "2003-11",
          "2003-12",
          "2004-01",
          "2004-02",
          "2004-03",
          "2004-04",
          "2004-05",
          "2004-06",
          "2004-07",
          "2004-08",
          "2004-09",
          "2004-10",
          "2004-11",
          "2004-12",
          "2005-01",
          "2005-02",
          "2005-03",
          "2005-04",
          "2005-05",
          "2005-06",
          "2005-07",
          "2005-08",
          "2005-09",
          "2005-10",
          "2005-11",
          "2005-12",
          "2006-01",
          "2006-02",
          "2006-03",
          "2006-04",
          "2006-05",
          "2006-06",
          "2006-07",
          "2006-08",
          "2006-09",
          "2006-10",
          "2006-11",
          "2006-12",
          "2007-01",
          "2007-02",
          "2007-03",
          "2007-04",
          "2007-05",
          "2007-06",
          "2007-07",
          "2007-08",
          "2007-09",
          "2007-10",
          "2007-11",
          "2007-12",
          "2008-01",
          "2008-02",
          "2008-03",
          "2008-04",
          "2008-05",
          "2008-06",
          "2008-07",
          "2008-08",
          "2008-09",
          "2008-10",
          "2008-11",
          "2008-12",
          "2009-01",
          "2009-02",
          "2009-03",
          "2009-04",
          "2009-05",
          "2009-06",
          "2009-07",
          "2009-08",
          "2009-09",
          "2009-10",
          "2009-11",
          "2009-12",
          "2010-01",
          "2010-02",
          "2010-03",
          "2010-04",
          "2010-05",
          "2010-06",
          "2010-07",
          "2010-08",
          "2010-09",
          "2010-10",
          "2010-11",
          "2010-12",
          "2011-01",
          "2011-02",
          "2011-03",
          "2011-04",
          "2011-05",
          "2011-06",
          "2011-07",
          "2011-08",
          "2011-09",
          "2011-10",
          "2011-11",
          "2011-12",
          "2012-01",
          "2012-02",
          "2012-03",
          "2012-04",
          "2012-05",
          "2012-06",
          "2012-07",
          "2012-08",
          "2012-09",
          "2012-10",
          "2012-11",
          "2012-12",
          "2013-01",
          "2013-02",
          "2013-03",
          "2013-04",
          "2013-05",
          "2013-06",
          "2013-07",
          "2013-08",
          "2013-09",
          "2013-10",
          "2013-11",
          "2013-12",
          "2014-01",
          "2014-02",
          "2014-03",
          "2014-04",
          "2014-05",
          "2014-06",
          "2014-07",
          "2014-08",
          "2014-09",
          "2014-10",
          "2014-11",
          "2014-12",
          "2015-01",
          "2015-02",
          "2015-03",
          "2015-04",
          "2015-05",
          "2015-06",
          "2015-07",
          "2015-08",
          "2015-09",
          "2015-10",
          "2015-11",
          "2015-12",
          "2016-01",
          "2016-02",
          "2016-03",
          "2016-04",
          "2016-05",
          "2016-06",
          "2016-07",
          "2016-08",
          "2016-09",
          "2016-10",
          "2016-11",
          "2016-12",
          "2017-01",
          "2017-02",
          "2017-03",
          "2017-04",
          "2017-05",
          "2017-06",
          "2017-07",
          "2017-08",
          "2017-09",
          "2017-10",
          "2017-11",
          "2017-12",
          "2018-01",
          "2018-02",
          "2018-03",
          "2018-04",
          "2018-05",
          "2018-06",
          "2018-07",
          "2018-08",
          "2018-09",
          "2018-10",
          "2018-11",
          "2018-12",
          "2019-01",
          "2019-02",
          "2019-03",
          "2019-04",
          "2019-05",
          "2019-06",
          "2019-07",
          "2019-08",
          "2019-09",
          "2019-10",
          "2019-11",
          "2019-12",
          "2020-01",
          "2020-02",
          "2020-03",
          "2020-04",
          "2020-05",
          "2020-06",
          "2020-07",
          "2020-08",
          "2020-09",
          "2020-10",
          "2020-11",
          "2020-12",
          "2021-01",
          "2021-02",
          "2021-03",
          "2021-04",
          "2021-05",
          "2021-06",
          "2021-07",
          "2021-08",
          "2021-09",
          "2021-10",
          "2021-11",
          "2021-12",
          "2022-01",
          "2022-02",
          "2022-03",
          "2022-04",
          "2022-05",
          "2022-06",
          "2022-07",
          "2022-08",
          "2022-09",
          "2022-10",
          "2022-11",
          "2022-12",
          "2023-01",
          "2023-02",
          "2023-03",
          "2023-04",
          "2023-05",
          "2023-06",
          "2023-07",
          "2023-08",
          "2023-09",
          "2023-10",
          "2023-11",
          "2023-12",
          "2024-01",
          "2024-02",
          "2024-03",
          "2024-04",
          "2024-05",
          "2024-06",
          "2024-07",
          "2024-08",
          "2024-09",
          "2024-10",
          "2024-11",
          "2024-12",
          "2025-01",
          "2025-02",
          "2025-03",
          "2025-04",
          "2025-05",
          "2025-06",
          "2025-07"
         ],
         "y": {
          "bdata": "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",
          "dtype": "f8"
         }
        },
        {
         "mode": "lines",
         "name": "v_20240116",
         "type": "scatter",
         "x": [
          "2001-05",
          "2001-06",
          "2001-07",
          "2001-08",
          "2001-09",
          "2001-10",
          "2001-11",
          "2001-12",
          "2002-01",
          "2002-02",
          "2002-03",
          "2002-04",
          "2002-05",
          "2002-06",
          "2002-07",
          "2002-08",
          "2002-09",
          "2002-10",
          "2002-11",
          "2002-12",
          "2003-01",
          "2003-02",
          "2003-03",
          "2003-04",
          "2003-05",
          "2003-06",
          "2003-07",
          "2003-08",
          "2003-09",
          "2003-10",
          "2003-11",
          "2003-12",
          "2004-01",
          "2004-02",
          "2004-03",
          "2004-04",
          "2004-05",
          "2004-06",
          "2004-07",
          "2004-08",
          "2004-09",
          "2004-10",
          "2004-11",
          "2004-12",
          "2005-01",
          "2005-02",
          "2005-03",
          "2005-04",
          "2005-05",
          "2005-06",
          "2005-07",
          "2005-08",
          "2005-09",
          "2005-10",
          "2005-11",
          "2005-12",
          "2006-01",
          "2006-02",
          "2006-03",
          "2006-04",
          "2006-05",
          "2006-06",
          "2006-07",
          "2006-08",
          "2006-09",
          "2006-10",
          "2006-11",
          "2006-12",
          "2007-01",
          "2007-02",
          "2007-03",
          "2007-04",
          "2007-05",
          "2007-06",
          "2007-07",
          "2007-08",
          "2007-09",
          "2007-10",
          "2007-11",
          "2007-12",
          "2008-01",
          "2008-02",
          "2008-03",
          "2008-04",
          "2008-05",
          "2008-06",
          "2008-07",
          "2008-08",
          "2008-09",
          "2008-10",
          "2008-11",
          "2008-12",
          "2009-01",
          "2009-02",
          "2009-03",
          "2009-04",
          "2009-05",
          "2009-06",
          "2009-07",
          "2009-08",
          "2009-09",
          "2009-10",
          "2009-11",
          "2009-12",
          "2010-01",
          "2010-02",
          "2010-03",
          "2010-04",
          "2010-05",
          "2010-06",
          "2010-07",
          "2010-08",
          "2010-09",
          "2010-10",
          "2010-11",
          "2010-12",
          "2011-01",
          "2011-02",
          "2011-03",
          "2011-04",
          "2011-05",
          "2011-06",
          "2011-07",
          "2011-08",
          "2011-09",
          "2011-10",
          "2011-11",
          "2011-12",
          "2012-01",
          "2012-02",
          "2012-03",
          "2012-04",
          "2012-05",
          "2012-06",
          "2012-07",
          "2012-08",
          "2012-09",
          "2012-10",
          "2012-11",
          "2012-12",
          "2013-01",
          "2013-02",
          "2013-03",
          "2013-04",
          "2013-05",
          "2013-06",
          "2013-07",
          "2013-08",
          "2013-09",
          "2013-10",
          "2013-11",
          "2013-12",
          "2014-01",
          "2014-02",
          "2014-03",
          "2014-04",
          "2014-05",
          "2014-06",
          "2014-07",
          "2014-08",
          "2014-09",
          "2014-10",
          "2014-11",
          "2014-12",
          "2015-01",
          "2015-02",
          "2015-03",
          "2015-04",
          "2015-05",
          "2015-06",
          "2015-07",
          "2015-08",
          "2015-09",
          "2015-10",
          "2015-11",
          "2015-12",
          "2016-01",
          "2016-02",
          "2016-03",
          "2016-04",
          "2016-05",
          "2016-06",
          "2016-07",
          "2016-08",
          "2016-09",
          "2016-10",
          "2016-11",
          "2016-12",
          "2017-01",
          "2017-02",
          "2017-03",
          "2017-04",
          "2017-05",
          "2017-06",
          "2017-07",
          "2017-08",
          "2017-09",
          "2017-10",
          "2017-11",
          "2017-12",
          "2018-01",
          "2018-02",
          "2018-03",
          "2018-04",
          "2018-05",
          "2018-06",
          "2018-07",
          "2018-08",
          "2018-09",
          "2018-10",
          "2018-11",
          "2018-12",
          "2019-01",
          "2019-02",
          "2019-03",
          "2019-04",
          "2019-05",
          "2019-06",
          "2019-07",
          "2019-08",
          "2019-09",
          "2019-10",
          "2019-11",
          "2019-12",
          "2020-01",
          "2020-02",
          "2020-03",
          "2020-04",
          "2020-05",
          "2020-06",
          "2020-07",
          "2020-08",
          "2020-09",
          "2020-10",
          "2020-11",
          "2020-12",
          "2021-01",
          "2021-02",
          "2021-03",
          "2021-04",
          "2021-05",
          "2021-06",
          "2021-07",
          "2021-08",
          "2021-09",
          "2021-10",
          "2021-11",
          "2021-12",
          "2022-01",
          "2022-02",
          "2022-03",
          "2022-04",
          "2022-05",
          "2022-06",
          "2022-07",
          "2022-08",
          "2022-09",
          "2022-10",
          "2022-11",
          "2022-12",
          "2023-01",
          "2023-02",
          "2023-03",
          "2023-04",
          "2023-05",
          "2023-06",
          "2023-07",
          "2023-08",
          "2023-09",
          "2023-10",
          "2023-11",
          "2023-12",
          "2024-01",
          "2024-02",
          "2024-03",
          "2024-04",
          "2024-05",
          "2024-06",
          "2024-07",
          "2024-08",
          "2024-09",
          "2024-10",
          "2024-11",
          "2024-12",
          "2025-01",
          "2025-02",
          "2025-03",
          "2025-04",
          "2025-05",
          "2025-06",
          "2025-07"
         ],
         "y": {
          "bdata": "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",
          "dtype": "f8"
         }
        },
        {
         "mode": "lines",
         "name": "v_20240213",
         "type": "scatter",
         "x": [
          "2001-05",
          "2001-06",
          "2001-07",
          "2001-08",
          "2001-09",
          "2001-10",
          "2001-11",
          "2001-12",
          "2002-01",
          "2002-02",
          "2002-03",
          "2002-04",
          "2002-05",
          "2002-06",
          "2002-07",
          "2002-08",
          "2002-09",
          "2002-10",
          "2002-11",
          "2002-12",
          "2003-01",
          "2003-02",
          "2003-03",
          "2003-04",
          "2003-05",
          "2003-06",
          "2003-07",
          "2003-08",
          "2003-09",
          "2003-10",
          "2003-11",
          "2003-12",
          "2004-01",
          "2004-02",
          "2004-03",
          "2004-04",
          "2004-05",
          "2004-06",
          "2004-07",
          "2004-08",
          "2004-09",
          "2004-10",
          "2004-11",
          "2004-12",
          "2005-01",
          "2005-02",
          "2005-03",
          "2005-04",
          "2005-05",
          "2005-06",
          "2005-07",
          "2005-08",
          "2005-09",
          "2005-10",
          "2005-11",
          "2005-12",
          "2006-01",
          "2006-02",
          "2006-03",
          "2006-04",
          "2006-05",
          "2006-06",
          "2006-07",
          "2006-08",
          "2006-09",
          "2006-10",
          "2006-11",
          "2006-12",
          "2007-01",
          "2007-02",
          "2007-03",
          "2007-04",
          "2007-05",
          "2007-06",
          "2007-07",
          "2007-08",
          "2007-09",
          "2007-10",
          "2007-11",
          "2007-12",
          "2008-01",
          "2008-02",
          "2008-03",
          "2008-04",
          "2008-05",
          "2008-06",
          "2008-07",
          "2008-08",
          "2008-09",
          "2008-10",
          "2008-11",
          "2008-12",
          "2009-01",
          "2009-02",
          "2009-03",
          "2009-04",
          "2009-05",
          "2009-06",
          "2009-07",
          "2009-08",
          "2009-09",
          "2009-10",
          "2009-11",
          "2009-12",
          "2010-01",
          "2010-02",
          "2010-03",
          "2010-04",
          "2010-05",
          "2010-06",
          "2010-07",
          "2010-08",
          "2010-09",
          "2010-10",
          "2010-11",
          "2010-12",
          "2011-01",
          "2011-02",
          "2011-03",
          "2011-04",
          "2011-05",
          "2011-06",
          "2011-07",
          "2011-08",
          "2011-09",
          "2011-10",
          "2011-11",
          "2011-12",
          "2012-01",
          "2012-02",
          "2012-03",
          "2012-04",
          "2012-05",
          "2012-06",
          "2012-07",
          "2012-08",
          "2012-09",
          "2012-10",
          "2012-11",
          "2012-12",
          "2013-01",
          "2013-02",
          "2013-03",
          "2013-04",
          "2013-05",
          "2013-06",
          "2013-07",
          "2013-08",
          "2013-09",
          "2013-10",
          "2013-11",
          "2013-12",
          "2014-01",
          "2014-02",
          "2014-03",
          "2014-04",
          "2014-05",
          "2014-06",
          "2014-07",
          "2014-08",
          "2014-09",
          "2014-10",
          "2014-11",
          "2014-12",
          "2015-01",
          "2015-02",
          "2015-03",
          "2015-04",
          "2015-05",
          "2015-06",
          "2015-07",
          "2015-08",
          "2015-09",
          "2015-10",
          "2015-11",
          "2015-12",
          "2016-01",
          "2016-02",
          "2016-03",
          "2016-04",
          "2016-05",
          "2016-06",
          "2016-07",
          "2016-08",
          "2016-09",
          "2016-10",
          "2016-11",
          "2016-12",
          "2017-01",
          "2017-02",
          "2017-03",
          "2017-04",
          "2017-05",
          "2017-06",
          "2017-07",
          "2017-08",
          "2017-09",
          "2017-10",
          "2017-11",
          "2017-12",
          "2018-01",
          "2018-02",
          "2018-03",
          "2018-04",
          "2018-05",
          "2018-06",
          "2018-07",
          "2018-08",
          "2018-09",
          "2018-10",
          "2018-11",
          "2018-12",
          "2019-01",
          "2019-02",
          "2019-03",
          "2019-04",
          "2019-05",
          "2019-06",
          "2019-07",
          "2019-08",
          "2019-09",
          "2019-10",
          "2019-11",
          "2019-12",
          "2020-01",
          "2020-02",
          "2020-03",
          "2020-04",
          "2020-05",
          "2020-06",
          "2020-07",
          "2020-08",
          "2020-09",
          "2020-10",
          "2020-11",
          "2020-12",
          "2021-01",
          "2021-02",
          "2021-03",
          "2021-04",
          "2021-05",
          "2021-06",
          "2021-07",
          "2021-08",
          "2021-09",
          "2021-10",
          "2021-11",
          "2021-12",
          "2022-01",
          "2022-02",
          "2022-03",
          "2022-04",
          "2022-05",
          "2022-06",
          "2022-07",
          "2022-08",
          "2022-09",
          "2022-10",
          "2022-11",
          "2022-12",
          "2023-01",
          "2023-02",
          "2023-03",
          "2023-04",
          "2023-05",
          "2023-06",
          "2023-07",
          "2023-08",
          "2023-09",
          "2023-10",
          "2023-11",
          "2023-12",
          "2024-01",
          "2024-02",
          "2024-03",
          "2024-04",
          "2024-05",
          "2024-06",
          "2024-07",
          "2024-08",
          "2024-09",
          "2024-10",
          "2024-11",
          "2024-12",
          "2025-01",
          "2025-02",
          "2025-03",
          "2025-04",
          "2025-05",
          "2025-06",
          "2025-07"
         ],
         "y": {
          "bdata": "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",
          "dtype": "f8"
         }
        },
        {
         "mode": "lines",
         "name": "v_20240312",
         "type": "scatter",
         "x": [
          "2001-05",
          "2001-06",
          "2001-07",
          "2001-08",
          "2001-09",
          "2001-10",
          "2001-11",
          "2001-12",
          "2002-01",
          "2002-02",
          "2002-03",
          "2002-04",
          "2002-05",
          "2002-06",
          "2002-07",
          "2002-08",
          "2002-09",
          "2002-10",
          "2002-11",
          "2002-12",
          "2003-01",
          "2003-02",
          "2003-03",
          "2003-04",
          "2003-05",
          "2003-06",
          "2003-07",
          "2003-08",
          "2003-09",
          "2003-10",
          "2003-11",
          "2003-12",
          "2004-01",
          "2004-02",
          "2004-03",
          "2004-04",
          "2004-05",
          "2004-06",
          "2004-07",
          "2004-08",
          "2004-09",
          "2004-10",
          "2004-11",
          "2004-12",
          "2005-01",
          "2005-02",
          "2005-03",
          "2005-04",
          "2005-05",
          "2005-06",
          "2005-07",
          "2005-08",
          "2005-09",
          "2005-10",
          "2005-11",
          "2005-12",
          "2006-01",
          "2006-02",
          "2006-03",
          "2006-04",
          "2006-05",
          "2006-06",
          "2006-07",
          "2006-08",
          "2006-09",
          "2006-10",
          "2006-11",
          "2006-12",
          "2007-01",
          "2007-02",
          "2007-03",
          "2007-04",
          "2007-05",
          "2007-06",
          "2007-07",
          "2007-08",
          "2007-09",
          "2007-10",
          "2007-11",
          "2007-12",
          "2008-01",
          "2008-02",
          "2008-03",
          "2008-04",
          "2008-05",
          "2008-06",
          "2008-07",
          "2008-08",
          "2008-09",
          "2008-10",
          "2008-11",
          "2008-12",
          "2009-01",
          "2009-02",
          "2009-03",
          "2009-04",
          "2009-05",
          "2009-06",
          "2009-07",
          "2009-08",
          "2009-09",
          "2009-10",
          "2009-11",
          "2009-12",
          "2010-01",
          "2010-02",
          "2010-03",
          "2010-04",
          "2010-05",
          "2010-06",
          "2010-07",
          "2010-08",
          "2010-09",
          "2010-10",
          "2010-11",
          "2010-12",
          "2011-01",
          "2011-02",
          "2011-03",
          "2011-04",
          "2011-05",
          "2011-06",
          "2011-07",
          "2011-08",
          "2011-09",
          "2011-10",
          "2011-11",
          "2011-12",
          "2012-01",
          "2012-02",
          "2012-03",
          "2012-04",
          "2012-05",
          "2012-06",
          "2012-07",
          "2012-08",
          "2012-09",
          "2012-10",
          "2012-11",
          "2012-12",
          "2013-01",
          "2013-02",
          "2013-03",
          "2013-04",
          "2013-05",
          "2013-06",
          "2013-07",
          "2013-08",
          "2013-09",
          "2013-10",
          "2013-11",
          "2013-12",
          "2014-01",
          "2014-02",
          "2014-03",
          "2014-04",
          "2014-05",
          "2014-06",
          "2014-07",
          "2014-08",
          "2014-09",
          "2014-10",
          "2014-11",
          "2014-12",
          "2015-01",
          "2015-02",
          "2015-03",
          "2015-04",
          "2015-05",
          "2015-06",
          "2015-07",
          "2015-08",
          "2015-09",
          "2015-10",
          "2015-11",
          "2015-12",
          "2016-01",
          "2016-02",
          "2016-03",
          "2016-04",
          "2016-05",
          "2016-06",
          "2016-07",
          "2016-08",
          "2016-09",
          "2016-10",
          "2016-11",
          "2016-12",
          "2017-01",
          "2017-02",
          "2017-03",
          "2017-04",
          "2017-05",
          "2017-06",
          "2017-07",
          "2017-08",
          "2017-09",
          "2017-10",
          "2017-11",
          "2017-12",
          "2018-01",
          "2018-02",
          "2018-03",
          "2018-04",
          "2018-05",
          "2018-06",
          "2018-07",
          "2018-08",
          "2018-09",
          "2018-10",
          "2018-11",
          "2018-12",
          "2019-01",
          "2019-02",
          "2019-03",
          "2019-04",
          "2019-05",
          "2019-06",
          "2019-07",
          "2019-08",
          "2019-09",
          "2019-10",
          "2019-11",
          "2019-12",
          "2020-01",
          "2020-02",
          "2020-03",
          "2020-04",
          "2020-05",
          "2020-06",
          "2020-07",
          "2020-08",
          "2020-09",
          "2020-10",
          "2020-11",
          "2020-12",
          "2021-01",
          "2021-02",
          "2021-03",
          "2021-04",
          "2021-05",
          "2021-06",
          "2021-07",
          "2021-08",
          "2021-09",
          "2021-10",
          "2021-11",
          "2021-12",
          "2022-01",
          "2022-02",
          "2022-03",
          "2022-04",
          "2022-05",
          "2022-06",
          "2022-07",
          "2022-08",
          "2022-09",
          "2022-10",
          "2022-11",
          "2022-12",
          "2023-01",
          "2023-02",
          "2023-03",
          "2023-04",
          "2023-05",
          "2023-06",
          "2023-07",
          "2023-08",
          "2023-09",
          "2023-10",
          "2023-11",
          "2023-12",
          "2024-01",
          "2024-02",
          "2024-03",
          "2024-04",
          "2024-05",
          "2024-06",
          "2024-07",
          "2024-08",
          "2024-09",
          "2024-10",
          "2024-11",
          "2024-12",
          "2025-01",
          "2025-02",
          "2025-03",
          "2025-04",
          "2025-05",
          "2025-06",
          "2025-07"
         ],
         "y": {
          "bdata": "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",
          "dtype": "f8"
         }
        },
        {
         "mode": "lines",
         "name": "v_20240416",
         "type": "scatter",
         "x": [
          "2001-05",
          "2001-06",
          "2001-07",
          "2001-08",
          "2001-09",
          "2001-10",
          "2001-11",
          "2001-12",
          "2002-01",
          "2002-02",
          "2002-03",
          "2002-04",
          "2002-05",
          "2002-06",
          "2002-07",
          "2002-08",
          "2002-09",
          "2002-10",
          "2002-11",
          "2002-12",
          "2003-01",
          "2003-02",
          "2003-03",
          "2003-04",
          "2003-05",
          "2003-06",
          "2003-07",
          "2003-08",
          "2003-09",
          "2003-10",
          "2003-11",
          "2003-12",
          "2004-01",
          "2004-02",
          "2004-03",
          "2004-04",
          "2004-05",
          "2004-06",
          "2004-07",
          "2004-08",
          "2004-09",
          "2004-10",
          "2004-11",
          "2004-12",
          "2005-01",
          "2005-02",
          "2005-03",
          "2005-04",
          "2005-05",
          "2005-06",
          "2005-07",
          "2005-08",
          "2005-09",
          "2005-10",
          "2005-11",
          "2005-12",
          "2006-01",
          "2006-02",
          "2006-03",
          "2006-04",
          "2006-05",
          "2006-06",
          "2006-07",
          "2006-08",
          "2006-09",
          "2006-10",
          "2006-11",
          "2006-12",
          "2007-01",
          "2007-02",
          "2007-03",
          "2007-04",
          "2007-05",
          "2007-06",
          "2007-07",
          "2007-08",
          "2007-09",
          "2007-10",
          "2007-11",
          "2007-12",
          "2008-01",
          "2008-02",
          "2008-03",
          "2008-04",
          "2008-05",
          "2008-06",
          "2008-07",
          "2008-08",
          "2008-09",
          "2008-10",
          "2008-11",
          "2008-12",
          "2009-01",
          "2009-02",
          "2009-03",
          "2009-04",
          "2009-05",
          "2009-06",
          "2009-07",
          "2009-08",
          "2009-09",
          "2009-10",
          "2009-11",
          "2009-12",
          "2010-01",
          "2010-02",
          "2010-03",
          "2010-04",
          "2010-05",
          "2010-06",
          "2010-07",
          "2010-08",
          "2010-09",
          "2010-10",
          "2010-11",
          "2010-12",
          "2011-01",
          "2011-02",
          "2011-03",
          "2011-04",
          "2011-05",
          "2011-06",
          "2011-07",
          "2011-08",
          "2011-09",
          "2011-10",
          "2011-11",
          "2011-12",
          "2012-01",
          "2012-02",
          "2012-03",
          "2012-04",
          "2012-05",
          "2012-06",
          "2012-07",
          "2012-08",
          "2012-09",
          "2012-10",
          "2012-11",
          "2012-12",
          "2013-01",
          "2013-02",
          "2013-03",
          "2013-04",
          "2013-05",
          "2013-06",
          "2013-07",
          "2013-08",
          "2013-09",
          "2013-10",
          "2013-11",
          "2013-12",
          "2014-01",
          "2014-02",
          "2014-03",
          "2014-04",
          "2014-05",
          "2014-06",
          "2014-07",
          "2014-08",
          "2014-09",
          "2014-10",
          "2014-11",
          "2014-12",
          "2015-01",
          "2015-02",
          "2015-03",
          "2015-04",
          "2015-05",
          "2015-06",
          "2015-07",
          "2015-08",
          "2015-09",
          "2015-10",
          "2015-11",
          "2015-12",
          "2016-01",
          "2016-02",
          "2016-03",
          "2016-04",
          "2016-05",
          "2016-06",
          "2016-07",
          "2016-08",
          "2016-09",
          "2016-10",
          "2016-11",
          "2016-12",
          "2017-01",
          "2017-02",
          "2017-03",
          "2017-04",
          "2017-05",
          "2017-06",
          "2017-07",
          "2017-08",
          "2017-09",
          "2017-10",
          "2017-11",
          "2017-12",
          "2018-01",
          "2018-02",
          "2018-03",
          "2018-04",
          "2018-05",
          "2018-06",
          "2018-07",
          "2018-08",
          "2018-09",
          "2018-10",
          "2018-11",
          "2018-12",
          "2019-01",
          "2019-02",
          "2019-03",
          "2019-04",
          "2019-05",
          "2019-06",
          "2019-07",
          "2019-08",
          "2019-09",
          "2019-10",
          "2019-11",
          "2019-12",
          "2020-01",
          "2020-02",
          "2020-03",
          "2020-04",
          "2020-05",
          "2020-06",
          "2020-07",
          "2020-08",
          "2020-09",
          "2020-10",
          "2020-11",
          "2020-12",
          "2021-01",
          "2021-02",
          "2021-03",
          "2021-04",
          "2021-05",
          "2021-06",
          "2021-07",
          "2021-08",
          "2021-09",
          "2021-10",
          "2021-11",
          "2021-12",
          "2022-01",
          "2022-02",
          "2022-03",
          "2022-04",
          "2022-05",
          "2022-06",
          "2022-07",
          "2022-08",
          "2022-09",
          "2022-10",
          "2022-11",
          "2022-12",
          "2023-01",
          "2023-02",
          "2023-03",
          "2023-04",
          "2023-05",
          "2023-06",
          "2023-07",
          "2023-08",
          "2023-09",
          "2023-10",
          "2023-11",
          "2023-12",
          "2024-01",
          "2024-02",
          "2024-03",
          "2024-04",
          "2024-05",
          "2024-06",
          "2024-07",
          "2024-08",
          "2024-09",
          "2024-10",
          "2024-11",
          "2024-12",
          "2025-01",
          "2025-02",
          "2025-03",
          "2025-04",
          "2025-05",
          "2025-06",
          "2025-07"
         ],
         "y": {
          "bdata": "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",
          "dtype": "f8"
         }
        },
        {
         "mode": "lines",
         "name": "v_20240514",
         "type": "scatter",
         "x": [
          "2001-05",
          "2001-06",
          "2001-07",
          "2001-08",
          "2001-09",
          "2001-10",
          "2001-11",
          "2001-12",
          "2002-01",
          "2002-02",
          "2002-03",
          "2002-04",
          "2002-05",
          "2002-06",
          "2002-07",
          "2002-08",
          "2002-09",
          "2002-10",
          "2002-11",
          "2002-12",
          "2003-01",
          "2003-02",
          "2003-03",
          "2003-04",
          "2003-05",
          "2003-06",
          "2003-07",
          "2003-08",
          "2003-09",
          "2003-10",
          "2003-11",
          "2003-12",
          "2004-01",
          "2004-02",
          "2004-03",
          "2004-04",
          "2004-05",
          "2004-06",
          "2004-07",
          "2004-08",
          "2004-09",
          "2004-10",
          "2004-11",
          "2004-12",
          "2005-01",
          "2005-02",
          "2005-03",
          "2005-04",
          "2005-05",
          "2005-06",
          "2005-07",
          "2005-08",
          "2005-09",
          "2005-10",
          "2005-11",
          "2005-12",
          "2006-01",
          "2006-02",
          "2006-03",
          "2006-04",
          "2006-05",
          "2006-06",
          "2006-07",
          "2006-08",
          "2006-09",
          "2006-10",
          "2006-11",
          "2006-12",
          "2007-01",
          "2007-02",
          "2007-03",
          "2007-04",
          "2007-05",
          "2007-06",
          "2007-07",
          "2007-08",
          "2007-09",
          "2007-10",
          "2007-11",
          "2007-12",
          "2008-01",
          "2008-02",
          "2008-03",
          "2008-04",
          "2008-05",
          "2008-06",
          "2008-07",
          "2008-08",
          "2008-09",
          "2008-10",
          "2008-11",
          "2008-12",
          "2009-01",
          "2009-02",
          "2009-03",
          "2009-04",
          "2009-05",
          "2009-06",
          "2009-07",
          "2009-08",
          "2009-09",
          "2009-10",
          "2009-11",
          "2009-12",
          "2010-01",
          "2010-02",
          "2010-03",
          "2010-04",
          "2010-05",
          "2010-06",
          "2010-07",
          "2010-08",
          "2010-09",
          "2010-10",
          "2010-11",
          "2010-12",
          "2011-01",
          "2011-02",
          "2011-03",
          "2011-04",
          "2011-05",
          "2011-06",
          "2011-07",
          "2011-08",
          "2011-09",
          "2011-10",
          "2011-11",
          "2011-12",
          "2012-01",
          "2012-02",
          "2012-03",
          "2012-04",
          "2012-05",
          "2012-06",
          "2012-07",
          "2012-08",
          "2012-09",
          "2012-10",
          "2012-11",
          "2012-12",
          "2013-01",
          "2013-02",
          "2013-03",
          "2013-04",
          "2013-05",
          "2013-06",
          "2013-07",
          "2013-08",
          "2013-09",
          "2013-10",
          "2013-11",
          "2013-12",
          "2014-01",
          "2014-02",
          "2014-03",
          "2014-04",
          "2014-05",
          "2014-06",
          "2014-07",
          "2014-08",
          "2014-09",
          "2014-10",
          "2014-11",
          "2014-12",
          "2015-01",
          "2015-02",
          "2015-03",
          "2015-04",
          "2015-05",
          "2015-06",
          "2015-07",
          "2015-08",
          "2015-09",
          "2015-10",
          "2015-11",
          "2015-12",
          "2016-01",
          "2016-02",
          "2016-03",
          "2016-04",
          "2016-05",
          "2016-06",
          "2016-07",
          "2016-08",
          "2016-09",
          "2016-10",
          "2016-11",
          "2016-12",
          "2017-01",
          "2017-02",
          "2017-03",
          "2017-04",
          "2017-05",
          "2017-06",
          "2017-07",
          "2017-08",
          "2017-09",
          "2017-10",
          "2017-11",
          "2017-12",
          "2018-01",
          "2018-02",
          "2018-03",
          "2018-04",
          "2018-05",
          "2018-06",
          "2018-07",
          "2018-08",
          "2018-09",
          "2018-10",
          "2018-11",
          "2018-12",
          "2019-01",
          "2019-02",
          "2019-03",
          "2019-04",
          "2019-05",
          "2019-06",
          "2019-07",
          "2019-08",
          "2019-09",
          "2019-10",
          "2019-11",
          "2019-12",
          "2020-01",
          "2020-02",
          "2020-03",
          "2020-04",
          "2020-05",
          "2020-06",
          "2020-07",
          "2020-08",
          "2020-09",
          "2020-10",
          "2020-11",
          "2020-12",
          "2021-01",
          "2021-02",
          "2021-03",
          "2021-04",
          "2021-05",
          "2021-06",
          "2021-07",
          "2021-08",
          "2021-09",
          "2021-10",
          "2021-11",
          "2021-12",
          "2022-01",
          "2022-02",
          "2022-03",
          "2022-04",
          "2022-05",
          "2022-06",
          "2022-07",
          "2022-08",
          "2022-09",
          "2022-10",
          "2022-11",
          "2022-12",
          "2023-01",
          "2023-02",
          "2023-03",
          "2023-04",
          "2023-05",
          "2023-06",
          "2023-07",
          "2023-08",
          "2023-09",
          "2023-10",
          "2023-11",
          "2023-12",
          "2024-01",
          "2024-02",
          "2024-03",
          "2024-04",
          "2024-05",
          "2024-06",
          "2024-07",
          "2024-08",
          "2024-09",
          "2024-10",
          "2024-11",
          "2024-12",
          "2025-01",
          "2025-02",
          "2025-03",
          "2025-04",
          "2025-05",
          "2025-06",
          "2025-07"
         ],
         "y": {
          "bdata": "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",
          "dtype": "f8"
         }
        },
        {
         "mode": "lines",
         "name": "v_20240611",
         "type": "scatter",
         "x": [
          "2001-05",
          "2001-06",
          "2001-07",
          "2001-08",
          "2001-09",
          "2001-10",
          "2001-11",
          "2001-12",
          "2002-01",
          "2002-02",
          "2002-03",
          "2002-04",
          "2002-05",
          "2002-06",
          "2002-07",
          "2002-08",
          "2002-09",
          "2002-10",
          "2002-11",
          "2002-12",
          "2003-01",
          "2003-02",
          "2003-03",
          "2003-04",
          "2003-05",
          "2003-06",
          "2003-07",
          "2003-08",
          "2003-09",
          "2003-10",
          "2003-11",
          "2003-12",
          "2004-01",
          "2004-02",
          "2004-03",
          "2004-04",
          "2004-05",
          "2004-06",
          "2004-07",
          "2004-08",
          "2004-09",
          "2004-10",
          "2004-11",
          "2004-12",
          "2005-01",
          "2005-02",
          "2005-03",
          "2005-04",
          "2005-05",
          "2005-06",
          "2005-07",
          "2005-08",
          "2005-09",
          "2005-10",
          "2005-11",
          "2005-12",
          "2006-01",
          "2006-02",
          "2006-03",
          "2006-04",
          "2006-05",
          "2006-06",
          "2006-07",
          "2006-08",
          "2006-09",
          "2006-10",
          "2006-11",
          "2006-12",
          "2007-01",
          "2007-02",
          "2007-03",
          "2007-04",
          "2007-05",
          "2007-06",
          "2007-07",
          "2007-08",
          "2007-09",
          "2007-10",
          "2007-11",
          "2007-12",
          "2008-01",
          "2008-02",
          "2008-03",
          "2008-04",
          "2008-05",
          "2008-06",
          "2008-07",
          "2008-08",
          "2008-09",
          "2008-10",
          "2008-11",
          "2008-12",
          "2009-01",
          "2009-02",
          "2009-03",
          "2009-04",
          "2009-05",
          "2009-06",
          "2009-07",
          "2009-08",
          "2009-09",
          "2009-10",
          "2009-11",
          "2009-12",
          "2010-01",
          "2010-02",
          "2010-03",
          "2010-04",
          "2010-05",
          "2010-06",
          "2010-07",
          "2010-08",
          "2010-09",
          "2010-10",
          "2010-11",
          "2010-12",
          "2011-01",
          "2011-02",
          "2011-03",
          "2011-04",
          "2011-05",
          "2011-06",
          "2011-07",
          "2011-08",
          "2011-09",
          "2011-10",
          "2011-11",
          "2011-12",
          "2012-01",
          "2012-02",
          "2012-03",
          "2012-04",
          "2012-05",
          "2012-06",
          "2012-07",
          "2012-08",
          "2012-09",
          "2012-10",
          "2012-11",
          "2012-12",
          "2013-01",
          "2013-02",
          "2013-03",
          "2013-04",
          "2013-05",
          "2013-06",
          "2013-07",
          "2013-08",
          "2013-09",
          "2013-10",
          "2013-11",
          "2013-12",
          "2014-01",
          "2014-02",
          "2014-03",
          "2014-04",
          "2014-05",
          "2014-06",
          "2014-07",
          "2014-08",
          "2014-09",
          "2014-10",
          "2014-11",
          "2014-12",
          "2015-01",
          "2015-02",
          "2015-03",
          "2015-04",
          "2015-05",
          "2015-06",
          "2015-07",
          "2015-08",
          "2015-09",
          "2015-10",
          "2015-11",
          "2015-12",
          "2016-01",
          "2016-02",
          "2016-03",
          "2016-04",
          "2016-05",
          "2016-06",
          "2016-07",
          "2016-08",
          "2016-09",
          "2016-10",
          "2016-11",
          "2016-12",
          "2017-01",
          "2017-02",
          "2017-03",
          "2017-04",
          "2017-05",
          "2017-06",
          "2017-07",
          "2017-08",
          "2017-09",
          "2017-10",
          "2017-11",
          "2017-12",
          "2018-01",
          "2018-02",
          "2018-03",
          "2018-04",
          "2018-05",
          "2018-06",
          "2018-07",
          "2018-08",
          "2018-09",
          "2018-10",
          "2018-11",
          "2018-12",
          "2019-01",
          "2019-02",
          "2019-03",
          "2019-04",
          "2019-05",
          "2019-06",
          "2019-07",
          "2019-08",
          "2019-09",
          "2019-10",
          "2019-11",
          "2019-12",
          "2020-01",
          "2020-02",
          "2020-03",
          "2020-04",
          "2020-05",
          "2020-06",
          "2020-07",
          "2020-08",
          "2020-09",
          "2020-10",
          "2020-11",
          "2020-12",
          "2021-01",
          "2021-02",
          "2021-03",
          "2021-04",
          "2021-05",
          "2021-06",
          "2021-07",
          "2021-08",
          "2021-09",
          "2021-10",
          "2021-11",
          "2021-12",
          "2022-01",
          "2022-02",
          "2022-03",
          "2022-04",
          "2022-05",
          "2022-06",
          "2022-07",
          "2022-08",
          "2022-09",
          "2022-10",
          "2022-11",
          "2022-12",
          "2023-01",
          "2023-02",
          "2023-03",
          "2023-04",
          "2023-05",
          "2023-06",
          "2023-07",
          "2023-08",
          "2023-09",
          "2023-10",
          "2023-11",
          "2023-12",
          "2024-01",
          "2024-02",
          "2024-03",
          "2024-04",
          "2024-05",
          "2024-06",
          "2024-07",
          "2024-08",
          "2024-09",
          "2024-10",
          "2024-11",
          "2024-12",
          "2025-01",
          "2025-02",
          "2025-03",
          "2025-04",
          "2025-05",
          "2025-06",
          "2025-07"
         ],
         "y": {
          "bdata": "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",
          "dtype": "f8"
         }
        },
        {
         "mode": "lines",
         "name": "v_20240718",
         "type": "scatter",
         "x": [
          "2001-05",
          "2001-06",
          "2001-07",
          "2001-08",
          "2001-09",
          "2001-10",
          "2001-11",
          "2001-12",
          "2002-01",
          "2002-02",
          "2002-03",
          "2002-04",
          "2002-05",
          "2002-06",
          "2002-07",
          "2002-08",
          "2002-09",
          "2002-10",
          "2002-11",
          "2002-12",
          "2003-01",
          "2003-02",
          "2003-03",
          "2003-04",
          "2003-05",
          "2003-06",
          "2003-07",
          "2003-08",
          "2003-09",
          "2003-10",
          "2003-11",
          "2003-12",
          "2004-01",
          "2004-02",
          "2004-03",
          "2004-04",
          "2004-05",
          "2004-06",
          "2004-07",
          "2004-08",
          "2004-09",
          "2004-10",
          "2004-11",
          "2004-12",
          "2005-01",
          "2005-02",
          "2005-03",
          "2005-04",
          "2005-05",
          "2005-06",
          "2005-07",
          "2005-08",
          "2005-09",
          "2005-10",
          "2005-11",
          "2005-12",
          "2006-01",
          "2006-02",
          "2006-03",
          "2006-04",
          "2006-05",
          "2006-06",
          "2006-07",
          "2006-08",
          "2006-09",
          "2006-10",
          "2006-11",
          "2006-12",
          "2007-01",
          "2007-02",
          "2007-03",
          "2007-04",
          "2007-05",
          "2007-06",
          "2007-07",
          "2007-08",
          "2007-09",
          "2007-10",
          "2007-11",
          "2007-12",
          "2008-01",
          "2008-02",
          "2008-03",
          "2008-04",
          "2008-05",
          "2008-06",
          "2008-07",
          "2008-08",
          "2008-09",
          "2008-10",
          "2008-11",
          "2008-12",
          "2009-01",
          "2009-02",
          "2009-03",
          "2009-04",
          "2009-05",
          "2009-06",
          "2009-07",
          "2009-08",
          "2009-09",
          "2009-10",
          "2009-11",
          "2009-12",
          "2010-01",
          "2010-02",
          "2010-03",
          "2010-04",
          "2010-05",
          "2010-06",
          "2010-07",
          "2010-08",
          "2010-09",
          "2010-10",
          "2010-11",
          "2010-12",
          "2011-01",
          "2011-02",
          "2011-03",
          "2011-04",
          "2011-05",
          "2011-06",
          "2011-07",
          "2011-08",
          "2011-09",
          "2011-10",
          "2011-11",
          "2011-12",
          "2012-01",
          "2012-02",
          "2012-03",
          "2012-04",
          "2012-05",
          "2012-06",
          "2012-07",
          "2012-08",
          "2012-09",
          "2012-10",
          "2012-11",
          "2012-12",
          "2013-01",
          "2013-02",
          "2013-03",
          "2013-04",
          "2013-05",
          "2013-06",
          "2013-07",
          "2013-08",
          "2013-09",
          "2013-10",
          "2013-11",
          "2013-12",
          "2014-01",
          "2014-02",
          "2014-03",
          "2014-04",
          "2014-05",
          "2014-06",
          "2014-07",
          "2014-08",
          "2014-09",
          "2014-10",
          "2014-11",
          "2014-12",
          "2015-01",
          "2015-02",
          "2015-03",
          "2015-04",
          "2015-05",
          "2015-06",
          "2015-07",
          "2015-08",
          "2015-09",
          "2015-10",
          "2015-11",
          "2015-12",
          "2016-01",
          "2016-02",
          "2016-03",
          "2016-04",
          "2016-05",
          "2016-06",
          "2016-07",
          "2016-08",
          "2016-09",
          "2016-10",
          "2016-11",
          "2016-12",
          "2017-01",
          "2017-02",
          "2017-03",
          "2017-04",
          "2017-05",
          "2017-06",
          "2017-07",
          "2017-08",
          "2017-09",
          "2017-10",
          "2017-11",
          "2017-12",
          "2018-01",
          "2018-02",
          "2018-03",
          "2018-04",
          "2018-05",
          "2018-06",
          "2018-07",
          "2018-08",
          "2018-09",
          "2018-10",
          "2018-11",
          "2018-12",
          "2019-01",
          "2019-02",
          "2019-03",
          "2019-04",
          "2019-05",
          "2019-06",
          "2019-07",
          "2019-08",
          "2019-09",
          "2019-10",
          "2019-11",
          "2019-12",
          "2020-01",
          "2020-02",
          "2020-03",
          "2020-04",
          "2020-05",
          "2020-06",
          "2020-07",
          "2020-08",
          "2020-09",
          "2020-10",
          "2020-11",
          "2020-12",
          "2021-01",
          "2021-02",
          "2021-03",
          "2021-04",
          "2021-05",
          "2021-06",
          "2021-07",
          "2021-08",
          "2021-09",
          "2021-10",
          "2021-11",
          "2021-12",
          "2022-01",
          "2022-02",
          "2022-03",
          "2022-04",
          "2022-05",
          "2022-06",
          "2022-07",
          "2022-08",
          "2022-09",
          "2022-10",
          "2022-11",
          "2022-12",
          "2023-01",
          "2023-02",
          "2023-03",
          "2023-04",
          "2023-05",
          "2023-06",
          "2023-07",
          "2023-08",
          "2023-09",
          "2023-10",
          "2023-11",
          "2023-12",
          "2024-01",
          "2024-02",
          "2024-03",
          "2024-04",
          "2024-05",
          "2024-06",
          "2024-07",
          "2024-08",
          "2024-09",
          "2024-10",
          "2024-11",
          "2024-12",
          "2025-01",
          "2025-02",
          "2025-03",
          "2025-04",
          "2025-05",
          "2025-06",
          "2025-07"
         ],
         "y": {
          "bdata": "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",
          "dtype": "f8"
         }
        },
        {
         "mode": "lines",
         "name": "v_20240813",
         "type": "scatter",
         "x": [
          "2001-05",
          "2001-06",
          "2001-07",
          "2001-08",
          "2001-09",
          "2001-10",
          "2001-11",
          "2001-12",
          "2002-01",
          "2002-02",
          "2002-03",
          "2002-04",
          "2002-05",
          "2002-06",
          "2002-07",
          "2002-08",
          "2002-09",
          "2002-10",
          "2002-11",
          "2002-12",
          "2003-01",
          "2003-02",
          "2003-03",
          "2003-04",
          "2003-05",
          "2003-06",
          "2003-07",
          "2003-08",
          "2003-09",
          "2003-10",
          "2003-11",
          "2003-12",
          "2004-01",
          "2004-02",
          "2004-03",
          "2004-04",
          "2004-05",
          "2004-06",
          "2004-07",
          "2004-08",
          "2004-09",
          "2004-10",
          "2004-11",
          "2004-12",
          "2005-01",
          "2005-02",
          "2005-03",
          "2005-04",
          "2005-05",
          "2005-06",
          "2005-07",
          "2005-08",
          "2005-09",
          "2005-10",
          "2005-11",
          "2005-12",
          "2006-01",
          "2006-02",
          "2006-03",
          "2006-04",
          "2006-05",
          "2006-06",
          "2006-07",
          "2006-08",
          "2006-09",
          "2006-10",
          "2006-11",
          "2006-12",
          "2007-01",
          "2007-02",
          "2007-03",
          "2007-04",
          "2007-05",
          "2007-06",
          "2007-07",
          "2007-08",
          "2007-09",
          "2007-10",
          "2007-11",
          "2007-12",
          "2008-01",
          "2008-02",
          "2008-03",
          "2008-04",
          "2008-05",
          "2008-06",
          "2008-07",
          "2008-08",
          "2008-09",
          "2008-10",
          "2008-11",
          "2008-12",
          "2009-01",
          "2009-02",
          "2009-03",
          "2009-04",
          "2009-05",
          "2009-06",
          "2009-07",
          "2009-08",
          "2009-09",
          "2009-10",
          "2009-11",
          "2009-12",
          "2010-01",
          "2010-02",
          "2010-03",
          "2010-04",
          "2010-05",
          "2010-06",
          "2010-07",
          "2010-08",
          "2010-09",
          "2010-10",
          "2010-11",
          "2010-12",
          "2011-01",
          "2011-02",
          "2011-03",
          "2011-04",
          "2011-05",
          "2011-06",
          "2011-07",
          "2011-08",
          "2011-09",
          "2011-10",
          "2011-11",
          "2011-12",
          "2012-01",
          "2012-02",
          "2012-03",
          "2012-04",
          "2012-05",
          "2012-06",
          "2012-07",
          "2012-08",
          "2012-09",
          "2012-10",
          "2012-11",
          "2012-12",
          "2013-01",
          "2013-02",
          "2013-03",
          "2013-04",
          "2013-05",
          "2013-06",
          "2013-07",
          "2013-08",
          "2013-09",
          "2013-10",
          "2013-11",
          "2013-12",
          "2014-01",
          "2014-02",
          "2014-03",
          "2014-04",
          "2014-05",
          "2014-06",
          "2014-07",
          "2014-08",
          "2014-09",
          "2014-10",
          "2014-11",
          "2014-12",
          "2015-01",
          "2015-02",
          "2015-03",
          "2015-04",
          "2015-05",
          "2015-06",
          "2015-07",
          "2015-08",
          "2015-09",
          "2015-10",
          "2015-11",
          "2015-12",
          "2016-01",
          "2016-02",
          "2016-03",
          "2016-04",
          "2016-05",
          "2016-06",
          "2016-07",
          "2016-08",
          "2016-09",
          "2016-10",
          "2016-11",
          "2016-12",
          "2017-01",
          "2017-02",
          "2017-03",
          "2017-04",
          "2017-05",
          "2017-06",
          "2017-07",
          "2017-08",
          "2017-09",
          "2017-10",
          "2017-11",
          "2017-12",
          "2018-01",
          "2018-02",
          "2018-03",
          "2018-04",
          "2018-05",
          "2018-06",
          "2018-07",
          "2018-08",
          "2018-09",
          "2018-10",
          "2018-11",
          "2018-12",
          "2019-01",
          "2019-02",
          "2019-03",
          "2019-04",
          "2019-05",
          "2019-06",
          "2019-07",
          "2019-08",
          "2019-09",
          "2019-10",
          "2019-11",
          "2019-12",
          "2020-01",
          "2020-02",
          "2020-03",
          "2020-04",
          "2020-05",
          "2020-06",
          "2020-07",
          "2020-08",
          "2020-09",
          "2020-10",
          "2020-11",
          "2020-12",
          "2021-01",
          "2021-02",
          "2021-03",
          "2021-04",
          "2021-05",
          "2021-06",
          "2021-07",
          "2021-08",
          "2021-09",
          "2021-10",
          "2021-11",
          "2021-12",
          "2022-01",
          "2022-02",
          "2022-03",
          "2022-04",
          "2022-05",
          "2022-06",
          "2022-07",
          "2022-08",
          "2022-09",
          "2022-10",
          "2022-11",
          "2022-12",
          "2023-01",
          "2023-02",
          "2023-03",
          "2023-04",
          "2023-05",
          "2023-06",
          "2023-07",
          "2023-08",
          "2023-09",
          "2023-10",
          "2023-11",
          "2023-12",
          "2024-01",
          "2024-02",
          "2024-03",
          "2024-04",
          "2024-05",
          "2024-06",
          "2024-07",
          "2024-08",
          "2024-09",
          "2024-10",
          "2024-11",
          "2024-12",
          "2025-01",
          "2025-02",
          "2025-03",
          "2025-04",
          "2025-05",
          "2025-06",
          "2025-07"
         ],
         "y": {
          "bdata": "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",
          "dtype": "f8"
         }
        },
        {
         "mode": "lines",
         "name": "v_20240910",
         "type": "scatter",
         "x": [
          "2001-05",
          "2001-06",
          "2001-07",
          "2001-08",
          "2001-09",
          "2001-10",
          "2001-11",
          "2001-12",
          "2002-01",
          "2002-02",
          "2002-03",
          "2002-04",
          "2002-05",
          "2002-06",
          "2002-07",
          "2002-08",
          "2002-09",
          "2002-10",
          "2002-11",
          "2002-12",
          "2003-01",
          "2003-02",
          "2003-03",
          "2003-04",
          "2003-05",
          "2003-06",
          "2003-07",
          "2003-08",
          "2003-09",
          "2003-10",
          "2003-11",
          "2003-12",
          "2004-01",
          "2004-02",
          "2004-03",
          "2004-04",
          "2004-05",
          "2004-06",
          "2004-07",
          "2004-08",
          "2004-09",
          "2004-10",
          "2004-11",
          "2004-12",
          "2005-01",
          "2005-02",
          "2005-03",
          "2005-04",
          "2005-05",
          "2005-06",
          "2005-07",
          "2005-08",
          "2005-09",
          "2005-10",
          "2005-11",
          "2005-12",
          "2006-01",
          "2006-02",
          "2006-03",
          "2006-04",
          "2006-05",
          "2006-06",
          "2006-07",
          "2006-08",
          "2006-09",
          "2006-10",
          "2006-11",
          "2006-12",
          "2007-01",
          "2007-02",
          "2007-03",
          "2007-04",
          "2007-05",
          "2007-06",
          "2007-07",
          "2007-08",
          "2007-09",
          "2007-10",
          "2007-11",
          "2007-12",
          "2008-01",
          "2008-02",
          "2008-03",
          "2008-04",
          "2008-05",
          "2008-06",
          "2008-07",
          "2008-08",
          "2008-09",
          "2008-10",
          "2008-11",
          "2008-12",
          "2009-01",
          "2009-02",
          "2009-03",
          "2009-04",
          "2009-05",
          "2009-06",
          "2009-07",
          "2009-08",
          "2009-09",
          "2009-10",
          "2009-11",
          "2009-12",
          "2010-01",
          "2010-02",
          "2010-03",
          "2010-04",
          "2010-05",
          "2010-06",
          "2010-07",
          "2010-08",
          "2010-09",
          "2010-10",
          "2010-11",
          "2010-12",
          "2011-01",
          "2011-02",
          "2011-03",
          "2011-04",
          "2011-05",
          "2011-06",
          "2011-07",
          "2011-08",
          "2011-09",
          "2011-10",
          "2011-11",
          "2011-12",
          "2012-01",
          "2012-02",
          "2012-03",
          "2012-04",
          "2012-05",
          "2012-06",
          "2012-07",
          "2012-08",
          "2012-09",
          "2012-10",
          "2012-11",
          "2012-12",
          "2013-01",
          "2013-02",
          "2013-03",
          "2013-04",
          "2013-05",
          "2013-06",
          "2013-07",
          "2013-08",
          "2013-09",
          "2013-10",
          "2013-11",
          "2013-12",
          "2014-01",
          "2014-02",
          "2014-03",
          "2014-04",
          "2014-05",
          "2014-06",
          "2014-07",
          "2014-08",
          "2014-09",
          "2014-10",
          "2014-11",
          "2014-12",
          "2015-01",
          "2015-02",
          "2015-03",
          "2015-04",
          "2015-05",
          "2015-06",
          "2015-07",
          "2015-08",
          "2015-09",
          "2015-10",
          "2015-11",
          "2015-12",
          "2016-01",
          "2016-02",
          "2016-03",
          "2016-04",
          "2016-05",
          "2016-06",
          "2016-07",
          "2016-08",
          "2016-09",
          "2016-10",
          "2016-11",
          "2016-12",
          "2017-01",
          "2017-02",
          "2017-03",
          "2017-04",
          "2017-05",
          "2017-06",
          "2017-07",
          "2017-08",
          "2017-09",
          "2017-10",
          "2017-11",
          "2017-12",
          "2018-01",
          "2018-02",
          "2018-03",
          "2018-04",
          "2018-05",
          "2018-06",
          "2018-07",
          "2018-08",
          "2018-09",
          "2018-10",
          "2018-11",
          "2018-12",
          "2019-01",
          "2019-02",
          "2019-03",
          "2019-04",
          "2019-05",
          "2019-06",
          "2019-07",
          "2019-08",
          "2019-09",
          "2019-10",
          "2019-11",
          "2019-12",
          "2020-01",
          "2020-02",
          "2020-03",
          "2020-04",
          "2020-05",
          "2020-06",
          "2020-07",
          "2020-08",
          "2020-09",
          "2020-10",
          "2020-11",
          "2020-12",
          "2021-01",
          "2021-02",
          "2021-03",
          "2021-04",
          "2021-05",
          "2021-06",
          "2021-07",
          "2021-08",
          "2021-09",
          "2021-10",
          "2021-11",
          "2021-12",
          "2022-01",
          "2022-02",
          "2022-03",
          "2022-04",
          "2022-05",
          "2022-06",
          "2022-07",
          "2022-08",
          "2022-09",
          "2022-10",
          "2022-11",
          "2022-12",
          "2023-01",
          "2023-02",
          "2023-03",
          "2023-04",
          "2023-05",
          "2023-06",
          "2023-07",
          "2023-08",
          "2023-09",
          "2023-10",
          "2023-11",
          "2023-12",
          "2024-01",
          "2024-02",
          "2024-03",
          "2024-04",
          "2024-05",
          "2024-06",
          "2024-07",
          "2024-08",
          "2024-09",
          "2024-10",
          "2024-11",
          "2024-12",
          "2025-01",
          "2025-02",
          "2025-03",
          "2025-04",
          "2025-05",
          "2025-06",
          "2025-07"
         ],
         "y": {
          "bdata": "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",
          "dtype": "f8"
         }
        },
        {
         "mode": "lines",
         "name": "v_20241015",
         "type": "scatter",
         "x": [
          "2001-05",
          "2001-06",
          "2001-07",
          "2001-08",
          "2001-09",
          "2001-10",
          "2001-11",
          "2001-12",
          "2002-01",
          "2002-02",
          "2002-03",
          "2002-04",
          "2002-05",
          "2002-06",
          "2002-07",
          "2002-08",
          "2002-09",
          "2002-10",
          "2002-11",
          "2002-12",
          "2003-01",
          "2003-02",
          "2003-03",
          "2003-04",
          "2003-05",
          "2003-06",
          "2003-07",
          "2003-08",
          "2003-09",
          "2003-10",
          "2003-11",
          "2003-12",
          "2004-01",
          "2004-02",
          "2004-03",
          "2004-04",
          "2004-05",
          "2004-06",
          "2004-07",
          "2004-08",
          "2004-09",
          "2004-10",
          "2004-11",
          "2004-12",
          "2005-01",
          "2005-02",
          "2005-03",
          "2005-04",
          "2005-05",
          "2005-06",
          "2005-07",
          "2005-08",
          "2005-09",
          "2005-10",
          "2005-11",
          "2005-12",
          "2006-01",
          "2006-02",
          "2006-03",
          "2006-04",
          "2006-05",
          "2006-06",
          "2006-07",
          "2006-08",
          "2006-09",
          "2006-10",
          "2006-11",
          "2006-12",
          "2007-01",
          "2007-02",
          "2007-03",
          "2007-04",
          "2007-05",
          "2007-06",
          "2007-07",
          "2007-08",
          "2007-09",
          "2007-10",
          "2007-11",
          "2007-12",
          "2008-01",
          "2008-02",
          "2008-03",
          "2008-04",
          "2008-05",
          "2008-06",
          "2008-07",
          "2008-08",
          "2008-09",
          "2008-10",
          "2008-11",
          "2008-12",
          "2009-01",
          "2009-02",
          "2009-03",
          "2009-04",
          "2009-05",
          "2009-06",
          "2009-07",
          "2009-08",
          "2009-09",
          "2009-10",
          "2009-11",
          "2009-12",
          "2010-01",
          "2010-02",
          "2010-03",
          "2010-04",
          "2010-05",
          "2010-06",
          "2010-07",
          "2010-08",
          "2010-09",
          "2010-10",
          "2010-11",
          "2010-12",
          "2011-01",
          "2011-02",
          "2011-03",
          "2011-04",
          "2011-05",
          "2011-06",
          "2011-07",
          "2011-08",
          "2011-09",
          "2011-10",
          "2011-11",
          "2011-12",
          "2012-01",
          "2012-02",
          "2012-03",
          "2012-04",
          "2012-05",
          "2012-06",
          "2012-07",
          "2012-08",
          "2012-09",
          "2012-10",
          "2012-11",
          "2012-12",
          "2013-01",
          "2013-02",
          "2013-03",
          "2013-04",
          "2013-05",
          "2013-06",
          "2013-07",
          "2013-08",
          "2013-09",
          "2013-10",
          "2013-11",
          "2013-12",
          "2014-01",
          "2014-02",
          "2014-03",
          "2014-04",
          "2014-05",
          "2014-06",
          "2014-07",
          "2014-08",
          "2014-09",
          "2014-10",
          "2014-11",
          "2014-12",
          "2015-01",
          "2015-02",
          "2015-03",
          "2015-04",
          "2015-05",
          "2015-06",
          "2015-07",
          "2015-08",
          "2015-09",
          "2015-10",
          "2015-11",
          "2015-12",
          "2016-01",
          "2016-02",
          "2016-03",
          "2016-04",
          "2016-05",
          "2016-06",
          "2016-07",
          "2016-08",
          "2016-09",
          "2016-10",
          "2016-11",
          "2016-12",
          "2017-01",
          "2017-02",
          "2017-03",
          "2017-04",
          "2017-05",
          "2017-06",
          "2017-07",
          "2017-08",
          "2017-09",
          "2017-10",
          "2017-11",
          "2017-12",
          "2018-01",
          "2018-02",
          "2018-03",
          "2018-04",
          "2018-05",
          "2018-06",
          "2018-07",
          "2018-08",
          "2018-09",
          "2018-10",
          "2018-11",
          "2018-12",
          "2019-01",
          "2019-02",
          "2019-03",
          "2019-04",
          "2019-05",
          "2019-06",
          "2019-07",
          "2019-08",
          "2019-09",
          "2019-10",
          "2019-11",
          "2019-12",
          "2020-01",
          "2020-02",
          "2020-03",
          "2020-04",
          "2020-05",
          "2020-06",
          "2020-07",
          "2020-08",
          "2020-09",
          "2020-10",
          "2020-11",
          "2020-12",
          "2021-01",
          "2021-02",
          "2021-03",
          "2021-04",
          "2021-05",
          "2021-06",
          "2021-07",
          "2021-08",
          "2021-09",
          "2021-10",
          "2021-11",
          "2021-12",
          "2022-01",
          "2022-02",
          "2022-03",
          "2022-04",
          "2022-05",
          "2022-06",
          "2022-07",
          "2022-08",
          "2022-09",
          "2022-10",
          "2022-11",
          "2022-12",
          "2023-01",
          "2023-02",
          "2023-03",
          "2023-04",
          "2023-05",
          "2023-06",
          "2023-07",
          "2023-08",
          "2023-09",
          "2023-10",
          "2023-11",
          "2023-12",
          "2024-01",
          "2024-02",
          "2024-03",
          "2024-04",
          "2024-05",
          "2024-06",
          "2024-07",
          "2024-08",
          "2024-09",
          "2024-10",
          "2024-11",
          "2024-12",
          "2025-01",
          "2025-02",
          "2025-03",
          "2025-04",
          "2025-05",
          "2025-06",
          "2025-07"
         ],
         "y": {
          "bdata": "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",
          "dtype": "f8"
         }
        },
        {
         "mode": "lines",
         "name": "v_20241112",
         "type": "scatter",
         "x": [
          "2001-05",
          "2001-06",
          "2001-07",
          "2001-08",
          "2001-09",
          "2001-10",
          "2001-11",
          "2001-12",
          "2002-01",
          "2002-02",
          "2002-03",
          "2002-04",
          "2002-05",
          "2002-06",
          "2002-07",
          "2002-08",
          "2002-09",
          "2002-10",
          "2002-11",
          "2002-12",
          "2003-01",
          "2003-02",
          "2003-03",
          "2003-04",
          "2003-05",
          "2003-06",
          "2003-07",
          "2003-08",
          "2003-09",
          "2003-10",
          "2003-11",
          "2003-12",
          "2004-01",
          "2004-02",
          "2004-03",
          "2004-04",
          "2004-05",
          "2004-06",
          "2004-07",
          "2004-08",
          "2004-09",
          "2004-10",
          "2004-11",
          "2004-12",
          "2005-01",
          "2005-02",
          "2005-03",
          "2005-04",
          "2005-05",
          "2005-06",
          "2005-07",
          "2005-08",
          "2005-09",
          "2005-10",
          "2005-11",
          "2005-12",
          "2006-01",
          "2006-02",
          "2006-03",
          "2006-04",
          "2006-05",
          "2006-06",
          "2006-07",
          "2006-08",
          "2006-09",
          "2006-10",
          "2006-11",
          "2006-12",
          "2007-01",
          "2007-02",
          "2007-03",
          "2007-04",
          "2007-05",
          "2007-06",
          "2007-07",
          "2007-08",
          "2007-09",
          "2007-10",
          "2007-11",
          "2007-12",
          "2008-01",
          "2008-02",
          "2008-03",
          "2008-04",
          "2008-05",
          "2008-06",
          "2008-07",
          "2008-08",
          "2008-09",
          "2008-10",
          "2008-11",
          "2008-12",
          "2009-01",
          "2009-02",
          "2009-03",
          "2009-04",
          "2009-05",
          "2009-06",
          "2009-07",
          "2009-08",
          "2009-09",
          "2009-10",
          "2009-11",
          "2009-12",
          "2010-01",
          "2010-02",
          "2010-03",
          "2010-04",
          "2010-05",
          "2010-06",
          "2010-07",
          "2010-08",
          "2010-09",
          "2010-10",
          "2010-11",
          "2010-12",
          "2011-01",
          "2011-02",
          "2011-03",
          "2011-04",
          "2011-05",
          "2011-06",
          "2011-07",
          "2011-08",
          "2011-09",
          "2011-10",
          "2011-11",
          "2011-12",
          "2012-01",
          "2012-02",
          "2012-03",
          "2012-04",
          "2012-05",
          "2012-06",
          "2012-07",
          "2012-08",
          "2012-09",
          "2012-10",
          "2012-11",
          "2012-12",
          "2013-01",
          "2013-02",
          "2013-03",
          "2013-04",
          "2013-05",
          "2013-06",
          "2013-07",
          "2013-08",
          "2013-09",
          "2013-10",
          "2013-11",
          "2013-12",
          "2014-01",
          "2014-02",
          "2014-03",
          "2014-04",
          "2014-05",
          "2014-06",
          "2014-07",
          "2014-08",
          "2014-09",
          "2014-10",
          "2014-11",
          "2014-12",
          "2015-01",
          "2015-02",
          "2015-03",
          "2015-04",
          "2015-05",
          "2015-06",
          "2015-07",
          "2015-08",
          "2015-09",
          "2015-10",
          "2015-11",
          "2015-12",
          "2016-01",
          "2016-02",
          "2016-03",
          "2016-04",
          "2016-05",
          "2016-06",
          "2016-07",
          "2016-08",
          "2016-09",
          "2016-10",
          "2016-11",
          "2016-12",
          "2017-01",
          "2017-02",
          "2017-03",
          "2017-04",
          "2017-05",
          "2017-06",
          "2017-07",
          "2017-08",
          "2017-09",
          "2017-10",
          "2017-11",
          "2017-12",
          "2018-01",
          "2018-02",
          "2018-03",
          "2018-04",
          "2018-05",
          "2018-06",
          "2018-07",
          "2018-08",
          "2018-09",
          "2018-10",
          "2018-11",
          "2018-12",
          "2019-01",
          "2019-02",
          "2019-03",
          "2019-04",
          "2019-05",
          "2019-06",
          "2019-07",
          "2019-08",
          "2019-09",
          "2019-10",
          "2019-11",
          "2019-12",
          "2020-01",
          "2020-02",
          "2020-03",
          "2020-04",
          "2020-05",
          "2020-06",
          "2020-07",
          "2020-08",
          "2020-09",
          "2020-10",
          "2020-11",
          "2020-12",
          "2021-01",
          "2021-02",
          "2021-03",
          "2021-04",
          "2021-05",
          "2021-06",
          "2021-07",
          "2021-08",
          "2021-09",
          "2021-10",
          "2021-11",
          "2021-12",
          "2022-01",
          "2022-02",
          "2022-03",
          "2022-04",
          "2022-05",
          "2022-06",
          "2022-07",
          "2022-08",
          "2022-09",
          "2022-10",
          "2022-11",
          "2022-12",
          "2023-01",
          "2023-02",
          "2023-03",
          "2023-04",
          "2023-05",
          "2023-06",
          "2023-07",
          "2023-08",
          "2023-09",
          "2023-10",
          "2023-11",
          "2023-12",
          "2024-01",
          "2024-02",
          "2024-03",
          "2024-04",
          "2024-05",
          "2024-06",
          "2024-07",
          "2024-08",
          "2024-09",
          "2024-10",
          "2024-11",
          "2024-12",
          "2025-01",
          "2025-02",
          "2025-03",
          "2025-04",
          "2025-05",
          "2025-06",
          "2025-07"
         ],
         "y": {
          "bdata": "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",
          "dtype": "f8"
         }
        },
        {
         "mode": "lines",
         "name": "v_20241217",
         "type": "scatter",
         "x": [
          "2001-05",
          "2001-06",
          "2001-07",
          "2001-08",
          "2001-09",
          "2001-10",
          "2001-11",
          "2001-12",
          "2002-01",
          "2002-02",
          "2002-03",
          "2002-04",
          "2002-05",
          "2002-06",
          "2002-07",
          "2002-08",
          "2002-09",
          "2002-10",
          "2002-11",
          "2002-12",
          "2003-01",
          "2003-02",
          "2003-03",
          "2003-04",
          "2003-05",
          "2003-06",
          "2003-07",
          "2003-08",
          "2003-09",
          "2003-10",
          "2003-11",
          "2003-12",
          "2004-01",
          "2004-02",
          "2004-03",
          "2004-04",
          "2004-05",
          "2004-06",
          "2004-07",
          "2004-08",
          "2004-09",
          "2004-10",
          "2004-11",
          "2004-12",
          "2005-01",
          "2005-02",
          "2005-03",
          "2005-04",
          "2005-05",
          "2005-06",
          "2005-07",
          "2005-08",
          "2005-09",
          "2005-10",
          "2005-11",
          "2005-12",
          "2006-01",
          "2006-02",
          "2006-03",
          "2006-04",
          "2006-05",
          "2006-06",
          "2006-07",
          "2006-08",
          "2006-09",
          "2006-10",
          "2006-11",
          "2006-12",
          "2007-01",
          "2007-02",
          "2007-03",
          "2007-04",
          "2007-05",
          "2007-06",
          "2007-07",
          "2007-08",
          "2007-09",
          "2007-10",
          "2007-11",
          "2007-12",
          "2008-01",
          "2008-02",
          "2008-03",
          "2008-04",
          "2008-05",
          "2008-06",
          "2008-07",
          "2008-08",
          "2008-09",
          "2008-10",
          "2008-11",
          "2008-12",
          "2009-01",
          "2009-02",
          "2009-03",
          "2009-04",
          "2009-05",
          "2009-06",
          "2009-07",
          "2009-08",
          "2009-09",
          "2009-10",
          "2009-11",
          "2009-12",
          "2010-01",
          "2010-02",
          "2010-03",
          "2010-04",
          "2010-05",
          "2010-06",
          "2010-07",
          "2010-08",
          "2010-09",
          "2010-10",
          "2010-11",
          "2010-12",
          "2011-01",
          "2011-02",
          "2011-03",
          "2011-04",
          "2011-05",
          "2011-06",
          "2011-07",
          "2011-08",
          "2011-09",
          "2011-10",
          "2011-11",
          "2011-12",
          "2012-01",
          "2012-02",
          "2012-03",
          "2012-04",
          "2012-05",
          "2012-06",
          "2012-07",
          "2012-08",
          "2012-09",
          "2012-10",
          "2012-11",
          "2012-12",
          "2013-01",
          "2013-02",
          "2013-03",
          "2013-04",
          "2013-05",
          "2013-06",
          "2013-07",
          "2013-08",
          "2013-09",
          "2013-10",
          "2013-11",
          "2013-12",
          "2014-01",
          "2014-02",
          "2014-03",
          "2014-04",
          "2014-05",
          "2014-06",
          "2014-07",
          "2014-08",
          "2014-09",
          "2014-10",
          "2014-11",
          "2014-12",
          "2015-01",
          "2015-02",
          "2015-03",
          "2015-04",
          "2015-05",
          "2015-06",
          "2015-07",
          "2015-08",
          "2015-09",
          "2015-10",
          "2015-11",
          "2015-12",
          "2016-01",
          "2016-02",
          "2016-03",
          "2016-04",
          "2016-05",
          "2016-06",
          "2016-07",
          "2016-08",
          "2016-09",
          "2016-10",
          "2016-11",
          "2016-12",
          "2017-01",
          "2017-02",
          "2017-03",
          "2017-04",
          "2017-05",
          "2017-06",
          "2017-07",
          "2017-08",
          "2017-09",
          "2017-10",
          "2017-11",
          "2017-12",
          "2018-01",
          "2018-02",
          "2018-03",
          "2018-04",
          "2018-05",
          "2018-06",
          "2018-07",
          "2018-08",
          "2018-09",
          "2018-10",
          "2018-11",
          "2018-12",
          "2019-01",
          "2019-02",
          "2019-03",
          "2019-04",
          "2019-05",
          "2019-06",
          "2019-07",
          "2019-08",
          "2019-09",
          "2019-10",
          "2019-11",
          "2019-12",
          "2020-01",
          "2020-02",
          "2020-03",
          "2020-04",
          "2020-05",
          "2020-06",
          "2020-07",
          "2020-08",
          "2020-09",
          "2020-10",
          "2020-11",
          "2020-12",
          "2021-01",
          "2021-02",
          "2021-03",
          "2021-04",
          "2021-05",
          "2021-06",
          "2021-07",
          "2021-08",
          "2021-09",
          "2021-10",
          "2021-11",
          "2021-12",
          "2022-01",
          "2022-02",
          "2022-03",
          "2022-04",
          "2022-05",
          "2022-06",
          "2022-07",
          "2022-08",
          "2022-09",
          "2022-10",
          "2022-11",
          "2022-12",
          "2023-01",
          "2023-02",
          "2023-03",
          "2023-04",
          "2023-05",
          "2023-06",
          "2023-07",
          "2023-08",
          "2023-09",
          "2023-10",
          "2023-11",
          "2023-12",
          "2024-01",
          "2024-02",
          "2024-03",
          "2024-04",
          "2024-05",
          "2024-06",
          "2024-07",
          "2024-08",
          "2024-09",
          "2024-10",
          "2024-11",
          "2024-12",
          "2025-01",
          "2025-02",
          "2025-03",
          "2025-04",
          "2025-05",
          "2025-06",
          "2025-07"
         ],
         "y": {
          "bdata": "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",
          "dtype": "f8"
         }
        },
        {
         "mode": "lines",
         "name": "v_20250121",
         "type": "scatter",
         "x": [
          "2001-05",
          "2001-06",
          "2001-07",
          "2001-08",
          "2001-09",
          "2001-10",
          "2001-11",
          "2001-12",
          "2002-01",
          "2002-02",
          "2002-03",
          "2002-04",
          "2002-05",
          "2002-06",
          "2002-07",
          "2002-08",
          "2002-09",
          "2002-10",
          "2002-11",
          "2002-12",
          "2003-01",
          "2003-02",
          "2003-03",
          "2003-04",
          "2003-05",
          "2003-06",
          "2003-07",
          "2003-08",
          "2003-09",
          "2003-10",
          "2003-11",
          "2003-12",
          "2004-01",
          "2004-02",
          "2004-03",
          "2004-04",
          "2004-05",
          "2004-06",
          "2004-07",
          "2004-08",
          "2004-09",
          "2004-10",
          "2004-11",
          "2004-12",
          "2005-01",
          "2005-02",
          "2005-03",
          "2005-04",
          "2005-05",
          "2005-06",
          "2005-07",
          "2005-08",
          "2005-09",
          "2005-10",
          "2005-11",
          "2005-12",
          "2006-01",
          "2006-02",
          "2006-03",
          "2006-04",
          "2006-05",
          "2006-06",
          "2006-07",
          "2006-08",
          "2006-09",
          "2006-10",
          "2006-11",
          "2006-12",
          "2007-01",
          "2007-02",
          "2007-03",
          "2007-04",
          "2007-05",
          "2007-06",
          "2007-07",
          "2007-08",
          "2007-09",
          "2007-10",
          "2007-11",
          "2007-12",
          "2008-01",
          "2008-02",
          "2008-03",
          "2008-04",
          "2008-05",
          "2008-06",
          "2008-07",
          "2008-08",
          "2008-09",
          "2008-10",
          "2008-11",
          "2008-12",
          "2009-01",
          "2009-02",
          "2009-03",
          "2009-04",
          "2009-05",
          "2009-06",
          "2009-07",
          "2009-08",
          "2009-09",
          "2009-10",
          "2009-11",
          "2009-12",
          "2010-01",
          "2010-02",
          "2010-03",
          "2010-04",
          "2010-05",
          "2010-06",
          "2010-07",
          "2010-08",
          "2010-09",
          "2010-10",
          "2010-11",
          "2010-12",
          "2011-01",
          "2011-02",
          "2011-03",
          "2011-04",
          "2011-05",
          "2011-06",
          "2011-07",
          "2011-08",
          "2011-09",
          "2011-10",
          "2011-11",
          "2011-12",
          "2012-01",
          "2012-02",
          "2012-03",
          "2012-04",
          "2012-05",
          "2012-06",
          "2012-07",
          "2012-08",
          "2012-09",
          "2012-10",
          "2012-11",
          "2012-12",
          "2013-01",
          "2013-02",
          "2013-03",
          "2013-04",
          "2013-05",
          "2013-06",
          "2013-07",
          "2013-08",
          "2013-09",
          "2013-10",
          "2013-11",
          "2013-12",
          "2014-01",
          "2014-02",
          "2014-03",
          "2014-04",
          "2014-05",
          "2014-06",
          "2014-07",
          "2014-08",
          "2014-09",
          "2014-10",
          "2014-11",
          "2014-12",
          "2015-01",
          "2015-02",
          "2015-03",
          "2015-04",
          "2015-05",
          "2015-06",
          "2015-07",
          "2015-08",
          "2015-09",
          "2015-10",
          "2015-11",
          "2015-12",
          "2016-01",
          "2016-02",
          "2016-03",
          "2016-04",
          "2016-05",
          "2016-06",
          "2016-07",
          "2016-08",
          "2016-09",
          "2016-10",
          "2016-11",
          "2016-12",
          "2017-01",
          "2017-02",
          "2017-03",
          "2017-04",
          "2017-05",
          "2017-06",
          "2017-07",
          "2017-08",
          "2017-09",
          "2017-10",
          "2017-11",
          "2017-12",
          "2018-01",
          "2018-02",
          "2018-03",
          "2018-04",
          "2018-05",
          "2018-06",
          "2018-07",
          "2018-08",
          "2018-09",
          "2018-10",
          "2018-11",
          "2018-12",
          "2019-01",
          "2019-02",
          "2019-03",
          "2019-04",
          "2019-05",
          "2019-06",
          "2019-07",
          "2019-08",
          "2019-09",
          "2019-10",
          "2019-11",
          "2019-12",
          "2020-01",
          "2020-02",
          "2020-03",
          "2020-04",
          "2020-05",
          "2020-06",
          "2020-07",
          "2020-08",
          "2020-09",
          "2020-10",
          "2020-11",
          "2020-12",
          "2021-01",
          "2021-02",
          "2021-03",
          "2021-04",
          "2021-05",
          "2021-06",
          "2021-07",
          "2021-08",
          "2021-09",
          "2021-10",
          "2021-11",
          "2021-12",
          "2022-01",
          "2022-02",
          "2022-03",
          "2022-04",
          "2022-05",
          "2022-06",
          "2022-07",
          "2022-08",
          "2022-09",
          "2022-10",
          "2022-11",
          "2022-12",
          "2023-01",
          "2023-02",
          "2023-03",
          "2023-04",
          "2023-05",
          "2023-06",
          "2023-07",
          "2023-08",
          "2023-09",
          "2023-10",
          "2023-11",
          "2023-12",
          "2024-01",
          "2024-02",
          "2024-03",
          "2024-04",
          "2024-05",
          "2024-06",
          "2024-07",
          "2024-08",
          "2024-09",
          "2024-10",
          "2024-11",
          "2024-12",
          "2025-01",
          "2025-02",
          "2025-03",
          "2025-04",
          "2025-05",
          "2025-06",
          "2025-07"
         ],
         "y": {
          "bdata": "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",
          "dtype": "f8"
         }
        },
        {
         "mode": "lines",
         "name": "v_20250218",
         "type": "scatter",
         "x": [
          "2001-05",
          "2001-06",
          "2001-07",
          "2001-08",
          "2001-09",
          "2001-10",
          "2001-11",
          "2001-12",
          "2002-01",
          "2002-02",
          "2002-03",
          "2002-04",
          "2002-05",
          "2002-06",
          "2002-07",
          "2002-08",
          "2002-09",
          "2002-10",
          "2002-11",
          "2002-12",
          "2003-01",
          "2003-02",
          "2003-03",
          "2003-04",
          "2003-05",
          "2003-06",
          "2003-07",
          "2003-08",
          "2003-09",
          "2003-10",
          "2003-11",
          "2003-12",
          "2004-01",
          "2004-02",
          "2004-03",
          "2004-04",
          "2004-05",
          "2004-06",
          "2004-07",
          "2004-08",
          "2004-09",
          "2004-10",
          "2004-11",
          "2004-12",
          "2005-01",
          "2005-02",
          "2005-03",
          "2005-04",
          "2005-05",
          "2005-06",
          "2005-07",
          "2005-08",
          "2005-09",
          "2005-10",
          "2005-11",
          "2005-12",
          "2006-01",
          "2006-02",
          "2006-03",
          "2006-04",
          "2006-05",
          "2006-06",
          "2006-07",
          "2006-08",
          "2006-09",
          "2006-10",
          "2006-11",
          "2006-12",
          "2007-01",
          "2007-02",
          "2007-03",
          "2007-04",
          "2007-05",
          "2007-06",
          "2007-07",
          "2007-08",
          "2007-09",
          "2007-10",
          "2007-11",
          "2007-12",
          "2008-01",
          "2008-02",
          "2008-03",
          "2008-04",
          "2008-05",
          "2008-06",
          "2008-07",
          "2008-08",
          "2008-09",
          "2008-10",
          "2008-11",
          "2008-12",
          "2009-01",
          "2009-02",
          "2009-03",
          "2009-04",
          "2009-05",
          "2009-06",
          "2009-07",
          "2009-08",
          "2009-09",
          "2009-10",
          "2009-11",
          "2009-12",
          "2010-01",
          "2010-02",
          "2010-03",
          "2010-04",
          "2010-05",
          "2010-06",
          "2010-07",
          "2010-08",
          "2010-09",
          "2010-10",
          "2010-11",
          "2010-12",
          "2011-01",
          "2011-02",
          "2011-03",
          "2011-04",
          "2011-05",
          "2011-06",
          "2011-07",
          "2011-08",
          "2011-09",
          "2011-10",
          "2011-11",
          "2011-12",
          "2012-01",
          "2012-02",
          "2012-03",
          "2012-04",
          "2012-05",
          "2012-06",
          "2012-07",
          "2012-08",
          "2012-09",
          "2012-10",
          "2012-11",
          "2012-12",
          "2013-01",
          "2013-02",
          "2013-03",
          "2013-04",
          "2013-05",
          "2013-06",
          "2013-07",
          "2013-08",
          "2013-09",
          "2013-10",
          "2013-11",
          "2013-12",
          "2014-01",
          "2014-02",
          "2014-03",
          "2014-04",
          "2014-05",
          "2014-06",
          "2014-07",
          "2014-08",
          "2014-09",
          "2014-10",
          "2014-11",
          "2014-12",
          "2015-01",
          "2015-02",
          "2015-03",
          "2015-04",
          "2015-05",
          "2015-06",
          "2015-07",
          "2015-08",
          "2015-09",
          "2015-10",
          "2015-11",
          "2015-12",
          "2016-01",
          "2016-02",
          "2016-03",
          "2016-04",
          "2016-05",
          "2016-06",
          "2016-07",
          "2016-08",
          "2016-09",
          "2016-10",
          "2016-11",
          "2016-12",
          "2017-01",
          "2017-02",
          "2017-03",
          "2017-04",
          "2017-05",
          "2017-06",
          "2017-07",
          "2017-08",
          "2017-09",
          "2017-10",
          "2017-11",
          "2017-12",
          "2018-01",
          "2018-02",
          "2018-03",
          "2018-04",
          "2018-05",
          "2018-06",
          "2018-07",
          "2018-08",
          "2018-09",
          "2018-10",
          "2018-11",
          "2018-12",
          "2019-01",
          "2019-02",
          "2019-03",
          "2019-04",
          "2019-05",
          "2019-06",
          "2019-07",
          "2019-08",
          "2019-09",
          "2019-10",
          "2019-11",
          "2019-12",
          "2020-01",
          "2020-02",
          "2020-03",
          "2020-04",
          "2020-05",
          "2020-06",
          "2020-07",
          "2020-08",
          "2020-09",
          "2020-10",
          "2020-11",
          "2020-12",
          "2021-01",
          "2021-02",
          "2021-03",
          "2021-04",
          "2021-05",
          "2021-06",
          "2021-07",
          "2021-08",
          "2021-09",
          "2021-10",
          "2021-11",
          "2021-12",
          "2022-01",
          "2022-02",
          "2022-03",
          "2022-04",
          "2022-05",
          "2022-06",
          "2022-07",
          "2022-08",
          "2022-09",
          "2022-10",
          "2022-11",
          "2022-12",
          "2023-01",
          "2023-02",
          "2023-03",
          "2023-04",
          "2023-05",
          "2023-06",
          "2023-07",
          "2023-08",
          "2023-09",
          "2023-10",
          "2023-11",
          "2023-12",
          "2024-01",
          "2024-02",
          "2024-03",
          "2024-04",
          "2024-05",
          "2024-06",
          "2024-07",
          "2024-08",
          "2024-09",
          "2024-10",
          "2024-11",
          "2024-12",
          "2025-01",
          "2025-02",
          "2025-03",
          "2025-04",
          "2025-05",
          "2025-06",
          "2025-07"
         ],
         "y": {
          "bdata": "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",
          "dtype": "f8"
         }
        },
        {
         "mode": "lines",
         "name": "v_20250320",
         "type": "scatter",
         "x": [
          "2001-05",
          "2001-06",
          "2001-07",
          "2001-08",
          "2001-09",
          "2001-10",
          "2001-11",
          "2001-12",
          "2002-01",
          "2002-02",
          "2002-03",
          "2002-04",
          "2002-05",
          "2002-06",
          "2002-07",
          "2002-08",
          "2002-09",
          "2002-10",
          "2002-11",
          "2002-12",
          "2003-01",
          "2003-02",
          "2003-03",
          "2003-04",
          "2003-05",
          "2003-06",
          "2003-07",
          "2003-08",
          "2003-09",
          "2003-10",
          "2003-11",
          "2003-12",
          "2004-01",
          "2004-02",
          "2004-03",
          "2004-04",
          "2004-05",
          "2004-06",
          "2004-07",
          "2004-08",
          "2004-09",
          "2004-10",
          "2004-11",
          "2004-12",
          "2005-01",
          "2005-02",
          "2005-03",
          "2005-04",
          "2005-05",
          "2005-06",
          "2005-07",
          "2005-08",
          "2005-09",
          "2005-10",
          "2005-11",
          "2005-12",
          "2006-01",
          "2006-02",
          "2006-03",
          "2006-04",
          "2006-05",
          "2006-06",
          "2006-07",
          "2006-08",
          "2006-09",
          "2006-10",
          "2006-11",
          "2006-12",
          "2007-01",
          "2007-02",
          "2007-03",
          "2007-04",
          "2007-05",
          "2007-06",
          "2007-07",
          "2007-08",
          "2007-09",
          "2007-10",
          "2007-11",
          "2007-12",
          "2008-01",
          "2008-02",
          "2008-03",
          "2008-04",
          "2008-05",
          "2008-06",
          "2008-07",
          "2008-08",
          "2008-09",
          "2008-10",
          "2008-11",
          "2008-12",
          "2009-01",
          "2009-02",
          "2009-03",
          "2009-04",
          "2009-05",
          "2009-06",
          "2009-07",
          "2009-08",
          "2009-09",
          "2009-10",
          "2009-11",
          "2009-12",
          "2010-01",
          "2010-02",
          "2010-03",
          "2010-04",
          "2010-05",
          "2010-06",
          "2010-07",
          "2010-08",
          "2010-09",
          "2010-10",
          "2010-11",
          "2010-12",
          "2011-01",
          "2011-02",
          "2011-03",
          "2011-04",
          "2011-05",
          "2011-06",
          "2011-07",
          "2011-08",
          "2011-09",
          "2011-10",
          "2011-11",
          "2011-12",
          "2012-01",
          "2012-02",
          "2012-03",
          "2012-04",
          "2012-05",
          "2012-06",
          "2012-07",
          "2012-08",
          "2012-09",
          "2012-10",
          "2012-11",
          "2012-12",
          "2013-01",
          "2013-02",
          "2013-03",
          "2013-04",
          "2013-05",
          "2013-06",
          "2013-07",
          "2013-08",
          "2013-09",
          "2013-10",
          "2013-11",
          "2013-12",
          "2014-01",
          "2014-02",
          "2014-03",
          "2014-04",
          "2014-05",
          "2014-06",
          "2014-07",
          "2014-08",
          "2014-09",
          "2014-10",
          "2014-11",
          "2014-12",
          "2015-01",
          "2015-02",
          "2015-03",
          "2015-04",
          "2015-05",
          "2015-06",
          "2015-07",
          "2015-08",
          "2015-09",
          "2015-10",
          "2015-11",
          "2015-12",
          "2016-01",
          "2016-02",
          "2016-03",
          "2016-04",
          "2016-05",
          "2016-06",
          "2016-07",
          "2016-08",
          "2016-09",
          "2016-10",
          "2016-11",
          "2016-12",
          "2017-01",
          "2017-02",
          "2017-03",
          "2017-04",
          "2017-05",
          "2017-06",
          "2017-07",
          "2017-08",
          "2017-09",
          "2017-10",
          "2017-11",
          "2017-12",
          "2018-01",
          "2018-02",
          "2018-03",
          "2018-04",
          "2018-05",
          "2018-06",
          "2018-07",
          "2018-08",
          "2018-09",
          "2018-10",
          "2018-11",
          "2018-12",
          "2019-01",
          "2019-02",
          "2019-03",
          "2019-04",
          "2019-05",
          "2019-06",
          "2019-07",
          "2019-08",
          "2019-09",
          "2019-10",
          "2019-11",
          "2019-12",
          "2020-01",
          "2020-02",
          "2020-03",
          "2020-04",
          "2020-05",
          "2020-06",
          "2020-07",
          "2020-08",
          "2020-09",
          "2020-10",
          "2020-11",
          "2020-12",
          "2021-01",
          "2021-02",
          "2021-03",
          "2021-04",
          "2021-05",
          "2021-06",
          "2021-07",
          "2021-08",
          "2021-09",
          "2021-10",
          "2021-11",
          "2021-12",
          "2022-01",
          "2022-02",
          "2022-03",
          "2022-04",
          "2022-05",
          "2022-06",
          "2022-07",
          "2022-08",
          "2022-09",
          "2022-10",
          "2022-11",
          "2022-12",
          "2023-01",
          "2023-02",
          "2023-03",
          "2023-04",
          "2023-05",
          "2023-06",
          "2023-07",
          "2023-08",
          "2023-09",
          "2023-10",
          "2023-11",
          "2023-12",
          "2024-01",
          "2024-02",
          "2024-03",
          "2024-04",
          "2024-05",
          "2024-06",
          "2024-07",
          "2024-08",
          "2024-09",
          "2024-10",
          "2024-11",
          "2024-12",
          "2025-01",
          "2025-02",
          "2025-03",
          "2025-04",
          "2025-05",
          "2025-06",
          "2025-07"
         ],
         "y": {
          "bdata": "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",
          "dtype": "f8"
         }
        },
        {
         "mode": "lines",
         "name": "v_20250415",
         "type": "scatter",
         "x": [
          "2001-05",
          "2001-06",
          "2001-07",
          "2001-08",
          "2001-09",
          "2001-10",
          "2001-11",
          "2001-12",
          "2002-01",
          "2002-02",
          "2002-03",
          "2002-04",
          "2002-05",
          "2002-06",
          "2002-07",
          "2002-08",
          "2002-09",
          "2002-10",
          "2002-11",
          "2002-12",
          "2003-01",
          "2003-02",
          "2003-03",
          "2003-04",
          "2003-05",
          "2003-06",
          "2003-07",
          "2003-08",
          "2003-09",
          "2003-10",
          "2003-11",
          "2003-12",
          "2004-01",
          "2004-02",
          "2004-03",
          "2004-04",
          "2004-05",
          "2004-06",
          "2004-07",
          "2004-08",
          "2004-09",
          "2004-10",
          "2004-11",
          "2004-12",
          "2005-01",
          "2005-02",
          "2005-03",
          "2005-04",
          "2005-05",
          "2005-06",
          "2005-07",
          "2005-08",
          "2005-09",
          "2005-10",
          "2005-11",
          "2005-12",
          "2006-01",
          "2006-02",
          "2006-03",
          "2006-04",
          "2006-05",
          "2006-06",
          "2006-07",
          "2006-08",
          "2006-09",
          "2006-10",
          "2006-11",
          "2006-12",
          "2007-01",
          "2007-02",
          "2007-03",
          "2007-04",
          "2007-05",
          "2007-06",
          "2007-07",
          "2007-08",
          "2007-09",
          "2007-10",
          "2007-11",
          "2007-12",
          "2008-01",
          "2008-02",
          "2008-03",
          "2008-04",
          "2008-05",
          "2008-06",
          "2008-07",
          "2008-08",
          "2008-09",
          "2008-10",
          "2008-11",
          "2008-12",
          "2009-01",
          "2009-02",
          "2009-03",
          "2009-04",
          "2009-05",
          "2009-06",
          "2009-07",
          "2009-08",
          "2009-09",
          "2009-10",
          "2009-11",
          "2009-12",
          "2010-01",
          "2010-02",
          "2010-03",
          "2010-04",
          "2010-05",
          "2010-06",
          "2010-07",
          "2010-08",
          "2010-09",
          "2010-10",
          "2010-11",
          "2010-12",
          "2011-01",
          "2011-02",
          "2011-03",
          "2011-04",
          "2011-05",
          "2011-06",
          "2011-07",
          "2011-08",
          "2011-09",
          "2011-10",
          "2011-11",
          "2011-12",
          "2012-01",
          "2012-02",
          "2012-03",
          "2012-04",
          "2012-05",
          "2012-06",
          "2012-07",
          "2012-08",
          "2012-09",
          "2012-10",
          "2012-11",
          "2012-12",
          "2013-01",
          "2013-02",
          "2013-03",
          "2013-04",
          "2013-05",
          "2013-06",
          "2013-07",
          "2013-08",
          "2013-09",
          "2013-10",
          "2013-11",
          "2013-12",
          "2014-01",
          "2014-02",
          "2014-03",
          "2014-04",
          "2014-05",
          "2014-06",
          "2014-07",
          "2014-08",
          "2014-09",
          "2014-10",
          "2014-11",
          "2014-12",
          "2015-01",
          "2015-02",
          "2015-03",
          "2015-04",
          "2015-05",
          "2015-06",
          "2015-07",
          "2015-08",
          "2015-09",
          "2015-10",
          "2015-11",
          "2015-12",
          "2016-01",
          "2016-02",
          "2016-03",
          "2016-04",
          "2016-05",
          "2016-06",
          "2016-07",
          "2016-08",
          "2016-09",
          "2016-10",
          "2016-11",
          "2016-12",
          "2017-01",
          "2017-02",
          "2017-03",
          "2017-04",
          "2017-05",
          "2017-06",
          "2017-07",
          "2017-08",
          "2017-09",
          "2017-10",
          "2017-11",
          "2017-12",
          "2018-01",
          "2018-02",
          "2018-03",
          "2018-04",
          "2018-05",
          "2018-06",
          "2018-07",
          "2018-08",
          "2018-09",
          "2018-10",
          "2018-11",
          "2018-12",
          "2019-01",
          "2019-02",
          "2019-03",
          "2019-04",
          "2019-05",
          "2019-06",
          "2019-07",
          "2019-08",
          "2019-09",
          "2019-10",
          "2019-11",
          "2019-12",
          "2020-01",
          "2020-02",
          "2020-03",
          "2020-04",
          "2020-05",
          "2020-06",
          "2020-07",
          "2020-08",
          "2020-09",
          "2020-10",
          "2020-11",
          "2020-12",
          "2021-01",
          "2021-02",
          "2021-03",
          "2021-04",
          "2021-05",
          "2021-06",
          "2021-07",
          "2021-08",
          "2021-09",
          "2021-10",
          "2021-11",
          "2021-12",
          "2022-01",
          "2022-02",
          "2022-03",
          "2022-04",
          "2022-05",
          "2022-06",
          "2022-07",
          "2022-08",
          "2022-09",
          "2022-10",
          "2022-11",
          "2022-12",
          "2023-01",
          "2023-02",
          "2023-03",
          "2023-04",
          "2023-05",
          "2023-06",
          "2023-07",
          "2023-08",
          "2023-09",
          "2023-10",
          "2023-11",
          "2023-12",
          "2024-01",
          "2024-02",
          "2024-03",
          "2024-04",
          "2024-05",
          "2024-06",
          "2024-07",
          "2024-08",
          "2024-09",
          "2024-10",
          "2024-11",
          "2024-12",
          "2025-01",
          "2025-02",
          "2025-03",
          "2025-04",
          "2025-05",
          "2025-06",
          "2025-07"
         ],
         "y": {
          "bdata": "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",
          "dtype": "f8"
         }
        },
        {
         "mode": "lines",
         "name": "v_20250513",
         "type": "scatter",
         "x": [
          "2001-05",
          "2001-06",
          "2001-07",
          "2001-08",
          "2001-09",
          "2001-10",
          "2001-11",
          "2001-12",
          "2002-01",
          "2002-02",
          "2002-03",
          "2002-04",
          "2002-05",
          "2002-06",
          "2002-07",
          "2002-08",
          "2002-09",
          "2002-10",
          "2002-11",
          "2002-12",
          "2003-01",
          "2003-02",
          "2003-03",
          "2003-04",
          "2003-05",
          "2003-06",
          "2003-07",
          "2003-08",
          "2003-09",
          "2003-10",
          "2003-11",
          "2003-12",
          "2004-01",
          "2004-02",
          "2004-03",
          "2004-04",
          "2004-05",
          "2004-06",
          "2004-07",
          "2004-08",
          "2004-09",
          "2004-10",
          "2004-11",
          "2004-12",
          "2005-01",
          "2005-02",
          "2005-03",
          "2005-04",
          "2005-05",
          "2005-06",
          "2005-07",
          "2005-08",
          "2005-09",
          "2005-10",
          "2005-11",
          "2005-12",
          "2006-01",
          "2006-02",
          "2006-03",
          "2006-04",
          "2006-05",
          "2006-06",
          "2006-07",
          "2006-08",
          "2006-09",
          "2006-10",
          "2006-11",
          "2006-12",
          "2007-01",
          "2007-02",
          "2007-03",
          "2007-04",
          "2007-05",
          "2007-06",
          "2007-07",
          "2007-08",
          "2007-09",
          "2007-10",
          "2007-11",
          "2007-12",
          "2008-01",
          "2008-02",
          "2008-03",
          "2008-04",
          "2008-05",
          "2008-06",
          "2008-07",
          "2008-08",
          "2008-09",
          "2008-10",
          "2008-11",
          "2008-12",
          "2009-01",
          "2009-02",
          "2009-03",
          "2009-04",
          "2009-05",
          "2009-06",
          "2009-07",
          "2009-08",
          "2009-09",
          "2009-10",
          "2009-11",
          "2009-12",
          "2010-01",
          "2010-02",
          "2010-03",
          "2010-04",
          "2010-05",
          "2010-06",
          "2010-07",
          "2010-08",
          "2010-09",
          "2010-10",
          "2010-11",
          "2010-12",
          "2011-01",
          "2011-02",
          "2011-03",
          "2011-04",
          "2011-05",
          "2011-06",
          "2011-07",
          "2011-08",
          "2011-09",
          "2011-10",
          "2011-11",
          "2011-12",
          "2012-01",
          "2012-02",
          "2012-03",
          "2012-04",
          "2012-05",
          "2012-06",
          "2012-07",
          "2012-08",
          "2012-09",
          "2012-10",
          "2012-11",
          "2012-12",
          "2013-01",
          "2013-02",
          "2013-03",
          "2013-04",
          "2013-05",
          "2013-06",
          "2013-07",
          "2013-08",
          "2013-09",
          "2013-10",
          "2013-11",
          "2013-12",
          "2014-01",
          "2014-02",
          "2014-03",
          "2014-04",
          "2014-05",
          "2014-06",
          "2014-07",
          "2014-08",
          "2014-09",
          "2014-10",
          "2014-11",
          "2014-12",
          "2015-01",
          "2015-02",
          "2015-03",
          "2015-04",
          "2015-05",
          "2015-06",
          "2015-07",
          "2015-08",
          "2015-09",
          "2015-10",
          "2015-11",
          "2015-12",
          "2016-01",
          "2016-02",
          "2016-03",
          "2016-04",
          "2016-05",
          "2016-06",
          "2016-07",
          "2016-08",
          "2016-09",
          "2016-10",
          "2016-11",
          "2016-12",
          "2017-01",
          "2017-02",
          "2017-03",
          "2017-04",
          "2017-05",
          "2017-06",
          "2017-07",
          "2017-08",
          "2017-09",
          "2017-10",
          "2017-11",
          "2017-12",
          "2018-01",
          "2018-02",
          "2018-03",
          "2018-04",
          "2018-05",
          "2018-06",
          "2018-07",
          "2018-08",
          "2018-09",
          "2018-10",
          "2018-11",
          "2018-12",
          "2019-01",
          "2019-02",
          "2019-03",
          "2019-04",
          "2019-05",
          "2019-06",
          "2019-07",
          "2019-08",
          "2019-09",
          "2019-10",
          "2019-11",
          "2019-12",
          "2020-01",
          "2020-02",
          "2020-03",
          "2020-04",
          "2020-05",
          "2020-06",
          "2020-07",
          "2020-08",
          "2020-09",
          "2020-10",
          "2020-11",
          "2020-12",
          "2021-01",
          "2021-02",
          "2021-03",
          "2021-04",
          "2021-05",
          "2021-06",
          "2021-07",
          "2021-08",
          "2021-09",
          "2021-10",
          "2021-11",
          "2021-12",
          "2022-01",
          "2022-02",
          "2022-03",
          "2022-04",
          "2022-05",
          "2022-06",
          "2022-07",
          "2022-08",
          "2022-09",
          "2022-10",
          "2022-11",
          "2022-12",
          "2023-01",
          "2023-02",
          "2023-03",
          "2023-04",
          "2023-05",
          "2023-06",
          "2023-07",
          "2023-08",
          "2023-09",
          "2023-10",
          "2023-11",
          "2023-12",
          "2024-01",
          "2024-02",
          "2024-03",
          "2024-04",
          "2024-05",
          "2024-06",
          "2024-07",
          "2024-08",
          "2024-09",
          "2024-10",
          "2024-11",
          "2024-12",
          "2025-01",
          "2025-02",
          "2025-03",
          "2025-04",
          "2025-05",
          "2025-06",
          "2025-07"
         ],
         "y": {
          "bdata": "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",
          "dtype": "f8"
         }
        },
        {
         "mode": "lines",
         "name": "v_20250610",
         "type": "scatter",
         "x": [
          "2001-05",
          "2001-06",
          "2001-07",
          "2001-08",
          "2001-09",
          "2001-10",
          "2001-11",
          "2001-12",
          "2002-01",
          "2002-02",
          "2002-03",
          "2002-04",
          "2002-05",
          "2002-06",
          "2002-07",
          "2002-08",
          "2002-09",
          "2002-10",
          "2002-11",
          "2002-12",
          "2003-01",
          "2003-02",
          "2003-03",
          "2003-04",
          "2003-05",
          "2003-06",
          "2003-07",
          "2003-08",
          "2003-09",
          "2003-10",
          "2003-11",
          "2003-12",
          "2004-01",
          "2004-02",
          "2004-03",
          "2004-04",
          "2004-05",
          "2004-06",
          "2004-07",
          "2004-08",
          "2004-09",
          "2004-10",
          "2004-11",
          "2004-12",
          "2005-01",
          "2005-02",
          "2005-03",
          "2005-04",
          "2005-05",
          "2005-06",
          "2005-07",
          "2005-08",
          "2005-09",
          "2005-10",
          "2005-11",
          "2005-12",
          "2006-01",
          "2006-02",
          "2006-03",
          "2006-04",
          "2006-05",
          "2006-06",
          "2006-07",
          "2006-08",
          "2006-09",
          "2006-10",
          "2006-11",
          "2006-12",
          "2007-01",
          "2007-02",
          "2007-03",
          "2007-04",
          "2007-05",
          "2007-06",
          "2007-07",
          "2007-08",
          "2007-09",
          "2007-10",
          "2007-11",
          "2007-12",
          "2008-01",
          "2008-02",
          "2008-03",
          "2008-04",
          "2008-05",
          "2008-06",
          "2008-07",
          "2008-08",
          "2008-09",
          "2008-10",
          "2008-11",
          "2008-12",
          "2009-01",
          "2009-02",
          "2009-03",
          "2009-04",
          "2009-05",
          "2009-06",
          "2009-07",
          "2009-08",
          "2009-09",
          "2009-10",
          "2009-11",
          "2009-12",
          "2010-01",
          "2010-02",
          "2010-03",
          "2010-04",
          "2010-05",
          "2010-06",
          "2010-07",
          "2010-08",
          "2010-09",
          "2010-10",
          "2010-11",
          "2010-12",
          "2011-01",
          "2011-02",
          "2011-03",
          "2011-04",
          "2011-05",
          "2011-06",
          "2011-07",
          "2011-08",
          "2011-09",
          "2011-10",
          "2011-11",
          "2011-12",
          "2012-01",
          "2012-02",
          "2012-03",
          "2012-04",
          "2012-05",
          "2012-06",
          "2012-07",
          "2012-08",
          "2012-09",
          "2012-10",
          "2012-11",
          "2012-12",
          "2013-01",
          "2013-02",
          "2013-03",
          "2013-04",
          "2013-05",
          "2013-06",
          "2013-07",
          "2013-08",
          "2013-09",
          "2013-10",
          "2013-11",
          "2013-12",
          "2014-01",
          "2014-02",
          "2014-03",
          "2014-04",
          "2014-05",
          "2014-06",
          "2014-07",
          "2014-08",
          "2014-09",
          "2014-10",
          "2014-11",
          "2014-12",
          "2015-01",
          "2015-02",
          "2015-03",
          "2015-04",
          "2015-05",
          "2015-06",
          "2015-07",
          "2015-08",
          "2015-09",
          "2015-10",
          "2015-11",
          "2015-12",
          "2016-01",
          "2016-02",
          "2016-03",
          "2016-04",
          "2016-05",
          "2016-06",
          "2016-07",
          "2016-08",
          "2016-09",
          "2016-10",
          "2016-11",
          "2016-12",
          "2017-01",
          "2017-02",
          "2017-03",
          "2017-04",
          "2017-05",
          "2017-06",
          "2017-07",
          "2017-08",
          "2017-09",
          "2017-10",
          "2017-11",
          "2017-12",
          "2018-01",
          "2018-02",
          "2018-03",
          "2018-04",
          "2018-05",
          "2018-06",
          "2018-07",
          "2018-08",
          "2018-09",
          "2018-10",
          "2018-11",
          "2018-12",
          "2019-01",
          "2019-02",
          "2019-03",
          "2019-04",
          "2019-05",
          "2019-06",
          "2019-07",
          "2019-08",
          "2019-09",
          "2019-10",
          "2019-11",
          "2019-12",
          "2020-01",
          "2020-02",
          "2020-03",
          "2020-04",
          "2020-05",
          "2020-06",
          "2020-07",
          "2020-08",
          "2020-09",
          "2020-10",
          "2020-11",
          "2020-12",
          "2021-01",
          "2021-02",
          "2021-03",
          "2021-04",
          "2021-05",
          "2021-06",
          "2021-07",
          "2021-08",
          "2021-09",
          "2021-10",
          "2021-11",
          "2021-12",
          "2022-01",
          "2022-02",
          "2022-03",
          "2022-04",
          "2022-05",
          "2022-06",
          "2022-07",
          "2022-08",
          "2022-09",
          "2022-10",
          "2022-11",
          "2022-12",
          "2023-01",
          "2023-02",
          "2023-03",
          "2023-04",
          "2023-05",
          "2023-06",
          "2023-07",
          "2023-08",
          "2023-09",
          "2023-10",
          "2023-11",
          "2023-12",
          "2024-01",
          "2024-02",
          "2024-03",
          "2024-04",
          "2024-05",
          "2024-06",
          "2024-07",
          "2024-08",
          "2024-09",
          "2024-10",
          "2024-11",
          "2024-12",
          "2025-01",
          "2025-02",
          "2025-03",
          "2025-04",
          "2025-05",
          "2025-06",
          "2025-07"
         ],
         "y": {
          "bdata": "AAAAAABAhUAAAAAAABCFQAAAAAAAuIRAAAAAAAC4hEAAAAAAAPiDQAAAAAAAkINAAAAAAADIgkAAAAAAAPCCQAAAAAAAQINAAAAAAABYg0AAAAAAAFiDQAAAAAAAKINAAAAAAABAg0AAAAAAABiDQAAAAAAAKINAAAAAAAAIg0AAAAAAAAiDQAAAAAAAAINAAAAAAADYgkAAAAAAANCCQAAAAAAAoIJAAAAAAACIgkAAAAAAAEiCQAAAAAAAaIJAAAAAAAAYgkAAAAAAAPCBQAAAAAAAAIJAAAAAAACAgkAAAAAAAOCCQAAAAAAAEINAAAAAAAAwg0AAAAAAACiDQAAAAAAASINAAAAAAACAg0AAAAAAALCDQAAAAAAA6INAAAAAAAAIhEAAAAAAAGCEQAAAAAAAcIRAAAAAAABwhEAAAAAAAHiEQAAAAAAAkIRAAAAAAACwhEAAAAAAAKiEQAAAAAAAeIRAAAAAAAAghEAAAAAAAOCDQAAAAAAAEIRAAAAAAAAQhEAAAAAAAMiDQAAAAAAAgINAAAAAAABwg0AAAAAAAACDQAAAAAAA8IJAAAAAAAAIg0AAAAAAADiDQAAAAAAAIINAAAAAAADAgkAAAAAAAKiCQAAAAAAAqIJAAAAAAADggkAAAAAAAPiCQAAAAAAAEINAAAAAAAAYg0AAAAAAAFCDQAAAAAAAYINAAAAAAABgg0AAAAAAAFiDQAAAAAAAqINAAAAAAAAQhEAAAAAAADiEQAAAAAAAWIRAAAAAAACYhEAAAAAAAPCEQAAAAAAASIVAAAAAAABghUAAAAAAAHCFQAAAAAAAmIVAAAAAAAB4hUAAAAAAADiFQAAAAAAAeIVAAAAAAADQhUAAAAAAALCFQAAAAAAAOIVAAAAAAACIhEAAAAAAABiEQAAAAAAAgINAAAAAAAA4g0AAAAAAAKCCQAAAAAAAkIFAAAAAAAB4gEAAAAAAACB/QAAAAAAA4H1AAAAAAAAAfUAAAAAAAGB8QAAAAAAAwHtAAAAAAADwekAAAAAAANB6QAAAAAAAYHtAAAAAAABAe0AAAAAAAAB7QAAAAAAAUHtAAAAAAABgfEAAAAAAAAB9QAAAAAAAMH1AAAAAAAAQfUAAAAAAADB9QAAAAAAA8H1AAAAAAABAfkAAAAAAAPB9QAAAAAAA0HxAAAAAAABwfEAAAAAAAHB8QAAAAAAAoH1AAAAAAAAwfkAAAAAAAPB+QAAAAAAAoH5AAAAAAAAwfkAAAAAAAIB9QAAAAAAA0HxAAAAAAADAfEAAAAAAAJB8QAAAAAAA4HxAAAAAAAAAfUAAAAAAADB9QAAAAAAA4HxAAAAAAAAQfUAAAAAAAMB9QAAAAAAAkH1AAAAAAAAwfUAAAAAAABB9QAAAAAAAYH1AAAAAAACgfUAAAAAAAPB9QAAAAAAAMH5AAAAAAABwfkAAAAAAAKB+QAAAAAAA0H5AAAAAAABQf0AAAAAAAHB/QAAAAAAAkH9AAAAAAACgf0AAAAAAABiAQAAAAAAAUIBAAAAAAACogEAAAAAAANiAQAAAAAAAwIBAAAAAAAAYgUAAAAAAAECBQAAAAAAAuIFAAAAAAADogUAAAAAAAECCQAAAAAAAoIJAAAAAAABAg0AAAAAAAPiDQAAAAAAAaIRAAAAAAACohEAAAAAAAOiEQAAAAAAASIVAAAAAAABwhUAAAAAAAPCFQAAAAAAA8IVAAAAAAAAghkAAAAAAAECGQAAAAAAAkIZAAAAAAADQhkAAAAAAALCGQAAAAAAAuIZAAAAAAADQhkAAAAAAACiHQAAAAAAAMIdAAAAAAAAoh0AAAAAAACiHQAAAAAAAKIdAAAAAAABQh0AAAAAAAHCHQAAAAAAAYIdAAAAAAABgh0AAAAAAADCHQAAAAAAASIdAAAAAAABQh0AAAAAAAFiHQAAAAAAAgIdAAAAAAACIh0AAAAAAAOiHQAAAAAAAsIdAAAAAAACYh0AAAAAAAGCHQAAAAAAA4IdAAAAAAAAYiEAAAAAAALiIQAAAAAAAkIhAAAAAAACQiEAAAAAAAICIQAAAAAAAyIhAAAAAAAAAiUAAAAAAAGCJQAAAAAAAmIlAAAAAAACgiUAAAAAAAIiJQAAAAAAAcIlAAAAAAAB4iUAAAAAAAFiJQAAAAAAAqIlAAAAAAAAAikAAAAAAACiKQAAAAAAAUIpAAAAAAABwikAAAAAAAACLQAAAAAAA8IpAAAAAAADAikAAAAAAALiKQAAAAAAAeIpAAAAAAABoikAAAAAAAECKQAAAAAAAGIpAAAAAAACwiUAAAAAAAKiJQAAAAAAAeIlAAAAAAACQiUAAAAAAAGiJQAAAAAAASIlAAAAAAABYiUAAAAAAAGCJQAAAAAAAmIlAAAAAAADYiEAAAAAAAOiDQAAAAAAAcH1AAAAAAACAdEAAAAAAABB3QAAAAAAAwHpAAAAAAACgfkAAAAAAALiAQAAAAAAAgIFAAAAAAADQgkAAAAAAAEiDQAAAAAAAaINAAAAAAACQg0AAAAAAAJiEQAAAAAAA4IdAAAAAAAAYi0AAAAAAAECOQAAAAAAAcJBAAAAAAACUkUAAAAAAALiSQAAAAAAAHJNAAAAAAABsk0AAAAAAAIiTQAAAAAAAzJNAAAAAAADwk0AAAAAAACyUQAAAAAAAUJRAAAAAAAAolEAAAAAAALyTQAAAAAAAcJNAAAAAAAAYk0AAAAAAAOCSQAAAAAAAPJJAAAAAAADIkUAAAAAAAGiRQAAAAAAAYJFAAAAAAABAkUAAAAAAAMyQQAAAAAAATJBAAAAAAAAEkEAAAAAAAJCPQAAAAAAA4I5AAAAAAABojkAAAAAAAMCNQAAAAAAAoI1AAAAAAADgjEAAAAAAAKCMQAAAAAAAQIxAAAAAAABIjEAAAAAAAOCLQAAAAAAAsItAAAAAAAAgi0AAAAAAANiKQAAAAAAAaIpAAAAAAAAAikAAAAAAALiJQAAAAAAAOIlAAAAAAAAwiUAAAAAAACCJQAAAAAAA+IhAAAAAAABwiEAAAAAAAMCHQAAAAAAAAIdAAAAAAAAA+H8AAAAAAAD4fwAAAAAAAPh/",
          "dtype": "f8"
         }
        },
        {
         "mode": "lines",
         "name": "v_20250717",
         "type": "scatter",
         "x": [
          "2001-05",
          "2001-06",
          "2001-07",
          "2001-08",
          "2001-09",
          "2001-10",
          "2001-11",
          "2001-12",
          "2002-01",
          "2002-02",
          "2002-03",
          "2002-04",
          "2002-05",
          "2002-06",
          "2002-07",
          "2002-08",
          "2002-09",
          "2002-10",
          "2002-11",
          "2002-12",
          "2003-01",
          "2003-02",
          "2003-03",
          "2003-04",
          "2003-05",
          "2003-06",
          "2003-07",
          "2003-08",
          "2003-09",
          "2003-10",
          "2003-11",
          "2003-12",
          "2004-01",
          "2004-02",
          "2004-03",
          "2004-04",
          "2004-05",
          "2004-06",
          "2004-07",
          "2004-08",
          "2004-09",
          "2004-10",
          "2004-11",
          "2004-12",
          "2005-01",
          "2005-02",
          "2005-03",
          "2005-04",
          "2005-05",
          "2005-06",
          "2005-07",
          "2005-08",
          "2005-09",
          "2005-10",
          "2005-11",
          "2005-12",
          "2006-01",
          "2006-02",
          "2006-03",
          "2006-04",
          "2006-05",
          "2006-06",
          "2006-07",
          "2006-08",
          "2006-09",
          "2006-10",
          "2006-11",
          "2006-12",
          "2007-01",
          "2007-02",
          "2007-03",
          "2007-04",
          "2007-05",
          "2007-06",
          "2007-07",
          "2007-08",
          "2007-09",
          "2007-10",
          "2007-11",
          "2007-12",
          "2008-01",
          "2008-02",
          "2008-03",
          "2008-04",
          "2008-05",
          "2008-06",
          "2008-07",
          "2008-08",
          "2008-09",
          "2008-10",
          "2008-11",
          "2008-12",
          "2009-01",
          "2009-02",
          "2009-03",
          "2009-04",
          "2009-05",
          "2009-06",
          "2009-07",
          "2009-08",
          "2009-09",
          "2009-10",
          "2009-11",
          "2009-12",
          "2010-01",
          "2010-02",
          "2010-03",
          "2010-04",
          "2010-05",
          "2010-06",
          "2010-07",
          "2010-08",
          "2010-09",
          "2010-10",
          "2010-11",
          "2010-12",
          "2011-01",
          "2011-02",
          "2011-03",
          "2011-04",
          "2011-05",
          "2011-06",
          "2011-07",
          "2011-08",
          "2011-09",
          "2011-10",
          "2011-11",
          "2011-12",
          "2012-01",
          "2012-02",
          "2012-03",
          "2012-04",
          "2012-05",
          "2012-06",
          "2012-07",
          "2012-08",
          "2012-09",
          "2012-10",
          "2012-11",
          "2012-12",
          "2013-01",
          "2013-02",
          "2013-03",
          "2013-04",
          "2013-05",
          "2013-06",
          "2013-07",
          "2013-08",
          "2013-09",
          "2013-10",
          "2013-11",
          "2013-12",
          "2014-01",
          "2014-02",
          "2014-03",
          "2014-04",
          "2014-05",
          "2014-06",
          "2014-07",
          "2014-08",
          "2014-09",
          "2014-10",
          "2014-11",
          "2014-12",
          "2015-01",
          "2015-02",
          "2015-03",
          "2015-04",
          "2015-05",
          "2015-06",
          "2015-07",
          "2015-08",
          "2015-09",
          "2015-10",
          "2015-11",
          "2015-12",
          "2016-01",
          "2016-02",
          "2016-03",
          "2016-04",
          "2016-05",
          "2016-06",
          "2016-07",
          "2016-08",
          "2016-09",
          "2016-10",
          "2016-11",
          "2016-12",
          "2017-01",
          "2017-02",
          "2017-03",
          "2017-04",
          "2017-05",
          "2017-06",
          "2017-07",
          "2017-08",
          "2017-09",
          "2017-10",
          "2017-11",
          "2017-12",
          "2018-01",
          "2018-02",
          "2018-03",
          "2018-04",
          "2018-05",
          "2018-06",
          "2018-07",
          "2018-08",
          "2018-09",
          "2018-10",
          "2018-11",
          "2018-12",
          "2019-01",
          "2019-02",
          "2019-03",
          "2019-04",
          "2019-05",
          "2019-06",
          "2019-07",
          "2019-08",
          "2019-09",
          "2019-10",
          "2019-11",
          "2019-12",
          "2020-01",
          "2020-02",
          "2020-03",
          "2020-04",
          "2020-05",
          "2020-06",
          "2020-07",
          "2020-08",
          "2020-09",
          "2020-10",
          "2020-11",
          "2020-12",
          "2021-01",
          "2021-02",
          "2021-03",
          "2021-04",
          "2021-05",
          "2021-06",
          "2021-07",
          "2021-08",
          "2021-09",
          "2021-10",
          "2021-11",
          "2021-12",
          "2022-01",
          "2022-02",
          "2022-03",
          "2022-04",
          "2022-05",
          "2022-06",
          "2022-07",
          "2022-08",
          "2022-09",
          "2022-10",
          "2022-11",
          "2022-12",
          "2023-01",
          "2023-02",
          "2023-03",
          "2023-04",
          "2023-05",
          "2023-06",
          "2023-07",
          "2023-08",
          "2023-09",
          "2023-10",
          "2023-11",
          "2023-12",
          "2024-01",
          "2024-02",
          "2024-03",
          "2024-04",
          "2024-05",
          "2024-06",
          "2024-07",
          "2024-08",
          "2024-09",
          "2024-10",
          "2024-11",
          "2024-12",
          "2025-01",
          "2025-02",
          "2025-03",
          "2025-04",
          "2025-05",
          "2025-06",
          "2025-07"
         ],
         "y": {
          "bdata": "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",
          "dtype": "f8"
         }
        },
        {
         "mode": "lines",
         "name": "v_20250812",
         "type": "scatter",
         "x": [
          "2001-05",
          "2001-06",
          "2001-07",
          "2001-08",
          "2001-09",
          "2001-10",
          "2001-11",
          "2001-12",
          "2002-01",
          "2002-02",
          "2002-03",
          "2002-04",
          "2002-05",
          "2002-06",
          "2002-07",
          "2002-08",
          "2002-09",
          "2002-10",
          "2002-11",
          "2002-12",
          "2003-01",
          "2003-02",
          "2003-03",
          "2003-04",
          "2003-05",
          "2003-06",
          "2003-07",
          "2003-08",
          "2003-09",
          "2003-10",
          "2003-11",
          "2003-12",
          "2004-01",
          "2004-02",
          "2004-03",
          "2004-04",
          "2004-05",
          "2004-06",
          "2004-07",
          "2004-08",
          "2004-09",
          "2004-10",
          "2004-11",
          "2004-12",
          "2005-01",
          "2005-02",
          "2005-03",
          "2005-04",
          "2005-05",
          "2005-06",
          "2005-07",
          "2005-08",
          "2005-09",
          "2005-10",
          "2005-11",
          "2005-12",
          "2006-01",
          "2006-02",
          "2006-03",
          "2006-04",
          "2006-05",
          "2006-06",
          "2006-07",
          "2006-08",
          "2006-09",
          "2006-10",
          "2006-11",
          "2006-12",
          "2007-01",
          "2007-02",
          "2007-03",
          "2007-04",
          "2007-05",
          "2007-06",
          "2007-07",
          "2007-08",
          "2007-09",
          "2007-10",
          "2007-11",
          "2007-12",
          "2008-01",
          "2008-02",
          "2008-03",
          "2008-04",
          "2008-05",
          "2008-06",
          "2008-07",
          "2008-08",
          "2008-09",
          "2008-10",
          "2008-11",
          "2008-12",
          "2009-01",
          "2009-02",
          "2009-03",
          "2009-04",
          "2009-05",
          "2009-06",
          "2009-07",
          "2009-08",
          "2009-09",
          "2009-10",
          "2009-11",
          "2009-12",
          "2010-01",
          "2010-02",
          "2010-03",
          "2010-04",
          "2010-05",
          "2010-06",
          "2010-07",
          "2010-08",
          "2010-09",
          "2010-10",
          "2010-11",
          "2010-12",
          "2011-01",
          "2011-02",
          "2011-03",
          "2011-04",
          "2011-05",
          "2011-06",
          "2011-07",
          "2011-08",
          "2011-09",
          "2011-10",
          "2011-11",
          "2011-12",
          "2012-01",
          "2012-02",
          "2012-03",
          "2012-04",
          "2012-05",
          "2012-06",
          "2012-07",
          "2012-08",
          "2012-09",
          "2012-10",
          "2012-11",
          "2012-12",
          "2013-01",
          "2013-02",
          "2013-03",
          "2013-04",
          "2013-05",
          "2013-06",
          "2013-07",
          "2013-08",
          "2013-09",
          "2013-10",
          "2013-11",
          "2013-12",
          "2014-01",
          "2014-02",
          "2014-03",
          "2014-04",
          "2014-05",
          "2014-06",
          "2014-07",
          "2014-08",
          "2014-09",
          "2014-10",
          "2014-11",
          "2014-12",
          "2015-01",
          "2015-02",
          "2015-03",
          "2015-04",
          "2015-05",
          "2015-06",
          "2015-07",
          "2015-08",
          "2015-09",
          "2015-10",
          "2015-11",
          "2015-12",
          "2016-01",
          "2016-02",
          "2016-03",
          "2016-04",
          "2016-05",
          "2016-06",
          "2016-07",
          "2016-08",
          "2016-09",
          "2016-10",
          "2016-11",
          "2016-12",
          "2017-01",
          "2017-02",
          "2017-03",
          "2017-04",
          "2017-05",
          "2017-06",
          "2017-07",
          "2017-08",
          "2017-09",
          "2017-10",
          "2017-11",
          "2017-12",
          "2018-01",
          "2018-02",
          "2018-03",
          "2018-04",
          "2018-05",
          "2018-06",
          "2018-07",
          "2018-08",
          "2018-09",
          "2018-10",
          "2018-11",
          "2018-12",
          "2019-01",
          "2019-02",
          "2019-03",
          "2019-04",
          "2019-05",
          "2019-06",
          "2019-07",
          "2019-08",
          "2019-09",
          "2019-10",
          "2019-11",
          "2019-12",
          "2020-01",
          "2020-02",
          "2020-03",
          "2020-04",
          "2020-05",
          "2020-06",
          "2020-07",
          "2020-08",
          "2020-09",
          "2020-10",
          "2020-11",
          "2020-12",
          "2021-01",
          "2021-02",
          "2021-03",
          "2021-04",
          "2021-05",
          "2021-06",
          "2021-07",
          "2021-08",
          "2021-09",
          "2021-10",
          "2021-11",
          "2021-12",
          "2022-01",
          "2022-02",
          "2022-03",
          "2022-04",
          "2022-05",
          "2022-06",
          "2022-07",
          "2022-08",
          "2022-09",
          "2022-10",
          "2022-11",
          "2022-12",
          "2023-01",
          "2023-02",
          "2023-03",
          "2023-04",
          "2023-05",
          "2023-06",
          "2023-07",
          "2023-08",
          "2023-09",
          "2023-10",
          "2023-11",
          "2023-12",
          "2024-01",
          "2024-02",
          "2024-03",
          "2024-04",
          "2024-05",
          "2024-06",
          "2024-07",
          "2024-08",
          "2024-09",
          "2024-10",
          "2024-11",
          "2024-12",
          "2025-01",
          "2025-02",
          "2025-03",
          "2025-04",
          "2025-05",
          "2025-06",
          "2025-07"
         ],
         "y": {
          "bdata": "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",
          "dtype": "f8"
         }
        },
        {
         "mode": "lines",
         "name": "v_20250916",
         "type": "scatter",
         "x": [
          "2001-05",
          "2001-06",
          "2001-07",
          "2001-08",
          "2001-09",
          "2001-10",
          "2001-11",
          "2001-12",
          "2002-01",
          "2002-02",
          "2002-03",
          "2002-04",
          "2002-05",
          "2002-06",
          "2002-07",
          "2002-08",
          "2002-09",
          "2002-10",
          "2002-11",
          "2002-12",
          "2003-01",
          "2003-02",
          "2003-03",
          "2003-04",
          "2003-05",
          "2003-06",
          "2003-07",
          "2003-08",
          "2003-09",
          "2003-10",
          "2003-11",
          "2003-12",
          "2004-01",
          "2004-02",
          "2004-03",
          "2004-04",
          "2004-05",
          "2004-06",
          "2004-07",
          "2004-08",
          "2004-09",
          "2004-10",
          "2004-11",
          "2004-12",
          "2005-01",
          "2005-02",
          "2005-03",
          "2005-04",
          "2005-05",
          "2005-06",
          "2005-07",
          "2005-08",
          "2005-09",
          "2005-10",
          "2005-11",
          "2005-12",
          "2006-01",
          "2006-02",
          "2006-03",
          "2006-04",
          "2006-05",
          "2006-06",
          "2006-07",
          "2006-08",
          "2006-09",
          "2006-10",
          "2006-11",
          "2006-12",
          "2007-01",
          "2007-02",
          "2007-03",
          "2007-04",
          "2007-05",
          "2007-06",
          "2007-07",
          "2007-08",
          "2007-09",
          "2007-10",
          "2007-11",
          "2007-12",
          "2008-01",
          "2008-02",
          "2008-03",
          "2008-04",
          "2008-05",
          "2008-06",
          "2008-07",
          "2008-08",
          "2008-09",
          "2008-10",
          "2008-11",
          "2008-12",
          "2009-01",
          "2009-02",
          "2009-03",
          "2009-04",
          "2009-05",
          "2009-06",
          "2009-07",
          "2009-08",
          "2009-09",
          "2009-10",
          "2009-11",
          "2009-12",
          "2010-01",
          "2010-02",
          "2010-03",
          "2010-04",
          "2010-05",
          "2010-06",
          "2010-07",
          "2010-08",
          "2010-09",
          "2010-10",
          "2010-11",
          "2010-12",
          "2011-01",
          "2011-02",
          "2011-03",
          "2011-04",
          "2011-05",
          "2011-06",
          "2011-07",
          "2011-08",
          "2011-09",
          "2011-10",
          "2011-11",
          "2011-12",
          "2012-01",
          "2012-02",
          "2012-03",
          "2012-04",
          "2012-05",
          "2012-06",
          "2012-07",
          "2012-08",
          "2012-09",
          "2012-10",
          "2012-11",
          "2012-12",
          "2013-01",
          "2013-02",
          "2013-03",
          "2013-04",
          "2013-05",
          "2013-06",
          "2013-07",
          "2013-08",
          "2013-09",
          "2013-10",
          "2013-11",
          "2013-12",
          "2014-01",
          "2014-02",
          "2014-03",
          "2014-04",
          "2014-05",
          "2014-06",
          "2014-07",
          "2014-08",
          "2014-09",
          "2014-10",
          "2014-11",
          "2014-12",
          "2015-01",
          "2015-02",
          "2015-03",
          "2015-04",
          "2015-05",
          "2015-06",
          "2015-07",
          "2015-08",
          "2015-09",
          "2015-10",
          "2015-11",
          "2015-12",
          "2016-01",
          "2016-02",
          "2016-03",
          "2016-04",
          "2016-05",
          "2016-06",
          "2016-07",
          "2016-08",
          "2016-09",
          "2016-10",
          "2016-11",
          "2016-12",
          "2017-01",
          "2017-02",
          "2017-03",
          "2017-04",
          "2017-05",
          "2017-06",
          "2017-07",
          "2017-08",
          "2017-09",
          "2017-10",
          "2017-11",
          "2017-12",
          "2018-01",
          "2018-02",
          "2018-03",
          "2018-04",
          "2018-05",
          "2018-06",
          "2018-07",
          "2018-08",
          "2018-09",
          "2018-10",
          "2018-11",
          "2018-12",
          "2019-01",
          "2019-02",
          "2019-03",
          "2019-04",
          "2019-05",
          "2019-06",
          "2019-07",
          "2019-08",
          "2019-09",
          "2019-10",
          "2019-11",
          "2019-12",
          "2020-01",
          "2020-02",
          "2020-03",
          "2020-04",
          "2020-05",
          "2020-06",
          "2020-07",
          "2020-08",
          "2020-09",
          "2020-10",
          "2020-11",
          "2020-12",
          "2021-01",
          "2021-02",
          "2021-03",
          "2021-04",
          "2021-05",
          "2021-06",
          "2021-07",
          "2021-08",
          "2021-09",
          "2021-10",
          "2021-11",
          "2021-12",
          "2022-01",
          "2022-02",
          "2022-03",
          "2022-04",
          "2022-05",
          "2022-06",
          "2022-07",
          "2022-08",
          "2022-09",
          "2022-10",
          "2022-11",
          "2022-12",
          "2023-01",
          "2023-02",
          "2023-03",
          "2023-04",
          "2023-05",
          "2023-06",
          "2023-07",
          "2023-08",
          "2023-09",
          "2023-10",
          "2023-11",
          "2023-12",
          "2024-01",
          "2024-02",
          "2024-03",
          "2024-04",
          "2024-05",
          "2024-06",
          "2024-07",
          "2024-08",
          "2024-09",
          "2024-10",
          "2024-11",
          "2024-12",
          "2025-01",
          "2025-02",
          "2025-03",
          "2025-04",
          "2025-05",
          "2025-06",
          "2025-07"
         ],
         "y": {
          "bdata": "qAKiApcClwJ/AnICWQJeAmgCawJrAmUCaAJjAmUCYQJhAmACWwJaAlQCUQJJAk0CQwI+AkACUAJcAmICZgJlAmkCcAJ2An0CgQKMAo4CjgKPApIClgKVAo8ChAJ8AoICggJ5AnACbgJgAl4CYQJnAmQCWAJVAlUCXAJfAmICYwJqAmwCbAJrAnUCggKHAosCkwKeAqkCrAKuArMCrwKnAq8CugK2AqcCkQKDAnACZwJUAjICDwLyAd4B0AHGAbwBrwGtAbYBtAGwAbUBxgHQAdMB0QHTAd8B5AHfAc0BxwHHAdoB4wHvAeoB4wHYAc0BzAHJAc4B0AHTAc4B0QHcAdkB0wHRAdYB2gHfAeMB5wHqAe0B9QH3AfkB+gEDAgoCFQIbAhgCIwIoAjcCPQJIAlQCaAJ/Ao0ClQKdAqkCrgK+Ar4CxALIAtIC2gLWAtcC2gLlAuYC5QLlAuUC6gLuAuwC7ALmAukC6gLrAvAC8QL9AvYC8wLsAvwCAwMXAxIDEgMQAxkDIAMsAzMDNAMxAy4DLwMrAzUDQANFA0oDTgNgA14DWANXA08DTQNIA0MDNgM1Ay8DMgMtAykDKwMsAzMDGwN9AtcBSAFxAawB6gEXAjACWgJpAm0CcgKTAvwCYwPIAxwEZQSuBMcE2wTiBPME/AQLBRQFCgXvBNwExgS4BI8EcgRaBFgEUAQzBBMEAQTyA9wDzQO4A7QDnAOUA4gDiQN8A3YDZgNfA08DQAM3AycDJgMkAx8DDwP6AuMC1gLQAtgC",
          "dtype": "i2"
         }
        }
       ],
       "layout": {
        "legend": {
         "title": {
          "text": "Vintage"
         }
        },
        "template": {
         "data": {
          "bar": [
           {
            "error_x": {
             "color": "#2a3f5f"
            },
            "error_y": {
             "color": "#2a3f5f"
            },
            "marker": {
             "line": {
              "color": "#E5ECF6",
              "width": 0.5
             },
             "pattern": {
              "fillmode": "overlay",
              "size": 10,
              "solidity": 0.2
             }
            },
            "type": "bar"
           }
          ],
          "barpolar": [
           {
            "marker": {
             "line": {
              "color": "#E5ECF6",
              "width": 0.5
             },
             "pattern": {
              "fillmode": "overlay",
              "size": 10,
              "solidity": 0.2
             }
            },
            "type": "barpolar"
           }
          ],
          "carpet": [
           {
            "aaxis": {
             "endlinecolor": "#2a3f5f",
             "gridcolor": "white",
             "linecolor": "white",
             "minorgridcolor": "white",
             "startlinecolor": "#2a3f5f"
            },
            "baxis": {
             "endlinecolor": "#2a3f5f",
             "gridcolor": "white",
             "linecolor": "white",
             "minorgridcolor": "white",
             "startlinecolor": "#2a3f5f"
            },
            "type": "carpet"
           }
          ],
          "choropleth": [
           {
            "colorbar": {
             "outlinewidth": 0,
             "ticks": ""
            },
            "type": "choropleth"
           }
          ],
          "contour": [
           {
            "colorbar": {
             "outlinewidth": 0,
             "ticks": ""
            },
            "colorscale": [
             [
              0,
              "#0d0887"
             ],
             [
              0.1111111111111111,
              "#46039f"
             ],
             [
              0.2222222222222222,
              "#7201a8"
             ],
             [
              0.3333333333333333,
              "#9c179e"
             ],
             [
              0.4444444444444444,
              "#bd3786"
             ],
             [
              0.5555555555555556,
              "#d8576b"
             ],
             [
              0.6666666666666666,
              "#ed7953"
             ],
             [
              0.7777777777777778,
              "#fb9f3a"
             ],
             [
              0.8888888888888888,
              "#fdca26"
             ],
             [
              1,
              "#f0f921"
             ]
            ],
            "type": "contour"
           }
          ],
          "contourcarpet": [
           {
            "colorbar": {
             "outlinewidth": 0,
             "ticks": ""
            },
            "type": "contourcarpet"
           }
          ],
          "heatmap": [
           {
            "colorbar": {
             "outlinewidth": 0,
             "ticks": ""
            },
            "colorscale": [
             [
              0,
              "#0d0887"
             ],
             [
              0.1111111111111111,
              "#46039f"
             ],
             [
              0.2222222222222222,
              "#7201a8"
             ],
             [
              0.3333333333333333,
              "#9c179e"
             ],
             [
              0.4444444444444444,
              "#bd3786"
             ],
             [
              0.5555555555555556,
              "#d8576b"
             ],
             [
              0.6666666666666666,
              "#ed7953"
             ],
             [
              0.7777777777777778,
              "#fb9f3a"
             ],
             [
              0.8888888888888888,
              "#fdca26"
             ],
             [
              1,
              "#f0f921"
             ]
            ],
            "type": "heatmap"
           }
          ],
          "histogram": [
           {
            "marker": {
             "pattern": {
              "fillmode": "overlay",
              "size": 10,
              "solidity": 0.2
             }
            },
            "type": "histogram"
           }
          ],
          "histogram2d": [
           {
            "colorbar": {
             "outlinewidth": 0,
             "ticks": ""
            },
            "colorscale": [
             [
              0,
              "#0d0887"
             ],
             [
              0.1111111111111111,
              "#46039f"
             ],
             [
              0.2222222222222222,
              "#7201a8"
             ],
             [
              0.3333333333333333,
              "#9c179e"
             ],
             [
              0.4444444444444444,
              "#bd3786"
             ],
             [
              0.5555555555555556,
              "#d8576b"
             ],
             [
              0.6666666666666666,
              "#ed7953"
             ],
             [
              0.7777777777777778,
              "#fb9f3a"
             ],
             [
              0.8888888888888888,
              "#fdca26"
             ],
             [
              1,
              "#f0f921"
             ]
            ],
            "type": "histogram2d"
           }
          ],
          "histogram2dcontour": [
           {
            "colorbar": {
             "outlinewidth": 0,
             "ticks": ""
            },
            "colorscale": [
             [
              0,
              "#0d0887"
             ],
             [
              0.1111111111111111,
              "#46039f"
             ],
             [
              0.2222222222222222,
              "#7201a8"
             ],
             [
              0.3333333333333333,
              "#9c179e"
             ],
             [
              0.4444444444444444,
              "#bd3786"
             ],
             [
              0.5555555555555556,
              "#d8576b"
             ],
             [
              0.6666666666666666,
              "#ed7953"
             ],
             [
              0.7777777777777778,
              "#fb9f3a"
             ],
             [
              0.8888888888888888,
              "#fdca26"
             ],
             [
              1,
              "#f0f921"
             ]
            ],
            "type": "histogram2dcontour"
           }
          ],
          "mesh3d": [
           {
            "colorbar": {
             "outlinewidth": 0,
             "ticks": ""
            },
            "type": "mesh3d"
           }
          ],
          "parcoords": [
           {
            "line": {
             "colorbar": {
              "outlinewidth": 0,
              "ticks": ""
             }
            },
            "type": "parcoords"
           }
          ],
          "pie": [
           {
            "automargin": true,
            "type": "pie"
           }
          ],
          "scatter": [
           {
            "fillpattern": {
             "fillmode": "overlay",
             "size": 10,
             "solidity": 0.2
            },
            "type": "scatter"
           }
          ],
          "scatter3d": [
           {
            "line": {
             "colorbar": {
              "outlinewidth": 0,
              "ticks": ""
             }
            },
            "marker": {
             "colorbar": {
              "outlinewidth": 0,
              "ticks": ""
             }
            },
            "type": "scatter3d"
           }
          ],
          "scattercarpet": [
           {
            "marker": {
             "colorbar": {
              "outlinewidth": 0,
              "ticks": ""
             }
            },
            "type": "scattercarpet"
           }
          ],
          "scattergeo": [
           {
            "marker": {
             "colorbar": {
              "outlinewidth": 0,
              "ticks": ""
             }
            },
            "type": "scattergeo"
           }
          ],
          "scattergl": [
           {
            "marker": {
             "colorbar": {
              "outlinewidth": 0,
              "ticks": ""
             }
            },
            "type": "scattergl"
           }
          ],
          "scattermap": [
           {
            "marker": {
             "colorbar": {
              "outlinewidth": 0,
              "ticks": ""
             }
            },
            "type": "scattermap"
           }
          ],
          "scattermapbox": [
           {
            "marker": {
             "colorbar": {
              "outlinewidth": 0,
              "ticks": ""
             }
            },
            "type": "scattermapbox"
           }
          ],
          "scatterpolar": [
           {
            "marker": {
             "colorbar": {
              "outlinewidth": 0,
              "ticks": ""
             }
            },
            "type": "scatterpolar"
           }
          ],
          "scatterpolargl": [
           {
            "marker": {
             "colorbar": {
              "outlinewidth": 0,
              "ticks": ""
             }
            },
            "type": "scatterpolargl"
           }
          ],
          "scatterternary": [
           {
            "marker": {
             "colorbar": {
              "outlinewidth": 0,
              "ticks": ""
             }
            },
            "type": "scatterternary"
           }
          ],
          "surface": [
           {
            "colorbar": {
             "outlinewidth": 0,
             "ticks": ""
            },
            "colorscale": [
             [
              0,
              "#0d0887"
             ],
             [
              0.1111111111111111,
              "#46039f"
             ],
             [
              0.2222222222222222,
              "#7201a8"
             ],
             [
              0.3333333333333333,
              "#9c179e"
             ],
             [
              0.4444444444444444,
              "#bd3786"
             ],
             [
              0.5555555555555556,
              "#d8576b"
             ],
             [
              0.6666666666666666,
              "#ed7953"
             ],
             [
              0.7777777777777778,
              "#fb9f3a"
             ],
             [
              0.8888888888888888,
              "#fdca26"
             ],
             [
              1,
              "#f0f921"
             ]
            ],
            "type": "surface"
           }
          ],
          "table": [
           {
            "cells": {
             "fill": {
              "color": "#EBF0F8"
             },
             "line": {
              "color": "white"
             }
            },
            "header": {
             "fill": {
              "color": "#C8D4E3"
             },
             "line": {
              "color": "white"
             }
            },
            "type": "table"
           }
          ]
         },
         "layout": {
          "annotationdefaults": {
           "arrowcolor": "#2a3f5f",
           "arrowhead": 0,
           "arrowwidth": 1
          },
          "autotypenumbers": "strict",
          "coloraxis": {
           "colorbar": {
            "outlinewidth": 0,
            "ticks": ""
           }
          },
          "colorscale": {
           "diverging": [
            [
             0,
             "#8e0152"
            ],
            [
             0.1,
             "#c51b7d"
            ],
            [
             0.2,
             "#de77ae"
            ],
            [
             0.3,
             "#f1b6da"
            ],
            [
             0.4,
             "#fde0ef"
            ],
            [
             0.5,
             "#f7f7f7"
            ],
            [
             0.6,
             "#e6f5d0"
            ],
            [
             0.7,
             "#b8e186"
            ],
            [
             0.8,
             "#7fbc41"
            ],
            [
             0.9,
             "#4d9221"
            ],
            [
             1,
             "#276419"
            ]
           ],
           "sequential": [
            [
             0,
             "#0d0887"
            ],
            [
             0.1111111111111111,
             "#46039f"
            ],
            [
             0.2222222222222222,
             "#7201a8"
            ],
            [
             0.3333333333333333,
             "#9c179e"
            ],
            [
             0.4444444444444444,
             "#bd3786"
            ],
            [
             0.5555555555555556,
             "#d8576b"
            ],
            [
             0.6666666666666666,
             "#ed7953"
            ],
            [
             0.7777777777777778,
             "#fb9f3a"
            ],
            [
             0.8888888888888888,
             "#fdca26"
            ],
            [
             1,
             "#f0f921"
            ]
           ],
           "sequentialminus": [
            [
             0,
             "#0d0887"
            ],
            [
             0.1111111111111111,
             "#46039f"
            ],
            [
             0.2222222222222222,
             "#7201a8"
            ],
            [
             0.3333333333333333,
             "#9c179e"
            ],
            [
             0.4444444444444444,
             "#bd3786"
            ],
            [
             0.5555555555555556,
             "#d8576b"
            ],
            [
             0.6666666666666666,
             "#ed7953"
            ],
            [
             0.7777777777777778,
             "#fb9f3a"
            ],
            [
             0.8888888888888888,
             "#fdca26"
            ],
            [
             1,
             "#f0f921"
            ]
           ]
          },
          "colorway": [
           "#636efa",
           "#EF553B",
           "#00cc96",
           "#ab63fa",
           "#FFA15A",
           "#19d3f3",
           "#FF6692",
           "#B6E880",
           "#FF97FF",
           "#FECB52"
          ],
          "font": {
           "color": "#2a3f5f"
          },
          "geo": {
           "bgcolor": "white",
           "lakecolor": "white",
           "landcolor": "#E5ECF6",
           "showlakes": true,
           "showland": true,
           "subunitcolor": "white"
          },
          "hoverlabel": {
           "align": "left"
          },
          "hovermode": "closest",
          "mapbox": {
           "style": "light"
          },
          "paper_bgcolor": "white",
          "plot_bgcolor": "#E5ECF6",
          "polar": {
           "angularaxis": {
            "gridcolor": "white",
            "linecolor": "white",
            "ticks": ""
           },
           "bgcolor": "#E5ECF6",
           "radialaxis": {
            "gridcolor": "white",
            "linecolor": "white",
            "ticks": ""
           }
          },
          "scene": {
           "xaxis": {
            "backgroundcolor": "#E5ECF6",
            "gridcolor": "white",
            "gridwidth": 2,
            "linecolor": "white",
            "showbackground": true,
            "ticks": "",
            "zerolinecolor": "white"
           },
           "yaxis": {
            "backgroundcolor": "#E5ECF6",
            "gridcolor": "white",
            "gridwidth": 2,
            "linecolor": "white",
            "showbackground": true,
            "ticks": "",
            "zerolinecolor": "white"
           },
           "zaxis": {
            "backgroundcolor": "#E5ECF6",
            "gridcolor": "white",
            "gridwidth": 2,
            "linecolor": "white",
            "showbackground": true,
            "ticks": "",
            "zerolinecolor": "white"
           }
          },
          "shapedefaults": {
           "line": {
            "color": "#2a3f5f"
           }
          },
          "ternary": {
           "aaxis": {
            "gridcolor": "white",
            "linecolor": "white",
            "ticks": ""
           },
           "baxis": {
            "gridcolor": "white",
            "linecolor": "white",
            "ticks": ""
           },
           "bgcolor": "#E5ECF6",
           "caxis": {
            "gridcolor": "white",
            "linecolor": "white",
            "ticks": ""
           }
          },
          "title": {
           "x": 0.05
          },
          "xaxis": {
           "automargin": true,
           "gridcolor": "white",
           "linecolor": "white",
           "ticks": "",
           "title": {
            "standoff": 15
           },
           "zerolinecolor": "white",
           "zerolinewidth": 2
          },
          "yaxis": {
           "automargin": true,
           "gridcolor": "white",
           "linecolor": "white",
           "ticks": "",
           "title": {
            "standoff": 15
           },
           "zerolinecolor": "white",
           "zerolinewidth": 2
          }
         }
        },
        "title": {
         "text": "Vacancy Estimates Over Time by Vintage",
         "x": 0.5,
         "xanchor": "center"
        },
        "xaxis": {
         "rangeslider": {
          "visible": true
         },
         "title": {
          "text": "Date"
         },
         "type": "date"
        },
        "yaxis": {
         "title": {
          "text": "Vacancy Estimate"
         }
        }
       }
      },
      "image/png": "[encoded data removed]"
     },
     "metadata": {},
     "output_type": "display_data"
    }
   ],
   "source": [
    "# Update layout with slider\n",
    "fig.update_layout(\n",
    "    title=dict(text=\"Vacancy Estimates Over Time by Vintage\", x=0.5, xanchor=\"center\"),\n",
    "    xaxis_title=\"Date\",\n",
    "    yaxis_title=\"Vacancy Estimate\",\n",
    "    xaxis=dict(\n",
    "        rangeslider=dict(visible=True),\n",
    "        type=\"date\"\n",
    "    ),\n",
    "    legend_title=\"Vintage\"\n",
    ")"
   ]
  },
  {
   "cell_type": "code",
   "execution_count": 23,
   "id": "8978a6c8-af94-45b4-95a8-2957a858ac1b",
   "metadata": {},
   "outputs": [],
   "source": [
    "# Save the static chart as an HTML file\n",
    "fig.write_html(os.path.join(chart_path,\"vacancy_chart_static.html\"), auto_open=False)"
   ]
  },
  {
   "cell_type": "markdown",
   "id": "bd353b5d-494d-4585-a647-c6936d3a6d76",
   "metadata": {},
   "source": [
    "## 4.  Forecasting"
   ]
  },
  {
   "cell_type": "markdown",
   "id": "5ff1a254-e893-41ca-adf2-bc5c09a032bd",
   "metadata": {},
   "source": [
    "The section fits an ARIMA model to forecast future vacancy levels. ARIMA is a powerful method used to forecast future values based on past data, especially for time series data. The results are visualized in a chart that shows both the actual data and the forecasted values, helping to illustrate expected changes over time. "
   ]
  },
  {
   "cell_type": "code",
   "execution_count": 24,
   "id": "76e8d1fd-a361-4756-9ce2-74417927fe35",
   "metadata": {},
   "outputs": [],
   "source": [
    "# Load the consolidated csv file. !!!Notice: If you run the code from the start, no need to run this cell.\n",
    "combined_df = pd.read_csv(os.path.join(data_path,\"whole_vacancy_data.csv\"))"
   ]
  },
  {
   "cell_type": "code",
   "execution_count": 25,
   "id": "a1f624cb-4f63-479d-a88d-5a6c374e4aeb",
   "metadata": {},
   "outputs": [],
   "source": [
    "# Load the consolidated parquet file. !!!Notice: If you run the code from the start, no need to run this cell.\n",
    "#combined_df = pd.read_parquet(os.path.join(data_path, \"whole_vacancy_data.parquet\"))"
   ]
  },
  {
   "cell_type": "code",
   "execution_count": 26,
   "id": "05468d93-a4d9-412e-a7b6-abb934189398",
   "metadata": {},
   "outputs": [],
   "source": [
    "# Convert 'Date' column to datetime format\n",
    "combined_df[\"Date\"] = pd.to_datetime(combined_df[\"Date\"])"
   ]
  },
  {
   "cell_type": "markdown",
   "id": "945827a2-00f7-4dc9-a6c7-c64bc455a1f0",
   "metadata": {},
   "source": [
    "To assess the performance of a forecasting model, we can use out-of-sample evaluation, which means testing the model on data it hasn’t seen before. One practical approach is to exclude the most recent three months of data and generate forecasts using only the information available prior to that period. Because the data may be revised with each release, it’s important to use the version of the data that was available three months earlier (the data in vintage t-4) when making the forecast. We then compare the model’s predictions with the actual values from the latest data release to evaluate accuracy. To measure how close the forecasts are to the actual values, we can use common error metrics such as RMSE, MAE, MAPE etc."
   ]
  },
  {
   "cell_type": "code",
   "execution_count": 97,
   "id": "f5fb3d6c-ce7e-48aa-88fb-7b92dc480bc5",
   "metadata": {},
   "outputs": [],
   "source": [
    "# Use the vintage at t-4 as the train data and the latest vintage as the test data\n",
    "train_df = combined_df.iloc[:,[0,-4]]\n",
    "\n",
    "# Create time series\n",
    "ts = train_df.set_index(\"Date\").dropna()\n",
    "ts = ts.astype(float)"
   ]
  },
  {
   "cell_type": "code",
   "execution_count": 98,
   "id": "6af75585-e80e-463e-bac3-e74bd255ac45",
   "metadata": {},
   "outputs": [
    {
     "name": "stdout",
     "output_type": "stream",
     "text": [
      "ADF Statistic: -1.8279829672704817 p-value: 0.3666600674342031\n"
     ]
    }
   ],
   "source": [
    "print(\"ADF Statistic:\", adfuller(ts)[0], \"p-value:\", adfuller(ts)[1])"
   ]
  },
  {
   "cell_type": "code",
   "execution_count": 99,
   "id": "76b98340-bbe0-4ce9-8bf1-c86fd75cef41",
   "metadata": {},
   "outputs": [
    {
     "name": "stdout",
     "output_type": "stream",
     "text": [
      "ADF Statistic: -2.624810758312954 p-value: 0.08797703755493524\n"
     ]
    }
   ],
   "source": [
    "# Take the log-transformation and check the stationarity\n",
    "ts = np.log(ts)\n",
    "print(\"ADF Statistic:\", adfuller(ts)[0], \"p-value:\", adfuller(ts)[1])"
   ]
  },
  {
   "cell_type": "markdown",
   "id": "d6113c72-b24e-411f-8348-169568bc253e",
   "metadata": {},
   "source": [
    "After applying a log transformation, the p-value from the stationarity test is larger than 0.05 but less than 0.10, indicating the series is still not stationary at 5% significance level. Let's try the log difference to further address non-stationarity."
   ]
  },
  {
   "cell_type": "code",
   "execution_count": 100,
   "id": "2bec75ae-2d7e-4d6d-b6da-0bb00fa81fc8",
   "metadata": {},
   "outputs": [
    {
     "name": "stdout",
     "output_type": "stream",
     "text": [
      "ADF Statistic: -5.280714680950181 p-value: 6.002454626801448e-06\n"
     ]
    }
   ],
   "source": [
    "log_diff = np.log(ts).diff().dropna()\n",
    "print(\"ADF Statistic:\", adfuller(log_diff)[0], \"p-value:\", adfuller(log_diff)[1])"
   ]
  },
  {
   "cell_type": "markdown",
   "id": "e19ded91-781a-4993-9f4f-82703b37dc66",
   "metadata": {},
   "source": [
    "Once I apply the first difference to the log-transformed series, the p-value drops below 0.01, indicating that the transformation successfully achieves stationarity. Therefore, we can set d = 1 in the ARIMA(p, d, q) model to account for this differencing step."
   ]
  },
  {
   "cell_type": "code",
   "execution_count": 135,
   "id": "474ab8f9-6c84-434a-a538-783f2a575e9c",
   "metadata": {},
   "outputs": [
    {
     "data": {
      "text/html": [
       "<table class=\"simpletable\">\n",
       "<caption>SARIMAX Results</caption>\n",
       "<tr>\n",
       "  <th>Dep. Variable:</th>      <td>v_20250610</td>    <th>  No. Observations:  </th>    <td>288</td>   \n",
       "</tr>\n",
       "<tr>\n",
       "  <th>Model:</th>            <td>ARIMA(3, 1, 2)</td>  <th>  Log Likelihood     </th>  <td>608.798</td> \n",
       "</tr>\n",
       "<tr>\n",
       "  <th>Date:</th>            <td>Wed, 08 Oct 2025</td> <th>  AIC                </th> <td>-1205.595</td>\n",
       "</tr>\n",
       "<tr>\n",
       "  <th>Time:</th>                <td>16:07:34</td>     <th>  BIC                </th> <td>-1183.639</td>\n",
       "</tr>\n",
       "<tr>\n",
       "  <th>Sample:</th>             <td>05-01-2001</td>    <th>  HQIC               </th> <td>-1196.795</td>\n",
       "</tr>\n",
       "<tr>\n",
       "  <th></th>                   <td>- 04-01-2025</td>   <th>                     </th>     <td> </td>    \n",
       "</tr>\n",
       "<tr>\n",
       "  <th>Covariance Type:</th>        <td>opg</td>       <th>                     </th>     <td> </td>    \n",
       "</tr>\n",
       "</table>\n",
       "<table class=\"simpletable\">\n",
       "<tr>\n",
       "     <td></td>       <th>coef</th>     <th>std err</th>      <th>z</th>      <th>P>|z|</th>  <th>[0.025</th>    <th>0.975]</th>  \n",
       "</tr>\n",
       "<tr>\n",
       "  <th>ar.L1</th>  <td>    0.1769</td> <td>    0.145</td> <td>    1.216</td> <td> 0.224</td> <td>   -0.108</td> <td>    0.462</td>\n",
       "</tr>\n",
       "<tr>\n",
       "  <th>ar.L2</th>  <td>   -0.1094</td> <td>    0.147</td> <td>   -0.747</td> <td> 0.455</td> <td>   -0.397</td> <td>    0.178</td>\n",
       "</tr>\n",
       "<tr>\n",
       "  <th>ar.L3</th>  <td>   -0.0190</td> <td>    0.117</td> <td>   -0.163</td> <td> 0.871</td> <td>   -0.248</td> <td>    0.210</td>\n",
       "</tr>\n",
       "<tr>\n",
       "  <th>ma.L1</th>  <td>    0.6210</td> <td>    0.136</td> <td>    4.567</td> <td> 0.000</td> <td>    0.355</td> <td>    0.887</td>\n",
       "</tr>\n",
       "<tr>\n",
       "  <th>ma.L2</th>  <td>    0.5458</td> <td>    0.145</td> <td>    3.757</td> <td> 0.000</td> <td>    0.261</td> <td>    0.830</td>\n",
       "</tr>\n",
       "<tr>\n",
       "  <th>sigma2</th> <td>    0.0008</td> <td> 2.03e-05</td> <td>   41.251</td> <td> 0.000</td> <td>    0.001</td> <td>    0.001</td>\n",
       "</tr>\n",
       "</table>\n",
       "<table class=\"simpletable\">\n",
       "<tr>\n",
       "  <th>Ljung-Box (L1) (Q):</th>     <td>0.00</td>  <th>  Jarque-Bera (JB):  </th> <td>33188.17</td>\n",
       "</tr>\n",
       "<tr>\n",
       "  <th>Prob(Q):</th>                <td>0.97</td>  <th>  Prob(JB):          </th>   <td>0.00</td>  \n",
       "</tr>\n",
       "<tr>\n",
       "  <th>Heteroskedasticity (H):</th> <td>14.80</td> <th>  Skew:              </th>   <td>2.59</td>  \n",
       "</tr>\n",
       "<tr>\n",
       "  <th>Prob(H) (two-sided):</th>    <td>0.00</td>  <th>  Kurtosis:          </th>   <td>55.43</td> \n",
       "</tr>\n",
       "</table><br/><br/>Warnings:<br/>[1] Covariance matrix calculated using the outer product of gradients (complex-step)."
      ],
      "text/latex": [
       "\\begin{center}\n",
       "\\begin{tabular}{lclc}\n",
       "\\toprule\n",
       "\\textbf{Dep. Variable:}          &   v\\_20250610    & \\textbf{  No. Observations:  } &    288      \\\\\n",
       "\\textbf{Model:}                  &  ARIMA(3, 1, 2)  & \\textbf{  Log Likelihood     } &  608.798    \\\\\n",
       "\\textbf{Date:}                   & Wed, 08 Oct 2025 & \\textbf{  AIC                } & -1205.595   \\\\\n",
       "\\textbf{Time:}                   &     16:07:34     & \\textbf{  BIC                } & -1183.639   \\\\\n",
       "\\textbf{Sample:}                 &    05-01-2001    & \\textbf{  HQIC               } & -1196.795   \\\\\n",
       "\\textbf{}                        &   - 04-01-2025   & \\textbf{                     } &             \\\\\n",
       "\\textbf{Covariance Type:}        &       opg        & \\textbf{                     } &             \\\\\n",
       "\\bottomrule\n",
       "\\end{tabular}\n",
       "\\begin{tabular}{lcccccc}\n",
       "                & \\textbf{coef} & \\textbf{std err} & \\textbf{z} & \\textbf{P$> |$z$|$} & \\textbf{[0.025} & \\textbf{0.975]}  \\\\\n",
       "\\midrule\n",
       "\\textbf{ar.L1}  &       0.1769  &        0.145     &     1.216  &         0.224        &       -0.108    &        0.462     \\\\\n",
       "\\textbf{ar.L2}  &      -0.1094  &        0.147     &    -0.747  &         0.455        &       -0.397    &        0.178     \\\\\n",
       "\\textbf{ar.L3}  &      -0.0190  &        0.117     &    -0.163  &         0.871        &       -0.248    &        0.210     \\\\\n",
       "\\textbf{ma.L1}  &       0.6210  &        0.136     &     4.567  &         0.000        &        0.355    &        0.887     \\\\\n",
       "\\textbf{ma.L2}  &       0.5458  &        0.145     &     3.757  &         0.000        &        0.261    &        0.830     \\\\\n",
       "\\textbf{sigma2} &       0.0008  &     2.03e-05     &    41.251  &         0.000        &        0.001    &        0.001     \\\\\n",
       "\\bottomrule\n",
       "\\end{tabular}\n",
       "\\begin{tabular}{lclc}\n",
       "\\textbf{Ljung-Box (L1) (Q):}     &  0.00 & \\textbf{  Jarque-Bera (JB):  } & 33188.17  \\\\\n",
       "\\textbf{Prob(Q):}                &  0.97 & \\textbf{  Prob(JB):          } &   0.00    \\\\\n",
       "\\textbf{Heteroskedasticity (H):} & 14.80 & \\textbf{  Skew:              } &   2.59    \\\\\n",
       "\\textbf{Prob(H) (two-sided):}    &  0.00 & \\textbf{  Kurtosis:          } &  55.43    \\\\\n",
       "\\bottomrule\n",
       "\\end{tabular}\n",
       "%\\caption{SARIMAX Results}\n",
       "\\end{center}\n",
       "\n",
       "Warnings: \\newline\n",
       " [1] Covariance matrix calculated using the outer product of gradients (complex-step)."
      ],
      "text/plain": [
       "<class 'statsmodels.iolib.summary.Summary'>\n",
       "\"\"\"\n",
       "                               SARIMAX Results                                \n",
       "==============================================================================\n",
       "Dep. Variable:             v_20250610   No. Observations:                  288\n",
       "Model:                 ARIMA(3, 1, 2)   Log Likelihood                 608.798\n",
       "Date:                Wed, 08 Oct 2025   AIC                          -1205.595\n",
       "Time:                        16:07:34   BIC                          -1183.639\n",
       "Sample:                    05-01-2001   HQIC                         -1196.795\n",
       "                         - 04-01-2025                                         \n",
       "Covariance Type:                  opg                                         \n",
       "==============================================================================\n",
       "                 coef    std err          z      P>|z|      [0.025      0.975]\n",
       "------------------------------------------------------------------------------\n",
       "ar.L1          0.1769      0.145      1.216      0.224      -0.108       0.462\n",
       "ar.L2         -0.1094      0.147     -0.747      0.455      -0.397       0.178\n",
       "ar.L3         -0.0190      0.117     -0.163      0.871      -0.248       0.210\n",
       "ma.L1          0.6210      0.136      4.567      0.000       0.355       0.887\n",
       "ma.L2          0.5458      0.145      3.757      0.000       0.261       0.830\n",
       "sigma2         0.0008   2.03e-05     41.251      0.000       0.001       0.001\n",
       "===================================================================================\n",
       "Ljung-Box (L1) (Q):                   0.00   Jarque-Bera (JB):             33188.17\n",
       "Prob(Q):                              0.97   Prob(JB):                         0.00\n",
       "Heteroskedasticity (H):              14.80   Skew:                             2.59\n",
       "Prob(H) (two-sided):                  0.00   Kurtosis:                        55.43\n",
       "===================================================================================\n",
       "\n",
       "Warnings:\n",
       "[1] Covariance matrix calculated using the outer product of gradients (complex-step).\n",
       "\"\"\""
      ]
     },
     "execution_count": 135,
     "metadata": {},
     "output_type": "execute_result"
    }
   ],
   "source": [
    "# Fit ARIMA model\n",
    "model = ARIMA(ts, order=(3, 1, 2))\n",
    "model_fit = model.fit()\n",
    "model_fit.summary()"
   ]
  },
  {
   "cell_type": "code",
   "execution_count": 136,
   "id": "35fa3c1d-b595-4fa0-a0ad-6bcea7fb3548",
   "metadata": {},
   "outputs": [],
   "source": [
    "# Forecast the next 6 months\n",
    "forecast = model_fit.forecast(steps=3)"
   ]
  },
  {
   "cell_type": "code",
   "execution_count": 137,
   "id": "31f50299-277c-42f3-8103-1052bf603b93",
   "metadata": {},
   "outputs": [],
   "source": [
    "# Add forecasted values to the test_df as a new column\n",
    "test_df = combined_df.iloc[:,[0,-1]]\n",
    "test_df.loc[test_df.index[-3:], \"Forecast\"] = forecast.values\n",
    "test_df.iloc[:,1] = np.log(test_df.iloc[:,1].astype(float))"
   ]
  },
  {
   "cell_type": "code",
   "execution_count": 138,
   "id": "bd4d76f3-1fd6-4130-9c6b-be989607b361",
   "metadata": {},
   "outputs": [
    {
     "data": {
      "text/html": [
       "<div>\n",
       "<style scoped>\n",
       "    .dataframe tbody tr th:only-of-type {\n",
       "        vertical-align: middle;\n",
       "    }\n",
       "\n",
       "    .dataframe tbody tr th {\n",
       "        vertical-align: top;\n",
       "    }\n",
       "\n",
       "    .dataframe thead th {\n",
       "        text-align: right;\n",
       "    }\n",
       "</style>\n",
       "<table border=\"1\" class=\"dataframe\">\n",
       "  <thead>\n",
       "    <tr style=\"text-align: right;\">\n",
       "      <th></th>\n",
       "      <th>Date</th>\n",
       "      <th>v_20250916</th>\n",
       "      <th>Forecast</th>\n",
       "    </tr>\n",
       "  </thead>\n",
       "  <tbody>\n",
       "    <tr>\n",
       "      <th>281</th>\n",
       "      <td>2024-10-01</td>\n",
       "      <td>6.693324</td>\n",
       "      <td>NaN</td>\n",
       "    </tr>\n",
       "    <tr>\n",
       "      <th>282</th>\n",
       "      <td>2024-11-01</td>\n",
       "      <td>6.692084</td>\n",
       "      <td>NaN</td>\n",
       "    </tr>\n",
       "    <tr>\n",
       "      <th>283</th>\n",
       "      <td>2024-12-01</td>\n",
       "      <td>6.689599</td>\n",
       "      <td>NaN</td>\n",
       "    </tr>\n",
       "    <tr>\n",
       "      <th>284</th>\n",
       "      <td>2025-01-01</td>\n",
       "      <td>6.683361</td>\n",
       "      <td>NaN</td>\n",
       "    </tr>\n",
       "    <tr>\n",
       "      <th>285</th>\n",
       "      <td>2025-02-01</td>\n",
       "      <td>6.663133</td>\n",
       "      <td>NaN</td>\n",
       "    </tr>\n",
       "    <tr>\n",
       "      <th>286</th>\n",
       "      <td>2025-03-01</td>\n",
       "      <td>6.635947</td>\n",
       "      <td>NaN</td>\n",
       "    </tr>\n",
       "    <tr>\n",
       "      <th>287</th>\n",
       "      <td>2025-04-01</td>\n",
       "      <td>6.605298</td>\n",
       "      <td>NaN</td>\n",
       "    </tr>\n",
       "    <tr>\n",
       "      <th>288</th>\n",
       "      <td>2025-05-01</td>\n",
       "      <td>6.587550</td>\n",
       "      <td>6.583234</td>\n",
       "    </tr>\n",
       "    <tr>\n",
       "      <th>289</th>\n",
       "      <td>2025-06-01</td>\n",
       "      <td>6.579251</td>\n",
       "      <td>6.575886</td>\n",
       "    </tr>\n",
       "    <tr>\n",
       "      <th>290</th>\n",
       "      <td>2025-07-01</td>\n",
       "      <td>6.590301</td>\n",
       "      <td>6.577167</td>\n",
       "    </tr>\n",
       "  </tbody>\n",
       "</table>\n",
       "</div>"
      ],
      "text/plain": [
       "          Date  v_20250916  Forecast\n",
       "281 2024-10-01    6.693324       NaN\n",
       "282 2024-11-01    6.692084       NaN\n",
       "283 2024-12-01    6.689599       NaN\n",
       "284 2025-01-01    6.683361       NaN\n",
       "285 2025-02-01    6.663133       NaN\n",
       "286 2025-03-01    6.635947       NaN\n",
       "287 2025-04-01    6.605298       NaN\n",
       "288 2025-05-01    6.587550  6.583234\n",
       "289 2025-06-01    6.579251  6.575886\n",
       "290 2025-07-01    6.590301  6.577167"
      ]
     },
     "execution_count": 138,
     "metadata": {},
     "output_type": "execute_result"
    }
   ],
   "source": [
    "# Check the data\n",
    "test_df.tail(10)"
   ]
  },
  {
   "cell_type": "code",
   "execution_count": 139,
   "id": "258b29b2-d5e6-4aac-b338-008805a8e7d7",
   "metadata": {},
   "outputs": [
    {
     "name": "stdout",
     "output_type": "stream",
     "text": [
      "Several error measures: [RMSE: 0.01 | MAE: 0.01 | MAPE: 0.11%]\n"
     ]
    }
   ],
   "source": [
    "# Calculate error metrics\n",
    "rmse = np.sqrt(np.mean((test_df.iloc[-3:,1] - test_df.iloc[-3:,2])**2))\n",
    "mae = np.mean(np.abs(test_df.iloc[-3:,1] - test_df.iloc[-3:,2]))\n",
    "mape = np.mean(np.abs((test_df.iloc[-3:,1] - test_df.iloc[-3:,2]) / float(test_df.iloc[-3,1])))*100\n",
    "print(f\"Several error measures: [RMSE: {rmse:.2f} | MAE: {mae:.2f} | MAPE: {mape:.2f}%]\")"
   ]
  },
  {
   "cell_type": "code",
   "execution_count": 140,
   "id": "d45b5fb2-2359-4d50-ae07-3080f7f6cc98",
   "metadata": {},
   "outputs": [
    {
     "data": {
      "image/png": "[encoded data removed]",
      "text/plain": [
       "<Figure size 1200x600 with 1 Axes>"
      ]
     },
     "metadata": {},
     "output_type": "display_data"
    }
   ],
   "source": [
    "# Plot actual vs forecasted values\n",
    "plt.figure(figsize=(12, 6))\n",
    "plt.plot(test_df[\"Date\"], np.exp(test_df.iloc[:, 1].astype(float)), label=\"Actual\", marker='o')\n",
    "plt.plot(test_df[\"Date\"], np.exp(test_df[\"Forecast\"]), label=\"Forecast\", marker='o')\n",
    "# Set x-axis ticks every 3 months\n",
    "ax = plt.gca()\n",
    "ax.xaxis.set_major_locator(mdates.MonthLocator(interval=6))\n",
    "plt.xticks(rotation=90)\n",
    "# Titles and labels\n",
    "plt.title(\"Actual vs Forecasted Vacancy Estimates\")\n",
    "plt.xlabel(\"Date\")\n",
    "plt.ylabel(\"Vacancy Estimate\")\n",
    "plt.legend\n",
    "plt.tight_layout()\n",
    "plt.show()"
   ]
  },
  {
   "cell_type": "markdown",
   "id": "36bad82d-ff98-4219-a030-2477e3d60f70",
   "metadata": {},
   "source": [
    "This task utilizes vacancy data across different vintages, which allows for the application of basic time series forecasting techniques. Using this data alone, I can implement foundational models such as ARIMA and exponential smoothing, which are strong tools to capture temporal patterns and trends in time series data. To improve the accuracy and robustness of the forecasts, the next step can involve incorporating external macroeconomic indicators—such as inflation rates, GDP growth, and potentially labor market metrics like wage growth, churn rates, hours worked. These variables can help explain structural shifts or cyclical behavior in vacancy trends. With the inclusion of these external factors, I can apply more sophisticated modeling approaches like VARs, ECM and machine learning models (Random Forests, Gradient Boosting) to capture multivariate relationships."
   ]
  },
  {
   "cell_type": "code",
   "execution_count": null,
   "id": "f31f22b2-0b12-4da7-9ef1-83e060cdae3a",
   "metadata": {},
   "outputs": [],
   "source": []
  }
 ],
 "metadata": {
  "kernelspec": {
   "display_name": "Python 3 (ipykernel)",
   "language": "python",
   "name": "python3"
  },
  "language_info": {
   "codemirror_mode": {
    "name": "ipython",
    "version": 3
   },
   "file_extension": ".py",
   "mimetype": "text/x-python",
   "name": "python",
   "nbconvert_exporter": "python",
   "pygments_lexer": "ipython3",
   "version": "3.9.23"
  }
 },
 "nbformat": 4,
 "nbformat_minor": 5
}
